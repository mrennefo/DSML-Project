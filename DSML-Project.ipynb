{
 "cells": [
  {
   "attachments": {},
   "cell_type": "markdown",
   "id": "85dcb6d7-eabc-4f84-9b91-71c1fa1328f9",
   "metadata": {},
   "source": [
    "<div style=\"text-align: center\"><h1 style=\"text-decoration: underline;\">DSML Project</h1></div>\n",
    "\n"
   ]
  },
  {
   "attachments": {},
   "cell_type": "markdown",
   "id": "7ad31350-3590-4527-b773-f4bd3984bfa9",
   "metadata": {},
   "source": [
    "This is the official Notebook of the DSML Project from Marc Rennefort, Kilian Lipinsky, Timo Hagelberg, Jan Behrendt-Emden and Paul Severin. In order to create this Project we used the following dataset: https://data.cityofchicago.org/Transportation/Transportation-Network-Providers-Trips-2023-2024-/n26f-ihde/about_data\n",
    "<h4 style=\"text-decoration: underline;\">1. Description</h4>\n",
    "The goal of this project is to predict ride-hailing tips in Chicago based on travel time, distance, fare amount, weather conditions, and whether the customer shared the ride.\n"
   ]
  },
  {
   "cell_type": "code",
   "id": "1c90e750-76f6-4524-9e00-23d389391975",
   "metadata": {
    "ExecuteTime": {
     "end_time": "2025-06-19T14:12:38.480600Z",
     "start_time": "2025-06-19T14:12:35.034467Z"
    }
   },
   "source": [
    "#Note all your imports here\n",
    "\n",
    "import pandas as pd\n",
    "import numpy as np\n",
    "import matplotlib as mpl\n",
    "import matplotlib.pyplot as plt\n",
    "from holoviews.plotting.plotly import ScatterPlot\n",
    "from numpy.ma.core import inner\n",
    "from pandas.core.common import random_state\n",
    "from sklearn.metrics import *\n",
    "from sklearn.neighbors import KNeighborsRegressor\n",
    "from sklearn.preprocessing import StandardScaler\n",
    "from twisted.protocols.amp import Decimal\n",
    "%matplotlib inline\n",
    "import seaborn as sns\n",
    "from sklearn.linear_model import LinearRegression\n",
    "from datetime import datetime\n",
    "from sklearn.model_selection import train_test_split\n",
    "from meteostat import Hourly, Point\n"
   ],
   "outputs": [],
   "execution_count": 2
  },
  {
   "cell_type": "markdown",
   "id": "eb96b7050d8dc921",
   "metadata": {},
   "source": [
    "<h4 style=\"text-decoration: underline;\">2. Data Prepertion</h4>"
   ]
  },
  {
   "cell_type": "markdown",
   "id": "90df07db112fe767",
   "metadata": {},
   "source": [
    "<h4 style=\"text-decoration: underline;\">2.1 Some Basic Data Preperation</h4>\n",
    "In the first step we want to do some basic data preperartion which means that we load our data set with the columns we need, we drop all rows with null values and changing our timestamps to datetime format"
   ]
  },
  {
   "cell_type": "code",
   "id": "76201386-ac55-4da8-ab2b-7d5fe6a50618",
   "metadata": {
    "ExecuteTime": {
     "end_time": "2025-06-19T13:45:08.658337Z",
     "start_time": "2025-06-19T13:44:15.720048Z"
    }
   },
   "source": [
    "#Loading our dataset with the columns we need\n",
    "data_cleaned = pd.read_csv('Data/Chicago_RideHailing_Data.csv', usecols= ['Trip End Timestamp', 'Trip Seconds', 'Trip Miles', 'Tip', 'Trip Total','Dropoff Centroid Latitude', 'Dropoff Centroid Longitude', 'Shared Trip Authorized', 'Shared Trip Match'])\n",
    "\n",
    "#We can't use the Total including Tip, so we will calculate the cost (Far + other Charges) as Total - Tip\n",
    "data_cleaned['Cost'] = data_cleaned['Trip Total'] - data_cleaned['Tip']\n",
    "data_cleaned = data_cleaned.drop(columns=['Trip Total'])"
   ],
   "outputs": [
    {
     "name": "stderr",
     "output_type": "stream",
     "text": [
      "DtypeWarning: Columns (15,16) have mixed types. Specify dtype option on import or set low_memory=False.\n"
     ]
    }
   ],
   "execution_count": 12
  },
  {
   "cell_type": "code",
   "id": "28185221ab2587ee",
   "metadata": {
    "ExecuteTime": {
     "end_time": "2025-06-19T13:45:11.624153Z",
     "start_time": "2025-06-19T13:45:08.728453Z"
    }
   },
   "source": [
    "#Get some basic understanding of our data\n",
    "print('Null Values: ', data_cleaned.isnull().sum())\n",
    "data_cleaned.info()\n",
    "data_cleaned.head()"
   ],
   "outputs": [
    {
     "name": "stdout",
     "output_type": "stream",
     "text": [
      "Null Values:  Trip End Timestamp                  0\n",
      "Trip Seconds                     1638\n",
      "Trip Miles                          1\n",
      "Tip                             68110\n",
      "Shared Trip Authorized              1\n",
      "Shared Trip Match                   1\n",
      "Dropoff Centroid Latitude     2416867\n",
      "Dropoff Centroid Longitude    2416867\n",
      "Cost                            68110\n",
      "dtype: int64\n",
      "<class 'pandas.core.frame.DataFrame'>\n",
      "RangeIndex: 27423899 entries, 0 to 27423898\n",
      "Data columns (total 9 columns):\n",
      " #   Column                      Dtype  \n",
      "---  ------                      -----  \n",
      " 0   Trip End Timestamp          object \n",
      " 1   Trip Seconds                float64\n",
      " 2   Trip Miles                  float64\n",
      " 3   Tip                         float64\n",
      " 4   Shared Trip Authorized      object \n",
      " 5   Shared Trip Match           object \n",
      " 6   Dropoff Centroid Latitude   float64\n",
      " 7   Dropoff Centroid Longitude  float64\n",
      " 8   Cost                        float64\n",
      "dtypes: float64(6), object(3)\n",
      "memory usage: 1.8+ GB\n"
     ]
    },
    {
     "data": {
      "text/plain": [
       "       Trip End Timestamp  Trip Seconds  Trip Miles  Tip  \\\n",
       "0  09/19/2023 07:15:00 PM        3109.0        23.5  0.0   \n",
       "1  09/28/2023 12:45:00 PM        1640.0        14.7  0.0   \n",
       "2  09/03/2023 05:30:00 PM         772.0         1.9  0.0   \n",
       "3  09/13/2023 03:30:00 PM         452.0         1.1  0.0   \n",
       "4  09/16/2023 01:00:00 PM         819.0         3.9  0.0   \n",
       "\n",
       "  Shared Trip Authorized Shared Trip Match  Dropoff Centroid Latitude  \\\n",
       "0                  False             False                  41.893216   \n",
       "1                  False             False                  41.979071   \n",
       "2                  False             False                  41.879255   \n",
       "3                  False             False                  41.892042   \n",
       "4                  False             False                  41.792592   \n",
       "\n",
       "   Dropoff Centroid Longitude   Cost  \n",
       "0                  -87.637844  40.70  \n",
       "1                  -87.903040  38.74  \n",
       "2                  -87.642649  22.39  \n",
       "3                  -87.631864  14.07  \n",
       "4                  -87.769615  12.89  "
      ],
      "text/html": [
       "<div>\n",
       "<style scoped>\n",
       "    .dataframe tbody tr th:only-of-type {\n",
       "        vertical-align: middle;\n",
       "    }\n",
       "\n",
       "    .dataframe tbody tr th {\n",
       "        vertical-align: top;\n",
       "    }\n",
       "\n",
       "    .dataframe thead th {\n",
       "        text-align: right;\n",
       "    }\n",
       "</style>\n",
       "<table border=\"1\" class=\"dataframe\">\n",
       "  <thead>\n",
       "    <tr style=\"text-align: right;\">\n",
       "      <th></th>\n",
       "      <th>Trip End Timestamp</th>\n",
       "      <th>Trip Seconds</th>\n",
       "      <th>Trip Miles</th>\n",
       "      <th>Tip</th>\n",
       "      <th>Shared Trip Authorized</th>\n",
       "      <th>Shared Trip Match</th>\n",
       "      <th>Dropoff Centroid Latitude</th>\n",
       "      <th>Dropoff Centroid Longitude</th>\n",
       "      <th>Cost</th>\n",
       "    </tr>\n",
       "  </thead>\n",
       "  <tbody>\n",
       "    <tr>\n",
       "      <th>0</th>\n",
       "      <td>09/19/2023 07:15:00 PM</td>\n",
       "      <td>3109.0</td>\n",
       "      <td>23.5</td>\n",
       "      <td>0.0</td>\n",
       "      <td>False</td>\n",
       "      <td>False</td>\n",
       "      <td>41.893216</td>\n",
       "      <td>-87.637844</td>\n",
       "      <td>40.70</td>\n",
       "    </tr>\n",
       "    <tr>\n",
       "      <th>1</th>\n",
       "      <td>09/28/2023 12:45:00 PM</td>\n",
       "      <td>1640.0</td>\n",
       "      <td>14.7</td>\n",
       "      <td>0.0</td>\n",
       "      <td>False</td>\n",
       "      <td>False</td>\n",
       "      <td>41.979071</td>\n",
       "      <td>-87.903040</td>\n",
       "      <td>38.74</td>\n",
       "    </tr>\n",
       "    <tr>\n",
       "      <th>2</th>\n",
       "      <td>09/03/2023 05:30:00 PM</td>\n",
       "      <td>772.0</td>\n",
       "      <td>1.9</td>\n",
       "      <td>0.0</td>\n",
       "      <td>False</td>\n",
       "      <td>False</td>\n",
       "      <td>41.879255</td>\n",
       "      <td>-87.642649</td>\n",
       "      <td>22.39</td>\n",
       "    </tr>\n",
       "    <tr>\n",
       "      <th>3</th>\n",
       "      <td>09/13/2023 03:30:00 PM</td>\n",
       "      <td>452.0</td>\n",
       "      <td>1.1</td>\n",
       "      <td>0.0</td>\n",
       "      <td>False</td>\n",
       "      <td>False</td>\n",
       "      <td>41.892042</td>\n",
       "      <td>-87.631864</td>\n",
       "      <td>14.07</td>\n",
       "    </tr>\n",
       "    <tr>\n",
       "      <th>4</th>\n",
       "      <td>09/16/2023 01:00:00 PM</td>\n",
       "      <td>819.0</td>\n",
       "      <td>3.9</td>\n",
       "      <td>0.0</td>\n",
       "      <td>False</td>\n",
       "      <td>False</td>\n",
       "      <td>41.792592</td>\n",
       "      <td>-87.769615</td>\n",
       "      <td>12.89</td>\n",
       "    </tr>\n",
       "  </tbody>\n",
       "</table>\n",
       "</div>"
      ]
     },
     "execution_count": 13,
     "metadata": {},
     "output_type": "execute_result"
    }
   ],
   "execution_count": 13
  },
  {
   "cell_type": "code",
   "id": "b921cc3b-a9de-4994-83c6-e64c9cb4fb1f",
   "metadata": {
    "ExecuteTime": {
     "end_time": "2025-06-19T13:45:16.302192Z",
     "start_time": "2025-06-19T13:45:12.667411Z"
    }
   },
   "source": [
    "#Drop all rows with null values\n",
    "data_cleaned = data_cleaned.dropna(axis = 0)"
   ],
   "outputs": [],
   "execution_count": 14
  },
  {
   "cell_type": "code",
   "id": "82ba2335",
   "metadata": {
    "ExecuteTime": {
     "end_time": "2025-06-19T13:46:35.260111Z",
     "start_time": "2025-06-19T13:45:16.337881Z"
    }
   },
   "source": [
    "#Changing our timestamp to datetime format\n",
    "data_cleaned['Trip End Timestamp'] = pd.to_datetime(data_cleaned['Trip End Timestamp'],  format='%m/%d/%Y %I:%M:%S %p', errors='coerce')"
   ],
   "outputs": [],
   "execution_count": 15
  },
  {
   "cell_type": "code",
   "id": "9270bcde-2698-40e4-9adf-315eb1f52d16",
   "metadata": {
    "ExecuteTime": {
     "end_time": "2025-06-19T13:46:37.080952Z",
     "start_time": "2025-06-19T13:46:35.270694Z"
    }
   },
   "source": [
    "#Check if everything worked correctly\n",
    "print('Null-Werte: ', data_cleaned.isnull().sum())\n",
    "data_cleaned.info()"
   ],
   "outputs": [
    {
     "name": "stdout",
     "output_type": "stream",
     "text": [
      "Null-Werte:  Trip End Timestamp            0\n",
      "Trip Seconds                  0\n",
      "Trip Miles                    0\n",
      "Tip                           0\n",
      "Shared Trip Authorized        0\n",
      "Shared Trip Match             0\n",
      "Dropoff Centroid Latitude     0\n",
      "Dropoff Centroid Longitude    0\n",
      "Cost                          0\n",
      "dtype: int64\n",
      "<class 'pandas.core.frame.DataFrame'>\n",
      "Index: 24946147 entries, 0 to 27423897\n",
      "Data columns (total 9 columns):\n",
      " #   Column                      Dtype         \n",
      "---  ------                      -----         \n",
      " 0   Trip End Timestamp          datetime64[ns]\n",
      " 1   Trip Seconds                float64       \n",
      " 2   Trip Miles                  float64       \n",
      " 3   Tip                         float64       \n",
      " 4   Shared Trip Authorized      object        \n",
      " 5   Shared Trip Match           object        \n",
      " 6   Dropoff Centroid Latitude   float64       \n",
      " 7   Dropoff Centroid Longitude  float64       \n",
      " 8   Cost                        float64       \n",
      "dtypes: datetime64[ns](1), float64(6), object(2)\n",
      "memory usage: 1.9+ GB\n"
     ]
    }
   ],
   "execution_count": 16
  },
  {
   "cell_type": "markdown",
   "id": "8684bb9bbe0d210",
   "metadata": {},
   "source": [
    "<h4 style=\"text-decoration: underline;\">2.2 Including weather data</h4>\n",
    "In order to add the weather data we need to group our data because otherwise we will get runtime issues if we do API calls for barely 25 Million rows. This should be fine for our prediction purposes because there won't be huge differences in temperature or rain if we round by the second decimal place"
   ]
  },
  {
   "cell_type": "code",
   "id": "c4f3c83a49f3c622",
   "metadata": {
    "ExecuteTime": {
     "end_time": "2025-06-19T13:46:38.893335Z",
     "start_time": "2025-06-19T13:46:37.141242Z"
    }
   },
   "source": [
    "#Round the Latitude and Longitude by the second decimal place and insert it in a new column\n",
    "data_cleaned[\"Latitude rounded\"] =  data_cleaned[\"Dropoff Centroid Latitude\"].round(2)\n",
    "data_cleaned[\"Longitude rounded\"] = data_cleaned[\"Dropoff Centroid Longitude\"].round(2)\n",
    "\n",
    "#Group the data by Latitude and Longitude\n",
    "data_grouped = data_cleaned.groupby([\"Latitude rounded\", \"Longitude rounded\"])[\"Trip End Timestamp\"].agg([\"min\", \"max\"]).reset_index()\n",
    "data_grouped.head()"
   ],
   "outputs": [
    {
     "data": {
      "text/plain": [
       "   Latitude rounded  Longitude rounded                 min                 max\n",
       "0             41.65             -87.60 2023-08-31 01:00:00 2024-04-28 23:30:00\n",
       "1             41.65             -87.56 2023-08-31 12:45:00 2024-03-29 07:45:00\n",
       "2             41.66             -87.65 2023-08-31 08:30:00 2024-03-30 21:30:00\n",
       "3             41.66             -87.64 2023-08-31 02:00:00 2024-04-28 13:15:00\n",
       "4             41.66             -87.60 2023-08-31 00:00:00 2024-04-26 08:30:00"
      ],
      "text/html": [
       "<div>\n",
       "<style scoped>\n",
       "    .dataframe tbody tr th:only-of-type {\n",
       "        vertical-align: middle;\n",
       "    }\n",
       "\n",
       "    .dataframe tbody tr th {\n",
       "        vertical-align: top;\n",
       "    }\n",
       "\n",
       "    .dataframe thead th {\n",
       "        text-align: right;\n",
       "    }\n",
       "</style>\n",
       "<table border=\"1\" class=\"dataframe\">\n",
       "  <thead>\n",
       "    <tr style=\"text-align: right;\">\n",
       "      <th></th>\n",
       "      <th>Latitude rounded</th>\n",
       "      <th>Longitude rounded</th>\n",
       "      <th>min</th>\n",
       "      <th>max</th>\n",
       "    </tr>\n",
       "  </thead>\n",
       "  <tbody>\n",
       "    <tr>\n",
       "      <th>0</th>\n",
       "      <td>41.65</td>\n",
       "      <td>-87.60</td>\n",
       "      <td>2023-08-31 01:00:00</td>\n",
       "      <td>2024-04-28 23:30:00</td>\n",
       "    </tr>\n",
       "    <tr>\n",
       "      <th>1</th>\n",
       "      <td>41.65</td>\n",
       "      <td>-87.56</td>\n",
       "      <td>2023-08-31 12:45:00</td>\n",
       "      <td>2024-03-29 07:45:00</td>\n",
       "    </tr>\n",
       "    <tr>\n",
       "      <th>2</th>\n",
       "      <td>41.66</td>\n",
       "      <td>-87.65</td>\n",
       "      <td>2023-08-31 08:30:00</td>\n",
       "      <td>2024-03-30 21:30:00</td>\n",
       "    </tr>\n",
       "    <tr>\n",
       "      <th>3</th>\n",
       "      <td>41.66</td>\n",
       "      <td>-87.64</td>\n",
       "      <td>2023-08-31 02:00:00</td>\n",
       "      <td>2024-04-28 13:15:00</td>\n",
       "    </tr>\n",
       "    <tr>\n",
       "      <th>4</th>\n",
       "      <td>41.66</td>\n",
       "      <td>-87.60</td>\n",
       "      <td>2023-08-31 00:00:00</td>\n",
       "      <td>2024-04-26 08:30:00</td>\n",
       "    </tr>\n",
       "  </tbody>\n",
       "</table>\n",
       "</div>"
      ]
     },
     "execution_count": 17,
     "metadata": {},
     "output_type": "execute_result"
    }
   ],
   "execution_count": 17
  },
  {
   "cell_type": "code",
   "id": "e378e75201ad951f",
   "metadata": {
    "ExecuteTime": {
     "end_time": "2025-06-19T13:48:25.146456Z",
     "start_time": "2025-06-19T13:46:38.967187Z"
    }
   },
   "source": [
    "weather_list = []\n",
    "for i in range(len(data_grouped)):\n",
    "    #Initalise variables\n",
    "    latitude = data_grouped[\"Latitude rounded\"].iloc[i]\n",
    "    longitude = data_grouped[\"Longitude rounded\"].iloc[i]\n",
    "    location = Point(latitude, longitude)\n",
    "    timestamp_min = data_grouped[\"min\"].iloc[i]\n",
    "    timestamp_max = data_grouped[\"max\"].iloc[i]\n",
    "    \n",
    "    #Round min and max column to the next hour in order to extract the weather data correctly\n",
    "    timestamp_min_rounded = timestamp_min.replace(minute = 0, second = 0) \n",
    "    timestamp_max_rounded = timestamp_max.replace(minute = 0, second = 0)\n",
    "    \n",
    "    #Extract the weather data per location\n",
    "    weather = Hourly(location, timestamp_min_rounded, timestamp_max_rounded).fetch()\n",
    "\n",
    "    #Merge the extracted weather data with the fitting timestamps and locations\n",
    "    for j in range(len(weather)):\n",
    "       weather_list.append({\"Timestamp\": weather.index[j], \"Latitude rounded\": latitude, \"Longitude rounded\": longitude, \"Temperature\": weather[\"temp\"].iloc[j], \"Rain in mm\": weather[\"prcp\"].iloc[j]})\n",
    "\n",
    "#Covert the list to a DataFrame\n",
    "weather_data = pd.DataFrame(weather_list)\n",
    "weather_data.head()"
   ],
   "outputs": [
    {
     "data": {
      "text/plain": [
       "            Timestamp  Latitude rounded  Longitude rounded  Temperature  \\\n",
       "0 2023-08-31 01:00:00             41.65              -87.6         16.1   \n",
       "1 2023-08-31 02:00:00             41.65              -87.6         15.8   \n",
       "2 2023-08-31 03:00:00             41.65              -87.6         15.6   \n",
       "3 2023-08-31 04:00:00             41.65              -87.6         15.2   \n",
       "4 2023-08-31 05:00:00             41.65              -87.6         14.5   \n",
       "\n",
       "  Rain in mm  \n",
       "0        0.0  \n",
       "1        0.0  \n",
       "2        0.0  \n",
       "3        0.0  \n",
       "4        0.0  "
      ],
      "text/html": [
       "<div>\n",
       "<style scoped>\n",
       "    .dataframe tbody tr th:only-of-type {\n",
       "        vertical-align: middle;\n",
       "    }\n",
       "\n",
       "    .dataframe tbody tr th {\n",
       "        vertical-align: top;\n",
       "    }\n",
       "\n",
       "    .dataframe thead th {\n",
       "        text-align: right;\n",
       "    }\n",
       "</style>\n",
       "<table border=\"1\" class=\"dataframe\">\n",
       "  <thead>\n",
       "    <tr style=\"text-align: right;\">\n",
       "      <th></th>\n",
       "      <th>Timestamp</th>\n",
       "      <th>Latitude rounded</th>\n",
       "      <th>Longitude rounded</th>\n",
       "      <th>Temperature</th>\n",
       "      <th>Rain in mm</th>\n",
       "    </tr>\n",
       "  </thead>\n",
       "  <tbody>\n",
       "    <tr>\n",
       "      <th>0</th>\n",
       "      <td>2023-08-31 01:00:00</td>\n",
       "      <td>41.65</td>\n",
       "      <td>-87.6</td>\n",
       "      <td>16.1</td>\n",
       "      <td>0.0</td>\n",
       "    </tr>\n",
       "    <tr>\n",
       "      <th>1</th>\n",
       "      <td>2023-08-31 02:00:00</td>\n",
       "      <td>41.65</td>\n",
       "      <td>-87.6</td>\n",
       "      <td>15.8</td>\n",
       "      <td>0.0</td>\n",
       "    </tr>\n",
       "    <tr>\n",
       "      <th>2</th>\n",
       "      <td>2023-08-31 03:00:00</td>\n",
       "      <td>41.65</td>\n",
       "      <td>-87.6</td>\n",
       "      <td>15.6</td>\n",
       "      <td>0.0</td>\n",
       "    </tr>\n",
       "    <tr>\n",
       "      <th>3</th>\n",
       "      <td>2023-08-31 04:00:00</td>\n",
       "      <td>41.65</td>\n",
       "      <td>-87.6</td>\n",
       "      <td>15.2</td>\n",
       "      <td>0.0</td>\n",
       "    </tr>\n",
       "    <tr>\n",
       "      <th>4</th>\n",
       "      <td>2023-08-31 05:00:00</td>\n",
       "      <td>41.65</td>\n",
       "      <td>-87.6</td>\n",
       "      <td>14.5</td>\n",
       "      <td>0.0</td>\n",
       "    </tr>\n",
       "  </tbody>\n",
       "</table>\n",
       "</div>"
      ]
     },
     "execution_count": 18,
     "metadata": {},
     "output_type": "execute_result"
    }
   ],
   "execution_count": 18
  },
  {
   "cell_type": "code",
   "id": "95f673f12697bfe6",
   "metadata": {
    "ExecuteTime": {
     "end_time": "2025-06-19T13:48:25.873545Z",
     "start_time": "2025-06-19T13:48:25.221572Z"
    }
   },
   "source": [
    "#Now we prepare the merge of the weather data and the other data. For this we need to round our timestamps by the next hour because our weather data is given hourly\n",
    "data_cleaned[\"Trip End Timestamp Rounded\"] = data_cleaned[\"Trip End Timestamp\"].dt.floor(\"h\")\n"
   ],
   "outputs": [],
   "execution_count": 19
  },
  {
   "cell_type": "code",
   "id": "a84dfd98eb4e51ff",
   "metadata": {
    "ExecuteTime": {
     "end_time": "2025-06-19T13:48:43.446845Z",
     "start_time": "2025-06-19T13:48:26.398398Z"
    }
   },
   "source": [
    "#In the next step we can start with the merge\n",
    "data_merged = pd.merge(data_cleaned, weather_data, left_on=[\"Trip End Timestamp Rounded\", \"Latitude rounded\", \"Longitude rounded\"], right_on =[\"Timestamp\", \"Latitude rounded\", \"Longitude rounded\"], how = \"inner\")"
   ],
   "outputs": [],
   "execution_count": 20
  },
  {
   "cell_type": "code",
   "id": "d2d93ac35cb9b957",
   "metadata": {
    "ExecuteTime": {
     "end_time": "2025-06-19T13:48:45.551659Z",
     "start_time": "2025-06-19T13:48:43.581168Z"
    }
   },
   "source": [
    "#After that we can drop all the columns we just needed to merge our data\n",
    "data_merged = data_merged.drop(columns = [\"Dropoff Centroid Latitude\", \"Dropoff Centroid Longitude\", \"Latitude rounded\", \"Longitude rounded\", \"Timestamp\" ,\"Trip End Timestamp Rounded\"])\n",
    "data_merged.head()"
   ],
   "outputs": [
    {
     "data": {
      "text/plain": [
       "   Trip End Timestamp  Trip Seconds  Trip Miles  Tip Shared Trip Authorized  \\\n",
       "0 2023-09-19 19:15:00        3109.0        23.5  0.0                  False   \n",
       "1 2023-09-28 12:45:00        1640.0        14.7  0.0                  False   \n",
       "2 2023-09-03 17:30:00         772.0         1.9  0.0                  False   \n",
       "3 2023-09-13 15:30:00         452.0         1.1  0.0                  False   \n",
       "4 2023-09-16 13:00:00         819.0         3.9  0.0                  False   \n",
       "\n",
       "  Shared Trip Match   Cost  Temperature Rain in mm  \n",
       "0             False  40.70         16.7        0.3  \n",
       "1             False  38.74         18.9        0.0  \n",
       "2             False  22.39         31.1        0.0  \n",
       "3             False  14.07         17.8        0.0  \n",
       "4             False  12.89         16.1        0.0  "
      ],
      "text/html": [
       "<div>\n",
       "<style scoped>\n",
       "    .dataframe tbody tr th:only-of-type {\n",
       "        vertical-align: middle;\n",
       "    }\n",
       "\n",
       "    .dataframe tbody tr th {\n",
       "        vertical-align: top;\n",
       "    }\n",
       "\n",
       "    .dataframe thead th {\n",
       "        text-align: right;\n",
       "    }\n",
       "</style>\n",
       "<table border=\"1\" class=\"dataframe\">\n",
       "  <thead>\n",
       "    <tr style=\"text-align: right;\">\n",
       "      <th></th>\n",
       "      <th>Trip End Timestamp</th>\n",
       "      <th>Trip Seconds</th>\n",
       "      <th>Trip Miles</th>\n",
       "      <th>Tip</th>\n",
       "      <th>Shared Trip Authorized</th>\n",
       "      <th>Shared Trip Match</th>\n",
       "      <th>Cost</th>\n",
       "      <th>Temperature</th>\n",
       "      <th>Rain in mm</th>\n",
       "    </tr>\n",
       "  </thead>\n",
       "  <tbody>\n",
       "    <tr>\n",
       "      <th>0</th>\n",
       "      <td>2023-09-19 19:15:00</td>\n",
       "      <td>3109.0</td>\n",
       "      <td>23.5</td>\n",
       "      <td>0.0</td>\n",
       "      <td>False</td>\n",
       "      <td>False</td>\n",
       "      <td>40.70</td>\n",
       "      <td>16.7</td>\n",
       "      <td>0.3</td>\n",
       "    </tr>\n",
       "    <tr>\n",
       "      <th>1</th>\n",
       "      <td>2023-09-28 12:45:00</td>\n",
       "      <td>1640.0</td>\n",
       "      <td>14.7</td>\n",
       "      <td>0.0</td>\n",
       "      <td>False</td>\n",
       "      <td>False</td>\n",
       "      <td>38.74</td>\n",
       "      <td>18.9</td>\n",
       "      <td>0.0</td>\n",
       "    </tr>\n",
       "    <tr>\n",
       "      <th>2</th>\n",
       "      <td>2023-09-03 17:30:00</td>\n",
       "      <td>772.0</td>\n",
       "      <td>1.9</td>\n",
       "      <td>0.0</td>\n",
       "      <td>False</td>\n",
       "      <td>False</td>\n",
       "      <td>22.39</td>\n",
       "      <td>31.1</td>\n",
       "      <td>0.0</td>\n",
       "    </tr>\n",
       "    <tr>\n",
       "      <th>3</th>\n",
       "      <td>2023-09-13 15:30:00</td>\n",
       "      <td>452.0</td>\n",
       "      <td>1.1</td>\n",
       "      <td>0.0</td>\n",
       "      <td>False</td>\n",
       "      <td>False</td>\n",
       "      <td>14.07</td>\n",
       "      <td>17.8</td>\n",
       "      <td>0.0</td>\n",
       "    </tr>\n",
       "    <tr>\n",
       "      <th>4</th>\n",
       "      <td>2023-09-16 13:00:00</td>\n",
       "      <td>819.0</td>\n",
       "      <td>3.9</td>\n",
       "      <td>0.0</td>\n",
       "      <td>False</td>\n",
       "      <td>False</td>\n",
       "      <td>12.89</td>\n",
       "      <td>16.1</td>\n",
       "      <td>0.0</td>\n",
       "    </tr>\n",
       "  </tbody>\n",
       "</table>\n",
       "</div>"
      ]
     },
     "execution_count": 21,
     "metadata": {},
     "output_type": "execute_result"
    }
   ],
   "execution_count": 21
  },
  {
   "cell_type": "markdown",
   "id": "6292de49063ad3e9",
   "metadata": {},
   "source": [
    "<h4 style=\"text-decoration: underline;\">2.3 Creation of dummy variables</h4>\n",
    "To perform or regression later on we need to transfer the 'Shared Trip Authorized', 'Shared Trip Match' and 'Trip End Timestamp' column to numeric datatype. For this we make use of dummy variable where 1 stands for true and 0 stands for false for the Shared Trip variables and different variables for the time of day in case of the Trip End variable. In addition we need to creat dummy variables for the rain because we are not interested in the amount of rain on a certain day rather we want to plot wheter it rained or not. "
   ]
  },
  {
   "cell_type": "code",
   "id": "9d11db014a286ddc",
   "metadata": {
    "ExecuteTime": {
     "end_time": "2025-06-19T13:48:47.027235Z",
     "start_time": "2025-06-19T13:48:45.737141Z"
    }
   },
   "source": [
    "#Create dummy variable for 'Shared Trip Authorized' and 'Shared Trip Match' (1 = True and 0 = False)\n",
    "data_merged[\"Shared Trip Authorized\"] = data_merged[\"Shared Trip Authorized\"].astype(int)\n",
    "data_merged[\"Shared Trip Match\"] = data_merged[\"Shared Trip Match\"].astype(int)\n",
    "print(\"📋First 5 Rows:\")\n",
    "data_merged.head()\n"
   ],
   "outputs": [
    {
     "name": "stdout",
     "output_type": "stream",
     "text": [
      "📋First 5 Rows:\n"
     ]
    },
    {
     "data": {
      "text/plain": [
       "   Trip End Timestamp  Trip Seconds  Trip Miles  Tip  Shared Trip Authorized  \\\n",
       "0 2023-09-19 19:15:00        3109.0        23.5  0.0                       0   \n",
       "1 2023-09-28 12:45:00        1640.0        14.7  0.0                       0   \n",
       "2 2023-09-03 17:30:00         772.0         1.9  0.0                       0   \n",
       "3 2023-09-13 15:30:00         452.0         1.1  0.0                       0   \n",
       "4 2023-09-16 13:00:00         819.0         3.9  0.0                       0   \n",
       "\n",
       "   Shared Trip Match   Cost  Temperature Rain in mm  \n",
       "0                  0  40.70         16.7        0.3  \n",
       "1                  0  38.74         18.9        0.0  \n",
       "2                  0  22.39         31.1        0.0  \n",
       "3                  0  14.07         17.8        0.0  \n",
       "4                  0  12.89         16.1        0.0  "
      ],
      "text/html": [
       "<div>\n",
       "<style scoped>\n",
       "    .dataframe tbody tr th:only-of-type {\n",
       "        vertical-align: middle;\n",
       "    }\n",
       "\n",
       "    .dataframe tbody tr th {\n",
       "        vertical-align: top;\n",
       "    }\n",
       "\n",
       "    .dataframe thead th {\n",
       "        text-align: right;\n",
       "    }\n",
       "</style>\n",
       "<table border=\"1\" class=\"dataframe\">\n",
       "  <thead>\n",
       "    <tr style=\"text-align: right;\">\n",
       "      <th></th>\n",
       "      <th>Trip End Timestamp</th>\n",
       "      <th>Trip Seconds</th>\n",
       "      <th>Trip Miles</th>\n",
       "      <th>Tip</th>\n",
       "      <th>Shared Trip Authorized</th>\n",
       "      <th>Shared Trip Match</th>\n",
       "      <th>Cost</th>\n",
       "      <th>Temperature</th>\n",
       "      <th>Rain in mm</th>\n",
       "    </tr>\n",
       "  </thead>\n",
       "  <tbody>\n",
       "    <tr>\n",
       "      <th>0</th>\n",
       "      <td>2023-09-19 19:15:00</td>\n",
       "      <td>3109.0</td>\n",
       "      <td>23.5</td>\n",
       "      <td>0.0</td>\n",
       "      <td>0</td>\n",
       "      <td>0</td>\n",
       "      <td>40.70</td>\n",
       "      <td>16.7</td>\n",
       "      <td>0.3</td>\n",
       "    </tr>\n",
       "    <tr>\n",
       "      <th>1</th>\n",
       "      <td>2023-09-28 12:45:00</td>\n",
       "      <td>1640.0</td>\n",
       "      <td>14.7</td>\n",
       "      <td>0.0</td>\n",
       "      <td>0</td>\n",
       "      <td>0</td>\n",
       "      <td>38.74</td>\n",
       "      <td>18.9</td>\n",
       "      <td>0.0</td>\n",
       "    </tr>\n",
       "    <tr>\n",
       "      <th>2</th>\n",
       "      <td>2023-09-03 17:30:00</td>\n",
       "      <td>772.0</td>\n",
       "      <td>1.9</td>\n",
       "      <td>0.0</td>\n",
       "      <td>0</td>\n",
       "      <td>0</td>\n",
       "      <td>22.39</td>\n",
       "      <td>31.1</td>\n",
       "      <td>0.0</td>\n",
       "    </tr>\n",
       "    <tr>\n",
       "      <th>3</th>\n",
       "      <td>2023-09-13 15:30:00</td>\n",
       "      <td>452.0</td>\n",
       "      <td>1.1</td>\n",
       "      <td>0.0</td>\n",
       "      <td>0</td>\n",
       "      <td>0</td>\n",
       "      <td>14.07</td>\n",
       "      <td>17.8</td>\n",
       "      <td>0.0</td>\n",
       "    </tr>\n",
       "    <tr>\n",
       "      <th>4</th>\n",
       "      <td>2023-09-16 13:00:00</td>\n",
       "      <td>819.0</td>\n",
       "      <td>3.9</td>\n",
       "      <td>0.0</td>\n",
       "      <td>0</td>\n",
       "      <td>0</td>\n",
       "      <td>12.89</td>\n",
       "      <td>16.1</td>\n",
       "      <td>0.0</td>\n",
       "    </tr>\n",
       "  </tbody>\n",
       "</table>\n",
       "</div>"
      ]
     },
     "execution_count": 22,
     "metadata": {},
     "output_type": "execute_result"
    }
   ],
   "execution_count": 22
  },
  {
   "cell_type": "code",
   "id": "fa41d72f",
   "metadata": {
    "ExecuteTime": {
     "end_time": "2025-06-19T13:48:49.966298Z",
     "start_time": "2025-06-19T13:48:47.076257Z"
    }
   },
   "source": [
    "#Create dummy variables for the Trip End Timestamp: 22:00-6:00 for night, 6:00-18:00 for day and 18:00-22:00 for evening\n",
    "data_merged[\"Trip End Hour\"] = data_merged[\"Trip End Timestamp\"].dt.hour\n",
    "data_merged[\"Night\"] = np.where((data_merged[\"Trip End Hour\"] >= 22) | (data_merged[\"Trip End Hour\"] < 6), 1, 0)\n",
    "data_merged[\"Day\"] = np.where((data_merged[\"Trip End Hour\"] >= 6) & (data_merged[\"Trip End Hour\"] < 18), 1, 0)\n",
    "data_merged[\"Evening\"] = np.where((data_merged[\"Trip End Hour\"] >= 18) & (data_merged[\"Trip End Hour\"] < 22), 1, 0)\n",
    "#Drop the Trip End Hour & Trip End Timestamp column as we don't need them anymore\n",
    "data_merged = data_merged.drop(columns=[\"Trip End Hour\", \"Trip End Timestamp\"])\n",
    "\n",
    "data_merged.head()"
   ],
   "outputs": [
    {
     "data": {
      "text/plain": [
       "   Trip Seconds  Trip Miles  Tip  Shared Trip Authorized  Shared Trip Match  \\\n",
       "0        3109.0        23.5  0.0                       0                  0   \n",
       "1        1640.0        14.7  0.0                       0                  0   \n",
       "2         772.0         1.9  0.0                       0                  0   \n",
       "3         452.0         1.1  0.0                       0                  0   \n",
       "4         819.0         3.9  0.0                       0                  0   \n",
       "\n",
       "    Cost  Temperature Rain in mm  Night  Day  Evening  \n",
       "0  40.70         16.7        0.3      0    0        1  \n",
       "1  38.74         18.9        0.0      0    1        0  \n",
       "2  22.39         31.1        0.0      0    1        0  \n",
       "3  14.07         17.8        0.0      0    1        0  \n",
       "4  12.89         16.1        0.0      0    1        0  "
      ],
      "text/html": [
       "<div>\n",
       "<style scoped>\n",
       "    .dataframe tbody tr th:only-of-type {\n",
       "        vertical-align: middle;\n",
       "    }\n",
       "\n",
       "    .dataframe tbody tr th {\n",
       "        vertical-align: top;\n",
       "    }\n",
       "\n",
       "    .dataframe thead th {\n",
       "        text-align: right;\n",
       "    }\n",
       "</style>\n",
       "<table border=\"1\" class=\"dataframe\">\n",
       "  <thead>\n",
       "    <tr style=\"text-align: right;\">\n",
       "      <th></th>\n",
       "      <th>Trip Seconds</th>\n",
       "      <th>Trip Miles</th>\n",
       "      <th>Tip</th>\n",
       "      <th>Shared Trip Authorized</th>\n",
       "      <th>Shared Trip Match</th>\n",
       "      <th>Cost</th>\n",
       "      <th>Temperature</th>\n",
       "      <th>Rain in mm</th>\n",
       "      <th>Night</th>\n",
       "      <th>Day</th>\n",
       "      <th>Evening</th>\n",
       "    </tr>\n",
       "  </thead>\n",
       "  <tbody>\n",
       "    <tr>\n",
       "      <th>0</th>\n",
       "      <td>3109.0</td>\n",
       "      <td>23.5</td>\n",
       "      <td>0.0</td>\n",
       "      <td>0</td>\n",
       "      <td>0</td>\n",
       "      <td>40.70</td>\n",
       "      <td>16.7</td>\n",
       "      <td>0.3</td>\n",
       "      <td>0</td>\n",
       "      <td>0</td>\n",
       "      <td>1</td>\n",
       "    </tr>\n",
       "    <tr>\n",
       "      <th>1</th>\n",
       "      <td>1640.0</td>\n",
       "      <td>14.7</td>\n",
       "      <td>0.0</td>\n",
       "      <td>0</td>\n",
       "      <td>0</td>\n",
       "      <td>38.74</td>\n",
       "      <td>18.9</td>\n",
       "      <td>0.0</td>\n",
       "      <td>0</td>\n",
       "      <td>1</td>\n",
       "      <td>0</td>\n",
       "    </tr>\n",
       "    <tr>\n",
       "      <th>2</th>\n",
       "      <td>772.0</td>\n",
       "      <td>1.9</td>\n",
       "      <td>0.0</td>\n",
       "      <td>0</td>\n",
       "      <td>0</td>\n",
       "      <td>22.39</td>\n",
       "      <td>31.1</td>\n",
       "      <td>0.0</td>\n",
       "      <td>0</td>\n",
       "      <td>1</td>\n",
       "      <td>0</td>\n",
       "    </tr>\n",
       "    <tr>\n",
       "      <th>3</th>\n",
       "      <td>452.0</td>\n",
       "      <td>1.1</td>\n",
       "      <td>0.0</td>\n",
       "      <td>0</td>\n",
       "      <td>0</td>\n",
       "      <td>14.07</td>\n",
       "      <td>17.8</td>\n",
       "      <td>0.0</td>\n",
       "      <td>0</td>\n",
       "      <td>1</td>\n",
       "      <td>0</td>\n",
       "    </tr>\n",
       "    <tr>\n",
       "      <th>4</th>\n",
       "      <td>819.0</td>\n",
       "      <td>3.9</td>\n",
       "      <td>0.0</td>\n",
       "      <td>0</td>\n",
       "      <td>0</td>\n",
       "      <td>12.89</td>\n",
       "      <td>16.1</td>\n",
       "      <td>0.0</td>\n",
       "      <td>0</td>\n",
       "      <td>1</td>\n",
       "      <td>0</td>\n",
       "    </tr>\n",
       "  </tbody>\n",
       "</table>\n",
       "</div>"
      ]
     },
     "execution_count": 23,
     "metadata": {},
     "output_type": "execute_result"
    }
   ],
   "execution_count": 23
  },
  {
   "cell_type": "code",
   "id": "c0708826312343ed",
   "metadata": {
    "ExecuteTime": {
     "end_time": "2025-06-19T13:48:53.828431Z",
     "start_time": "2025-06-19T13:48:50.050772Z"
    }
   },
   "source": [
    "#We see that the column 'Rain in mm' is from datatype object but we need a numeric datatype to perform the dummy creation on this column. That's why wee need to transform this column to the right datatype\n",
    "data_merged['Rain in mm'] = pd.to_numeric(data_merged['Rain in mm'], errors='coerce')"
   ],
   "outputs": [],
   "execution_count": 24
  },
  {
   "cell_type": "code",
   "id": "65bfab88b60b62e7",
   "metadata": {
    "ExecuteTime": {
     "end_time": "2025-06-19T13:51:35.840499Z",
     "start_time": "2025-06-19T13:48:53.893369Z"
    }
   },
   "source": [
    "#Create dummy variables for 'Rain in mm' (0 = there was no rain, 1 = there was rain)\n",
    "rained = []\n",
    "for i in range(len(data_merged)):\n",
    "    if data_merged[\"Rain in mm\"].iloc[i] > 0:\n",
    "        rained.append(\"1\")\n",
    "    else:\n",
    "        rained.append(\"0\")\n",
    "rained_df = pd.DataFrame(rained)\n",
    "data_merged[\"Rained\"] = rained_df\n",
    "print(\"📋First 5 Rows:\")\n",
    "data_merged.head()"
   ],
   "outputs": [
    {
     "name": "stdout",
     "output_type": "stream",
     "text": [
      "📋First 5 Rows:\n"
     ]
    },
    {
     "data": {
      "text/plain": [
       "   Trip Seconds  Trip Miles  Tip  Shared Trip Authorized  Shared Trip Match  \\\n",
       "0        3109.0        23.5  0.0                       0                  0   \n",
       "1        1640.0        14.7  0.0                       0                  0   \n",
       "2         772.0         1.9  0.0                       0                  0   \n",
       "3         452.0         1.1  0.0                       0                  0   \n",
       "4         819.0         3.9  0.0                       0                  0   \n",
       "\n",
       "    Cost  Temperature  Rain in mm  Night  Day  Evening Rained  \n",
       "0  40.70         16.7         0.3      0    0        1      1  \n",
       "1  38.74         18.9         0.0      0    1        0      0  \n",
       "2  22.39         31.1         0.0      0    1        0      0  \n",
       "3  14.07         17.8         0.0      0    1        0      0  \n",
       "4  12.89         16.1         0.0      0    1        0      0  "
      ],
      "text/html": [
       "<div>\n",
       "<style scoped>\n",
       "    .dataframe tbody tr th:only-of-type {\n",
       "        vertical-align: middle;\n",
       "    }\n",
       "\n",
       "    .dataframe tbody tr th {\n",
       "        vertical-align: top;\n",
       "    }\n",
       "\n",
       "    .dataframe thead th {\n",
       "        text-align: right;\n",
       "    }\n",
       "</style>\n",
       "<table border=\"1\" class=\"dataframe\">\n",
       "  <thead>\n",
       "    <tr style=\"text-align: right;\">\n",
       "      <th></th>\n",
       "      <th>Trip Seconds</th>\n",
       "      <th>Trip Miles</th>\n",
       "      <th>Tip</th>\n",
       "      <th>Shared Trip Authorized</th>\n",
       "      <th>Shared Trip Match</th>\n",
       "      <th>Cost</th>\n",
       "      <th>Temperature</th>\n",
       "      <th>Rain in mm</th>\n",
       "      <th>Night</th>\n",
       "      <th>Day</th>\n",
       "      <th>Evening</th>\n",
       "      <th>Rained</th>\n",
       "    </tr>\n",
       "  </thead>\n",
       "  <tbody>\n",
       "    <tr>\n",
       "      <th>0</th>\n",
       "      <td>3109.0</td>\n",
       "      <td>23.5</td>\n",
       "      <td>0.0</td>\n",
       "      <td>0</td>\n",
       "      <td>0</td>\n",
       "      <td>40.70</td>\n",
       "      <td>16.7</td>\n",
       "      <td>0.3</td>\n",
       "      <td>0</td>\n",
       "      <td>0</td>\n",
       "      <td>1</td>\n",
       "      <td>1</td>\n",
       "    </tr>\n",
       "    <tr>\n",
       "      <th>1</th>\n",
       "      <td>1640.0</td>\n",
       "      <td>14.7</td>\n",
       "      <td>0.0</td>\n",
       "      <td>0</td>\n",
       "      <td>0</td>\n",
       "      <td>38.74</td>\n",
       "      <td>18.9</td>\n",
       "      <td>0.0</td>\n",
       "      <td>0</td>\n",
       "      <td>1</td>\n",
       "      <td>0</td>\n",
       "      <td>0</td>\n",
       "    </tr>\n",
       "    <tr>\n",
       "      <th>2</th>\n",
       "      <td>772.0</td>\n",
       "      <td>1.9</td>\n",
       "      <td>0.0</td>\n",
       "      <td>0</td>\n",
       "      <td>0</td>\n",
       "      <td>22.39</td>\n",
       "      <td>31.1</td>\n",
       "      <td>0.0</td>\n",
       "      <td>0</td>\n",
       "      <td>1</td>\n",
       "      <td>0</td>\n",
       "      <td>0</td>\n",
       "    </tr>\n",
       "    <tr>\n",
       "      <th>3</th>\n",
       "      <td>452.0</td>\n",
       "      <td>1.1</td>\n",
       "      <td>0.0</td>\n",
       "      <td>0</td>\n",
       "      <td>0</td>\n",
       "      <td>14.07</td>\n",
       "      <td>17.8</td>\n",
       "      <td>0.0</td>\n",
       "      <td>0</td>\n",
       "      <td>1</td>\n",
       "      <td>0</td>\n",
       "      <td>0</td>\n",
       "    </tr>\n",
       "    <tr>\n",
       "      <th>4</th>\n",
       "      <td>819.0</td>\n",
       "      <td>3.9</td>\n",
       "      <td>0.0</td>\n",
       "      <td>0</td>\n",
       "      <td>0</td>\n",
       "      <td>12.89</td>\n",
       "      <td>16.1</td>\n",
       "      <td>0.0</td>\n",
       "      <td>0</td>\n",
       "      <td>1</td>\n",
       "      <td>0</td>\n",
       "      <td>0</td>\n",
       "    </tr>\n",
       "  </tbody>\n",
       "</table>\n",
       "</div>"
      ]
     },
     "execution_count": 25,
     "metadata": {},
     "output_type": "execute_result"
    }
   ],
   "execution_count": 25
  },
  {
   "cell_type": "code",
   "id": "5eadd0e59689eadc",
   "metadata": {
    "ExecuteTime": {
     "end_time": "2025-06-19T13:51:37.960600Z",
     "start_time": "2025-06-19T13:51:36.158214Z"
    }
   },
   "source": [
    "#Now we need to cast the 'Rained' column to int datatype because it is from type object yet\n",
    "data_merged[\"Rained\"] = data_merged[\"Rained\"].astype(int)\n"
   ],
   "outputs": [],
   "execution_count": 26
  },
  {
   "cell_type": "code",
   "id": "187e7103215f5be0",
   "metadata": {
    "ExecuteTime": {
     "end_time": "2025-06-19T13:51:38.009681Z",
     "start_time": "2025-06-19T13:51:37.996221Z"
    }
   },
   "source": [
    "#data_merged = data_merged.drop(columns = [\"Rain in mm\"])\n",
    "print(\"📋First 5 Rows:\")\n",
    "data_merged.head()"
   ],
   "outputs": [
    {
     "name": "stdout",
     "output_type": "stream",
     "text": [
      "📋First 5 Rows:\n"
     ]
    },
    {
     "data": {
      "text/plain": [
       "   Trip Seconds  Trip Miles  Tip  Shared Trip Authorized  Shared Trip Match  \\\n",
       "0        3109.0        23.5  0.0                       0                  0   \n",
       "1        1640.0        14.7  0.0                       0                  0   \n",
       "2         772.0         1.9  0.0                       0                  0   \n",
       "3         452.0         1.1  0.0                       0                  0   \n",
       "4         819.0         3.9  0.0                       0                  0   \n",
       "\n",
       "    Cost  Temperature  Rain in mm  Night  Day  Evening  Rained  \n",
       "0  40.70         16.7         0.3      0    0        1       1  \n",
       "1  38.74         18.9         0.0      0    1        0       0  \n",
       "2  22.39         31.1         0.0      0    1        0       0  \n",
       "3  14.07         17.8         0.0      0    1        0       0  \n",
       "4  12.89         16.1         0.0      0    1        0       0  "
      ],
      "text/html": [
       "<div>\n",
       "<style scoped>\n",
       "    .dataframe tbody tr th:only-of-type {\n",
       "        vertical-align: middle;\n",
       "    }\n",
       "\n",
       "    .dataframe tbody tr th {\n",
       "        vertical-align: top;\n",
       "    }\n",
       "\n",
       "    .dataframe thead th {\n",
       "        text-align: right;\n",
       "    }\n",
       "</style>\n",
       "<table border=\"1\" class=\"dataframe\">\n",
       "  <thead>\n",
       "    <tr style=\"text-align: right;\">\n",
       "      <th></th>\n",
       "      <th>Trip Seconds</th>\n",
       "      <th>Trip Miles</th>\n",
       "      <th>Tip</th>\n",
       "      <th>Shared Trip Authorized</th>\n",
       "      <th>Shared Trip Match</th>\n",
       "      <th>Cost</th>\n",
       "      <th>Temperature</th>\n",
       "      <th>Rain in mm</th>\n",
       "      <th>Night</th>\n",
       "      <th>Day</th>\n",
       "      <th>Evening</th>\n",
       "      <th>Rained</th>\n",
       "    </tr>\n",
       "  </thead>\n",
       "  <tbody>\n",
       "    <tr>\n",
       "      <th>0</th>\n",
       "      <td>3109.0</td>\n",
       "      <td>23.5</td>\n",
       "      <td>0.0</td>\n",
       "      <td>0</td>\n",
       "      <td>0</td>\n",
       "      <td>40.70</td>\n",
       "      <td>16.7</td>\n",
       "      <td>0.3</td>\n",
       "      <td>0</td>\n",
       "      <td>0</td>\n",
       "      <td>1</td>\n",
       "      <td>1</td>\n",
       "    </tr>\n",
       "    <tr>\n",
       "      <th>1</th>\n",
       "      <td>1640.0</td>\n",
       "      <td>14.7</td>\n",
       "      <td>0.0</td>\n",
       "      <td>0</td>\n",
       "      <td>0</td>\n",
       "      <td>38.74</td>\n",
       "      <td>18.9</td>\n",
       "      <td>0.0</td>\n",
       "      <td>0</td>\n",
       "      <td>1</td>\n",
       "      <td>0</td>\n",
       "      <td>0</td>\n",
       "    </tr>\n",
       "    <tr>\n",
       "      <th>2</th>\n",
       "      <td>772.0</td>\n",
       "      <td>1.9</td>\n",
       "      <td>0.0</td>\n",
       "      <td>0</td>\n",
       "      <td>0</td>\n",
       "      <td>22.39</td>\n",
       "      <td>31.1</td>\n",
       "      <td>0.0</td>\n",
       "      <td>0</td>\n",
       "      <td>1</td>\n",
       "      <td>0</td>\n",
       "      <td>0</td>\n",
       "    </tr>\n",
       "    <tr>\n",
       "      <th>3</th>\n",
       "      <td>452.0</td>\n",
       "      <td>1.1</td>\n",
       "      <td>0.0</td>\n",
       "      <td>0</td>\n",
       "      <td>0</td>\n",
       "      <td>14.07</td>\n",
       "      <td>17.8</td>\n",
       "      <td>0.0</td>\n",
       "      <td>0</td>\n",
       "      <td>1</td>\n",
       "      <td>0</td>\n",
       "      <td>0</td>\n",
       "    </tr>\n",
       "    <tr>\n",
       "      <th>4</th>\n",
       "      <td>819.0</td>\n",
       "      <td>3.9</td>\n",
       "      <td>0.0</td>\n",
       "      <td>0</td>\n",
       "      <td>0</td>\n",
       "      <td>12.89</td>\n",
       "      <td>16.1</td>\n",
       "      <td>0.0</td>\n",
       "      <td>0</td>\n",
       "      <td>1</td>\n",
       "      <td>0</td>\n",
       "      <td>0</td>\n",
       "    </tr>\n",
       "  </tbody>\n",
       "</table>\n",
       "</div>"
      ]
     },
     "execution_count": 27,
     "metadata": {},
     "output_type": "execute_result"
    }
   ],
   "execution_count": 27
  },
  {
   "cell_type": "markdown",
   "id": "9c6c28864e3a57b2",
   "metadata": {},
   "source": [
    "<h4 style=\"text-decoration: underline;\">2.4 Dealing with outliers</h4>\n",
    "Machine Learning algorithms are highly influenced by outliers which lead to bad performance such as overfitting. That's why we have to deal with them. In the next step we want to delete all rows with values which are more than 3 standard deviations away from our mean value  "
   ]
  },
  {
   "cell_type": "code",
   "id": "eaa5794063011b33",
   "metadata": {
    "ExecuteTime": {
     "end_time": "2025-06-19T13:51:41.593190Z",
     "start_time": "2025-06-19T13:51:38.147699Z"
    }
   },
   "source": [
    "#We don't need to deal with outliers on the columns with dummy variables because there can't be outliers if we just have the values 0 or 1\n",
    "data_merged_without_tip = data_merged.drop(columns = [\"Tip\", \"Shared Trip Authorized\", \"Shared Trip Match\", \"Rained\", \"Night\", \"Day\", \"Evening\"])\n",
    "for columns in data_merged_without_tip.columns:\n",
    "    #Calculate mean and standard deviation of the current column\n",
    "    mean = data_merged_without_tip[columns].mean()\n",
    "    std = data_merged_without_tip[columns].std()\n",
    "    \n",
    "    #Calculate upper and lower limit\n",
    "    upperlimit = mean + 3 * std\n",
    "    lowerlimit = mean - 3 * std\n",
    "\n",
    "    #Replace all outliers with null values so we can remove them later\n",
    "    data_merged.loc[(data_merged[columns] > upperlimit) | (data_merged[columns] < lowerlimit), columns] = np.nan\n",
    "\n",
    "#Remove all null values (delete all outliers)    \n",
    "data_without_outliers = data_merged.dropna(axis = 0)\n",
    "print(f\"❌ Deleted {len(data_merged) - len(data_without_outliers)} outliers\")\n",
    "\n",
    "data_without_outliers.head()\n"
   ],
   "outputs": [
    {
     "name": "stdout",
     "output_type": "stream",
     "text": [
      "❌ Deleted 2101674 outliers\n"
     ]
    },
    {
     "data": {
      "text/plain": [
       "   Trip Seconds  Trip Miles  Tip  Shared Trip Authorized  Shared Trip Match  \\\n",
       "0        3109.0        23.5  0.0                       0                  0   \n",
       "1        1640.0        14.7  0.0                       0                  0   \n",
       "2         772.0         1.9  0.0                       0                  0   \n",
       "3         452.0         1.1  0.0                       0                  0   \n",
       "4         819.0         3.9  0.0                       0                  0   \n",
       "\n",
       "    Cost  Temperature  Rain in mm  Night  Day  Evening  Rained  \n",
       "0  40.70         16.7         0.3      0    0        1       1  \n",
       "1  38.74         18.9         0.0      0    1        0       0  \n",
       "2  22.39         31.1         0.0      0    1        0       0  \n",
       "3  14.07         17.8         0.0      0    1        0       0  \n",
       "4  12.89         16.1         0.0      0    1        0       0  "
      ],
      "text/html": [
       "<div>\n",
       "<style scoped>\n",
       "    .dataframe tbody tr th:only-of-type {\n",
       "        vertical-align: middle;\n",
       "    }\n",
       "\n",
       "    .dataframe tbody tr th {\n",
       "        vertical-align: top;\n",
       "    }\n",
       "\n",
       "    .dataframe thead th {\n",
       "        text-align: right;\n",
       "    }\n",
       "</style>\n",
       "<table border=\"1\" class=\"dataframe\">\n",
       "  <thead>\n",
       "    <tr style=\"text-align: right;\">\n",
       "      <th></th>\n",
       "      <th>Trip Seconds</th>\n",
       "      <th>Trip Miles</th>\n",
       "      <th>Tip</th>\n",
       "      <th>Shared Trip Authorized</th>\n",
       "      <th>Shared Trip Match</th>\n",
       "      <th>Cost</th>\n",
       "      <th>Temperature</th>\n",
       "      <th>Rain in mm</th>\n",
       "      <th>Night</th>\n",
       "      <th>Day</th>\n",
       "      <th>Evening</th>\n",
       "      <th>Rained</th>\n",
       "    </tr>\n",
       "  </thead>\n",
       "  <tbody>\n",
       "    <tr>\n",
       "      <th>0</th>\n",
       "      <td>3109.0</td>\n",
       "      <td>23.5</td>\n",
       "      <td>0.0</td>\n",
       "      <td>0</td>\n",
       "      <td>0</td>\n",
       "      <td>40.70</td>\n",
       "      <td>16.7</td>\n",
       "      <td>0.3</td>\n",
       "      <td>0</td>\n",
       "      <td>0</td>\n",
       "      <td>1</td>\n",
       "      <td>1</td>\n",
       "    </tr>\n",
       "    <tr>\n",
       "      <th>1</th>\n",
       "      <td>1640.0</td>\n",
       "      <td>14.7</td>\n",
       "      <td>0.0</td>\n",
       "      <td>0</td>\n",
       "      <td>0</td>\n",
       "      <td>38.74</td>\n",
       "      <td>18.9</td>\n",
       "      <td>0.0</td>\n",
       "      <td>0</td>\n",
       "      <td>1</td>\n",
       "      <td>0</td>\n",
       "      <td>0</td>\n",
       "    </tr>\n",
       "    <tr>\n",
       "      <th>2</th>\n",
       "      <td>772.0</td>\n",
       "      <td>1.9</td>\n",
       "      <td>0.0</td>\n",
       "      <td>0</td>\n",
       "      <td>0</td>\n",
       "      <td>22.39</td>\n",
       "      <td>31.1</td>\n",
       "      <td>0.0</td>\n",
       "      <td>0</td>\n",
       "      <td>1</td>\n",
       "      <td>0</td>\n",
       "      <td>0</td>\n",
       "    </tr>\n",
       "    <tr>\n",
       "      <th>3</th>\n",
       "      <td>452.0</td>\n",
       "      <td>1.1</td>\n",
       "      <td>0.0</td>\n",
       "      <td>0</td>\n",
       "      <td>0</td>\n",
       "      <td>14.07</td>\n",
       "      <td>17.8</td>\n",
       "      <td>0.0</td>\n",
       "      <td>0</td>\n",
       "      <td>1</td>\n",
       "      <td>0</td>\n",
       "      <td>0</td>\n",
       "    </tr>\n",
       "    <tr>\n",
       "      <th>4</th>\n",
       "      <td>819.0</td>\n",
       "      <td>3.9</td>\n",
       "      <td>0.0</td>\n",
       "      <td>0</td>\n",
       "      <td>0</td>\n",
       "      <td>12.89</td>\n",
       "      <td>16.1</td>\n",
       "      <td>0.0</td>\n",
       "      <td>0</td>\n",
       "      <td>1</td>\n",
       "      <td>0</td>\n",
       "      <td>0</td>\n",
       "    </tr>\n",
       "  </tbody>\n",
       "</table>\n",
       "</div>"
      ]
     },
     "execution_count": 28,
     "metadata": {},
     "output_type": "execute_result"
    }
   ],
   "execution_count": 28
  },
  {
   "cell_type": "markdown",
   "id": "21e10fae",
   "metadata": {},
   "source": [
    "<h4 style=\"text-decoration: underline;\">2.5 Saving the data</h4>\n",
    "We will save the preperated data here, so that we can continue working with it, without having to rerun all the code above every time we start."
   ]
  },
  {
   "cell_type": "code",
   "id": "7bf3b4f2",
   "metadata": {
    "ExecuteTime": {
     "end_time": "2025-06-19T13:57:13.375741Z",
     "start_time": "2025-06-19T13:55:44.820489Z"
    }
   },
   "source": [
    "data_without_outliers.to_csv('Data/Chicago_RideHailing_Data_Cleaned.csv', index=False)"
   ],
   "outputs": [],
   "execution_count": 31
  },
  {
   "cell_type": "markdown",
   "id": "a4010aeb95861dbd",
   "metadata": {},
   "source": [
    "<h4 style=\"text-decoration: underline;\">3. Data Modeling</h4>\n",
    "First, we can load the saved data, if we didn't rerun the code above."
   ]
  },
  {
   "cell_type": "code",
   "id": "30556712",
   "metadata": {
    "ExecuteTime": {
     "end_time": "2025-06-19T14:13:07.669627Z",
     "start_time": "2025-06-19T14:12:46.890479Z"
    }
   },
   "source": [
    "data_without_outliers = pd.read_csv('Data/Chicago_RideHailing_Data_Cleaned.csv')\n",
    "#Check if everything worked correctly\n",
    "data_without_outliers.head()"
   ],
   "outputs": [
    {
     "data": {
      "text/plain": [
       "   Trip Seconds  Trip Miles  Tip  Shared Trip Authorized  Shared Trip Match  \\\n",
       "0        3109.0        23.5  0.0                       0                  0   \n",
       "1        1640.0        14.7  0.0                       0                  0   \n",
       "2         772.0         1.9  0.0                       0                  0   \n",
       "3         452.0         1.1  0.0                       0                  0   \n",
       "4         819.0         3.9  0.0                       0                  0   \n",
       "\n",
       "    Cost  Temperature  Rain in mm  Night  Day  Evening  Rained  \n",
       "0  40.70         16.7         0.3      0    0        1       1  \n",
       "1  38.74         18.9         0.0      0    1        0       0  \n",
       "2  22.39         31.1         0.0      0    1        0       0  \n",
       "3  14.07         17.8         0.0      0    1        0       0  \n",
       "4  12.89         16.1         0.0      0    1        0       0  "
      ],
      "text/html": [
       "<div>\n",
       "<style scoped>\n",
       "    .dataframe tbody tr th:only-of-type {\n",
       "        vertical-align: middle;\n",
       "    }\n",
       "\n",
       "    .dataframe tbody tr th {\n",
       "        vertical-align: top;\n",
       "    }\n",
       "\n",
       "    .dataframe thead th {\n",
       "        text-align: right;\n",
       "    }\n",
       "</style>\n",
       "<table border=\"1\" class=\"dataframe\">\n",
       "  <thead>\n",
       "    <tr style=\"text-align: right;\">\n",
       "      <th></th>\n",
       "      <th>Trip Seconds</th>\n",
       "      <th>Trip Miles</th>\n",
       "      <th>Tip</th>\n",
       "      <th>Shared Trip Authorized</th>\n",
       "      <th>Shared Trip Match</th>\n",
       "      <th>Cost</th>\n",
       "      <th>Temperature</th>\n",
       "      <th>Rain in mm</th>\n",
       "      <th>Night</th>\n",
       "      <th>Day</th>\n",
       "      <th>Evening</th>\n",
       "      <th>Rained</th>\n",
       "    </tr>\n",
       "  </thead>\n",
       "  <tbody>\n",
       "    <tr>\n",
       "      <th>0</th>\n",
       "      <td>3109.0</td>\n",
       "      <td>23.5</td>\n",
       "      <td>0.0</td>\n",
       "      <td>0</td>\n",
       "      <td>0</td>\n",
       "      <td>40.70</td>\n",
       "      <td>16.7</td>\n",
       "      <td>0.3</td>\n",
       "      <td>0</td>\n",
       "      <td>0</td>\n",
       "      <td>1</td>\n",
       "      <td>1</td>\n",
       "    </tr>\n",
       "    <tr>\n",
       "      <th>1</th>\n",
       "      <td>1640.0</td>\n",
       "      <td>14.7</td>\n",
       "      <td>0.0</td>\n",
       "      <td>0</td>\n",
       "      <td>0</td>\n",
       "      <td>38.74</td>\n",
       "      <td>18.9</td>\n",
       "      <td>0.0</td>\n",
       "      <td>0</td>\n",
       "      <td>1</td>\n",
       "      <td>0</td>\n",
       "      <td>0</td>\n",
       "    </tr>\n",
       "    <tr>\n",
       "      <th>2</th>\n",
       "      <td>772.0</td>\n",
       "      <td>1.9</td>\n",
       "      <td>0.0</td>\n",
       "      <td>0</td>\n",
       "      <td>0</td>\n",
       "      <td>22.39</td>\n",
       "      <td>31.1</td>\n",
       "      <td>0.0</td>\n",
       "      <td>0</td>\n",
       "      <td>1</td>\n",
       "      <td>0</td>\n",
       "      <td>0</td>\n",
       "    </tr>\n",
       "    <tr>\n",
       "      <th>3</th>\n",
       "      <td>452.0</td>\n",
       "      <td>1.1</td>\n",
       "      <td>0.0</td>\n",
       "      <td>0</td>\n",
       "      <td>0</td>\n",
       "      <td>14.07</td>\n",
       "      <td>17.8</td>\n",
       "      <td>0.0</td>\n",
       "      <td>0</td>\n",
       "      <td>1</td>\n",
       "      <td>0</td>\n",
       "      <td>0</td>\n",
       "    </tr>\n",
       "    <tr>\n",
       "      <th>4</th>\n",
       "      <td>819.0</td>\n",
       "      <td>3.9</td>\n",
       "      <td>0.0</td>\n",
       "      <td>0</td>\n",
       "      <td>0</td>\n",
       "      <td>12.89</td>\n",
       "      <td>16.1</td>\n",
       "      <td>0.0</td>\n",
       "      <td>0</td>\n",
       "      <td>1</td>\n",
       "      <td>0</td>\n",
       "      <td>0</td>\n",
       "    </tr>\n",
       "  </tbody>\n",
       "</table>\n",
       "</div>"
      ]
     },
     "execution_count": 3,
     "metadata": {},
     "output_type": "execute_result"
    }
   ],
   "execution_count": 3
  },
  {
   "cell_type": "markdown",
   "id": "c90765fe319b7467",
   "metadata": {},
   "source": [
    "First of all we need to split our data in train, test and validation data."
   ]
  },
  {
   "cell_type": "code",
   "id": "982ea1825479e2d9",
   "metadata": {
    "ExecuteTime": {
     "end_time": "2025-06-19T14:13:20.771924Z",
     "start_time": "2025-06-19T14:13:10.729365Z"
    }
   },
   "source": [
    "#Define x and y vectors\n",
    "x = data_without_outliers.drop(columns = [\"Tip\"])\n",
    "y = data_without_outliers[\"Tip\"]\n",
    "\n",
    "#Perform train test validation split\n",
    "x_train_data, x_test_data, y_train_data, y_test_data = train_test_split(x, y, test_size = 0.5, random_state = 42)\n",
    "x_val_data, x_test_data, y_val_data, y_test_data = train_test_split(x_test_data, y_test_data, test_size = 0.6, random_state = 42)\n",
    "print(\"Datasplit:\")\n",
    "print(f\"🏋️ Training: {len(x_train_data)} Samples ({len(x_train_data)/len(data_without_outliers)*100:.1f}%)\")\n",
    "print(f\"🔬 Testing: {len(x_test_data)} Samples ({len(x_test_data)/len(data_without_outliers)*100:.1f}%)\")\n",
    "print(f\"✅ Validation: {len(x_val_data)} Samples ({len(x_val_data)/len(data_without_outliers)*100:.1f}%)\")"
   ],
   "outputs": [
    {
     "name": "stdout",
     "output_type": "stream",
     "text": [
      "Datasplit:\n",
      "🏋️ Training: 11422236 Samples (50.0%)\n",
      "🔬 Testing: 6853343 Samples (30.0%)\n",
      "✅ Validation: 4568894 Samples (20.0%)\n"
     ]
    }
   ],
   "execution_count": 4
  },
  {
   "cell_type": "markdown",
   "id": "f0e6f7fdb19fb143",
   "metadata": {},
   "source": [
    "Let's plot the data to get an first overview on our predictors."
   ]
  },
  {
   "cell_type": "code",
   "id": "e774fd7e0d771cb8",
   "metadata": {
    "ExecuteTime": {
     "end_time": "2025-06-19T14:17:31.798206Z",
     "start_time": "2025-06-19T14:13:32.637887Z"
    }
   },
   "source": [
    "#Create Scatterplots for the first 4 predictors\n",
    "fig_1, axes_1 = plt.subplots(nrows = 1, ncols = 4, figsize= (21,6))\n",
    "fig_1.suptitle(\"Scatterplots of all predictors\", fontsize=26)\n",
    "for i, ax in enumerate(axes_1):\n",
    "    ax.scatter(x = x_train_data.iloc[:, i], y = y_train_data, color = f'C{i}')\n",
    "    ax.set_title(x_train_data.columns[i])\n",
    "plt.tight_layout()\n",
    "plt.show()\n",
    "\n",
    "#Create Scatterplots for predictor 5-8\n",
    "fig_2, axes_2 = plt.subplots(nrows = 1, ncols = 4, figsize= (21,6))\n",
    "for i, ax in enumerate(axes_2):\n",
    "    ax.scatter(x = x_train_data.iloc[:, i + 4], y = y_train_data, color = f'C{i + 4}')\n",
    "    ax.set_title(x_train_data.columns[i + 4])\n",
    "plt.tight_layout()\n",
    "plt.show()\n",
    "\n",
    "#Create Scatterplots for predictor 9-11\n",
    "fig_3, axes_3 = plt.subplots(nrows = 1, ncols = 3, figsize= (21,6))\n",
    "for i, ax in enumerate(axes_3):\n",
    "    ax.scatter(x = x_train_data.iloc[:, i + 8], y = y_train_data, color = f'C{i + 8}')\n",
    "    ax.set_title(x_train_data.columns[i + 8])\n",
    "plt.tight_layout()\n",
    "plt.show()"
   ],
   "outputs": [
    {
     "data": {
      "text/plain": [
       "<Figure size 2100x600 with 4 Axes>"
      ],
      "image/png": "[encoded data removed]"
     },
     "metadata": {},
     "output_type": "display_data"
    },
    {
     "data": {
      "text/plain": [
       "<Figure size 2100x600 with 4 Axes>"
      ],
      "image/png": "[encoded data removed]"
     },
     "metadata": {},
     "output_type": "display_data"
    },
    {
     "data": {
      "text/plain": [
       "<Figure size 2100x600 with 3 Axes>"
      ],
      "image/png": "[encoded data removed]"
     },
     "metadata": {},
     "output_type": "display_data"
    }
   ],
   "execution_count": 5
  },
  {
   "cell_type": "markdown",
   "id": "89a560e5dc95786d",
   "metadata": {},
   "source": "After plotting the data we get some interesting information. It looks like there are a lot of linear correlations for example between the costs and the tip which leads us to our first predictive model which should be an simple Linear Regression. But first of all it is noticeable that the predictors are on diffrent scales so we need to normalize them to get meaningful result in our regression later on."
  },
  {
   "cell_type": "code",
   "id": "227744ba4d1020f4",
   "metadata": {
    "ExecuteTime": {
     "end_time": "2025-06-19T14:17:36.073697Z",
     "start_time": "2025-06-19T14:17:32.008759Z"
    }
   },
   "source": [
    "#Select which Data to normalize (no Dummy Variables)\n",
    "columns_to_normalize = [\"Trip Seconds\", \"Trip Miles\", \"Cost\", \"Temperature\", \"Rain in mm\"]\n",
    "\n",
    "\n",
    "x_train_data_scaled = x_train_data.copy()\n",
    "x_val_data_scaled = x_val_data.copy()\n",
    "x_test_data_scaled = x_test_data.copy()\n",
    "\n",
    "\n",
    "#Normalize data\n",
    "scaler = StandardScaler()\n",
    "x_train_data_scaled[columns_to_normalize] = scaler.fit_transform(x_train_data[columns_to_normalize])\n",
    "#Hier nur noch transform verwenden, damit Mittelwert und Standardabweichung nicht neu berechnet werden\n",
    "x_val_data_scaled[columns_to_normalize] = scaler.transform(x_val_data[columns_to_normalize])\n",
    "x_test_data_scaled[columns_to_normalize] = scaler.transform(x_test_data[columns_to_normalize])\n",
    "\n",
    "\n",
    "x_train_data_scaled.head()\n"
   ],
   "outputs": [
    {
     "data": {
      "text/plain": [
       "          Trip Seconds  Trip Miles  Shared Trip Authorized  Shared Trip Match  \\\n",
       "15875614     -0.431790   -0.751874                       0                  0   \n",
       "9035578      -0.978755   -0.853494                       0                  0   \n",
       "19475975      0.121765   -0.589283                       0                  0   \n",
       "12349447     -0.436732   -0.243777                       0                  0   \n",
       "10206167      2.798927    2.418653                       0                  0   \n",
       "\n",
       "              Cost  Temperature  Rain in mm  Night  Day  Evening  Rained  \n",
       "15875614 -0.566920    -0.790412     -0.2975      0    1        0       0  \n",
       "9035578  -0.867470     1.249400     -0.2975      1    0        0       0  \n",
       "19475975 -0.443392    -1.051319     -0.2975      0    1        0       0  \n",
       "12349447 -0.219681    -0.790412     -0.2975      1    0        0       0  \n",
       "10206167  2.744001     0.193916     -0.2975      0    1        0       0  "
      ],
      "text/html": [
       "<div>\n",
       "<style scoped>\n",
       "    .dataframe tbody tr th:only-of-type {\n",
       "        vertical-align: middle;\n",
       "    }\n",
       "\n",
       "    .dataframe tbody tr th {\n",
       "        vertical-align: top;\n",
       "    }\n",
       "\n",
       "    .dataframe thead th {\n",
       "        text-align: right;\n",
       "    }\n",
       "</style>\n",
       "<table border=\"1\" class=\"dataframe\">\n",
       "  <thead>\n",
       "    <tr style=\"text-align: right;\">\n",
       "      <th></th>\n",
       "      <th>Trip Seconds</th>\n",
       "      <th>Trip Miles</th>\n",
       "      <th>Shared Trip Authorized</th>\n",
       "      <th>Shared Trip Match</th>\n",
       "      <th>Cost</th>\n",
       "      <th>Temperature</th>\n",
       "      <th>Rain in mm</th>\n",
       "      <th>Night</th>\n",
       "      <th>Day</th>\n",
       "      <th>Evening</th>\n",
       "      <th>Rained</th>\n",
       "    </tr>\n",
       "  </thead>\n",
       "  <tbody>\n",
       "    <tr>\n",
       "      <th>15875614</th>\n",
       "      <td>-0.431790</td>\n",
       "      <td>-0.751874</td>\n",
       "      <td>0</td>\n",
       "      <td>0</td>\n",
       "      <td>-0.566920</td>\n",
       "      <td>-0.790412</td>\n",
       "      <td>-0.2975</td>\n",
       "      <td>0</td>\n",
       "      <td>1</td>\n",
       "      <td>0</td>\n",
       "      <td>0</td>\n",
       "    </tr>\n",
       "    <tr>\n",
       "      <th>9035578</th>\n",
       "      <td>-0.978755</td>\n",
       "      <td>-0.853494</td>\n",
       "      <td>0</td>\n",
       "      <td>0</td>\n",
       "      <td>-0.867470</td>\n",
       "      <td>1.249400</td>\n",
       "      <td>-0.2975</td>\n",
       "      <td>1</td>\n",
       "      <td>0</td>\n",
       "      <td>0</td>\n",
       "      <td>0</td>\n",
       "    </tr>\n",
       "    <tr>\n",
       "      <th>19475975</th>\n",
       "      <td>0.121765</td>\n",
       "      <td>-0.589283</td>\n",
       "      <td>0</td>\n",
       "      <td>0</td>\n",
       "      <td>-0.443392</td>\n",
       "      <td>-1.051319</td>\n",
       "      <td>-0.2975</td>\n",
       "      <td>0</td>\n",
       "      <td>1</td>\n",
       "      <td>0</td>\n",
       "      <td>0</td>\n",
       "    </tr>\n",
       "    <tr>\n",
       "      <th>12349447</th>\n",
       "      <td>-0.436732</td>\n",
       "      <td>-0.243777</td>\n",
       "      <td>0</td>\n",
       "      <td>0</td>\n",
       "      <td>-0.219681</td>\n",
       "      <td>-0.790412</td>\n",
       "      <td>-0.2975</td>\n",
       "      <td>1</td>\n",
       "      <td>0</td>\n",
       "      <td>0</td>\n",
       "      <td>0</td>\n",
       "    </tr>\n",
       "    <tr>\n",
       "      <th>10206167</th>\n",
       "      <td>2.798927</td>\n",
       "      <td>2.418653</td>\n",
       "      <td>0</td>\n",
       "      <td>0</td>\n",
       "      <td>2.744001</td>\n",
       "      <td>0.193916</td>\n",
       "      <td>-0.2975</td>\n",
       "      <td>0</td>\n",
       "      <td>1</td>\n",
       "      <td>0</td>\n",
       "      <td>0</td>\n",
       "    </tr>\n",
       "  </tbody>\n",
       "</table>\n",
       "</div>"
      ]
     },
     "execution_count": 6,
     "metadata": {},
     "output_type": "execute_result"
    }
   ],
   "execution_count": 6
  },
  {
   "metadata": {},
   "cell_type": "markdown",
   "source": [
    "<h4 style=\"text-decoration: underline;\">3.x Linear Regression</h4>\n",
    "After all this data preperation we can finally start with our predictive models. At first we want to start with a simple Linear Regression because we recognized a lot of linear correlations between our predictors and the tip as described in the descriptive tasks above. So we define our input vector as the following:\n",
    "\\begin{equation}\n",
    "x^{(i)} = \\left [ \\begin{array}{c} 1 \\\\\\mathrm{Trip Seconds} ^{(i)} \\\\ \\mathrm{Trip Miles} ^{(i)} \\\\\n",
    "\\mathrm{Shared Trip Authorized} ^{(i)}\\\\ \\mathrm{Shared Trip Match} ^{(i)}\\\\ \\mathrm{Cost} ^{(i)}\\\\ \\mathrm{Temperature} ^{(i)}\\\\ \\mathrm{Rain In MM} ^{(i)}\\\\ \\mathrm{Night} ^{(i)}\\\\ \\mathrm{Day}^{(i)} \\\\ \\mathrm{Evening} ^{(i)}\\\\ \\mathrm{Rained} ^{(i)}\\end{array} \\right ]\n",
    "\\end{equation}\n",
    "With this our hypothesis function $Tip_\\beta(x) = \\beta^Tx$ is defined by the following equation\n",
    "\\begin{equation}\n",
    "Tip_\\beta(x) = \\beta_0  + \\beta_1 * \\mathrm{Trip Seconds} ^{(i)} + \\beta_2 * \\mathrm{Trip Miles} ^{(i)}+ \\beta_3 * \\mathrm{Shared Trip Authorized} ^{(i)}+ \\beta_4 * \\mathrm{Shared Trip Match} ^{(i)}+ \\beta_5 * \\mathrm{Cost} ^{(i)}+ \\beta_6 * \\mathrm{Temperature} ^{(i)}+ \\beta_7 * \\mathrm{Rain In MM} ^{(i)} + \\beta_8 * \\mathrm{Night} ^{(i)}+ \\beta_9 * \\mathrm{Day} ^{(i)}+ + \\beta_{10} * \\mathrm{Evening} ^{(i)}+ \\beta_{11} * \\mathrm{Rained} ^{(i)}\n",
    "\\end{equation}  \n",
    "In the next step, we need to find the best fitting values for our predictors \\( \\beta_0, \\beta_1, \\dots, \\beta_{11} \\) using gradient descent algorithm. For this we make use of python libary sklearn."
   ],
   "id": "57561c95cf5674ce"
  },
  {
   "metadata": {
    "ExecuteTime": {
     "end_time": "2025-06-19T14:17:39.946095Z",
     "start_time": "2025-06-19T14:17:36.208987Z"
    }
   },
   "cell_type": "code",
   "source": [
    "linear_model = LinearRegression()\n",
    "linear_model.fit(x_train_data_scaled, y_train_data)\n",
    "print(np.round(linear_model.coef_, 2))\n"
   ],
   "id": "6b5dd395beb532cd",
   "outputs": [
    {
     "name": "stdout",
     "output_type": "stream",
     "text": [
      "[-1.60000000e-01 -1.60000000e-01 -3.40000000e-01  6.00000000e-02\n",
      "  9.90000000e-01  2.00000000e-02  1.00000000e-02  9.94716485e+10\n",
      "  9.94716485e+10  9.94716485e+10 -5.00000000e-02]\n"
     ]
    }
   ],
   "execution_count": 7
  },
  {
   "metadata": {
    "ExecuteTime": {
     "end_time": "2025-06-19T14:17:40.569164Z",
     "start_time": "2025-06-19T14:17:40.005167Z"
    }
   },
   "cell_type": "code",
   "source": [
    "#Calculate the mean error of our prediction model\n",
    "model_predictions = linear_model.predict(x_test_data_scaled)\n",
    "print(\"Mean absolute error of the linear regression:\", mean_absolute_error(y_test_data, model_predictions), \"R2:\", r2_score(y_test_data, model_predictions))"
   ],
   "id": "dfbf39115de80ad8",
   "outputs": [
    {
     "name": "stdout",
     "output_type": "stream",
     "text": [
      "Mean absolute error of the linear regression: 1.4422708281074192 R2: 0.12486937500957895\n"
     ]
    }
   ],
   "execution_count": 8
  },
  {
   "metadata": {},
   "cell_type": "markdown",
   "source": "As we can see we have a low R^2 value from around 0.1249 which means that our predictions with the linear model are pretty bad.",
   "id": "c193aabe8c5ae132"
  },
  {
   "metadata": {},
   "cell_type": "markdown",
   "source": "",
   "id": "9ddd8b09cdfe8c8c"
  }
 ],
 "metadata": {
  "kernelspec": {
   "display_name": "Python [conda env:base] *",
   "language": "python",
   "name": "conda-base-py"
  },
  "language_info": {
   "codemirror_mode": {
    "name": "ipython",
    "version": 3
   },
   "file_extension": ".py",
   "mimetype": "text/x-python",
   "name": "python",
   "nbconvert_exporter": "python",
   "pygments_lexer": "ipython3",
   "version": "3.13.5"
  }
 },
 "nbformat": 4,
 "nbformat_minor": 5
}

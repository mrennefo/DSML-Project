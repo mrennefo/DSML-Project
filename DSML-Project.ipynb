{
 "cells": [
  {
   "attachments": {},
   "cell_type": "markdown",
   "id": "85dcb6d7-eabc-4f84-9b91-71c1fa1328f9",
   "metadata": {},
   "source": [
    "<div style=\"text-align: center\"><h1 style=\"text-decoration: underline;\">DSML Project</h1></div>\n",
    "\n"
   ]
  },
  {
   "cell_type": "markdown",
   "id": "f5e1d2bffc61bc85",
   "metadata": {},
   "source": [
    "This is the official Notebook of the DSML Project from Marc Rennefort, Kilian Lipinsky, Timo Hagelberg, Jan Behrendt-Emden and Paul Severin. In order to create this Project we used the following dataset: https://data.cityofchicago.org/Transportation/Transportation-Network-Providers-Trips-2023-2024-/n26f-ihde/about_data"
   ]
  },
  {
   "cell_type": "code",
   "id": "1c90e750-76f6-4524-9e00-23d389391975",
   "metadata": {
    "ExecuteTime": {
     "end_time": "2025-07-04T14:50:54.105821Z",
     "start_time": "2025-07-04T14:50:54.059905Z"
    }
   },
   "source": [
    "#Note all your imports here\n",
    "\n",
    "import pandas as pd\n",
    "import numpy as np\n",
    "import matplotlib as mpl\n",
    "import matplotlib.pyplot as plt\n",
    "from holoviews.plotting.plotly import ScatterPlot\n",
    "from numpy.ma.core import inner\n",
    "from pandas.core.common import random_state\n",
    "from sklearn.metrics import mean_absolute_error, r2_score\n",
    "from sklearn.preprocessing import StandardScaler\n",
    "%matplotlib inline\n",
    "from sklearn.tree import DecisionTreeClassifier\n",
    "import seaborn as sns\n",
    "from sklearn.linear_model import LinearRegression\n",
    "from datetime import datetime\n",
    "from sklearn.model_selection import train_test_split\n",
    "from meteostat import Hourly, Point\n",
    "from sklearn.metrics.pairwise import euclidean_distances"
   ],
   "outputs": [],
   "execution_count": 68
  },
  {
   "cell_type": "markdown",
   "id": "7ad31350-3590-4527-b773-f4bd3984bfa9",
   "metadata": {},
   "source": [
    "\n",
    "<h4 style=\"text-decoration: underline;\">1. Buisness Understanding</h4>\n",
    "The given dataset contains all trips in 2023-2024 to the city of chicago reportet by rideshare companies such as Uber. With this data we want to train a model that helps use to predict the tip in ride hailing trips as accurate as possible. This could be interesting for Uber drivers to plan theire rides on routes and days which give the most tip. In addition it could also help Uber as a company to make appropriate sales forecasts. For our prediction we want to include the following features: travel time, distance, fare amount, weather conditions, and whether the customer shared the ride. At this point it should be said that the tip values are not exact because they are rounded to the nearest $1.00.\n"
   ]
  },
  {
   "cell_type": "markdown",
   "id": "eb96b7050d8dc921",
   "metadata": {},
   "source": [
    "<h4 style=\"text-decoration: underline;\">2. Data Understanding and Data Prepertion</h4>"
   ]
  },
  {
   "cell_type": "markdown",
   "id": "90df07db112fe767",
   "metadata": {},
   "source": [
    "<h4 style=\"text-decoration: underline;\">2.1 Some Basic Data Preperation</h4>\n",
    "In the first step we want to do some basic data preperartion and data understanding which means that we load our data set with the columns we need, we drop all rows with null values and changing our timestamps to datetime format."
   ]
  },
  {
   "cell_type": "code",
   "id": "76201386-ac55-4da8-ab2b-7d5fe6a50618",
   "metadata": {
    "ExecuteTime": {
     "end_time": "2025-07-04T13:26:08.304632Z",
     "start_time": "2025-07-04T13:25:14.504897Z"
    }
   },
   "source": [
    "#Loading our dataset with the columns we need\n",
    "data_cleaned = pd.read_csv('Data/Chicago_RideHailing_Data.csv', usecols= ['Trip End Timestamp', 'Trip Seconds', 'Trip Miles', 'Tip', 'Trip Total','Dropoff Centroid Latitude', 'Dropoff Centroid Longitude', 'Shared Trip Authorized', 'Shared Trip Match'])\n",
    "\n",
    "#We can't use the Total including Tip, so we will calculate the cost (Far + other Charges) as Total - Tip\n",
    "data_cleaned['Cost'] = data_cleaned['Trip Total'] - data_cleaned['Tip']\n",
    "data_cleaned = data_cleaned.drop(columns=['Trip Total'])"
   ],
   "outputs": [
    {
     "name": "stderr",
     "output_type": "stream",
     "text": [
      "DtypeWarning: Columns (15,16) have mixed types. Specify dtype option on import or set low_memory=False.\n"
     ]
    }
   ],
   "execution_count": 5
  },
  {
   "cell_type": "code",
   "id": "28185221ab2587ee",
   "metadata": {
    "ExecuteTime": {
     "end_time": "2025-07-04T13:26:11.161264Z",
     "start_time": "2025-07-04T13:26:08.321160Z"
    }
   },
   "source": [
    "#Get some basic understanding of our data\n",
    "print('Null Values: ', data_cleaned.isnull().sum())\n",
    "data_cleaned.info()\n",
    "data_cleaned.head()"
   ],
   "outputs": [
    {
     "name": "stdout",
     "output_type": "stream",
     "text": [
      "Null Values:  Trip End Timestamp                  0\n",
      "Trip Seconds                     1638\n",
      "Trip Miles                          1\n",
      "Tip                             68110\n",
      "Shared Trip Authorized              1\n",
      "Shared Trip Match                   1\n",
      "Dropoff Centroid Latitude     2416867\n",
      "Dropoff Centroid Longitude    2416867\n",
      "Cost                            68110\n",
      "dtype: int64\n",
      "<class 'pandas.core.frame.DataFrame'>\n",
      "RangeIndex: 27423899 entries, 0 to 27423898\n",
      "Data columns (total 9 columns):\n",
      " #   Column                      Dtype  \n",
      "---  ------                      -----  \n",
      " 0   Trip End Timestamp          object \n",
      " 1   Trip Seconds                float64\n",
      " 2   Trip Miles                  float64\n",
      " 3   Tip                         float64\n",
      " 4   Shared Trip Authorized      object \n",
      " 5   Shared Trip Match           object \n",
      " 6   Dropoff Centroid Latitude   float64\n",
      " 7   Dropoff Centroid Longitude  float64\n",
      " 8   Cost                        float64\n",
      "dtypes: float64(6), object(3)\n",
      "memory usage: 1.8+ GB\n"
     ]
    },
    {
     "data": {
      "text/plain": [
       "       Trip End Timestamp  Trip Seconds  Trip Miles  Tip  \\\n",
       "0  09/19/2023 07:15:00 PM        3109.0        23.5  0.0   \n",
       "1  09/28/2023 12:45:00 PM        1640.0        14.7  0.0   \n",
       "2  09/03/2023 05:30:00 PM         772.0         1.9  0.0   \n",
       "3  09/13/2023 03:30:00 PM         452.0         1.1  0.0   \n",
       "4  09/16/2023 01:00:00 PM         819.0         3.9  0.0   \n",
       "\n",
       "  Shared Trip Authorized Shared Trip Match  Dropoff Centroid Latitude  \\\n",
       "0                  False             False                  41.893216   \n",
       "1                  False             False                  41.979071   \n",
       "2                  False             False                  41.879255   \n",
       "3                  False             False                  41.892042   \n",
       "4                  False             False                  41.792592   \n",
       "\n",
       "   Dropoff Centroid Longitude   Cost  \n",
       "0                  -87.637844  40.70  \n",
       "1                  -87.903040  38.74  \n",
       "2                  -87.642649  22.39  \n",
       "3                  -87.631864  14.07  \n",
       "4                  -87.769615  12.89  "
      ],
      "text/html": [
       "<div>\n",
       "<style scoped>\n",
       "    .dataframe tbody tr th:only-of-type {\n",
       "        vertical-align: middle;\n",
       "    }\n",
       "\n",
       "    .dataframe tbody tr th {\n",
       "        vertical-align: top;\n",
       "    }\n",
       "\n",
       "    .dataframe thead th {\n",
       "        text-align: right;\n",
       "    }\n",
       "</style>\n",
       "<table border=\"1\" class=\"dataframe\">\n",
       "  <thead>\n",
       "    <tr style=\"text-align: right;\">\n",
       "      <th></th>\n",
       "      <th>Trip End Timestamp</th>\n",
       "      <th>Trip Seconds</th>\n",
       "      <th>Trip Miles</th>\n",
       "      <th>Tip</th>\n",
       "      <th>Shared Trip Authorized</th>\n",
       "      <th>Shared Trip Match</th>\n",
       "      <th>Dropoff Centroid Latitude</th>\n",
       "      <th>Dropoff Centroid Longitude</th>\n",
       "      <th>Cost</th>\n",
       "    </tr>\n",
       "  </thead>\n",
       "  <tbody>\n",
       "    <tr>\n",
       "      <th>0</th>\n",
       "      <td>09/19/2023 07:15:00 PM</td>\n",
       "      <td>3109.0</td>\n",
       "      <td>23.5</td>\n",
       "      <td>0.0</td>\n",
       "      <td>False</td>\n",
       "      <td>False</td>\n",
       "      <td>41.893216</td>\n",
       "      <td>-87.637844</td>\n",
       "      <td>40.70</td>\n",
       "    </tr>\n",
       "    <tr>\n",
       "      <th>1</th>\n",
       "      <td>09/28/2023 12:45:00 PM</td>\n",
       "      <td>1640.0</td>\n",
       "      <td>14.7</td>\n",
       "      <td>0.0</td>\n",
       "      <td>False</td>\n",
       "      <td>False</td>\n",
       "      <td>41.979071</td>\n",
       "      <td>-87.903040</td>\n",
       "      <td>38.74</td>\n",
       "    </tr>\n",
       "    <tr>\n",
       "      <th>2</th>\n",
       "      <td>09/03/2023 05:30:00 PM</td>\n",
       "      <td>772.0</td>\n",
       "      <td>1.9</td>\n",
       "      <td>0.0</td>\n",
       "      <td>False</td>\n",
       "      <td>False</td>\n",
       "      <td>41.879255</td>\n",
       "      <td>-87.642649</td>\n",
       "      <td>22.39</td>\n",
       "    </tr>\n",
       "    <tr>\n",
       "      <th>3</th>\n",
       "      <td>09/13/2023 03:30:00 PM</td>\n",
       "      <td>452.0</td>\n",
       "      <td>1.1</td>\n",
       "      <td>0.0</td>\n",
       "      <td>False</td>\n",
       "      <td>False</td>\n",
       "      <td>41.892042</td>\n",
       "      <td>-87.631864</td>\n",
       "      <td>14.07</td>\n",
       "    </tr>\n",
       "    <tr>\n",
       "      <th>4</th>\n",
       "      <td>09/16/2023 01:00:00 PM</td>\n",
       "      <td>819.0</td>\n",
       "      <td>3.9</td>\n",
       "      <td>0.0</td>\n",
       "      <td>False</td>\n",
       "      <td>False</td>\n",
       "      <td>41.792592</td>\n",
       "      <td>-87.769615</td>\n",
       "      <td>12.89</td>\n",
       "    </tr>\n",
       "  </tbody>\n",
       "</table>\n",
       "</div>"
      ]
     },
     "execution_count": 6,
     "metadata": {},
     "output_type": "execute_result"
    }
   ],
   "execution_count": 6
  },
  {
   "cell_type": "code",
   "id": "b921cc3b-a9de-4994-83c6-e64c9cb4fb1f",
   "metadata": {
    "ExecuteTime": {
     "end_time": "2025-07-04T13:26:15.353595Z",
     "start_time": "2025-07-04T13:26:11.338849Z"
    }
   },
   "source": [
    "#Drop all rows with null values\n",
    "data_cleaned = data_cleaned.dropna(axis = 0)"
   ],
   "outputs": [],
   "execution_count": 7
  },
  {
   "cell_type": "code",
   "id": "82ba2335",
   "metadata": {
    "ExecuteTime": {
     "end_time": "2025-07-04T13:27:35.279507Z",
     "start_time": "2025-07-04T13:26:15.400091Z"
    }
   },
   "source": [
    "#Changing our timestamp to datetime format\n",
    "data_cleaned['Trip End Timestamp'] = pd.to_datetime(data_cleaned['Trip End Timestamp'],  format='%m/%d/%Y %I:%M:%S %p', errors='coerce')"
   ],
   "outputs": [],
   "execution_count": 8
  },
  {
   "cell_type": "code",
   "id": "9270bcde-2698-40e4-9adf-315eb1f52d16",
   "metadata": {
    "ExecuteTime": {
     "end_time": "2025-07-04T13:27:37.062581Z",
     "start_time": "2025-07-04T13:27:35.287965Z"
    }
   },
   "source": [
    "#Check if everything worked correctly\n",
    "print('Null-Werte: ', data_cleaned.isnull().sum())\n",
    "data_cleaned.info()"
   ],
   "outputs": [
    {
     "name": "stdout",
     "output_type": "stream",
     "text": [
      "Null-Werte:  Trip End Timestamp            0\n",
      "Trip Seconds                  0\n",
      "Trip Miles                    0\n",
      "Tip                           0\n",
      "Shared Trip Authorized        0\n",
      "Shared Trip Match             0\n",
      "Dropoff Centroid Latitude     0\n",
      "Dropoff Centroid Longitude    0\n",
      "Cost                          0\n",
      "dtype: int64\n",
      "<class 'pandas.core.frame.DataFrame'>\n",
      "Index: 24946147 entries, 0 to 27423897\n",
      "Data columns (total 9 columns):\n",
      " #   Column                      Dtype         \n",
      "---  ------                      -----         \n",
      " 0   Trip End Timestamp          datetime64[ns]\n",
      " 1   Trip Seconds                float64       \n",
      " 2   Trip Miles                  float64       \n",
      " 3   Tip                         float64       \n",
      " 4   Shared Trip Authorized      object        \n",
      " 5   Shared Trip Match           object        \n",
      " 6   Dropoff Centroid Latitude   float64       \n",
      " 7   Dropoff Centroid Longitude  float64       \n",
      " 8   Cost                        float64       \n",
      "dtypes: datetime64[ns](1), float64(6), object(2)\n",
      "memory usage: 1.9+ GB\n"
     ]
    }
   ],
   "execution_count": 9
  },
  {
   "cell_type": "markdown",
   "id": "8684bb9bbe0d210",
   "metadata": {},
   "source": [
    "<h4 style=\"text-decoration: underline;\">2.2 Including weather data</h4>\n",
    "In order to add the weather data we need to group our data because otherwise we will get runtime issues if we do API calls for barely 25 Million rows. This should be fine for our prediction purposes because there won't be huge differences in temperature or rain if we round by the second decimal place"
   ]
  },
  {
   "cell_type": "code",
   "id": "c4f3c83a49f3c622",
   "metadata": {
    "ExecuteTime": {
     "end_time": "2025-07-04T13:27:38.794591Z",
     "start_time": "2025-07-04T13:27:37.084720Z"
    }
   },
   "source": [
    "#Round the Latitude and Longitude by the second decimal place and insert it in a new column\n",
    "data_cleaned[\"Latitude rounded\"] =  data_cleaned[\"Dropoff Centroid Latitude\"].round(2)\n",
    "data_cleaned[\"Longitude rounded\"] = data_cleaned[\"Dropoff Centroid Longitude\"].round(2)\n",
    "\n",
    "#Group the data by Latitude and Longitude\n",
    "data_grouped = data_cleaned.groupby([\"Latitude rounded\", \"Longitude rounded\"])[\"Trip End Timestamp\"].agg([\"min\", \"max\"]).reset_index()\n",
    "data_grouped.head()"
   ],
   "outputs": [
    {
     "data": {
      "text/plain": [
       "   Latitude rounded  Longitude rounded                 min                 max\n",
       "0             41.65             -87.60 2023-08-31 01:00:00 2024-04-28 23:30:00\n",
       "1             41.65             -87.56 2023-08-31 12:45:00 2024-03-29 07:45:00\n",
       "2             41.66             -87.65 2023-08-31 08:30:00 2024-03-30 21:30:00\n",
       "3             41.66             -87.64 2023-08-31 02:00:00 2024-04-28 13:15:00\n",
       "4             41.66             -87.60 2023-08-31 00:00:00 2024-04-26 08:30:00"
      ],
      "text/html": [
       "<div>\n",
       "<style scoped>\n",
       "    .dataframe tbody tr th:only-of-type {\n",
       "        vertical-align: middle;\n",
       "    }\n",
       "\n",
       "    .dataframe tbody tr th {\n",
       "        vertical-align: top;\n",
       "    }\n",
       "\n",
       "    .dataframe thead th {\n",
       "        text-align: right;\n",
       "    }\n",
       "</style>\n",
       "<table border=\"1\" class=\"dataframe\">\n",
       "  <thead>\n",
       "    <tr style=\"text-align: right;\">\n",
       "      <th></th>\n",
       "      <th>Latitude rounded</th>\n",
       "      <th>Longitude rounded</th>\n",
       "      <th>min</th>\n",
       "      <th>max</th>\n",
       "    </tr>\n",
       "  </thead>\n",
       "  <tbody>\n",
       "    <tr>\n",
       "      <th>0</th>\n",
       "      <td>41.65</td>\n",
       "      <td>-87.60</td>\n",
       "      <td>2023-08-31 01:00:00</td>\n",
       "      <td>2024-04-28 23:30:00</td>\n",
       "    </tr>\n",
       "    <tr>\n",
       "      <th>1</th>\n",
       "      <td>41.65</td>\n",
       "      <td>-87.56</td>\n",
       "      <td>2023-08-31 12:45:00</td>\n",
       "      <td>2024-03-29 07:45:00</td>\n",
       "    </tr>\n",
       "    <tr>\n",
       "      <th>2</th>\n",
       "      <td>41.66</td>\n",
       "      <td>-87.65</td>\n",
       "      <td>2023-08-31 08:30:00</td>\n",
       "      <td>2024-03-30 21:30:00</td>\n",
       "    </tr>\n",
       "    <tr>\n",
       "      <th>3</th>\n",
       "      <td>41.66</td>\n",
       "      <td>-87.64</td>\n",
       "      <td>2023-08-31 02:00:00</td>\n",
       "      <td>2024-04-28 13:15:00</td>\n",
       "    </tr>\n",
       "    <tr>\n",
       "      <th>4</th>\n",
       "      <td>41.66</td>\n",
       "      <td>-87.60</td>\n",
       "      <td>2023-08-31 00:00:00</td>\n",
       "      <td>2024-04-26 08:30:00</td>\n",
       "    </tr>\n",
       "  </tbody>\n",
       "</table>\n",
       "</div>"
      ]
     },
     "execution_count": 10,
     "metadata": {},
     "output_type": "execute_result"
    }
   ],
   "execution_count": 10
  },
  {
   "cell_type": "code",
   "id": "e378e75201ad951f",
   "metadata": {
    "ExecuteTime": {
     "end_time": "2025-07-04T13:29:40.584564Z",
     "start_time": "2025-07-04T13:27:38.849746Z"
    }
   },
   "source": [
    "weather_list = []\n",
    "for i in range(len(data_grouped)):\n",
    "    #Initalise variables\n",
    "    latitude = data_grouped[\"Latitude rounded\"].iloc[i]\n",
    "    longitude = data_grouped[\"Longitude rounded\"].iloc[i]\n",
    "    location = Point(latitude, longitude)\n",
    "    timestamp_min = data_grouped[\"min\"].iloc[i]\n",
    "    timestamp_max = data_grouped[\"max\"].iloc[i]\n",
    "    \n",
    "    #Round min and max column to the next hour in order to extract the weather data correctly\n",
    "    timestamp_min_rounded = timestamp_min.replace(minute = 0, second = 0) \n",
    "    timestamp_max_rounded = timestamp_max.replace(minute = 0, second = 0)\n",
    "    \n",
    "    #Extract the weather data per location\n",
    "    weather = Hourly(location, timestamp_min_rounded, timestamp_max_rounded).fetch()\n",
    "\n",
    "    #Merge the extracted weather data with the fitting timestamps and locations\n",
    "    for j in range(len(weather)):\n",
    "       weather_list.append({\"Timestamp\": weather.index[j], \"Latitude rounded\": latitude, \"Longitude rounded\": longitude, \"Temperature\": weather[\"temp\"].iloc[j], \"Rain in mm\": weather[\"prcp\"].iloc[j]})\n",
    "\n",
    "#Covert the list to a DataFrame\n",
    "weather_data = pd.DataFrame(weather_list)\n",
    "weather_data.head()"
   ],
   "outputs": [
    {
     "name": "stderr",
     "output_type": "stream",
     "text": [
      "Warning: Cannot load hourly/2023/KCGX0.csv.gz from https://data.meteostat.net/\n",
      "FutureWarning: <class 'pandas.core.arrays.string_.StringArray'>._reduce will require a `keepdims` parameter in the future\n",
      "Warning: Cannot load hourly/2024/KCGX0.csv.gz from https://data.meteostat.net/\n",
      "FutureWarning: <class 'pandas.core.arrays.string_.StringArray'>._reduce will require a `keepdims` parameter in the future\n"
     ]
    },
    {
     "data": {
      "text/plain": [
       "            Timestamp  Latitude rounded  Longitude rounded  Temperature  \\\n",
       "0 2023-08-31 01:00:00             41.65              -87.6         16.1   \n",
       "1 2023-08-31 02:00:00             41.65              -87.6         15.8   \n",
       "2 2023-08-31 03:00:00             41.65              -87.6         15.6   \n",
       "3 2023-08-31 04:00:00             41.65              -87.6         15.2   \n",
       "4 2023-08-31 05:00:00             41.65              -87.6         14.5   \n",
       "\n",
       "  Rain in mm  \n",
       "0        0.0  \n",
       "1        0.0  \n",
       "2        0.0  \n",
       "3        0.0  \n",
       "4        0.0  "
      ],
      "text/html": [
       "<div>\n",
       "<style scoped>\n",
       "    .dataframe tbody tr th:only-of-type {\n",
       "        vertical-align: middle;\n",
       "    }\n",
       "\n",
       "    .dataframe tbody tr th {\n",
       "        vertical-align: top;\n",
       "    }\n",
       "\n",
       "    .dataframe thead th {\n",
       "        text-align: right;\n",
       "    }\n",
       "</style>\n",
       "<table border=\"1\" class=\"dataframe\">\n",
       "  <thead>\n",
       "    <tr style=\"text-align: right;\">\n",
       "      <th></th>\n",
       "      <th>Timestamp</th>\n",
       "      <th>Latitude rounded</th>\n",
       "      <th>Longitude rounded</th>\n",
       "      <th>Temperature</th>\n",
       "      <th>Rain in mm</th>\n",
       "    </tr>\n",
       "  </thead>\n",
       "  <tbody>\n",
       "    <tr>\n",
       "      <th>0</th>\n",
       "      <td>2023-08-31 01:00:00</td>\n",
       "      <td>41.65</td>\n",
       "      <td>-87.6</td>\n",
       "      <td>16.1</td>\n",
       "      <td>0.0</td>\n",
       "    </tr>\n",
       "    <tr>\n",
       "      <th>1</th>\n",
       "      <td>2023-08-31 02:00:00</td>\n",
       "      <td>41.65</td>\n",
       "      <td>-87.6</td>\n",
       "      <td>15.8</td>\n",
       "      <td>0.0</td>\n",
       "    </tr>\n",
       "    <tr>\n",
       "      <th>2</th>\n",
       "      <td>2023-08-31 03:00:00</td>\n",
       "      <td>41.65</td>\n",
       "      <td>-87.6</td>\n",
       "      <td>15.6</td>\n",
       "      <td>0.0</td>\n",
       "    </tr>\n",
       "    <tr>\n",
       "      <th>3</th>\n",
       "      <td>2023-08-31 04:00:00</td>\n",
       "      <td>41.65</td>\n",
       "      <td>-87.6</td>\n",
       "      <td>15.2</td>\n",
       "      <td>0.0</td>\n",
       "    </tr>\n",
       "    <tr>\n",
       "      <th>4</th>\n",
       "      <td>2023-08-31 05:00:00</td>\n",
       "      <td>41.65</td>\n",
       "      <td>-87.6</td>\n",
       "      <td>14.5</td>\n",
       "      <td>0.0</td>\n",
       "    </tr>\n",
       "  </tbody>\n",
       "</table>\n",
       "</div>"
      ]
     },
     "execution_count": 11,
     "metadata": {},
     "output_type": "execute_result"
    }
   ],
   "execution_count": 11
  },
  {
   "cell_type": "code",
   "id": "95f673f12697bfe6",
   "metadata": {
    "ExecuteTime": {
     "end_time": "2025-07-04T13:29:41.700664Z",
     "start_time": "2025-07-04T13:29:40.687756Z"
    }
   },
   "source": [
    "#Now we prepare the merge of the weather data and the other data. For this we need to round our timestamps by the next hour because our weather data is given hourly\n",
    "data_cleaned[\"Trip End Timestamp Rounded\"] = data_cleaned[\"Trip End Timestamp\"].dt.floor(\"h\")\n"
   ],
   "outputs": [],
   "execution_count": 12
  },
  {
   "cell_type": "code",
   "id": "a84dfd98eb4e51ff",
   "metadata": {
    "ExecuteTime": {
     "end_time": "2025-07-04T13:29:56.907116Z",
     "start_time": "2025-07-04T13:29:41.749763Z"
    }
   },
   "source": [
    "#In the next step we can start with the merge\n",
    "data_merged = pd.merge(data_cleaned, weather_data, left_on=[\"Trip End Timestamp Rounded\", \"Latitude rounded\", \"Longitude rounded\"], right_on =[\"Timestamp\", \"Latitude rounded\", \"Longitude rounded\"], how = \"inner\")"
   ],
   "outputs": [],
   "execution_count": 13
  },
  {
   "cell_type": "code",
   "id": "d2d93ac35cb9b957",
   "metadata": {
    "ExecuteTime": {
     "end_time": "2025-07-04T13:29:59.201722Z",
     "start_time": "2025-07-04T13:29:57.156029Z"
    }
   },
   "source": [
    "#After that we can drop all the columns we just needed to merge our data\n",
    "data_merged = data_merged.drop(columns = [\"Dropoff Centroid Latitude\", \"Dropoff Centroid Longitude\", \"Latitude rounded\", \"Longitude rounded\", \"Timestamp\" ,\"Trip End Timestamp Rounded\"])\n",
    "data_merged.head()"
   ],
   "outputs": [
    {
     "data": {
      "text/plain": [
       "   Trip End Timestamp  Trip Seconds  Trip Miles  Tip Shared Trip Authorized  \\\n",
       "0 2023-09-19 19:15:00        3109.0        23.5  0.0                  False   \n",
       "1 2023-09-28 12:45:00        1640.0        14.7  0.0                  False   \n",
       "2 2023-09-03 17:30:00         772.0         1.9  0.0                  False   \n",
       "3 2023-09-13 15:30:00         452.0         1.1  0.0                  False   \n",
       "4 2023-09-16 13:00:00         819.0         3.9  0.0                  False   \n",
       "\n",
       "  Shared Trip Match   Cost  Temperature Rain in mm  \n",
       "0             False  40.70         16.7        0.3  \n",
       "1             False  38.74         18.9        0.0  \n",
       "2             False  22.39         31.1        0.0  \n",
       "3             False  14.07         17.8        0.0  \n",
       "4             False  12.89         16.1        0.0  "
      ],
      "text/html": [
       "<div>\n",
       "<style scoped>\n",
       "    .dataframe tbody tr th:only-of-type {\n",
       "        vertical-align: middle;\n",
       "    }\n",
       "\n",
       "    .dataframe tbody tr th {\n",
       "        vertical-align: top;\n",
       "    }\n",
       "\n",
       "    .dataframe thead th {\n",
       "        text-align: right;\n",
       "    }\n",
       "</style>\n",
       "<table border=\"1\" class=\"dataframe\">\n",
       "  <thead>\n",
       "    <tr style=\"text-align: right;\">\n",
       "      <th></th>\n",
       "      <th>Trip End Timestamp</th>\n",
       "      <th>Trip Seconds</th>\n",
       "      <th>Trip Miles</th>\n",
       "      <th>Tip</th>\n",
       "      <th>Shared Trip Authorized</th>\n",
       "      <th>Shared Trip Match</th>\n",
       "      <th>Cost</th>\n",
       "      <th>Temperature</th>\n",
       "      <th>Rain in mm</th>\n",
       "    </tr>\n",
       "  </thead>\n",
       "  <tbody>\n",
       "    <tr>\n",
       "      <th>0</th>\n",
       "      <td>2023-09-19 19:15:00</td>\n",
       "      <td>3109.0</td>\n",
       "      <td>23.5</td>\n",
       "      <td>0.0</td>\n",
       "      <td>False</td>\n",
       "      <td>False</td>\n",
       "      <td>40.70</td>\n",
       "      <td>16.7</td>\n",
       "      <td>0.3</td>\n",
       "    </tr>\n",
       "    <tr>\n",
       "      <th>1</th>\n",
       "      <td>2023-09-28 12:45:00</td>\n",
       "      <td>1640.0</td>\n",
       "      <td>14.7</td>\n",
       "      <td>0.0</td>\n",
       "      <td>False</td>\n",
       "      <td>False</td>\n",
       "      <td>38.74</td>\n",
       "      <td>18.9</td>\n",
       "      <td>0.0</td>\n",
       "    </tr>\n",
       "    <tr>\n",
       "      <th>2</th>\n",
       "      <td>2023-09-03 17:30:00</td>\n",
       "      <td>772.0</td>\n",
       "      <td>1.9</td>\n",
       "      <td>0.0</td>\n",
       "      <td>False</td>\n",
       "      <td>False</td>\n",
       "      <td>22.39</td>\n",
       "      <td>31.1</td>\n",
       "      <td>0.0</td>\n",
       "    </tr>\n",
       "    <tr>\n",
       "      <th>3</th>\n",
       "      <td>2023-09-13 15:30:00</td>\n",
       "      <td>452.0</td>\n",
       "      <td>1.1</td>\n",
       "      <td>0.0</td>\n",
       "      <td>False</td>\n",
       "      <td>False</td>\n",
       "      <td>14.07</td>\n",
       "      <td>17.8</td>\n",
       "      <td>0.0</td>\n",
       "    </tr>\n",
       "    <tr>\n",
       "      <th>4</th>\n",
       "      <td>2023-09-16 13:00:00</td>\n",
       "      <td>819.0</td>\n",
       "      <td>3.9</td>\n",
       "      <td>0.0</td>\n",
       "      <td>False</td>\n",
       "      <td>False</td>\n",
       "      <td>12.89</td>\n",
       "      <td>16.1</td>\n",
       "      <td>0.0</td>\n",
       "    </tr>\n",
       "  </tbody>\n",
       "</table>\n",
       "</div>"
      ]
     },
     "execution_count": 14,
     "metadata": {},
     "output_type": "execute_result"
    }
   ],
   "execution_count": 14
  },
  {
   "cell_type": "markdown",
   "id": "6292de49063ad3e9",
   "metadata": {},
   "source": [
    "<h4 style=\"text-decoration: underline;\">2.3 Creation of dummy variables</h4>\n",
    "To perform or regression later on we need to transfer the 'Shared Trip Authorized', 'Shared Trip Match' and 'Trip End Timestamp' column to numeric datatype. For this we make use of dummy variable where 1 stands for true and 0 stands for false for the Shared Trip variables and different variables for the time of day in case of the Trip End variable. In addition we need to creat dummy variables for the rain because we are not interested in the amount of rain on a certain day rather we want to plot wheter it rained or not. "
   ]
  },
  {
   "cell_type": "code",
   "id": "9d11db014a286ddc",
   "metadata": {
    "ExecuteTime": {
     "end_time": "2025-07-04T13:30:00.890040Z",
     "start_time": "2025-07-04T13:29:59.338427Z"
    }
   },
   "source": [
    "#Create dummy variable for 'Shared Trip Authorized' and 'Shared Trip Match' (1 = True and 0 = False)\n",
    "data_merged[\"Shared Trip Authorized\"] = data_merged[\"Shared Trip Authorized\"].astype(int)\n",
    "data_merged[\"Shared Trip Match\"] = data_merged[\"Shared Trip Match\"].astype(int)\n",
    "print(\"📋First 5 Rows:\")\n",
    "data_merged.head()\n"
   ],
   "outputs": [
    {
     "name": "stdout",
     "output_type": "stream",
     "text": [
      "📋First 5 Rows:\n"
     ]
    },
    {
     "data": {
      "text/plain": [
       "   Trip End Timestamp  Trip Seconds  Trip Miles  Tip  Shared Trip Authorized  \\\n",
       "0 2023-09-19 19:15:00        3109.0        23.5  0.0                       0   \n",
       "1 2023-09-28 12:45:00        1640.0        14.7  0.0                       0   \n",
       "2 2023-09-03 17:30:00         772.0         1.9  0.0                       0   \n",
       "3 2023-09-13 15:30:00         452.0         1.1  0.0                       0   \n",
       "4 2023-09-16 13:00:00         819.0         3.9  0.0                       0   \n",
       "\n",
       "   Shared Trip Match   Cost  Temperature Rain in mm  \n",
       "0                  0  40.70         16.7        0.3  \n",
       "1                  0  38.74         18.9        0.0  \n",
       "2                  0  22.39         31.1        0.0  \n",
       "3                  0  14.07         17.8        0.0  \n",
       "4                  0  12.89         16.1        0.0  "
      ],
      "text/html": [
       "<div>\n",
       "<style scoped>\n",
       "    .dataframe tbody tr th:only-of-type {\n",
       "        vertical-align: middle;\n",
       "    }\n",
       "\n",
       "    .dataframe tbody tr th {\n",
       "        vertical-align: top;\n",
       "    }\n",
       "\n",
       "    .dataframe thead th {\n",
       "        text-align: right;\n",
       "    }\n",
       "</style>\n",
       "<table border=\"1\" class=\"dataframe\">\n",
       "  <thead>\n",
       "    <tr style=\"text-align: right;\">\n",
       "      <th></th>\n",
       "      <th>Trip End Timestamp</th>\n",
       "      <th>Trip Seconds</th>\n",
       "      <th>Trip Miles</th>\n",
       "      <th>Tip</th>\n",
       "      <th>Shared Trip Authorized</th>\n",
       "      <th>Shared Trip Match</th>\n",
       "      <th>Cost</th>\n",
       "      <th>Temperature</th>\n",
       "      <th>Rain in mm</th>\n",
       "    </tr>\n",
       "  </thead>\n",
       "  <tbody>\n",
       "    <tr>\n",
       "      <th>0</th>\n",
       "      <td>2023-09-19 19:15:00</td>\n",
       "      <td>3109.0</td>\n",
       "      <td>23.5</td>\n",
       "      <td>0.0</td>\n",
       "      <td>0</td>\n",
       "      <td>0</td>\n",
       "      <td>40.70</td>\n",
       "      <td>16.7</td>\n",
       "      <td>0.3</td>\n",
       "    </tr>\n",
       "    <tr>\n",
       "      <th>1</th>\n",
       "      <td>2023-09-28 12:45:00</td>\n",
       "      <td>1640.0</td>\n",
       "      <td>14.7</td>\n",
       "      <td>0.0</td>\n",
       "      <td>0</td>\n",
       "      <td>0</td>\n",
       "      <td>38.74</td>\n",
       "      <td>18.9</td>\n",
       "      <td>0.0</td>\n",
       "    </tr>\n",
       "    <tr>\n",
       "      <th>2</th>\n",
       "      <td>2023-09-03 17:30:00</td>\n",
       "      <td>772.0</td>\n",
       "      <td>1.9</td>\n",
       "      <td>0.0</td>\n",
       "      <td>0</td>\n",
       "      <td>0</td>\n",
       "      <td>22.39</td>\n",
       "      <td>31.1</td>\n",
       "      <td>0.0</td>\n",
       "    </tr>\n",
       "    <tr>\n",
       "      <th>3</th>\n",
       "      <td>2023-09-13 15:30:00</td>\n",
       "      <td>452.0</td>\n",
       "      <td>1.1</td>\n",
       "      <td>0.0</td>\n",
       "      <td>0</td>\n",
       "      <td>0</td>\n",
       "      <td>14.07</td>\n",
       "      <td>17.8</td>\n",
       "      <td>0.0</td>\n",
       "    </tr>\n",
       "    <tr>\n",
       "      <th>4</th>\n",
       "      <td>2023-09-16 13:00:00</td>\n",
       "      <td>819.0</td>\n",
       "      <td>3.9</td>\n",
       "      <td>0.0</td>\n",
       "      <td>0</td>\n",
       "      <td>0</td>\n",
       "      <td>12.89</td>\n",
       "      <td>16.1</td>\n",
       "      <td>0.0</td>\n",
       "    </tr>\n",
       "  </tbody>\n",
       "</table>\n",
       "</div>"
      ]
     },
     "execution_count": 15,
     "metadata": {},
     "output_type": "execute_result"
    }
   ],
   "execution_count": 15
  },
  {
   "cell_type": "code",
   "id": "fa41d72f",
   "metadata": {
    "ExecuteTime": {
     "end_time": "2025-07-04T13:30:05.787665Z",
     "start_time": "2025-07-04T13:30:02.471245Z"
    }
   },
   "source": [
    "#Create dummy variables for the Trip End Timestamp: 22:00-6:00 for night, 6:00-18:00 for day and 18:00-22:00 for evening\n",
    "data_merged[\"Trip End Hour\"] = data_merged[\"Trip End Timestamp\"].dt.hour\n",
    "data_merged[\"Night\"] = np.where((data_merged[\"Trip End Hour\"] >= 22) | (data_merged[\"Trip End Hour\"] < 6), 1, 0)\n",
    "data_merged[\"Day\"] = np.where((data_merged[\"Trip End Hour\"] >= 6) & (data_merged[\"Trip End Hour\"] < 18), 1, 0)\n",
    "data_merged[\"Evening\"] = np.where((data_merged[\"Trip End Hour\"] >= 18) & (data_merged[\"Trip End Hour\"] < 22), 1, 0)\n",
    "#Drop the Trip End Hour & Trip End Timestamp column as we don't need them anymore\n",
    "data_merged = data_merged.drop(columns=[\"Trip End Hour\", \"Trip End Timestamp\"])\n",
    "\n",
    "data_merged.head()"
   ],
   "outputs": [
    {
     "data": {
      "text/plain": [
       "   Trip Seconds  Trip Miles  Tip  Shared Trip Authorized  Shared Trip Match  \\\n",
       "0        3109.0        23.5  0.0                       0                  0   \n",
       "1        1640.0        14.7  0.0                       0                  0   \n",
       "2         772.0         1.9  0.0                       0                  0   \n",
       "3         452.0         1.1  0.0                       0                  0   \n",
       "4         819.0         3.9  0.0                       0                  0   \n",
       "\n",
       "    Cost  Temperature Rain in mm  Night  Day  Evening  \n",
       "0  40.70         16.7        0.3      0    0        1  \n",
       "1  38.74         18.9        0.0      0    1        0  \n",
       "2  22.39         31.1        0.0      0    1        0  \n",
       "3  14.07         17.8        0.0      0    1        0  \n",
       "4  12.89         16.1        0.0      0    1        0  "
      ],
      "text/html": [
       "<div>\n",
       "<style scoped>\n",
       "    .dataframe tbody tr th:only-of-type {\n",
       "        vertical-align: middle;\n",
       "    }\n",
       "\n",
       "    .dataframe tbody tr th {\n",
       "        vertical-align: top;\n",
       "    }\n",
       "\n",
       "    .dataframe thead th {\n",
       "        text-align: right;\n",
       "    }\n",
       "</style>\n",
       "<table border=\"1\" class=\"dataframe\">\n",
       "  <thead>\n",
       "    <tr style=\"text-align: right;\">\n",
       "      <th></th>\n",
       "      <th>Trip Seconds</th>\n",
       "      <th>Trip Miles</th>\n",
       "      <th>Tip</th>\n",
       "      <th>Shared Trip Authorized</th>\n",
       "      <th>Shared Trip Match</th>\n",
       "      <th>Cost</th>\n",
       "      <th>Temperature</th>\n",
       "      <th>Rain in mm</th>\n",
       "      <th>Night</th>\n",
       "      <th>Day</th>\n",
       "      <th>Evening</th>\n",
       "    </tr>\n",
       "  </thead>\n",
       "  <tbody>\n",
       "    <tr>\n",
       "      <th>0</th>\n",
       "      <td>3109.0</td>\n",
       "      <td>23.5</td>\n",
       "      <td>0.0</td>\n",
       "      <td>0</td>\n",
       "      <td>0</td>\n",
       "      <td>40.70</td>\n",
       "      <td>16.7</td>\n",
       "      <td>0.3</td>\n",
       "      <td>0</td>\n",
       "      <td>0</td>\n",
       "      <td>1</td>\n",
       "    </tr>\n",
       "    <tr>\n",
       "      <th>1</th>\n",
       "      <td>1640.0</td>\n",
       "      <td>14.7</td>\n",
       "      <td>0.0</td>\n",
       "      <td>0</td>\n",
       "      <td>0</td>\n",
       "      <td>38.74</td>\n",
       "      <td>18.9</td>\n",
       "      <td>0.0</td>\n",
       "      <td>0</td>\n",
       "      <td>1</td>\n",
       "      <td>0</td>\n",
       "    </tr>\n",
       "    <tr>\n",
       "      <th>2</th>\n",
       "      <td>772.0</td>\n",
       "      <td>1.9</td>\n",
       "      <td>0.0</td>\n",
       "      <td>0</td>\n",
       "      <td>0</td>\n",
       "      <td>22.39</td>\n",
       "      <td>31.1</td>\n",
       "      <td>0.0</td>\n",
       "      <td>0</td>\n",
       "      <td>1</td>\n",
       "      <td>0</td>\n",
       "    </tr>\n",
       "    <tr>\n",
       "      <th>3</th>\n",
       "      <td>452.0</td>\n",
       "      <td>1.1</td>\n",
       "      <td>0.0</td>\n",
       "      <td>0</td>\n",
       "      <td>0</td>\n",
       "      <td>14.07</td>\n",
       "      <td>17.8</td>\n",
       "      <td>0.0</td>\n",
       "      <td>0</td>\n",
       "      <td>1</td>\n",
       "      <td>0</td>\n",
       "    </tr>\n",
       "    <tr>\n",
       "      <th>4</th>\n",
       "      <td>819.0</td>\n",
       "      <td>3.9</td>\n",
       "      <td>0.0</td>\n",
       "      <td>0</td>\n",
       "      <td>0</td>\n",
       "      <td>12.89</td>\n",
       "      <td>16.1</td>\n",
       "      <td>0.0</td>\n",
       "      <td>0</td>\n",
       "      <td>1</td>\n",
       "      <td>0</td>\n",
       "    </tr>\n",
       "  </tbody>\n",
       "</table>\n",
       "</div>"
      ]
     },
     "execution_count": 16,
     "metadata": {},
     "output_type": "execute_result"
    }
   ],
   "execution_count": 16
  },
  {
   "cell_type": "code",
   "id": "c0708826312343ed",
   "metadata": {
    "ExecuteTime": {
     "end_time": "2025-07-04T13:30:09.969405Z",
     "start_time": "2025-07-04T13:30:05.887960Z"
    }
   },
   "source": [
    "#We see that the column 'Rain in mm' is from datatype object but we need a numeric datatype, so we need to transform this column to the right datatype\n",
    "data_merged['Rain in mm'] = pd.to_numeric(data_merged['Rain in mm'], errors='coerce')"
   ],
   "outputs": [],
   "execution_count": 17
  },
  {
   "cell_type": "code",
   "id": "2bf622b9",
   "metadata": {
    "ExecuteTime": {
     "end_time": "2025-07-04T13:30:10.688079Z",
     "start_time": "2025-07-04T13:30:10.040381Z"
    }
   },
   "source": [
    "#Switching the columns so that all dummy variables will be after all numeric variables\n",
    "data_merged = data_merged[['Tip', 'Trip Seconds', 'Trip Miles', 'Cost', 'Temperature', 'Rain in mm', 'Shared Trip Authorized', 'Shared Trip Match', 'Day', 'Evening', 'Night']]"
   ],
   "outputs": [],
   "execution_count": 18
  },
  {
   "cell_type": "markdown",
   "id": "9c6c28864e3a57b2",
   "metadata": {},
   "source": [
    "<h4 style=\"text-decoration: underline;\">2.4 Dealing with outliers</h4>\n",
    "Outliers are often caused by errors in data collection. Therefore it is important to identify and remove them as they can distort the performance of predictive models by representing values that do not reflect typical or real-world scenarios. In the following we attempted to remove outliers using the standard deviation method. However, it must be acknowledged that we cannot say with complete certainty whether each detected outlier represents a data collection error or simply reflects rare but valid cases—since we did not collect the data ourselves. Nevertheless this approach helps us prepare the dataset as effectively as possible for building robust predictive models\n",
    " "
   ]
  },
  {
   "cell_type": "code",
   "id": "eaa5794063011b33",
   "metadata": {
    "ExecuteTime": {
     "end_time": "2025-07-04T13:30:14.086438Z",
     "start_time": "2025-07-04T13:30:10.701594Z"
    }
   },
   "source": [
    "\n",
    "#We don't need to deal with outliers on the columns with dummy variables because there can't be outliers if we just have the values 0 or 1\n",
    "data_merged_without_tip = data_merged.drop(columns = [\"Shared Trip Authorized\", \"Shared Trip Match\", \"Night\", \"Day\", \"Evening\"])\n",
    "for columns in data_merged_without_tip.columns:\n",
    "    #Calculate mean and standard deviation of the current column\n",
    "    mean = data_merged_without_tip[columns].mean()\n",
    "    std = data_merged_without_tip[columns].std()\n",
    "    \n",
    "    #Calculate upper and lower limit\n",
    "    upperlimit = mean + 3 * std\n",
    "    lowerlimit = mean - 3 * std\n",
    "\n",
    "    #Replace all outliers with null values so we can remove them later\n",
    "    data_merged.loc[(data_merged[columns] > upperlimit) | (data_merged[columns] < lowerlimit), columns] = np.nan\n",
    "\n",
    "#Remove all null values (delete all outliers)    \n",
    "data_without_outliers = data_merged.dropna(axis = 0)\n",
    "print(f\"❌ Deleted {len(data_merged) - len(data_without_outliers)} outliers\")\n"
   ],
   "outputs": [
    {
     "name": "stdout",
     "output_type": "stream",
     "text": [
      "❌ Deleted 2379836 outliers\n"
     ]
    }
   ],
   "execution_count": 19
  },
  {
   "cell_type": "markdown",
   "id": "21e10fae",
   "metadata": {},
   "source": [
    "<h4 style=\"text-decoration: underline;\">2.5 Saving the data</h4>\n",
    "We will save the preperated data here, so that we can continue working with it, without having to rerun all the code above every time we start."
   ]
  },
  {
   "cell_type": "code",
   "id": "7bf3b4f2",
   "metadata": {
    "ExecuteTime": {
     "end_time": "2025-07-04T13:31:37.085249Z",
     "start_time": "2025-07-04T13:30:14.170371Z"
    }
   },
   "source": [
    "data_without_outliers.to_csv('Data/Chicago_RideHailing_Data_Cleaned.csv', index=False)"
   ],
   "outputs": [],
   "execution_count": 20
  },
  {
   "cell_type": "markdown",
   "id": "a4010aeb95861dbd",
   "metadata": {},
   "source": [
    "<h4 style=\"text-decoration: underline;\">3. Data Modeling</h4>\n",
    "If you have already saved the data you can use this shortcut to save some runtime."
   ]
  },
  {
   "cell_type": "code",
   "id": "30556712",
   "metadata": {
    "ExecuteTime": {
     "end_time": "2025-07-04T13:31:51.194817Z",
     "start_time": "2025-07-04T13:31:37.094435Z"
    }
   },
   "source": [
    "data_without_outliers = pd.read_csv('Data/Chicago_RideHailing_Data_Cleaned.csv')\n",
    "#Check if everything worked correctly\n",
    "data_without_outliers.head()"
   ],
   "outputs": [
    {
     "data": {
      "text/plain": [
       "   Tip  Trip Seconds  Trip Miles   Cost  Temperature  Rain in mm  \\\n",
       "0  0.0        3109.0        23.5  40.70         16.7         0.3   \n",
       "1  0.0        1640.0        14.7  38.74         18.9         0.0   \n",
       "2  0.0         772.0         1.9  22.39         31.1         0.0   \n",
       "3  0.0         452.0         1.1  14.07         17.8         0.0   \n",
       "4  0.0         819.0         3.9  12.89         16.1         0.0   \n",
       "\n",
       "   Shared Trip Authorized  Shared Trip Match  Day  Evening  Night  \n",
       "0                       0                  0    0        1      0  \n",
       "1                       0                  0    1        0      0  \n",
       "2                       0                  0    1        0      0  \n",
       "3                       0                  0    1        0      0  \n",
       "4                       0                  0    1        0      0  "
      ],
      "text/html": [
       "<div>\n",
       "<style scoped>\n",
       "    .dataframe tbody tr th:only-of-type {\n",
       "        vertical-align: middle;\n",
       "    }\n",
       "\n",
       "    .dataframe tbody tr th {\n",
       "        vertical-align: top;\n",
       "    }\n",
       "\n",
       "    .dataframe thead th {\n",
       "        text-align: right;\n",
       "    }\n",
       "</style>\n",
       "<table border=\"1\" class=\"dataframe\">\n",
       "  <thead>\n",
       "    <tr style=\"text-align: right;\">\n",
       "      <th></th>\n",
       "      <th>Tip</th>\n",
       "      <th>Trip Seconds</th>\n",
       "      <th>Trip Miles</th>\n",
       "      <th>Cost</th>\n",
       "      <th>Temperature</th>\n",
       "      <th>Rain in mm</th>\n",
       "      <th>Shared Trip Authorized</th>\n",
       "      <th>Shared Trip Match</th>\n",
       "      <th>Day</th>\n",
       "      <th>Evening</th>\n",
       "      <th>Night</th>\n",
       "    </tr>\n",
       "  </thead>\n",
       "  <tbody>\n",
       "    <tr>\n",
       "      <th>0</th>\n",
       "      <td>0.0</td>\n",
       "      <td>3109.0</td>\n",
       "      <td>23.5</td>\n",
       "      <td>40.70</td>\n",
       "      <td>16.7</td>\n",
       "      <td>0.3</td>\n",
       "      <td>0</td>\n",
       "      <td>0</td>\n",
       "      <td>0</td>\n",
       "      <td>1</td>\n",
       "      <td>0</td>\n",
       "    </tr>\n",
       "    <tr>\n",
       "      <th>1</th>\n",
       "      <td>0.0</td>\n",
       "      <td>1640.0</td>\n",
       "      <td>14.7</td>\n",
       "      <td>38.74</td>\n",
       "      <td>18.9</td>\n",
       "      <td>0.0</td>\n",
       "      <td>0</td>\n",
       "      <td>0</td>\n",
       "      <td>1</td>\n",
       "      <td>0</td>\n",
       "      <td>0</td>\n",
       "    </tr>\n",
       "    <tr>\n",
       "      <th>2</th>\n",
       "      <td>0.0</td>\n",
       "      <td>772.0</td>\n",
       "      <td>1.9</td>\n",
       "      <td>22.39</td>\n",
       "      <td>31.1</td>\n",
       "      <td>0.0</td>\n",
       "      <td>0</td>\n",
       "      <td>0</td>\n",
       "      <td>1</td>\n",
       "      <td>0</td>\n",
       "      <td>0</td>\n",
       "    </tr>\n",
       "    <tr>\n",
       "      <th>3</th>\n",
       "      <td>0.0</td>\n",
       "      <td>452.0</td>\n",
       "      <td>1.1</td>\n",
       "      <td>14.07</td>\n",
       "      <td>17.8</td>\n",
       "      <td>0.0</td>\n",
       "      <td>0</td>\n",
       "      <td>0</td>\n",
       "      <td>1</td>\n",
       "      <td>0</td>\n",
       "      <td>0</td>\n",
       "    </tr>\n",
       "    <tr>\n",
       "      <th>4</th>\n",
       "      <td>0.0</td>\n",
       "      <td>819.0</td>\n",
       "      <td>3.9</td>\n",
       "      <td>12.89</td>\n",
       "      <td>16.1</td>\n",
       "      <td>0.0</td>\n",
       "      <td>0</td>\n",
       "      <td>0</td>\n",
       "      <td>1</td>\n",
       "      <td>0</td>\n",
       "      <td>0</td>\n",
       "    </tr>\n",
       "  </tbody>\n",
       "</table>\n",
       "</div>"
      ]
     },
     "execution_count": 21,
     "metadata": {},
     "output_type": "execute_result"
    }
   ],
   "execution_count": 21
  },
  {
   "cell_type": "markdown",
   "id": "c90765fe319b7467",
   "metadata": {},
   "source": [
    "<h4 style=\"text-decoration: underline;\">3.1 Train Test Validation Split</h4>\n",
    "First of all we need to split our data in train, test and validation data."
   ]
  },
  {
   "cell_type": "code",
   "id": "982ea1825479e2d9",
   "metadata": {
    "ExecuteTime": {
     "end_time": "2025-07-04T13:32:00.983159Z",
     "start_time": "2025-07-04T13:31:51.281991Z"
    }
   },
   "source": [
    "#Define x and y vectors\n",
    "x = data_without_outliers.drop(columns = [\"Tip\"])\n",
    "y = data_without_outliers[\"Tip\"]\n",
    "\n",
    "#Perform train test validation split\n",
    "x_train_data, x_test_data, y_train_data, y_test_data = train_test_split(x, y, test_size = 0.5, random_state = 42)\n",
    "x_val_data, x_test_data, y_val_data, y_test_data = train_test_split(x_test_data, y_test_data, test_size = 0.6, random_state = 42)\n",
    "print(\"Datasplit:\")\n",
    "print(f\"🏋️ Training: {len(x_train_data)} Samples ({len(x_train_data)/len(data_without_outliers)*100:.1f}%)\")\n",
    "print(f\"🔬 Testing: {len(x_test_data)} Samples ({len(x_test_data)/len(data_without_outliers)*100:.1f}%)\")\n",
    "print(f\"✅ Validation: {len(x_val_data)} Samples ({len(x_val_data)/len(data_without_outliers)*100:.1f}%)\")"
   ],
   "outputs": [
    {
     "name": "stdout",
     "output_type": "stream",
     "text": [
      "Datasplit:\n",
      "🏋️ Training: 11283155 Samples (50.0%)\n",
      "🔬 Testing: 6769894 Samples (30.0%)\n",
      "✅ Validation: 4513262 Samples (20.0%)\n"
     ]
    }
   ],
   "execution_count": 22
  },
  {
   "cell_type": "markdown",
   "id": "f3ba2b2a",
   "metadata": {},
   "source": [
    "<h4 style=\"text-decoration: underline;\">3.2 Descriptive analyses Split</h4>\n",
    "Now we will look at key statistics about our data. We only use the training data for this, in order to rule out accidental data leakage."
   ]
  },
  {
   "cell_type": "code",
   "id": "523acc14",
   "metadata": {
    "ExecuteTime": {
     "end_time": "2025-07-04T13:32:02.934810Z",
     "start_time": "2025-07-04T13:32:01.022191Z"
    }
   },
   "source": [
    "#Create a table with a column for each feature and key statistics as rows\n",
    "def create_statistics_table(df):\n",
    "    stats = pd.DataFrame(index=['Mean', 'Median', 'Standard Deviation', 'Min', 'Max', 'Range'])\n",
    "    for column in df.columns:\n",
    "        stats[column] = [\n",
    "            df[column].mean(),\n",
    "            df[column].median(),\n",
    "            df[column].std(),\n",
    "            df[column].min(),\n",
    "            df[column].max(),\n",
    "            df[column].max() - df[column].min()\n",
    "        ]\n",
    "    return stats\n",
    "\n",
    "#Create statistics table for the training data\n",
    "features_stats_table = create_statistics_table(x_train_data)\n",
    "target_stats_table = create_statistics_table(y_train_data.to_frame(name='Tip'))\n",
    "stats_table = pd.concat([target_stats_table.rename(columns={'Tip': 'Tip (Target)'}), features_stats_table], axis=1)\n",
    "stats_table.head(len(stats_table))"
   ],
   "outputs": [
    {
     "data": {
      "text/plain": [
       "                    Tip (Target)  Trip Seconds  Trip Miles       Cost  \\\n",
       "Mean                    0.896970    954.400494    5.205787  17.367716   \n",
       "Median                  0.000000    807.000000    3.400000  14.730000   \n",
       "Standard Deviation      1.846762    598.773425    4.822310   9.881919   \n",
       "Min                     0.000000      0.000000    0.000000   0.000000   \n",
       "Max                     9.000000   3315.000000   25.200000  60.140000   \n",
       "Range                   9.000000   3315.000000   25.200000  60.140000   \n",
       "\n",
       "                    Temperature  Rain in mm  Shared Trip Authorized  \\\n",
       "Mean                   9.466218    0.056972                0.055484   \n",
       "Median                 8.300000    0.000000                0.000000   \n",
       "Standard Deviation     8.432277    0.191326                0.228922   \n",
       "Min                  -17.000000    0.000000                0.000000   \n",
       "Max                   33.900000    1.400000                1.000000   \n",
       "Range                 50.900000    1.400000                1.000000   \n",
       "\n",
       "                    Shared Trip Match       Day   Evening     Night  \n",
       "Mean                         0.023430  0.528371  0.254656  0.216973  \n",
       "Median                       0.000000  1.000000  0.000000  0.000000  \n",
       "Standard Deviation           0.151264  0.499194  0.435668  0.412184  \n",
       "Min                          0.000000  0.000000  0.000000  0.000000  \n",
       "Max                          1.000000  1.000000  1.000000  1.000000  \n",
       "Range                        1.000000  1.000000  1.000000  1.000000  "
      ],
      "text/html": [
       "<div>\n",
       "<style scoped>\n",
       "    .dataframe tbody tr th:only-of-type {\n",
       "        vertical-align: middle;\n",
       "    }\n",
       "\n",
       "    .dataframe tbody tr th {\n",
       "        vertical-align: top;\n",
       "    }\n",
       "\n",
       "    .dataframe thead th {\n",
       "        text-align: right;\n",
       "    }\n",
       "</style>\n",
       "<table border=\"1\" class=\"dataframe\">\n",
       "  <thead>\n",
       "    <tr style=\"text-align: right;\">\n",
       "      <th></th>\n",
       "      <th>Tip (Target)</th>\n",
       "      <th>Trip Seconds</th>\n",
       "      <th>Trip Miles</th>\n",
       "      <th>Cost</th>\n",
       "      <th>Temperature</th>\n",
       "      <th>Rain in mm</th>\n",
       "      <th>Shared Trip Authorized</th>\n",
       "      <th>Shared Trip Match</th>\n",
       "      <th>Day</th>\n",
       "      <th>Evening</th>\n",
       "      <th>Night</th>\n",
       "    </tr>\n",
       "  </thead>\n",
       "  <tbody>\n",
       "    <tr>\n",
       "      <th>Mean</th>\n",
       "      <td>0.896970</td>\n",
       "      <td>954.400494</td>\n",
       "      <td>5.205787</td>\n",
       "      <td>17.367716</td>\n",
       "      <td>9.466218</td>\n",
       "      <td>0.056972</td>\n",
       "      <td>0.055484</td>\n",
       "      <td>0.023430</td>\n",
       "      <td>0.528371</td>\n",
       "      <td>0.254656</td>\n",
       "      <td>0.216973</td>\n",
       "    </tr>\n",
       "    <tr>\n",
       "      <th>Median</th>\n",
       "      <td>0.000000</td>\n",
       "      <td>807.000000</td>\n",
       "      <td>3.400000</td>\n",
       "      <td>14.730000</td>\n",
       "      <td>8.300000</td>\n",
       "      <td>0.000000</td>\n",
       "      <td>0.000000</td>\n",
       "      <td>0.000000</td>\n",
       "      <td>1.000000</td>\n",
       "      <td>0.000000</td>\n",
       "      <td>0.000000</td>\n",
       "    </tr>\n",
       "    <tr>\n",
       "      <th>Standard Deviation</th>\n",
       "      <td>1.846762</td>\n",
       "      <td>598.773425</td>\n",
       "      <td>4.822310</td>\n",
       "      <td>9.881919</td>\n",
       "      <td>8.432277</td>\n",
       "      <td>0.191326</td>\n",
       "      <td>0.228922</td>\n",
       "      <td>0.151264</td>\n",
       "      <td>0.499194</td>\n",
       "      <td>0.435668</td>\n",
       "      <td>0.412184</td>\n",
       "    </tr>\n",
       "    <tr>\n",
       "      <th>Min</th>\n",
       "      <td>0.000000</td>\n",
       "      <td>0.000000</td>\n",
       "      <td>0.000000</td>\n",
       "      <td>0.000000</td>\n",
       "      <td>-17.000000</td>\n",
       "      <td>0.000000</td>\n",
       "      <td>0.000000</td>\n",
       "      <td>0.000000</td>\n",
       "      <td>0.000000</td>\n",
       "      <td>0.000000</td>\n",
       "      <td>0.000000</td>\n",
       "    </tr>\n",
       "    <tr>\n",
       "      <th>Max</th>\n",
       "      <td>9.000000</td>\n",
       "      <td>3315.000000</td>\n",
       "      <td>25.200000</td>\n",
       "      <td>60.140000</td>\n",
       "      <td>33.900000</td>\n",
       "      <td>1.400000</td>\n",
       "      <td>1.000000</td>\n",
       "      <td>1.000000</td>\n",
       "      <td>1.000000</td>\n",
       "      <td>1.000000</td>\n",
       "      <td>1.000000</td>\n",
       "    </tr>\n",
       "    <tr>\n",
       "      <th>Range</th>\n",
       "      <td>9.000000</td>\n",
       "      <td>3315.000000</td>\n",
       "      <td>25.200000</td>\n",
       "      <td>60.140000</td>\n",
       "      <td>50.900000</td>\n",
       "      <td>1.400000</td>\n",
       "      <td>1.000000</td>\n",
       "      <td>1.000000</td>\n",
       "      <td>1.000000</td>\n",
       "      <td>1.000000</td>\n",
       "      <td>1.000000</td>\n",
       "    </tr>\n",
       "  </tbody>\n",
       "</table>\n",
       "</div>"
      ]
     },
     "execution_count": 23,
     "metadata": {},
     "output_type": "execute_result"
    }
   ],
   "execution_count": 23
  },
  {
   "cell_type": "markdown",
   "id": "f0e6f7fdb19fb143",
   "metadata": {},
   "source": [
    "In the next step we plot the data to get an first overview on our predictors. For this we use the first 5000 values of each predictor because if we would use all value we cannot see any possible linear relationship because there would be too much data in one scatter plot. In addition it leads to a much shorter runtime. "
   ]
  },
  {
   "cell_type": "code",
   "id": "e774fd7e0d771cb8",
   "metadata": {
    "ExecuteTime": {
     "end_time": "2025-07-04T13:32:05.361745Z",
     "start_time": "2025-07-04T13:32:03.005121Z"
    }
   },
   "source": [
    "#Create Scatterplots for the first 4 predictors\n",
    "fig_1, axes_1 = plt.subplots(nrows = 1, ncols = 4, figsize= (21,6))\n",
    "fig_1.suptitle(\"Scatterplots of all predictors\", fontsize=26)\n",
    "for i, ax in enumerate(axes_1):\n",
    "    ax.scatter(x = x_train_data.iloc[:5000, i], y = y_train_data[:5000], color = f'C{i}')\n",
    "    ax.set_title(x_train_data.columns[i])\n",
    "plt.tight_layout()\n",
    "plt.show()\n",
    "\n",
    "#Create Scatterplots for predictor 5-7\n",
    "fig_2, axes_2 = plt.subplots(nrows = 1, ncols = 3, figsize= (21,6))\n",
    "for i, ax in enumerate(axes_2):\n",
    "    ax.scatter(x = x_train_data.iloc[:5000, i + 4], y = y_train_data[:5000], color = f'C{i + 4}')\n",
    "    ax.set_title(x_train_data.columns[i + 4])\n",
    "plt.tight_layout()\n",
    "plt.show()\n",
    "\n",
    "#Create Scatterplots for predictor 8-10\n",
    "fig_3, axes_3 = plt.subplots(nrows = 1, ncols = 3, figsize= (21,6))\n",
    "for i, ax in enumerate(axes_3):\n",
    "    ax.scatter(x = x_train_data.iloc[:5000, i + 7], y = y_train_data[:5000], color = f'C{i + 7}')\n",
    "    ax.set_title(x_train_data.columns[i + 7])\n",
    "plt.tight_layout()\n",
    "plt.show()"
   ],
   "outputs": [
    {
     "data": {
      "text/plain": [
       "<Figure size 2100x600 with 4 Axes>"
      ],
      "image/png": "[encoded data removed]"
     },
     "metadata": {},
     "output_type": "display_data"
    },
    {
     "data": {
      "text/plain": [
       "<Figure size 2100x600 with 3 Axes>"
      ],
      "image/png": "[encoded data removed]"
     },
     "metadata": {},
     "output_type": "display_data"
    },
    {
     "data": {
      "text/plain": [
       "<Figure size 2100x600 with 3 Axes>"
      ],
      "image/png": "[encoded data removed]"
     },
     "metadata": {},
     "output_type": "display_data"
    }
   ],
   "execution_count": 24
  },
  {
   "cell_type": "markdown",
   "id": "89a560e5dc95786d",
   "metadata": {},
   "source": [
    "<h4 style=\"text-decoration: underline;\">3.3 Data normalization</h4>\n",
    "After plotting the data we get some interesting information. It looks like there are a lot of linear correlations for example between the costs and the tip. Moreover it is noticeable that the predictors are on diffrent scales so we need to normalize them to get meaningful result in our regression later on. For the normalization we make use of the python libary StandartScaler which uses the following formula:\n",
    "\\[\n",
    "z = \\frac{x - \\mu}{\\sigma}\n",
    "\\] "
   ]
  },
  {
   "cell_type": "code",
   "id": "227744ba4d1020f4",
   "metadata": {
    "ExecuteTime": {
     "end_time": "2025-07-04T13:32:07.486513Z",
     "start_time": "2025-07-04T13:32:05.397506Z"
    }
   },
   "source": [
    "#Select which Data to normalize (no Dummy Variables)\n",
    "columns_to_normalize = [\"Trip Seconds\", \"Trip Miles\", \"Cost\", \"Temperature\", \"Rain in mm\"]\n",
    "\n",
    "\n",
    "x_train_data_scaled = x_train_data.copy()\n",
    "x_val_data_scaled = x_val_data.copy()\n",
    "x_test_data_scaled = x_test_data.copy()\n",
    "\n",
    "\n",
    "#Normalize data\n",
    "scaler = StandardScaler()\n",
    "x_train_data_scaled[columns_to_normalize] = scaler.fit_transform(x_train_data[columns_to_normalize])\n",
    "#Hier nur noch transform verwenden, damit Mittelwert und Standardabweichung nicht neu berechnet werden\n",
    "x_val_data_scaled[columns_to_normalize] = scaler.transform(x_val_data[columns_to_normalize])\n",
    "x_test_data_scaled[columns_to_normalize] = scaler.transform(x_test_data[columns_to_normalize])\n",
    "\n",
    "\n",
    "x_train_data_scaled.head()\n"
   ],
   "outputs": [
    {
     "data": {
      "text/plain": [
       "          Trip Seconds  Trip Miles      Cost  Temperature  Rain in mm  \\\n",
       "16065578     -0.899172   -0.540361 -0.721289    -0.328051   -0.297776   \n",
       "3640062      -0.211099   -0.415939 -0.245673     2.304690   -0.297776   \n",
       "14305674     -0.844060   -0.685519 -0.724325     0.063302   -0.297776   \n",
       "13452375      0.647323    1.056384  0.390844    -1.193772   -0.297776   \n",
       "8891142      -1.219828   -0.934363 -0.763791    -0.007853   -0.297776   \n",
       "\n",
       "          Shared Trip Authorized  Shared Trip Match  Day  Evening  Night  \n",
       "16065578                       0                  0    1        0      0  \n",
       "3640062                        0                  0    0        1      0  \n",
       "14305674                       0                  0    0        0      1  \n",
       "13452375                       0                  0    0        0      1  \n",
       "8891142                        0                  0    0        0      1  "
      ],
      "text/html": [
       "<div>\n",
       "<style scoped>\n",
       "    .dataframe tbody tr th:only-of-type {\n",
       "        vertical-align: middle;\n",
       "    }\n",
       "\n",
       "    .dataframe tbody tr th {\n",
       "        vertical-align: top;\n",
       "    }\n",
       "\n",
       "    .dataframe thead th {\n",
       "        text-align: right;\n",
       "    }\n",
       "</style>\n",
       "<table border=\"1\" class=\"dataframe\">\n",
       "  <thead>\n",
       "    <tr style=\"text-align: right;\">\n",
       "      <th></th>\n",
       "      <th>Trip Seconds</th>\n",
       "      <th>Trip Miles</th>\n",
       "      <th>Cost</th>\n",
       "      <th>Temperature</th>\n",
       "      <th>Rain in mm</th>\n",
       "      <th>Shared Trip Authorized</th>\n",
       "      <th>Shared Trip Match</th>\n",
       "      <th>Day</th>\n",
       "      <th>Evening</th>\n",
       "      <th>Night</th>\n",
       "    </tr>\n",
       "  </thead>\n",
       "  <tbody>\n",
       "    <tr>\n",
       "      <th>16065578</th>\n",
       "      <td>-0.899172</td>\n",
       "      <td>-0.540361</td>\n",
       "      <td>-0.721289</td>\n",
       "      <td>-0.328051</td>\n",
       "      <td>-0.297776</td>\n",
       "      <td>0</td>\n",
       "      <td>0</td>\n",
       "      <td>1</td>\n",
       "      <td>0</td>\n",
       "      <td>0</td>\n",
       "    </tr>\n",
       "    <tr>\n",
       "      <th>3640062</th>\n",
       "      <td>-0.211099</td>\n",
       "      <td>-0.415939</td>\n",
       "      <td>-0.245673</td>\n",
       "      <td>2.304690</td>\n",
       "      <td>-0.297776</td>\n",
       "      <td>0</td>\n",
       "      <td>0</td>\n",
       "      <td>0</td>\n",
       "      <td>1</td>\n",
       "      <td>0</td>\n",
       "    </tr>\n",
       "    <tr>\n",
       "      <th>14305674</th>\n",
       "      <td>-0.844060</td>\n",
       "      <td>-0.685519</td>\n",
       "      <td>-0.724325</td>\n",
       "      <td>0.063302</td>\n",
       "      <td>-0.297776</td>\n",
       "      <td>0</td>\n",
       "      <td>0</td>\n",
       "      <td>0</td>\n",
       "      <td>0</td>\n",
       "      <td>1</td>\n",
       "    </tr>\n",
       "    <tr>\n",
       "      <th>13452375</th>\n",
       "      <td>0.647323</td>\n",
       "      <td>1.056384</td>\n",
       "      <td>0.390844</td>\n",
       "      <td>-1.193772</td>\n",
       "      <td>-0.297776</td>\n",
       "      <td>0</td>\n",
       "      <td>0</td>\n",
       "      <td>0</td>\n",
       "      <td>0</td>\n",
       "      <td>1</td>\n",
       "    </tr>\n",
       "    <tr>\n",
       "      <th>8891142</th>\n",
       "      <td>-1.219828</td>\n",
       "      <td>-0.934363</td>\n",
       "      <td>-0.763791</td>\n",
       "      <td>-0.007853</td>\n",
       "      <td>-0.297776</td>\n",
       "      <td>0</td>\n",
       "      <td>0</td>\n",
       "      <td>0</td>\n",
       "      <td>0</td>\n",
       "      <td>1</td>\n",
       "    </tr>\n",
       "  </tbody>\n",
       "</table>\n",
       "</div>"
      ]
     },
     "execution_count": 25,
     "metadata": {},
     "output_type": "execute_result"
    }
   ],
   "execution_count": 25
  },
  {
   "cell_type": "markdown",
   "id": "f5d74f7440394679",
   "metadata": {},
   "source": [
    "<h4 style=\"text-decoration: underline;\">3.4 Linear Regression</h4>\n",
    "\n",
    "After finishing the data preperation and completing our descripive task we now want to start with our predictive models. First of all we want to create an simple linear regression because we have seen a few linear relationships between our predictors and the tip in the descriptive task above. An linear regression is a good first attemp to create good understandable machine learning models because it is easy to implement and to interpret. Espacially in approximatiely lineare realtionships (as we have seen in our scatter plots before) this model is really robust and gives us good predictions. But in complex problems (where the realationships are not linear) this easy approach could be too simple and is not usable in order to represent reality. So this step is used to see if our prediction problem could be solved well by an easy understandable model or if it needs more complex regression tasks to create appropriate predictions.\n",
    " \n",
    "We define our linear regression model with the following input vector:\n",
    "\\begin{equation}\n",
    "x^{(i)} = \\left[ \\begin{array}{c} 1 \\\\ \\mathrm{Trip\\ Seconds}^{(i)} \\\\ \\mathrm{Trip\\ Miles}^{(i)} \\\\ \\mathrm{Shared\\ Trip\\ Authorized}^{(i)} \\\\ \\mathrm{Shared\\ Trip\\ Matched}^{(i)} \\\\ \\mathrm{Cost}^{(i)} \\\\ \\mathrm{Temperature}^{(i)} \\\\ \\mathrm{Rain\\ in\\ mm}^{(i)} \\\\ \\mathrm{Night}^{(i)} \\\\ \\mathrm{Day}^{(i)} \\\\\n",
    "\\mathrm{Evening}^{(i)} \\end{array} \\right] \\end{equation}\n",
    "\n",
    "In addition we create our linear hypothesis function $tip_\\beta(x) = \\beta^Tx$ is given by:\n",
    "\n",
    "\\begin{equation}\n",
    "tip_\\beta(x) = \\beta_0 + \\beta_1 * \\mathrm{Trip\\ Seconds}^{(i)} + \\beta_2 * \\mathrm{Trip\\ Miles}^{(i)} + \\beta_3 * \\mathrm{Shared\\ Trip\\ Authorized}^{(i)} + \\\\ \\beta_4 * \\mathrm{Shared\\ Trip\\ Matched}^{(i)} + \\beta_5 * \\mathrm{Cost}^{(i)} + \\beta_6 * \\mathrm{Temperature}^{(i)} + \\beta_7 * \\mathrm{Rain\\ In\\ MM}^{(i)} + \\\\ \\beta_8 * \\mathrm{Night}^{(i)} + \\beta_9 * \\mathrm{Day}^{(i)} + \\beta_{10} * \\mathrm{Evening}^{(i)} \n",
    "\\end{equation}\n",
    "\n",
    "After defining our linear regression model, we now want to find the right values for our predictors $ \\beta_0, \\beta_1, \\dots, \\beta_9 $.\n"
   ]
  },
  {
   "cell_type": "code",
   "id": "d6705753cb1b7f98",
   "metadata": {
    "ExecuteTime": {
     "end_time": "2025-07-04T13:32:12.407916Z",
     "start_time": "2025-07-04T13:32:07.547608Z"
    }
   },
   "source": [
    "linear_model = LinearRegression()\n",
    "linear_model.fit(x_train_data_scaled, y_train_data)\n",
    "print(\"📋Values for our predictors:\")\n",
    "print(str(linear_model.coef_))"
   ],
   "outputs": [
    {
     "name": "stdout",
     "output_type": "stream",
     "text": [
      "📋Values for our predictors:\n",
      "[-9.13453121e-02 -1.37146742e-01  6.54018338e-01  2.22808362e-02\n",
      " -2.82663823e-03 -3.83263236e-01  3.49817482e-02  3.19602465e+11\n",
      "  3.19602465e+11  3.19602465e+11]\n"
     ]
    }
   ],
   "execution_count": 26
  },
  {
   "cell_type": "code",
   "id": "695ea9bf6e0ab608",
   "metadata": {
    "ExecuteTime": {
     "end_time": "2025-07-04T13:32:12.986768Z",
     "start_time": "2025-07-04T13:32:12.441742Z"
    }
   },
   "source": [
    "linear_model_prediction = linear_model.predict(x_test_data_scaled)\n",
    "print(\"❌Mean absoulte Error:\", round(mean_absolute_error(y_test_data, linear_model_prediction), 4), \"\\n🤖R²:\", round(r2_score(y_test_data, linear_model_prediction), 4))"
   ],
   "outputs": [
    {
     "name": "stdout",
     "output_type": "stream",
     "text": [
      "❌Mean absoulte Error: 1.3053 \n",
      "🤖R²: 0.0797\n"
     ]
    }
   ],
   "execution_count": 27
  },
  {
   "cell_type": "markdown",
   "id": "1092c3518ebfaf04",
   "metadata": {},
   "source": [
    "As we can see, our model has a low R² value and a high error which indicates that the predictions from our linear model differ significantly from the actual values. We can visualize this by creating a scatter plot of the predicted tips versus the actual tip amounts and adding an ideal line that represents perfect predictions. This allows us to see how far off our model's predictions are from the ideal.\n",
    "\n",
    "It becomes especially apparent that the model struggles with higher tip amounts (greater than $4) since it never predicts values above that threshold. This is probablly caused by the large number of zero values in our dataset, which lowers the slope of the regression line and makes the model systematically underestimate higher tips.\n",
    "\n",
    "Another possible reason why our predtictions differ a lot from the actual tip is that the tips are rounded by the nearest 1.00(see buisness understanding above) which cannot be well represented by our linear model. Because the tip values are rounded to full euros we suggest that a classification approach will likely work better than regression. The large gaps between the data points make it difficult to fit a precise regression line. Instead it seems more effective to divide the data into 10 classes (from 0 to \\$9) and predict one of these classes using classification algorithms\n",
    "\n",
    "In conclusion it becomes visible that our simple regression model is not appropriate to depict the real world and we need to try out other (classifiction) approaches to create a better and more robust model."
   ]
  },
  {
   "cell_type": "code",
   "id": "9a860faa0925d44f",
   "metadata": {
    "ExecuteTime": {
     "end_time": "2025-07-04T13:32:13.487860Z",
     "start_time": "2025-07-04T13:32:13.005981Z"
    }
   },
   "source": [
    "#Save our predticted values\n",
    "prediction = linear_model.predict(x_test_data_scaled)\n",
    "\n",
    "plt.figure(figsize=(6, 6))\n",
    "#Plot ideal line\n",
    "plt.plot([y_test_data.min(), y_test_data.max()], [y_test_data.min(), y_test_data.max()], 'r--')\n",
    "#Scatter plot prediction versus actual tip\n",
    "plt.scatter(prediction[:5000], y_test_data[:5000])\n",
    "plt.xlabel('Prediction')\n",
    "plt.ylabel('Actual Tip')\n",
    "plt.title('Actual versus predicted Tip')\n",
    "plt.show()"
   ],
   "outputs": [
    {
     "data": {
      "text/plain": [
       "<Figure size 600x600 with 1 Axes>"
      ],
      "image/png": "[encoded data removed]"
     },
     "metadata": {},
     "output_type": "display_data"
    }
   ],
   "execution_count": 28
  },
  {
   "cell_type": "markdown",
   "id": "1c1b77335c6e83c4",
   "metadata": {},
   "source": [
    "<h4 style=\"text-decoration: underline;\">3.x Decision Tree</h4>\n",
    "\n",
    " "
   ]
  },
  {
   "cell_type": "markdown",
   "id": "9158ca46",
   "metadata": {},
   "source": [
    "Versuch mit Random Tree Forest"
   ]
  },
  {
   "metadata": {
    "ExecuteTime": {
     "end_time": "2025-07-04T14:25:58.064061Z",
     "start_time": "2025-07-04T14:25:39.150088Z"
    }
   },
   "cell_type": "code",
   "source": [
    "model = DecisionTreeClassifier(max_depth=2, random_state = 42)\n",
    "model.fit(x_train_data_scaled, y_train_data)\n",
    "predictions = model.predict(x_test_data_scaled)"
   ],
   "id": "a054af71f4ac6d9b",
   "outputs": [],
   "execution_count": 65
  },
  {
   "metadata": {
    "ExecuteTime": {
     "end_time": "2025-07-04T14:48:09.560729Z",
     "start_time": "2025-07-04T14:48:09.469904Z"
    }
   },
   "cell_type": "code",
   "source": "print(\"❌Mean absoulte Error:\", round(mean_absolute_error(y_test_data, predictions), 4) )",
   "id": "265b0ffd6eb4f2aa",
   "outputs": [
    {
     "name": "stdout",
     "output_type": "stream",
     "text": [
      "❌Mean absoulte Error: 0.8966\n"
     ]
    }
   ],
   "execution_count": 66
  },
  {
   "metadata": {
    "ExecuteTime": {
     "end_time": "2025-07-04T14:49:01.799051Z",
     "start_time": "2025-07-04T14:48:32.176678Z"
    }
   },
   "cell_type": "code",
   "source": [
    "count_right_predictions = 0\n",
    "count_wrong_predictions = 0\n",
    "for i, prediction in enumerate(predictions):\n",
    "    real_value = y_test_data.iloc[i]\n",
    "    if prediction == real_value:\n",
    "        count_right_predictions += 1\n",
    "    else: \n",
    "        count_wrong_predictions += 1\n",
    "print(f\"✅There are {count_right_predictions} right predictions ({count_right_predictions/len(y_test_data)*100:.1f}%)\")\n",
    "print(f\"❌There are {count_wrong_predictions} wrong predictions ({count_wrong_predictions/len(y_test_data)*100:.1f}%)\")"
   ],
   "id": "534bc5fcc70f9f5e",
   "outputs": [
    {
     "name": "stdout",
     "output_type": "stream",
     "text": [
      "✅There are 5112185 right predictions (75.5%)\n",
      "❌There are 1657709 wrong predictions (24.5%)\n"
     ]
    }
   ],
   "execution_count": 67
  }
 ],
 "metadata": {
  "kernelspec": {
   "display_name": "Python [conda env:base] *",
   "language": "python",
   "name": "conda-base-py"
  },
  "language_info": {
   "codemirror_mode": {
    "name": "ipython",
    "version": 3
   },
   "file_extension": ".py",
   "mimetype": "text/x-python",
   "name": "python",
   "nbconvert_exporter": "python",
   "pygments_lexer": "ipython3",
   "version": "3.13.2"
  }
 },
 "nbformat": 4,
 "nbformat_minor": 5
}

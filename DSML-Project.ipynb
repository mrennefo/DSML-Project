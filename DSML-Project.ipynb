{
 "cells": [
  {
   "attachments": {},
   "cell_type": "markdown",
   "id": "85dcb6d7-eabc-4f84-9b91-71c1fa1328f9",
   "metadata": {},
   "source": [
    "<div style=\"text-align: center\"><h1 style=\"text-decoration: underline;\">DSML Project</h1></div>\n",
    "\n"
   ]
  },
  {
   "attachments": {},
   "cell_type": "markdown",
   "id": "7ad31350-3590-4527-b773-f4bd3984bfa9",
   "metadata": {},
   "source": [
    "This is the official Notebook of the DSML Project from Marc Rennefort, Kilian Lipinsky, Timo Hagelberg, Jan Behrendt-Emden and Paul Severin. In order to create this Project we used the following dataset: https://data.cityofchicago.org/Transportation/Transportation-Network-Providers-Trips-2023-2024-/n26f-ihde/about_data\n",
    "<h4>1. Description</h4>\n",
    "The goal of this Project is to predict the tip for ride-hailing in Chicago based on the travelled time and distance as well as the money spent, the weather and the information if the customer matched to a shared trip or not. \n"
   ]
  },
  {
   "cell_type": "code",
   "execution_count": 40,
   "id": "1c90e750-76f6-4524-9e00-23d389391975",
   "metadata": {},
   "outputs": [],
   "source": [
    "#Note all your imports here\n",
    "import pandas as pd\n",
    "import numpy as np\n",
    "import matplotlib as mpl\n",
    "import matplotlib.pyplot as plt\n",
    "%matplotlib inline\n",
    "import seaborn as sns\n",
    "from sklearn.linear_model import LinearRegression\n",
    "import datetime\n"
   ]
  },
  {
   "cell_type": "code",
   "execution_count": 42,
   "id": "27a4eaae-3635-49e9-8969-64792728a8ce",
   "metadata": {},
   "outputs": [
    {
     "name": "stderr",
     "output_type": "stream",
     "text": [
      "C:\\Users\\mrenn\\AppData\\Local\\Temp\\ipykernel_14492\\1788640310.py:1: DtypeWarning: Columns (15,16) have mixed types. Specify dtype option on import or set low_memory=False.\n",
      "  data = pd.read_csv('Data/Chicago_RideHailing_Data.csv') #habt geduld, dauert beim laden\n"
     ]
    }
   ],
   "source": [
    "data = pd.read_csv('Data/Chicago_RideHailing_Data.csv') #habt geduld, dauert beim laden"
   ]
  },
  {
   "cell_type": "code",
   "execution_count": 43,
   "id": "76201386-ac55-4da8-ab2b-7d5fe6a50618",
   "metadata": {},
   "outputs": [
    {
     "name": "stdout",
     "output_type": "stream",
     "text": [
      "<class 'pandas.core.frame.DataFrame'>\n",
      "RangeIndex: 27423899 entries, 0 to 27423898\n",
      "Data columns (total 24 columns):\n",
      " #   Column                      Dtype  \n",
      "---  ------                      -----  \n",
      " 0   Trip ID                     object \n",
      " 1   Trip Start Timestamp        object \n",
      " 2   Trip End Timestamp          object \n",
      " 3   Trip Seconds                float64\n",
      " 4   Trip Miles                  float64\n",
      " 5   Percent Time Chicago        float64\n",
      " 6   Percent Distance Chicago    float64\n",
      " 7   Pickup Census Tract         float64\n",
      " 8   Dropoff Census Tract        float64\n",
      " 9   Pickup Community Area       float64\n",
      " 10  Dropoff Community Area      float64\n",
      " 11  Fare                        float64\n",
      " 12  Tip                         float64\n",
      " 13  Additional Charges          float64\n",
      " 14  Trip Total                  float64\n",
      " 15  Shared Trip Authorized      object \n",
      " 16  Shared Trip Match           object \n",
      " 17  Trips Pooled                float64\n",
      " 18  Pickup Centroid Latitude    float64\n",
      " 19  Pickup Centroid Longitude   float64\n",
      " 20  Pickup Centroid Location    object \n",
      " 21  Dropoff Centroid Latitude   float64\n",
      " 22  Dropoff Centroid Longitude  float64\n",
      " 23  Dropoff Centroid Location   object \n",
      "dtypes: float64(17), object(7)\n",
      "memory usage: 4.9+ GB\n"
     ]
    },
    {
     "data": {
      "text/plain": [
       "Trip ID                              0\n",
       "Trip Start Timestamp                 0\n",
       "Trip End Timestamp                   0\n",
       "Trip Seconds                      1638\n",
       "Trip Miles                           1\n",
       "Percent Time Chicago              6595\n",
       "Percent Distance Chicago          7583\n",
       "Pickup Census Tract           10481937\n",
       "Dropoff Census Tract          10528302\n",
       "Pickup Community Area          2404874\n",
       "Dropoff Community Area         2488924\n",
       "Fare                             68110\n",
       "Tip                              68110\n",
       "Additional Charges               68110\n",
       "Trip Total                       68110\n",
       "Shared Trip Authorized               1\n",
       "Shared Trip Match                    1\n",
       "Trips Pooled                         1\n",
       "Pickup Centroid Latitude       2322890\n",
       "Pickup Centroid Longitude      2322890\n",
       "Pickup Centroid Location       2322890\n",
       "Dropoff Centroid Latitude      2416867\n",
       "Dropoff Centroid Longitude     2416867\n",
       "Dropoff Centroid Location      2416867\n",
       "dtype: int64"
      ]
     },
     "execution_count": 43,
     "metadata": {},
     "output_type": "execute_result"
    }
   ],
   "source": [
    "#some basic information for a better understanding of the data\n",
    "data.head()\n",
    "data.info()\n",
    "data.isnull().sum()\n",
    "\n",
    "\n"
   ]
  },
  {
   "cell_type": "code",
   "execution_count": 46,
   "id": "8eae27fb",
   "metadata": {},
   "outputs": [
    {
     "data": {
      "text/html": [
       "<div>\n",
       "<style scoped>\n",
       "    .dataframe tbody tr th:only-of-type {\n",
       "        vertical-align: middle;\n",
       "    }\n",
       "\n",
       "    .dataframe tbody tr th {\n",
       "        vertical-align: top;\n",
       "    }\n",
       "\n",
       "    .dataframe thead th {\n",
       "        text-align: right;\n",
       "    }\n",
       "</style>\n",
       "<table border=\"1\" class=\"dataframe\">\n",
       "  <thead>\n",
       "    <tr style=\"text-align: right;\">\n",
       "      <th></th>\n",
       "      <th>Trip ID</th>\n",
       "      <th>Trip Start Timestamp</th>\n",
       "      <th>Trip End Timestamp</th>\n",
       "      <th>Trip Seconds</th>\n",
       "      <th>Trip Miles</th>\n",
       "      <th>Fare</th>\n",
       "      <th>Tip</th>\n",
       "      <th>Trip Total</th>\n",
       "      <th>Shared Trip Authorized</th>\n",
       "      <th>Shared Trip Match</th>\n",
       "    </tr>\n",
       "  </thead>\n",
       "  <tbody>\n",
       "    <tr>\n",
       "      <th>0</th>\n",
       "      <td>8255c0b48b877bda14fbc2f490b6e42f359c44ec</td>\n",
       "      <td>09/19/2023 06:15:00 PM</td>\n",
       "      <td>09/19/2023 07:15:00 PM</td>\n",
       "      <td>3109.0</td>\n",
       "      <td>23.5</td>\n",
       "      <td>32.5</td>\n",
       "      <td>0.0</td>\n",
       "      <td>40.70</td>\n",
       "      <td>False</td>\n",
       "      <td>False</td>\n",
       "    </tr>\n",
       "    <tr>\n",
       "      <th>1</th>\n",
       "      <td>8255c1529cdd828c3ce4e6bdc494c734e8432025</td>\n",
       "      <td>09/28/2023 12:15:00 PM</td>\n",
       "      <td>09/28/2023 12:45:00 PM</td>\n",
       "      <td>1640.0</td>\n",
       "      <td>14.7</td>\n",
       "      <td>30.0</td>\n",
       "      <td>0.0</td>\n",
       "      <td>38.74</td>\n",
       "      <td>False</td>\n",
       "      <td>False</td>\n",
       "    </tr>\n",
       "    <tr>\n",
       "      <th>2</th>\n",
       "      <td>8255c247359d6e148930ba860afa3282848c67ed</td>\n",
       "      <td>09/03/2023 05:15:00 PM</td>\n",
       "      <td>09/03/2023 05:30:00 PM</td>\n",
       "      <td>772.0</td>\n",
       "      <td>1.9</td>\n",
       "      <td>20.0</td>\n",
       "      <td>0.0</td>\n",
       "      <td>22.39</td>\n",
       "      <td>False</td>\n",
       "      <td>False</td>\n",
       "    </tr>\n",
       "    <tr>\n",
       "      <th>3</th>\n",
       "      <td>8255c37a57997b77f75da6af598a38fc28b4e832</td>\n",
       "      <td>09/13/2023 03:30:00 PM</td>\n",
       "      <td>09/13/2023 03:30:00 PM</td>\n",
       "      <td>452.0</td>\n",
       "      <td>1.1</td>\n",
       "      <td>10.0</td>\n",
       "      <td>0.0</td>\n",
       "      <td>14.07</td>\n",
       "      <td>False</td>\n",
       "      <td>False</td>\n",
       "    </tr>\n",
       "    <tr>\n",
       "      <th>4</th>\n",
       "      <td>8255c6b273a32b3a76d7dad03328abb229de7fbd</td>\n",
       "      <td>09/16/2023 01:00:00 PM</td>\n",
       "      <td>09/16/2023 01:00:00 PM</td>\n",
       "      <td>819.0</td>\n",
       "      <td>3.9</td>\n",
       "      <td>10.0</td>\n",
       "      <td>0.0</td>\n",
       "      <td>12.89</td>\n",
       "      <td>False</td>\n",
       "      <td>False</td>\n",
       "    </tr>\n",
       "  </tbody>\n",
       "</table>\n",
       "</div>"
      ],
      "text/plain": [
       "                                    Trip ID    Trip Start Timestamp  \\\n",
       "0  8255c0b48b877bda14fbc2f490b6e42f359c44ec  09/19/2023 06:15:00 PM   \n",
       "1  8255c1529cdd828c3ce4e6bdc494c734e8432025  09/28/2023 12:15:00 PM   \n",
       "2  8255c247359d6e148930ba860afa3282848c67ed  09/03/2023 05:15:00 PM   \n",
       "3  8255c37a57997b77f75da6af598a38fc28b4e832  09/13/2023 03:30:00 PM   \n",
       "4  8255c6b273a32b3a76d7dad03328abb229de7fbd  09/16/2023 01:00:00 PM   \n",
       "\n",
       "       Trip End Timestamp  Trip Seconds  Trip Miles  Fare  Tip  Trip Total  \\\n",
       "0  09/19/2023 07:15:00 PM        3109.0        23.5  32.5  0.0       40.70   \n",
       "1  09/28/2023 12:45:00 PM        1640.0        14.7  30.0  0.0       38.74   \n",
       "2  09/03/2023 05:30:00 PM         772.0         1.9  20.0  0.0       22.39   \n",
       "3  09/13/2023 03:30:00 PM         452.0         1.1  10.0  0.0       14.07   \n",
       "4  09/16/2023 01:00:00 PM         819.0         3.9  10.0  0.0       12.89   \n",
       "\n",
       "  Shared Trip Authorized Shared Trip Match  \n",
       "0                  False             False  \n",
       "1                  False             False  \n",
       "2                  False             False  \n",
       "3                  False             False  \n",
       "4                  False             False  "
      ]
     },
     "execution_count": 46,
     "metadata": {},
     "output_type": "execute_result"
    }
   ],
   "source": [
    "#Entfernen der Spalten, die wir nicht brauchen\n",
    "\n",
    "data_cleaned = data.drop(columns = ['Percent Time Chicago', 'Percent Distance Chicago', 'Pickup Census Tract', 'Dropoff Census Tract',\n",
    "                            'Pickup Community Area', 'Dropoff Community Area', 'Additional Charges', 'Trips Pooled', \n",
    "                            'Pickup Centroid Latitude', 'Pickup Centroid Location', 'Dropoff Centroid Latitude', 'Dropoff Centroid Longitude', 'Dropoff Centroid Location', 'Pickup Centroid Longitude'])\n",
    "data_cleaned.head()\n"
   ]
  },
  {
   "cell_type": "code",
   "execution_count": 48,
   "id": "b921cc3b-a9de-4994-83c6-e64c9cb4fb1f",
   "metadata": {},
   "outputs": [],
   "source": [
    "#drop all rows with null values\n",
    "data_cleaned = data_cleaned.dropna(axis = 0)"
   ]
  },
  {
   "cell_type": "code",
   "execution_count": 56,
   "id": "82ba2335",
   "metadata": {},
   "outputs": [],
   "source": [
    "#changing format of the date (Trip Start Timestamp)\n",
    "data_cleaned['Trip Start Timestamp'] = pd.to_datetime(data_cleaned['Trip Start Timestamp'],  format='%m/%d/%Y %I:%M:%S %p', errors='coerce')\n",
    "data_cleaned['Trip End Timestamp'] = pd.to_datetime(data_cleaned['Trip End Timestamp'],  format='%m/%d/%Y %I:%M:%S %p', errors='coerce')"
   ]
  },
  {
   "cell_type": "code",
   "execution_count": 58,
   "id": "9270bcde-2698-40e4-9adf-315eb1f52d16",
   "metadata": {},
   "outputs": [
    {
     "name": "stdout",
     "output_type": "stream",
     "text": [
      "<class 'pandas.core.frame.DataFrame'>\n",
      "Index: 27354156 entries, 0 to 27423897\n",
      "Data columns (total 10 columns):\n",
      " #   Column                  Dtype         \n",
      "---  ------                  -----         \n",
      " 0   Trip ID                 object        \n",
      " 1   Trip Start Timestamp    datetime64[ns]\n",
      " 2   Trip End Timestamp      datetime64[ns]\n",
      " 3   Trip Seconds            float64       \n",
      " 4   Trip Miles              float64       \n",
      " 5   Fare                    float64       \n",
      " 6   Tip                     float64       \n",
      " 7   Trip Total              float64       \n",
      " 8   Shared Trip Authorized  object        \n",
      " 9   Shared Trip Match       object        \n",
      "dtypes: datetime64[ns](2), float64(5), object(3)\n",
      "memory usage: 2.2+ GB\n"
     ]
    }
   ],
   "source": [
    "data_cleaned.isnull().sum()\n",
    "data_cleaned.info()"
   ]
  }
 ],
 "metadata": {
  "kernelspec": {
   "display_name": "Python [conda env:base] *",
   "language": "python",
   "name": "conda-base-py"
  },
  "language_info": {
   "codemirror_mode": {
    "name": "ipython",
    "version": 3
   },
   "file_extension": ".py",
   "mimetype": "text/x-python",
   "name": "python",
   "nbconvert_exporter": "python",
   "pygments_lexer": "ipython3",
   "version": "3.12.7"
  }
 },
 "nbformat": 4,
 "nbformat_minor": 5
}

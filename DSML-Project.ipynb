{
 "cells": [
  {
   "attachments": {},
   "cell_type": "markdown",
   "id": "85dcb6d7-eabc-4f84-9b91-71c1fa1328f9",
   "metadata": {},
   "source": [
    "<div style=\"text-align: center\"><h1 style=\"text-decoration: underline;\">DSML Project</h1></div>\n",
    "\n"
   ]
  },
  {
   "cell_type": "markdown",
   "id": "f5e1d2bffc61bc85",
   "metadata": {},
   "source": [
    "This is the official Notebook of the DSML Project from Marc Rennefort, Kilian Lipinsky, Timo Hagelberg, Jan Behrendt-Emden and Paul Severin. In order to create this Project we used the following dataset: https://data.cityofchicago.org/Transportation/Transportation-Network-Providers-Trips-2023-2024-/n26f-ihde/about_data"
   ]
  },
  {
   "cell_type": "code",
   "id": "1c90e750-76f6-4524-9e00-23d389391975",
   "metadata": {
    "ExecuteTime": {
     "end_time": "2025-07-14T13:59:10.012937Z",
     "start_time": "2025-07-14T13:59:09.956214Z"
    }
   },
   "source": [
    "#Note all your imports here\n",
    "import warnings\n",
    "warnings.filterwarnings('ignore')\n",
    "import pandas as pd\n",
    "import numpy as np\n",
    "import matplotlib as mpl\n",
    "import matplotlib.pyplot as plt\n",
    "from holoviews.plotting.plotly import ScatterPlot\n",
    "from mpmath import sumap\n",
    "from numpy.ma.core import inner\n",
    "from pandas.core.common import random_state\n",
    "#from skimage.metrics import mean_squared_error\n",
    "from sklearn.metrics import mean_absolute_error, r2_score\n",
    "from sklearn.preprocessing import StandardScaler\n",
    "%matplotlib inline\n",
    "from sklearn.tree import DecisionTreeClassifier\n",
    "import seaborn as sns\n",
    "from sklearn.linear_model import LinearRegression\n",
    "from datetime import datetime\n",
    "from sklearn.model_selection import train_test_split\n",
    "from meteostat import Hourly, Point\n",
    "from sklearn.metrics.pairwise import euclidean_distances\n",
    "from sklearn.ensemble import RandomForestClassifier\n",
    "from sklearn.metrics import accuracy_score\n",
    "from sklearn.metrics import recall_score, precision_score, f1_score"
   ],
   "outputs": [],
   "execution_count": 31
  },
  {
   "cell_type": "markdown",
   "id": "7ad31350-3590-4527-b773-f4bd3984bfa9",
   "metadata": {},
   "source": [
    "\n",
    "<h4 style=\"text-decoration: underline;\">1. Buisness Understanding</h4>\n",
    "The given dataset contains all trips in 2023-2024 to the city of chicago reportet by rideshare companies such as Uber. With this data we want to train a model that helps use to predict the tip in ride hailing trips as accurate as possible. This could be interesting for Uber drivers to plan their rides on routes and days which give the most tip. In addition it could also help Uber as a company to make appropriate sales forecasts. For our prediction we want to include the following features: travel time, distance, fare amount, weather conditions, and whether the customer shared the ride. At this point it should be said that the tip values are not exact because they are rounded to the nearest $1.00 and only digital tips are included in the dataset, as tips paid in cash don't get tracked.\n"
   ]
  },
  {
   "cell_type": "markdown",
   "id": "eb96b7050d8dc921",
   "metadata": {},
   "source": [
    "<h4 style=\"text-decoration: underline;\">2. Data Understanding and Data Prepertion</h4>"
   ]
  },
  {
   "cell_type": "markdown",
   "id": "90df07db112fe767",
   "metadata": {},
   "source": [
    "<h4 style=\"text-decoration: underline;\">2.1 Some Basic Data Preperation</h4>\n",
    "In the first step we want to do some basic data preperartion and data understanding which means that we load our data set with the columns we need, we drop all rows with null values and changing our timestamps to datetime format."
   ]
  },
  {
   "cell_type": "code",
   "id": "76201386-ac55-4da8-ab2b-7d5fe6a50618",
   "metadata": {},
   "source": [
    "#Loading our dataset with the columns we need\n",
    "data_cleaned = pd.read_csv('Data/Chicago_RideHailing_Data.csv', usecols= ['Trip End Timestamp', 'Trip Seconds', 'Trip Miles', 'Tip', 'Trip Total','Dropoff Centroid Latitude', 'Dropoff Centroid Longitude', 'Shared Trip Authorized', 'Shared Trip Match'])\n",
    "\n",
    "#We can't use the Total including Tip, so we will calculate the cost (Fare + other Charges) as Total - Tip\n",
    "data_cleaned['Cost'] = data_cleaned['Trip Total'] - data_cleaned['Tip']\n",
    "data_cleaned = data_cleaned.drop(columns=['Trip Total'])"
   ],
   "outputs": [],
   "execution_count": null
  },
  {
   "cell_type": "code",
   "id": "28185221ab2587ee",
   "metadata": {},
   "source": [
    "#Get some basic understanding of our data\n",
    "print('Null Values: ', data_cleaned.isnull().sum())\n",
    "data_cleaned.info()\n",
    "data_cleaned.head()"
   ],
   "outputs": [],
   "execution_count": null
  },
  {
   "cell_type": "code",
   "id": "b921cc3b-a9de-4994-83c6-e64c9cb4fb1f",
   "metadata": {},
   "source": [
    "#Drop all rows with null values\n",
    "data_cleaned = data_cleaned.dropna(axis = 0)"
   ],
   "outputs": [],
   "execution_count": null
  },
  {
   "cell_type": "code",
   "id": "82ba2335",
   "metadata": {},
   "source": [
    "#Changing our timestamp to datetime format\n",
    "data_cleaned['Trip End Timestamp'] = pd.to_datetime(data_cleaned['Trip End Timestamp'],  format='%m/%d/%Y %I:%M:%S %p', errors='coerce')"
   ],
   "outputs": [],
   "execution_count": null
  },
  {
   "cell_type": "code",
   "id": "9270bcde-2698-40e4-9adf-315eb1f52d16",
   "metadata": {},
   "source": [
    "#Check if everything worked correctly\n",
    "print('Null-Werte: ', data_cleaned.isnull().sum())\n",
    "data_cleaned.info()"
   ],
   "outputs": [],
   "execution_count": null
  },
  {
   "cell_type": "markdown",
   "id": "8684bb9bbe0d210",
   "metadata": {},
   "source": [
    "<h4 style=\"text-decoration: underline;\">2.2 Including weather data</h4>\n",
    "In order to add the weather data we need to group our data because otherwise we will get runtime issues if we do API calls for barely 25 Million rows. This should be fine for our prediction purposes because there won't be huge differences in temperature or rain if we round by the second decimal place"
   ]
  },
  {
   "cell_type": "code",
   "id": "c4f3c83a49f3c622",
   "metadata": {},
   "source": [
    "#Round the Latitude and Longitude by the second decimal place and insert it in a new column\n",
    "data_cleaned[\"Latitude rounded\"] =  data_cleaned[\"Dropoff Centroid Latitude\"].round(2)\n",
    "data_cleaned[\"Longitude rounded\"] = data_cleaned[\"Dropoff Centroid Longitude\"].round(2)\n",
    "\n",
    "#Group the data by Latitude and Longitude\n",
    "data_grouped = data_cleaned.groupby([\"Latitude rounded\", \"Longitude rounded\"])[\"Trip End Timestamp\"].agg([\"min\", \"max\"]).reset_index()\n",
    "data_grouped.head()"
   ],
   "outputs": [],
   "execution_count": null
  },
  {
   "cell_type": "code",
   "id": "e378e75201ad951f",
   "metadata": {},
   "source": [
    "weather_list = []\n",
    "for i in range(len(data_grouped)):\n",
    "    #Initalise variables\n",
    "    latitude = data_grouped[\"Latitude rounded\"].iloc[i]\n",
    "    longitude = data_grouped[\"Longitude rounded\"].iloc[i]\n",
    "    location = Point(latitude, longitude)\n",
    "    timestamp_min = data_grouped[\"min\"].iloc[i]\n",
    "    timestamp_max = data_grouped[\"max\"].iloc[i]\n",
    "    \n",
    "    #Round min and max column to the next hour in order to extract the weather data correctly\n",
    "    timestamp_min_rounded = timestamp_min.replace(minute = 0, second = 0) \n",
    "    timestamp_max_rounded = timestamp_max.replace(minute = 0, second = 0)\n",
    "    \n",
    "    #Extract the weather data per location\n",
    "    weather = Hourly(location, timestamp_min_rounded, timestamp_max_rounded).fetch()\n",
    "\n",
    "    #Merge the extracted weather data with the fitting timestamps and locations\n",
    "    for j in range(len(weather)):\n",
    "       weather_list.append({\"Timestamp\": weather.index[j], \"Latitude rounded\": latitude, \"Longitude rounded\": longitude, \"Temperature\": weather[\"temp\"].iloc[j], \"Rain in mm\": weather[\"prcp\"].iloc[j]})\n",
    "\n",
    "#Covert the list to a DataFrame\n",
    "weather_data = pd.DataFrame(weather_list)\n",
    "weather_data.head()"
   ],
   "outputs": [],
   "execution_count": null
  },
  {
   "cell_type": "code",
   "id": "af959b64",
   "metadata": {},
   "source": [
    "print(weather_data.isnull().sum())\n",
    "weather_data = weather_data.dropna(axis=0)"
   ],
   "outputs": [],
   "execution_count": null
  },
  {
   "cell_type": "code",
   "id": "95f673f12697bfe6",
   "metadata": {},
   "source": [
    "#Now we prepare the merge of the weather data and the other data. For this we need to round our timestamps by the next hour because our weather data is given hourly\n",
    "data_cleaned[\"Trip End Timestamp Rounded\"] = data_cleaned[\"Trip End Timestamp\"].dt.floor(\"h\")\n"
   ],
   "outputs": [],
   "execution_count": null
  },
  {
   "cell_type": "code",
   "id": "a84dfd98eb4e51ff",
   "metadata": {},
   "source": [
    "#In the next step we can start with the merge\n",
    "data_merged = pd.merge(data_cleaned, weather_data, left_on=[\"Trip End Timestamp Rounded\", \"Latitude rounded\", \"Longitude rounded\"], right_on =[\"Timestamp\", \"Latitude rounded\", \"Longitude rounded\"], how = \"inner\")"
   ],
   "outputs": [],
   "execution_count": null
  },
  {
   "cell_type": "code",
   "id": "94ae6dcb",
   "metadata": {},
   "source": [
    "# Now we check if we introduced any null values with our weather data or during the merge\n",
    "print('Null-Werte: ', data_merged.isnull().sum())\n"
   ],
   "outputs": [],
   "execution_count": null
  },
  {
   "cell_type": "code",
   "id": "d2d93ac35cb9b957",
   "metadata": {},
   "source": [
    "#After that we can drop all the columns we just needed to merge our data\n",
    "data_merged = data_merged.drop(columns = [\"Dropoff Centroid Latitude\", \"Dropoff Centroid Longitude\", \"Latitude rounded\", \"Longitude rounded\", \"Timestamp\" ,\"Trip End Timestamp Rounded\"])\n",
    "data_merged.head()"
   ],
   "outputs": [],
   "execution_count": null
  },
  {
   "cell_type": "markdown",
   "id": "6292de49063ad3e9",
   "metadata": {},
   "source": [
    "<h4 style=\"text-decoration: underline;\">2.3 Creation of dummy variables</h4>\n",
    "To perform or regression later on we need to transfer the 'Shared Trip Authorized', 'Shared Trip Match' and 'Trip End Timestamp' column to numeric datatype. For this we make use of dummy variable where 1 stands for true and 0 stands for false for the Shared Trip variables and different variables for the time of day in case of the Trip End variable. In addition we need to creat dummy variables for the rain because we are not interested in the amount of rain on a certain day rather we want to plot wheter it rained or not. "
   ]
  },
  {
   "cell_type": "code",
   "id": "9d11db014a286ddc",
   "metadata": {},
   "source": [
    "#Create dummy variable for 'Shared Trip Authorized' and 'Shared Trip Match' (1 = True and 0 = False)\n",
    "data_merged[\"Shared Trip Authorized\"] = data_merged[\"Shared Trip Authorized\"].astype(int)\n",
    "data_merged[\"Shared Trip Match\"] = data_merged[\"Shared Trip Match\"].astype(int)\n",
    "print(\"📋First 5 Rows:\")\n",
    "data_merged.head()\n"
   ],
   "outputs": [],
   "execution_count": null
  },
  {
   "cell_type": "code",
   "id": "fa41d72f",
   "metadata": {},
   "source": [
    "#Create dummy variables for the Trip End Timestamp: 22:00-6:00 for night, 6:00-18:00 for day and 18:00-22:00 for evening\n",
    "data_merged[\"Trip End Hour\"] = data_merged[\"Trip End Timestamp\"].dt.hour\n",
    "data_merged[\"Night\"] = np.where((data_merged[\"Trip End Hour\"] >= 22) | (data_merged[\"Trip End Hour\"] < 6), 1, 0)\n",
    "data_merged[\"Day\"] = np.where((data_merged[\"Trip End Hour\"] >= 6) & (data_merged[\"Trip End Hour\"] < 18), 1, 0)\n",
    "data_merged[\"Evening\"] = np.where((data_merged[\"Trip End Hour\"] >= 18) & (data_merged[\"Trip End Hour\"] < 22), 1, 0)\n",
    "#Drop the Trip End Hour & Trip End Timestamp column as we don't need them anymore\n",
    "data_merged = data_merged.drop(columns=[\"Trip End Hour\", \"Trip End Timestamp\"])\n",
    "\n",
    "data_merged.head()"
   ],
   "outputs": [],
   "execution_count": null
  },
  {
   "cell_type": "code",
   "id": "c0708826312343ed",
   "metadata": {},
   "source": [
    "#We see that the column 'Rain in mm' is from datatype object but we need a numeric datatype, so we need to transform this column to the right datatype\n",
    "data_merged['Rain in mm'] = pd.to_numeric(data_merged['Rain in mm'], errors='coerce')"
   ],
   "outputs": [],
   "execution_count": null
  },
  {
   "cell_type": "code",
   "id": "2bf622b9",
   "metadata": {},
   "source": [
    "#Switching the columns so that all dummy variables will be after all numeric variables\n",
    "data_merged = data_merged[['Tip', 'Trip Seconds', 'Trip Miles', 'Cost', 'Temperature', 'Rain in mm', 'Shared Trip Authorized', 'Shared Trip Match', 'Day', 'Evening', 'Night']]"
   ],
   "outputs": [],
   "execution_count": null
  },
  {
   "cell_type": "markdown",
   "id": "9c6c28864e3a57b2",
   "metadata": {},
   "source": [
    "<h4 style=\"text-decoration: underline;\">2.4 Dealing with outliers</h4>\n",
    "Outliers are often caused by errors in data collection. Therefore it is important to identify and remove them as they can distort the performance of predictive models by representing values that do not reflect typical or real-world scenarios. In the following we attempted to remove outliers using the standard deviation method. However, it must be acknowledged that we cannot say with complete certainty whether each detected outlier represents a data collection error or simply reflects rare but valid cases—since we did not collect the data ourselves. Nevertheless this approach helps us prepare the dataset as effectively as possible for building robust predictive models\n",
    " "
   ]
  },
  {
   "cell_type": "code",
   "id": "eaa5794063011b33",
   "metadata": {},
   "source": [
    "\n",
    "#We don't need to deal with outliers on the columns with dummy variables because there can't be outliers if we just have the values 0 or 1\n",
    "data_merged_without_tip = data_merged.drop(columns = [\"Shared Trip Authorized\", \"Shared Trip Match\", \"Night\", \"Day\", \"Evening\"])\n",
    "for columns in data_merged_without_tip.columns:\n",
    "    #Calculate mean and standard deviation of the current column\n",
    "    mean = data_merged_without_tip[columns].mean()\n",
    "    std = data_merged_without_tip[columns].std()\n",
    "    \n",
    "    #Calculate upper and lower limit\n",
    "    upperlimit = mean + 3 * std\n",
    "    lowerlimit = mean - 3 * std\n",
    "\n",
    "    #Replace all outliers with null values so we can remove them later\n",
    "    data_merged.loc[(data_merged[columns] > upperlimit) | (data_merged[columns] < lowerlimit), columns] = np.nan\n",
    "\n",
    "#Remove all null values (delete all outliers)    \n",
    "data_without_outliers = data_merged.dropna(axis = 0)\n",
    "print(f\"❌ Deleted {len(data_merged) - len(data_without_outliers)} outliers\")\n"
   ],
   "outputs": [],
   "execution_count": null
  },
  {
   "cell_type": "markdown",
   "id": "21e10fae",
   "metadata": {},
   "source": [
    "<h4 style=\"text-decoration: underline;\">2.5 Saving the data</h4>\n",
    "We will save the preperated data here, so that we can continue working with it, without having to rerun all the code above every time we start.\n"
   ]
  },
  {
   "cell_type": "code",
   "id": "7bf3b4f2",
   "metadata": {},
   "source": [
    "data_without_outliers.to_csv('Data/Chicago_RideHailing_Data_Cleaned.csv', index=False)"
   ],
   "outputs": [],
   "execution_count": null
  },
  {
   "cell_type": "markdown",
   "id": "a4010aeb95861dbd",
   "metadata": {},
   "source": [
    "<h4 style=\"text-decoration: underline;\">3. Data Modeling</h4>\n",
    "If you have already saved the data you can use this shortcut to save some runtime."
   ]
  },
  {
   "cell_type": "code",
   "id": "30556712",
   "metadata": {
    "ExecuteTime": {
     "end_time": "2025-07-14T13:15:54.166918Z",
     "start_time": "2025-07-14T13:15:38.023992Z"
    }
   },
   "source": [
    "data_without_outliers = pd.read_csv('Data/Chicago_RideHailing_Data_Cleaned.csv')\n",
    "#Check if everything worked correctly\n",
    "data_without_outliers.head()"
   ],
   "outputs": [
    {
     "data": {
      "text/plain": [
       "   Tip  Trip Seconds  Trip Miles   Cost  Temperature  Rain in mm  \\\n",
       "0  0.0        3109.0        23.5  40.70         16.7         0.3   \n",
       "1  0.0        1640.0        14.7  38.74         18.9         0.0   \n",
       "2  0.0         772.0         1.9  22.39         31.1         0.0   \n",
       "3  0.0         452.0         1.1  14.07         17.8         0.0   \n",
       "4  0.0         819.0         3.9  12.89         16.1         0.0   \n",
       "\n",
       "   Shared Trip Authorized  Shared Trip Match  Day  Evening  Night  \n",
       "0                       0                  0    0        1      0  \n",
       "1                       0                  0    1        0      0  \n",
       "2                       0                  0    1        0      0  \n",
       "3                       0                  0    1        0      0  \n",
       "4                       0                  0    1        0      0  "
      ],
      "text/html": [
       "<div>\n",
       "<style scoped>\n",
       "    .dataframe tbody tr th:only-of-type {\n",
       "        vertical-align: middle;\n",
       "    }\n",
       "\n",
       "    .dataframe tbody tr th {\n",
       "        vertical-align: top;\n",
       "    }\n",
       "\n",
       "    .dataframe thead th {\n",
       "        text-align: right;\n",
       "    }\n",
       "</style>\n",
       "<table border=\"1\" class=\"dataframe\">\n",
       "  <thead>\n",
       "    <tr style=\"text-align: right;\">\n",
       "      <th></th>\n",
       "      <th>Tip</th>\n",
       "      <th>Trip Seconds</th>\n",
       "      <th>Trip Miles</th>\n",
       "      <th>Cost</th>\n",
       "      <th>Temperature</th>\n",
       "      <th>Rain in mm</th>\n",
       "      <th>Shared Trip Authorized</th>\n",
       "      <th>Shared Trip Match</th>\n",
       "      <th>Day</th>\n",
       "      <th>Evening</th>\n",
       "      <th>Night</th>\n",
       "    </tr>\n",
       "  </thead>\n",
       "  <tbody>\n",
       "    <tr>\n",
       "      <th>0</th>\n",
       "      <td>0.0</td>\n",
       "      <td>3109.0</td>\n",
       "      <td>23.5</td>\n",
       "      <td>40.70</td>\n",
       "      <td>16.7</td>\n",
       "      <td>0.3</td>\n",
       "      <td>0</td>\n",
       "      <td>0</td>\n",
       "      <td>0</td>\n",
       "      <td>1</td>\n",
       "      <td>0</td>\n",
       "    </tr>\n",
       "    <tr>\n",
       "      <th>1</th>\n",
       "      <td>0.0</td>\n",
       "      <td>1640.0</td>\n",
       "      <td>14.7</td>\n",
       "      <td>38.74</td>\n",
       "      <td>18.9</td>\n",
       "      <td>0.0</td>\n",
       "      <td>0</td>\n",
       "      <td>0</td>\n",
       "      <td>1</td>\n",
       "      <td>0</td>\n",
       "      <td>0</td>\n",
       "    </tr>\n",
       "    <tr>\n",
       "      <th>2</th>\n",
       "      <td>0.0</td>\n",
       "      <td>772.0</td>\n",
       "      <td>1.9</td>\n",
       "      <td>22.39</td>\n",
       "      <td>31.1</td>\n",
       "      <td>0.0</td>\n",
       "      <td>0</td>\n",
       "      <td>0</td>\n",
       "      <td>1</td>\n",
       "      <td>0</td>\n",
       "      <td>0</td>\n",
       "    </tr>\n",
       "    <tr>\n",
       "      <th>3</th>\n",
       "      <td>0.0</td>\n",
       "      <td>452.0</td>\n",
       "      <td>1.1</td>\n",
       "      <td>14.07</td>\n",
       "      <td>17.8</td>\n",
       "      <td>0.0</td>\n",
       "      <td>0</td>\n",
       "      <td>0</td>\n",
       "      <td>1</td>\n",
       "      <td>0</td>\n",
       "      <td>0</td>\n",
       "    </tr>\n",
       "    <tr>\n",
       "      <th>4</th>\n",
       "      <td>0.0</td>\n",
       "      <td>819.0</td>\n",
       "      <td>3.9</td>\n",
       "      <td>12.89</td>\n",
       "      <td>16.1</td>\n",
       "      <td>0.0</td>\n",
       "      <td>0</td>\n",
       "      <td>0</td>\n",
       "      <td>1</td>\n",
       "      <td>0</td>\n",
       "      <td>0</td>\n",
       "    </tr>\n",
       "  </tbody>\n",
       "</table>\n",
       "</div>"
      ]
     },
     "execution_count": 2,
     "metadata": {},
     "output_type": "execute_result"
    }
   ],
   "execution_count": 2
  },
  {
   "cell_type": "markdown",
   "id": "c90765fe319b7467",
   "metadata": {},
   "source": [
    "<h4 style=\"text-decoration: underline;\">3.1 Train Test Validation Split</h4>\n",
    "First of all we need to split our data in train, test and validation data."
   ]
  },
  {
   "cell_type": "code",
   "id": "982ea1825479e2d9",
   "metadata": {
    "ExecuteTime": {
     "end_time": "2025-07-14T13:16:08.355115Z",
     "start_time": "2025-07-14T13:15:54.261730Z"
    }
   },
   "source": [
    "#Define x and y vectors\n",
    "x = data_without_outliers.drop(columns = [\"Tip\"])\n",
    "y = data_without_outliers[\"Tip\"]\n",
    "\n",
    "#Perform train test validation split\n",
    "x_train_data, x_test_data, y_train_data, y_test_data = train_test_split(x, y, test_size = 0.3, random_state = 42)\n",
    "x_val_data, x_test_data, y_val_data, y_test_data = train_test_split(x_test_data, y_test_data, test_size = 0.5, random_state = 42)\n",
    "print(\"Datasplit:\")\n",
    "print(f\"🏋️ Training: {len(x_train_data)} Samples ({len(x_train_data)/len(data_without_outliers)*100:.1f}%)\")\n",
    "print(f\"🔬 Testing: {len(x_test_data)} Samples ({len(x_test_data)/len(data_without_outliers)*100:.1f}%)\")\n",
    "print(f\"✅ Validation: {len(x_val_data)} Samples ({len(x_val_data)/len(data_without_outliers)*100:.1f}%)\")"
   ],
   "outputs": [
    {
     "name": "stdout",
     "output_type": "stream",
     "text": [
      "Datasplit:\n",
      "🏋️ Training: 15796417 Samples (70.0%)\n",
      "🔬 Testing: 3384947 Samples (15.0%)\n",
      "✅ Validation: 3384947 Samples (15.0%)\n"
     ]
    }
   ],
   "execution_count": 3
  },
  {
   "cell_type": "code",
   "id": "9e2af61d",
   "metadata": {
    "ExecuteTime": {
     "end_time": "2025-07-14T13:16:13.459222Z",
     "start_time": "2025-07-14T13:16:08.468005Z"
    }
   },
   "source": [
    "#Because we want to train two diffrent models in the classification approach we need to create two different training datasets (only relevant for classification)\n",
    "\n",
    "x_train1_data, x_train2_data, y_train1_data, y_train2_data = train_test_split(x_train_data, y_train_data, test_size = 0.5, random_state = 42)\n",
    "print(\"Datasplit:\")\n",
    "print(f\"Train Model 1: {len(x_train1_data)} Samples ({len(x_train1_data)/len(data_without_outliers)*100:.1f}%)\")\n",
    "print(f\"Train Model 2: {len(x_train2_data)} Samples ({len(x_train2_data)/len(data_without_outliers)*100:.1f}%)\")"
   ],
   "outputs": [
    {
     "name": "stdout",
     "output_type": "stream",
     "text": [
      "Datasplit:\n",
      "Train Model 1: 7898208 Samples (35.0%)\n",
      "Train Model 2: 7898209 Samples (35.0%)\n"
     ]
    }
   ],
   "execution_count": 4
  },
  {
   "cell_type": "markdown",
   "id": "f3ba2b2a",
   "metadata": {},
   "source": [
    "<h4 style=\"text-decoration: underline;\">3.2 Descriptive analyses Split</h4>\n",
    "Now we will look at key statistics about our data. We only use the training data for this, in order to rule out accidental data leakage."
   ]
  },
  {
   "cell_type": "code",
   "id": "523acc14",
   "metadata": {
    "ExecuteTime": {
     "end_time": "2025-07-14T13:16:16.047021Z",
     "start_time": "2025-07-14T13:16:13.499342Z"
    }
   },
   "source": [
    "#Create a table with a column for each feature and key statistics as rows\n",
    "def create_statistics_table(df):\n",
    "    stats = pd.DataFrame(index=['Mean', 'Median', 'Standard Deviation', 'Min', 'Max', 'Range'])\n",
    "    for column in df.columns:\n",
    "        stats[column] = [\n",
    "            df[column].mean(),\n",
    "            df[column].median(),\n",
    "            df[column].std(),\n",
    "            df[column].min(),\n",
    "            df[column].max(),\n",
    "            df[column].max() - df[column].min()\n",
    "        ]\n",
    "    return stats\n",
    "\n",
    "#Create statistics table for the training data\n",
    "features_stats_table = create_statistics_table(x_train_data.drop(columns=['Shared Trip Authorized', 'Shared Trip Match', 'Night', 'Day', 'Evening']))\n",
    "target_stats_table = create_statistics_table(y_train_data.to_frame(name='Tip'))\n",
    "stats_table = pd.concat([target_stats_table.rename(columns={'Tip': 'Tip (Target)'}), features_stats_table], axis=1)\n",
    "stats_table.head(len(stats_table))"
   ],
   "outputs": [
    {
     "data": {
      "text/plain": [
       "                    Tip (Target)  Trip Seconds  Trip Miles       Cost  \\\n",
       "Mean                    0.896794    954.234796    5.204585  17.365140   \n",
       "Median                  0.000000    807.000000    3.400000  14.730000   \n",
       "Standard Deviation      1.846578    598.735159    4.822081   9.881357   \n",
       "Min                     0.000000      0.000000    0.000000   0.000000   \n",
       "Max                     9.000000   3315.000000   25.200000  60.140000   \n",
       "Range                   9.000000   3315.000000   25.200000  60.140000   \n",
       "\n",
       "                    Temperature  Rain in mm  \n",
       "Mean                   9.465982    0.056994  \n",
       "Median                 8.300000    0.000000  \n",
       "Standard Deviation     8.431425    0.191351  \n",
       "Min                  -17.000000    0.000000  \n",
       "Max                   33.900000    1.400000  \n",
       "Range                 50.900000    1.400000  "
      ],
      "text/html": [
       "<div>\n",
       "<style scoped>\n",
       "    .dataframe tbody tr th:only-of-type {\n",
       "        vertical-align: middle;\n",
       "    }\n",
       "\n",
       "    .dataframe tbody tr th {\n",
       "        vertical-align: top;\n",
       "    }\n",
       "\n",
       "    .dataframe thead th {\n",
       "        text-align: right;\n",
       "    }\n",
       "</style>\n",
       "<table border=\"1\" class=\"dataframe\">\n",
       "  <thead>\n",
       "    <tr style=\"text-align: right;\">\n",
       "      <th></th>\n",
       "      <th>Tip (Target)</th>\n",
       "      <th>Trip Seconds</th>\n",
       "      <th>Trip Miles</th>\n",
       "      <th>Cost</th>\n",
       "      <th>Temperature</th>\n",
       "      <th>Rain in mm</th>\n",
       "    </tr>\n",
       "  </thead>\n",
       "  <tbody>\n",
       "    <tr>\n",
       "      <th>Mean</th>\n",
       "      <td>0.896794</td>\n",
       "      <td>954.234796</td>\n",
       "      <td>5.204585</td>\n",
       "      <td>17.365140</td>\n",
       "      <td>9.465982</td>\n",
       "      <td>0.056994</td>\n",
       "    </tr>\n",
       "    <tr>\n",
       "      <th>Median</th>\n",
       "      <td>0.000000</td>\n",
       "      <td>807.000000</td>\n",
       "      <td>3.400000</td>\n",
       "      <td>14.730000</td>\n",
       "      <td>8.300000</td>\n",
       "      <td>0.000000</td>\n",
       "    </tr>\n",
       "    <tr>\n",
       "      <th>Standard Deviation</th>\n",
       "      <td>1.846578</td>\n",
       "      <td>598.735159</td>\n",
       "      <td>4.822081</td>\n",
       "      <td>9.881357</td>\n",
       "      <td>8.431425</td>\n",
       "      <td>0.191351</td>\n",
       "    </tr>\n",
       "    <tr>\n",
       "      <th>Min</th>\n",
       "      <td>0.000000</td>\n",
       "      <td>0.000000</td>\n",
       "      <td>0.000000</td>\n",
       "      <td>0.000000</td>\n",
       "      <td>-17.000000</td>\n",
       "      <td>0.000000</td>\n",
       "    </tr>\n",
       "    <tr>\n",
       "      <th>Max</th>\n",
       "      <td>9.000000</td>\n",
       "      <td>3315.000000</td>\n",
       "      <td>25.200000</td>\n",
       "      <td>60.140000</td>\n",
       "      <td>33.900000</td>\n",
       "      <td>1.400000</td>\n",
       "    </tr>\n",
       "    <tr>\n",
       "      <th>Range</th>\n",
       "      <td>9.000000</td>\n",
       "      <td>3315.000000</td>\n",
       "      <td>25.200000</td>\n",
       "      <td>60.140000</td>\n",
       "      <td>50.900000</td>\n",
       "      <td>1.400000</td>\n",
       "    </tr>\n",
       "  </tbody>\n",
       "</table>\n",
       "</div>"
      ]
     },
     "execution_count": 5,
     "metadata": {},
     "output_type": "execute_result"
    }
   ],
   "execution_count": 5
  },
  {
   "cell_type": "code",
   "id": "4b06422b",
   "metadata": {
    "ExecuteTime": {
     "end_time": "2025-07-14T13:16:16.907186Z",
     "start_time": "2025-07-14T13:16:16.092295Z"
    }
   },
   "source": [
    "# Now we create a table presenting the share of 1s for each dummy variable in the training data\n",
    "dummy_share = pd.DataFrame({\n",
    "    'Shared Trip Authorized': x_train_data['Shared Trip Authorized'].value_counts(normalize=True),\n",
    "    'Shared Trip Match': x_train_data['Shared Trip Match'].value_counts(normalize=True),\n",
    "    'Night': x_train_data['Night'].value_counts(normalize=True),\n",
    "    'Day': x_train_data['Day'].value_counts(normalize=True),\n",
    "    'Evening': x_train_data['Evening'].value_counts(normalize=True)\n",
    "})\n",
    "\n",
    "dummy_share.head(len(dummy_share))\n"
   ],
   "outputs": [
    {
     "data": {
      "text/plain": [
       "   Shared Trip Authorized  Shared Trip Match     Night       Day   Evening\n",
       "0                0.944483           0.976587  0.782896  0.471575  0.745528\n",
       "1                0.055517           0.023413  0.217104  0.528425  0.254472"
      ],
      "text/html": [
       "<div>\n",
       "<style scoped>\n",
       "    .dataframe tbody tr th:only-of-type {\n",
       "        vertical-align: middle;\n",
       "    }\n",
       "\n",
       "    .dataframe tbody tr th {\n",
       "        vertical-align: top;\n",
       "    }\n",
       "\n",
       "    .dataframe thead th {\n",
       "        text-align: right;\n",
       "    }\n",
       "</style>\n",
       "<table border=\"1\" class=\"dataframe\">\n",
       "  <thead>\n",
       "    <tr style=\"text-align: right;\">\n",
       "      <th></th>\n",
       "      <th>Shared Trip Authorized</th>\n",
       "      <th>Shared Trip Match</th>\n",
       "      <th>Night</th>\n",
       "      <th>Day</th>\n",
       "      <th>Evening</th>\n",
       "    </tr>\n",
       "  </thead>\n",
       "  <tbody>\n",
       "    <tr>\n",
       "      <th>0</th>\n",
       "      <td>0.944483</td>\n",
       "      <td>0.976587</td>\n",
       "      <td>0.782896</td>\n",
       "      <td>0.471575</td>\n",
       "      <td>0.745528</td>\n",
       "    </tr>\n",
       "    <tr>\n",
       "      <th>1</th>\n",
       "      <td>0.055517</td>\n",
       "      <td>0.023413</td>\n",
       "      <td>0.217104</td>\n",
       "      <td>0.528425</td>\n",
       "      <td>0.254472</td>\n",
       "    </tr>\n",
       "  </tbody>\n",
       "</table>\n",
       "</div>"
      ]
     },
     "execution_count": 6,
     "metadata": {},
     "output_type": "execute_result"
    }
   ],
   "execution_count": 6
  },
  {
   "cell_type": "markdown",
   "id": "f0e6f7fdb19fb143",
   "metadata": {},
   "source": "In the next step we plot the data to get an first overview on our predictors. For this we use the first 5000 values of each predictor because if we would use all value we cannot see any possible linear relationship because there would be too much data in one scatter plot. In addition it leads to a much shorter runtime. "
  },
  {
   "cell_type": "code",
   "id": "e774fd7e0d771cb8",
   "metadata": {
    "ExecuteTime": {
     "end_time": "2025-07-14T13:16:19.260386Z",
     "start_time": "2025-07-14T13:16:16.978684Z"
    }
   },
   "source": [
    "#Create Scatterplots for the first 4 predictors\n",
    "fig_1, axes_1 = plt.subplots(nrows = 1, ncols = 4, figsize= (21,6))\n",
    "fig_1.suptitle(\"Scatterplots of all predictors\", fontsize=26)\n",
    "for i, ax in enumerate(axes_1):\n",
    "    ax.scatter(x = x_train_data.iloc[:5000, i], y = y_train_data[:5000], color = f'C{i}')\n",
    "    ax.set_title(x_train_data.columns[i])\n",
    "plt.tight_layout()\n",
    "plt.show()\n",
    "\n",
    "#Create Scatterplots for predictor 5-7\n",
    "fig_2, axes_2 = plt.subplots(nrows = 1, ncols = 3, figsize= (21,6))\n",
    "for i, ax in enumerate(axes_2):\n",
    "    x_values = x_train_data.iloc[:5000, i + 4]\n",
    "    y_values = y_train_data[:5000]\n",
    "    \n",
    "    # Kombiniere x und y Werte für das Zählen\n",
    "    points_df = pd.DataFrame({'x': x_values, 'y': y_values})\n",
    "    \n",
    "    # Zähle die Häufigkeit jeder einzigartigen Kombination\n",
    "    point_counts = points_df.groupby(['x', 'y']).size().reset_index(name='count')\n",
    "    \n",
    "    # Erstelle die Größen basierend auf der Anzahl (skaliert für bessere Sichtbarkeit)\n",
    "    sizes = point_counts['count']\n",
    "    \n",
    "    ax.scatter(x = point_counts['x'], y = point_counts['y'], \n",
    "               s = sizes, color = f'C{i + 4}')\n",
    "    ax.set_title(x_train_data.columns[i + 4])\n",
    "plt.tight_layout()\n",
    "plt.show()\n",
    "\n",
    "#Create Scatterplots for predictor 8-10\n",
    "fig_3, axes_3 = plt.subplots(nrows = 1, ncols = 3, figsize= (21,6))\n",
    "for i, ax in enumerate(axes_3):\n",
    "    x_values = x_train_data.iloc[:5000, i + 7]\n",
    "    y_values = y_train_data[:5000]\n",
    "    \n",
    "    # Kombiniere x und y Werte für das Zählen\n",
    "    points_df = pd.DataFrame({'x': x_values, 'y': y_values})\n",
    "    \n",
    "    # Zähle die Häufigkeit jeder einzigartigen Kombination\n",
    "    point_counts = points_df.groupby(['x', 'y']).size().reset_index(name='count')\n",
    "    \n",
    "    # Erstelle die Größen basierend auf der Anzahl (skaliert für bessere Sichtbarkeit)\n",
    "    sizes = point_counts['count']\n",
    "    \n",
    "    ax.scatter(x = point_counts['x'], y = point_counts['y'], \n",
    "               s = sizes, color = f'C{i + 7}')\n",
    "    ax.set_title(x_train_data.columns[i + 7])\n",
    "plt.tight_layout()\n",
    "plt.show()"
   ],
   "outputs": [
    {
     "data": {
      "text/plain": [
       "<Figure size 2100x600 with 4 Axes>"
      ],
      "image/png": "[encoded data removed]"
     },
     "metadata": {},
     "output_type": "display_data"
    },
    {
     "data": {
      "text/plain": [
       "<Figure size 2100x600 with 3 Axes>"
      ],
      "image/png": "[encoded data removed]"
     },
     "metadata": {},
     "output_type": "display_data"
    },
    {
     "data": {
      "text/plain": [
       "<Figure size 2100x600 with 3 Axes>"
      ],
      "image/png": "[encoded data removed]"
     },
     "metadata": {},
     "output_type": "display_data"
    }
   ],
   "execution_count": 7
  },
  {
   "cell_type": "markdown",
   "id": "89a560e5dc95786d",
   "metadata": {},
   "source": [
    "<h4 style=\"text-decoration: underline;\">3.3 Data normalization</h4>\n",
    "After plotting the data we get some interesting information. It looks like there are a lot of linear correlations for example between the costs and the tip. Moreover it is noticeable that the predictors are on diffrent scales so we need to normalize them to get meaningful result in our regression later on. For the normalization we make use of the python libary StandartScaler which uses the following formula:\n",
    "\\[\n",
    "z = \\frac{x - \\mu}{\\sigma}\n",
    "\\] "
   ]
  },
  {
   "cell_type": "code",
   "id": "227744ba4d1020f4",
   "metadata": {
    "ExecuteTime": {
     "end_time": "2025-07-14T13:16:24.847342Z",
     "start_time": "2025-07-14T13:16:19.291426Z"
    }
   },
   "source": [
    "#Select which Data to normalize (no Dummy Variables)\n",
    "columns_to_normalize = [\"Trip Seconds\", \"Trip Miles\", \"Cost\", \"Temperature\", \"Rain in mm\"]\n",
    "\n",
    "\n",
    "x_train_data_scaled = x_train_data.copy()\n",
    "x_val_data_scaled = x_val_data.copy()\n",
    "x_test_data_scaled = x_test_data.copy()\n",
    "\n",
    "\n",
    "#Normalize data\n",
    "scaler = StandardScaler()\n",
    "x_train_data_scaled[columns_to_normalize] = scaler.fit_transform(x_train_data[columns_to_normalize])\n",
    "#Hier nur noch transform verwenden, damit Mittelwert und Standardabweichung nicht neu berechnet werden\n",
    "x_val_data_scaled[columns_to_normalize] = scaler.transform(x_val_data[columns_to_normalize])\n",
    "x_test_data_scaled[columns_to_normalize] = scaler.transform(x_test_data[columns_to_normalize])\n",
    "\n",
    "x_train_data_scaled.head()\n"
   ],
   "outputs": [
    {
     "data": {
      "text/plain": [
       "          Trip Seconds  Trip Miles      Cost  Temperature  Rain in mm  \\\n",
       "21725870     -0.787051   -0.747516 -0.197862    -0.992238    2.315143   \n",
       "11506469     -0.464704   -0.374234 -0.464019    -0.731310   -0.297853   \n",
       "21483874     -0.469715   -0.726779  0.821229    -0.399219    6.495937   \n",
       "19976356      0.527387    2.342436  0.962910    -0.458521   -0.297853   \n",
       "13810485     -0.970771   -0.788992 -0.971035    -0.138290   -0.297853   \n",
       "\n",
       "          Shared Trip Authorized  Shared Trip Match  Day  Evening  Night  \n",
       "21725870                       0                  0    1        0      0  \n",
       "11506469                       0                  0    1        0      0  \n",
       "21483874                       0                  0    1        0      0  \n",
       "19976356                       0                  0    0        0      1  \n",
       "13810485                       0                  0    0        1      0  "
      ],
      "text/html": [
       "<div>\n",
       "<style scoped>\n",
       "    .dataframe tbody tr th:only-of-type {\n",
       "        vertical-align: middle;\n",
       "    }\n",
       "\n",
       "    .dataframe tbody tr th {\n",
       "        vertical-align: top;\n",
       "    }\n",
       "\n",
       "    .dataframe thead th {\n",
       "        text-align: right;\n",
       "    }\n",
       "</style>\n",
       "<table border=\"1\" class=\"dataframe\">\n",
       "  <thead>\n",
       "    <tr style=\"text-align: right;\">\n",
       "      <th></th>\n",
       "      <th>Trip Seconds</th>\n",
       "      <th>Trip Miles</th>\n",
       "      <th>Cost</th>\n",
       "      <th>Temperature</th>\n",
       "      <th>Rain in mm</th>\n",
       "      <th>Shared Trip Authorized</th>\n",
       "      <th>Shared Trip Match</th>\n",
       "      <th>Day</th>\n",
       "      <th>Evening</th>\n",
       "      <th>Night</th>\n",
       "    </tr>\n",
       "  </thead>\n",
       "  <tbody>\n",
       "    <tr>\n",
       "      <th>21725870</th>\n",
       "      <td>-0.787051</td>\n",
       "      <td>-0.747516</td>\n",
       "      <td>-0.197862</td>\n",
       "      <td>-0.992238</td>\n",
       "      <td>2.315143</td>\n",
       "      <td>0</td>\n",
       "      <td>0</td>\n",
       "      <td>1</td>\n",
       "      <td>0</td>\n",
       "      <td>0</td>\n",
       "    </tr>\n",
       "    <tr>\n",
       "      <th>11506469</th>\n",
       "      <td>-0.464704</td>\n",
       "      <td>-0.374234</td>\n",
       "      <td>-0.464019</td>\n",
       "      <td>-0.731310</td>\n",
       "      <td>-0.297853</td>\n",
       "      <td>0</td>\n",
       "      <td>0</td>\n",
       "      <td>1</td>\n",
       "      <td>0</td>\n",
       "      <td>0</td>\n",
       "    </tr>\n",
       "    <tr>\n",
       "      <th>21483874</th>\n",
       "      <td>-0.469715</td>\n",
       "      <td>-0.726779</td>\n",
       "      <td>0.821229</td>\n",
       "      <td>-0.399219</td>\n",
       "      <td>6.495937</td>\n",
       "      <td>0</td>\n",
       "      <td>0</td>\n",
       "      <td>1</td>\n",
       "      <td>0</td>\n",
       "      <td>0</td>\n",
       "    </tr>\n",
       "    <tr>\n",
       "      <th>19976356</th>\n",
       "      <td>0.527387</td>\n",
       "      <td>2.342436</td>\n",
       "      <td>0.962910</td>\n",
       "      <td>-0.458521</td>\n",
       "      <td>-0.297853</td>\n",
       "      <td>0</td>\n",
       "      <td>0</td>\n",
       "      <td>0</td>\n",
       "      <td>0</td>\n",
       "      <td>1</td>\n",
       "    </tr>\n",
       "    <tr>\n",
       "      <th>13810485</th>\n",
       "      <td>-0.970771</td>\n",
       "      <td>-0.788992</td>\n",
       "      <td>-0.971035</td>\n",
       "      <td>-0.138290</td>\n",
       "      <td>-0.297853</td>\n",
       "      <td>0</td>\n",
       "      <td>0</td>\n",
       "      <td>0</td>\n",
       "      <td>1</td>\n",
       "      <td>0</td>\n",
       "    </tr>\n",
       "  </tbody>\n",
       "</table>\n",
       "</div>"
      ]
     },
     "execution_count": 8,
     "metadata": {},
     "output_type": "execute_result"
    }
   ],
   "execution_count": 8
  },
  {
   "cell_type": "markdown",
   "id": "f5d74f7440394679",
   "metadata": {},
   "source": [
    "<h4 style=\"text-decoration: underline;\">3.4 Linear Regression</h4>\n",
    "\n",
    "After finishing the data preperation and completing our descripive task we now want to start with our predictive models. First of all we want to create an simple linear regression because we have seen a few linear relationships between our predictors and the tip in the descriptive task above. An linear regression is a good first attemp to create good understandable machine learning models because it is easy to implement and to interpret. Espacially in approximatiely lineare realtionships (as we have seen in our scatter plots before) this model is really robust and gives us good predictions. But in complex problems (where the realationships are not linear) this easy approach could be too simple and is not usable in order to represent reality. So this step is used to see if our prediction problem could be solved well by an easy understandable model or if it needs more complex regression tasks to create appropriate predictions.\n",
    " \n",
    "We define our linear regression model with the following input vector:\n",
    "\\begin{equation}\n",
    "x^{(i)} = \\left[ \\begin{array}{c} 1 \\\\ \\mathrm{Trip\\ Seconds}^{(i)} \\\\ \\mathrm{Trip\\ Miles}^{(i)} \\\\ \\mathrm{Shared\\ Trip\\ Authorized}^{(i)} \\\\ \\mathrm{Shared\\ Trip\\ Matched}^{(i)} \\\\ \\mathrm{Cost}^{(i)} \\\\ \\mathrm{Temperature}^{(i)} \\\\ \\mathrm{Rain\\ in\\ mm}^{(i)} \\\\ \\mathrm{Night}^{(i)} \\\\ \\mathrm{Day}^{(i)} \\\\\n",
    "\\mathrm{Evening}^{(i)} \\end{array} \\right] \\end{equation}\n",
    "\n",
    "In addition we create our linear hypothesis function $tip_\\beta(x) = \\beta^Tx$ is given by:\n",
    "\n",
    "\\begin{equation}\n",
    "tip_\\beta(x) = \\beta_0 + \\beta_1 * \\mathrm{Trip\\ Seconds}^{(i)} + \\beta_2 * \\mathrm{Trip\\ Miles}^{(i)} + \\beta_3 * \\mathrm{Shared\\ Trip\\ Authorized}^{(i)} + \\\\ \\beta_4 * \\mathrm{Shared\\ Trip\\ Matched}^{(i)} + \\beta_5 * \\mathrm{Cost}^{(i)} + \\beta_6 * \\mathrm{Temperature}^{(i)} + \\beta_7 * \\mathrm{Rain\\ In\\ MM}^{(i)} + \\\\ \\beta_8 * \\mathrm{Night}^{(i)} + \\beta_9 * \\mathrm{Day}^{(i)} + \\beta_{10} * \\mathrm{Evening}^{(i)} \n",
    "\\end{equation}\n",
    "\n",
    "After defining our linear regression model, we now want to find the right values for our predictors $ \\beta_0, \\beta_1, \\dots, \\beta_9 $.\n"
   ]
  },
  {
   "cell_type": "code",
   "id": "d6705753cb1b7f98",
   "metadata": {
    "ExecuteTime": {
     "end_time": "2025-07-14T13:16:30.457377Z",
     "start_time": "2025-07-14T13:16:24.890738Z"
    }
   },
   "source": [
    "linear_model = LinearRegression()\n",
    "linear_model.fit(x_train_data_scaled, y_train_data)\n",
    "print(\"📋Values for our predictors:\")\n",
    "print(str(linear_model.coef_))"
   ],
   "outputs": [
    {
     "name": "stdout",
     "output_type": "stream",
     "text": [
      "📋Values for our predictors:\n",
      "[-8.96401267e-02 -1.37733937e-01  6.53221436e-01  2.23432598e-02\n",
      " -2.63979804e-03 -3.83248811e-01  3.25964622e-02 -2.91849376e+11\n",
      " -2.91849376e+11 -2.91849376e+11]\n"
     ]
    }
   ],
   "execution_count": 9
  },
  {
   "cell_type": "code",
   "id": "695ea9bf6e0ab608",
   "metadata": {
    "ExecuteTime": {
     "end_time": "2025-07-14T13:16:30.902824Z",
     "start_time": "2025-07-14T13:16:30.514Z"
    }
   },
   "source": [
    "linear_model_prediction = linear_model.predict(x_val_data_scaled)\n",
    "print(\"❌Mean absoulte Error:\", round(mean_absolute_error(y_val_data, linear_model_prediction), 4), \"\\n🤖R²:\", round(r2_score(y_val_data, linear_model_prediction), 4))"
   ],
   "outputs": [
    {
     "name": "stdout",
     "output_type": "stream",
     "text": [
      "❌Mean absoulte Error: 1.3065 \n",
      "🤖R²: 0.0799\n"
     ]
    }
   ],
   "execution_count": 10
  },
  {
   "cell_type": "markdown",
   "id": "1092c3518ebfaf04",
   "metadata": {},
   "source": [
    "As we can see, our model has a low R² value and a high error which indicates that the predictions from our linear model differ significantly from the actual values. We can visualize this by creating a scatter plot of the predicted tips versus the actual tip amounts and adding an ideal line that represents perfect predictions. This allows us to see how far off our model's predictions are from the ideal.\n",
    "\n",
    "It becomes especially apparent that the model struggles with higher tip amounts (greater than $4) since it never predicts values above that threshold. This is probablly caused by the large number of zero values in our dataset, which lowers the slope of the regression line and makes the model systematically underestimate higher tips.\n",
    "\n",
    "Another possible reason why our predtictions differ a lot from the actual tip is that the tips are rounded by the nearest 1.00(see buisness understanding above) which cannot be well represented by our linear model. Because the tip values are rounded to full euros we suggest that a classification approach will likely work better than regression. The large gaps between the data points make it difficult to fit a precise regression line. Instead it seems more effective to divide the data into 10 classes (from 0 to \\$9) and predict one of these classes using classification algorithms\n",
    "\n",
    "In conclusion it becomes visible that our simple regression model is not appropriate to depict the real world and we need to try out other (classifiction) approaches to create a better and more robust model."
   ]
  },
  {
   "cell_type": "code",
   "id": "9a860faa0925d44f",
   "metadata": {
    "ExecuteTime": {
     "end_time": "2025-07-14T13:16:31.257281Z",
     "start_time": "2025-07-14T13:16:30.970502Z"
    }
   },
   "source": [
    "plt.figure(figsize=(6, 6))\n",
    "#Plot ideal line\n",
    "plt.plot([y_val_data.min(), y_val_data.max()], [y_val_data.min(), y_val_data.max()], 'r--')\n",
    "#Scatter plot prediction versus actual tip\n",
    "plt.scatter(linear_model_prediction[:5000], y_val_data[:5000])\n",
    "plt.xlabel('Prediction')\n",
    "plt.ylabel('Actual Tip')\n",
    "plt.title('Actual versus predicted Tip')\n",
    "plt.show()"
   ],
   "outputs": [
    {
     "data": {
      "text/plain": [
       "<Figure size 600x600 with 1 Axes>"
      ],
      "image/png": "[encoded data removed]"
     },
     "metadata": {},
     "output_type": "display_data"
    }
   ],
   "execution_count": 11
  },
  {
   "cell_type": "markdown",
   "id": "1c1b77335c6e83c4",
   "metadata": {},
   "source": [
    "<h4 style=\"text-decoration: underline;\">3.5 Decision Tree</h4>\n",
    "As mentioned before our linear regression approach did not perform very well so we would like to try a completely different method that will hopefully yield better results.  we plan to use decision trees as a classification approach.\n",
    "\n",
    "We believe that classification could create a more robust model because our data is rounded to the nearest \\$1.00, resulting in 10 different classes (from \\$0 to \\$9). Instead of predicting continuous values, this method will predict which of these classes a data point belongs to. As a result it avoids producing values between these discrete classes which should lead to more precise and accurate predictions compared to our previous regression approach.\n",
    "\n",
    "At first we want to define some methods which help us to visualize the performance of our model."
   ]
  },
  {
   "cell_type": "markdown",
   "id": "9158ca46",
   "metadata": {},
   "source": ""
  },
  {
   "cell_type": "code",
   "id": "265b0ffd6eb4f2aa",
   "metadata": {
    "ExecuteTime": {
     "end_time": "2025-07-14T13:16:31.480837Z",
     "start_time": "2025-07-14T13:16:31.472958Z"
    }
   },
   "source": [
    "#Method to get some basic informations about our tree's performance\n",
    "def tree_performance_test(predictions, y_data, isBinary=False):\n",
    "    print(f\"Accuracy: {accuracy_score(y_data, predictions):.4f}\")\n",
    "    if isBinary:\n",
    "        print(f\"Recall (Percentage of recognized 1s): {recall_score(y_data, predictions):.4f}\")\n",
    "        print(f\"Precision (percentage of '1' predictions that were correct) {precision_score(y_data, predictions):.4f}\")\n",
    "        print(f\"F1-Score: {f1_score(y_data, predictions):.4f}\")\n",
    "        print(\"---\")\n",
    "    else:\n",
    "        print(f\"Recall (Average proportion of true predictions to all predictions per class): {recall_score(y_data, predictions, average='macro'):.4f}\")\n",
    "        print(f\"Precision (Average proportion of values per class that were predicted): {precision_score(y_data, predictions, average='macro'):.4f}\")\n",
    "        print(f\"F1-Score: {f1_score(y_data, predictions, average='macro'):.4f}\")\n",
    "    non_zero_predictions = (predictions != 0).sum()\n",
    "    zero_predictions = (predictions == 0).sum()\n",
    "    print(f\"Number of non-zero predictions: {non_zero_predictions}\")\n",
    "    print(f\"Number of 0 predictions: {zero_predictions}\")\n",
    "    print()"
   ],
   "outputs": [],
   "execution_count": 13
  },
  {
   "cell_type": "code",
   "id": "62c4217f",
   "metadata": {
    "ExecuteTime": {
     "end_time": "2025-07-14T13:16:31.550133Z",
     "start_time": "2025-07-14T13:16:31.542185Z"
    }
   },
   "source": [
    "#Method to plot the correct predicted tips vs the whole amount of tips\n",
    "def show_correctness(predictions, y_val_data, max=None):\n",
    "    plt.figure(figsize=(5, 5))\n",
    "    right_counts = []\n",
    "    sum = []\n",
    "    for i in range(int(y_val_data.max()) + 1):\n",
    "        right_predictions = ((predictions == i) & (y_val_data == i)).sum()\n",
    "        sum_predictions = (y_val_data == i).sum()\n",
    "        right_counts.append(right_predictions)\n",
    "        sum.append(sum_predictions)\n",
    "    tips = range(int(y_val_data.max()) + 1) \n",
    "    plt.bar(tips, sum, label = \"Total Tips\")\n",
    "    plt.bar(tips, right_counts, label = \"Correct predicted\")\n",
    "    plt.ylabel(\"Total Tips in million\")\n",
    "    plt.xlabel(\"Tip amounts\")\n",
    "    plt.legend()\n",
    "    if max is not None:\n",
    "        plt.ylim(0, max)\n",
    "    plt.show()"
   ],
   "outputs": [],
   "execution_count": 14
  },
  {
   "cell_type": "code",
   "id": "6e184e27",
   "metadata": {
    "ExecuteTime": {
     "end_time": "2025-07-14T13:16:31.616138Z",
     "start_time": "2025-07-14T13:16:31.608318Z"
    }
   },
   "source": [
    "def accuracy_zero_non_zero(predictions, val_data):\n",
    "    # Filtere nur Fälle wo tatsächlich ein Tip gegeben wurde\n",
    "    non_zero_mask = val_data != 0\n",
    "    non_zero_predictions = predictions[non_zero_mask]\n",
    "    non_zero_actual = val_data[non_zero_mask]\n",
    "\n",
    "    # Berechne Accuracy nur für diese Fälle\n",
    "    accuracy_non_zero = (non_zero_predictions == non_zero_actual).sum() / len(non_zero_actual)\n",
    "    print(f\"✅ Accuracy for cases with tip: {accuracy_non_zero:.4f}\")\n",
    "\n",
    "\n",
    "\n",
    "    # Filtere nur Fälle wo tatsächlich ein Tip gegeben wurde\n",
    "    zero_mask = val_data == 0\n",
    "    zero_predictions = predictions[zero_mask]\n",
    "    zero_actual = val_data[zero_mask]\n",
    "\n",
    "    # Berechne Accuracy nur für diese Fälle\n",
    "    accuracy_zero = (zero_predictions == zero_actual).sum() / len(zero_actual)\n",
    "    print(f\"✅ Accuracy for cases without tip: {accuracy_zero:.4f}\")"
   ],
   "outputs": [],
   "execution_count": 15
  },
  {
   "metadata": {},
   "cell_type": "markdown",
   "source": "After defining the methods we now start with our classification model. As an first approach we want to train a simple Decision Tree using our training data and then analyze it's performance with the validation dataset. ",
   "id": "b736b0d73782ff4a"
  },
  {
   "metadata": {
    "ExecuteTime": {
     "end_time": "2025-07-14T13:38:33.913228Z",
     "start_time": "2025-07-14T13:38:33.901743Z"
    }
   },
   "cell_type": "code",
   "outputs": [
    {
     "name": "stdout",
     "output_type": "stream",
     "text": [
      "📊 2555921 Rows have 'Tip' = 0 (75.5%)\n"
     ]
    }
   ],
   "execution_count": 28,
   "source": [
    "#Count the amount of zeros in our test dataset \n",
    "zero_tip_count = (y_test_data == 0).sum()\n",
    "total_count = len(y_test_data)\n",
    "zero_tip_percentage = (zero_tip_count / total_count) * 100\n",
    "print(f\"📊 {zero_tip_count} Rows have 'Tip' = 0 ({zero_tip_percentage:.1f}%)\")\n"
   ],
   "id": "5d89d6c2"
  },
  {
   "cell_type": "code",
   "id": "a054af71f4ac6d9b",
   "metadata": {
    "ExecuteTime": {
     "end_time": "2025-07-14T14:00:32.704848Z",
     "start_time": "2025-07-14T13:59:24.780613Z"
    }
   },
   "source": [
    "tree_model = DecisionTreeClassifier(max_depth=5, random_state = 42)\n",
    "tree_model.fit(x_train_data, y_train_data)\n",
    "predictions = tree_model.predict(x_val_data)\n",
    "tree_performance_test(predictions, y_val_data)"
   ],
   "outputs": [
    {
     "name": "stdout",
     "output_type": "stream",
     "text": [
      "Accuracy: 0.7552\n",
      "Recall (Durchschnittlicher Anteil wahrer Vorhersagen an allen Vorhersagen pro Klasse): 0.1000\n",
      "Precision (Durchschnittlicher Anteil an Werten pro Klasse, die vorhergesagt wurden): 0.0755\n",
      "F1-Score: 0.0861\n",
      "Anzahl der nicht-0-Vorhersagen: 0\n",
      "Anzahl der 0-Vorhersagen: 3384947\n",
      "\n"
     ]
    }
   ],
   "execution_count": 32
  },
  {
   "cell_type": "markdown",
   "id": "f2560f20",
   "metadata": {},
   "source": ""
  },
  {
   "cell_type": "code",
   "id": "a0f9ca0b",
   "metadata": {
    "ExecuteTime": {
     "end_time": "2025-07-14T14:06:26.411358Z",
     "start_time": "2025-07-14T14:01:58.561966Z"
    }
   },
   "source": [
    "tree_model = DecisionTreeClassifier(max_depth=60, random_state = 42)\n",
    "tree_model.fit(x_train_data, y_train_data)\n",
    "predictions = tree_model.predict(x_val_data)"
   ],
   "outputs": [],
   "execution_count": 35
  },
  {
   "metadata": {
    "ExecuteTime": {
     "end_time": "2025-07-14T14:07:52.026746Z",
     "start_time": "2025-07-14T14:07:47.044813Z"
    }
   },
   "cell_type": "code",
   "source": [
    "show_correctness(predictions, y_val_data)\n",
    "show_correctness(predictions, y_val_data, max=400000)\n",
    "tree_performance_test(predictions, y_val_data)"
   ],
   "id": "e6dcb03ad6f49a83",
   "outputs": [
    {
     "data": {
      "text/plain": [
       "<Figure size 500x500 with 1 Axes>"
      ],
      "image/png": "[encoded data removed]"
     },
     "metadata": {},
     "output_type": "display_data"
    },
    {
     "data": {
      "text/plain": [
       "<Figure size 500x500 with 1 Axes>"
      ],
      "image/png": "[encoded data removed]"
     },
     "metadata": {},
     "output_type": "display_data"
    },
    {
     "name": "stdout",
     "output_type": "stream",
     "text": [
      "Accuracy: 0.5848\n",
      "Recall (Durchschnittlicher Anteil wahrer Vorhersagen an allen Vorhersagen pro Klasse): 0.1626\n",
      "Precision (Durchschnittlicher Anteil an Werten pro Klasse, die vorhergesagt wurden): 0.1575\n",
      "F1-Score: 0.1599\n",
      "Anzahl der nicht-0-Vorhersagen: 900355\n",
      "Anzahl der 0-Vorhersagen: 2484592\n",
      "\n"
     ]
    }
   ],
   "execution_count": 36
  },
  {
   "cell_type": "code",
   "id": "bab41a0a",
   "metadata": {
    "ExecuteTime": {
     "end_time": "2025-07-14T15:03:50.297204Z",
     "start_time": "2025-07-14T15:03:49.912879Z"
    }
   },
   "source": [
    "for i in range(10):\n",
    "    x = (predictions == i).sum()\n",
    "    y = ((predictions == i) & (y_val_data == i)).sum()\n",
    "    print(\"Number of predicted\", i ,\":\",  x)\n",
    "    print(\"Right Predictions: \", y)\n",
    "    print(\"Percentage of correct predictions: \", y / x * 100 if x > 0 else 0)\n",
    "\n",
    "# Berechne den Mean Absolute Error\n",
    "mae = mean_absolute_error(y_val_data, predictions)\n",
    "print(f\"❌ Mean Absolute Error: {mae:.4f}\")"
   ],
   "outputs": [
    {
     "name": "stdout",
     "output_type": "stream",
     "text": [
      "Number of predicted 0 : 2484592\n",
      "Right Predictions:  1903999\n",
      "Percentage of correct predictions:  76.63225994448987\n",
      "Number of predicted 1 : 136934\n",
      "Right Predictions:  8281\n",
      "Percentage of correct predictions:  6.047438912176669\n",
      "Number of predicted 2 : 95872\n",
      "Right Predictions:  6097\n",
      "Percentage of correct predictions:  6.359521028037383\n",
      "Number of predicted 3 : 279070\n",
      "Right Predictions:  29776\n",
      "Percentage of correct predictions:  10.669724441896298\n",
      "Number of predicted 4 : 79350\n",
      "Right Predictions:  5989\n",
      "Percentage of correct predictions:  7.547574039067423\n",
      "Number of predicted 5 : 177148\n",
      "Right Predictions:  11857\n",
      "Percentage of correct predictions:  6.693273421094226\n",
      "Number of predicted 6 : 47184\n",
      "Right Predictions:  3997\n",
      "Percentage of correct predictions:  8.471091895557818\n",
      "Number of predicted 7 : 37417\n",
      "Right Predictions:  3934\n",
      "Percentage of correct predictions:  10.513937515033273\n",
      "Number of predicted 8 : 28646\n",
      "Right Predictions:  3303\n",
      "Percentage of correct predictions:  11.53040564127627\n",
      "Number of predicted 9 : 18734\n",
      "Right Predictions:  2436\n",
      "Percentage of correct predictions:  13.003095975232199\n",
      "❌ Mean Absolute Error: 1.4116\n"
     ]
    }
   ],
   "execution_count": 49
  },
  {
   "cell_type": "markdown",
   "id": "a0c54ef0",
   "metadata": {},
   "source": [
    "As we can see, due to the very high proportion of $0 tips (around 75%), a simple decision tree will almost always predict 0 since this prediction has by far the highest chance of being correct. Especially when using a shallow tree (i.e. low tree depth) the model fails to identify any meaningful patterns in the data that would justify predicting values other than 0.\n",
    "\n",
    "Even when we increase the tree depth ,which increases the risk of overfitting to the training data, this problem cannot be fully resolved. Although the tree starts to predict some non-zero values, it often predicts the wrong non-zero class, resulting in a low highest accuracy of around 13%. Additionally, the overall accuracy drops to about 58% which is likely a consequence of the overfitting caused by the deeper tree.\n",
    "\n",
    "In consequence, we want to create a second hopefully more precise model which contains two diffrent classification steps. First we want to create a model which either predicts if the tip is zero or not. This helps to reduce the overwhelming share of zeros in the dataset for our second prediction model. After filtering out the zero tips, we can then train a second classification model on the remaining data. This second model should be able to make more accurate predictions of the actual tip class because it is no longer dominated by zeros.\n",
    "."
   ]
  },
  {
   "cell_type": "code",
   "id": "2b2418dc",
   "metadata": {
    "ExecuteTime": {
     "end_time": "2025-07-14T14:33:15.902252Z",
     "start_time": "2025-07-14T14:33:15.825085Z"
    }
   },
   "source": [
    "#For the first model we need to transform our data into binary datatype\n",
    "y_train1_binary = (y_train1_data != 0).astype(int)  # 1 if tip != 0 else 0\n",
    "y_val_binary = (y_val_data != 0).astype(int)"
   ],
   "outputs": [],
   "execution_count": 39
  },
  {
   "cell_type": "code",
   "id": "e52ba7d4",
   "metadata": {
    "ExecuteTime": {
     "end_time": "2025-07-14T14:34:43.483889Z",
     "start_time": "2025-07-14T14:33:16.678230Z"
    }
   },
   "source": [
    "binary_model = DecisionTreeClassifier(max_depth=15, random_state = 42, class_weight={0: 1, 1: 2.8})\n",
    "binary_model.fit(x_train1_data, y_train1_binary)\n",
    "binary_predictions = binary_model.predict(x_val_data)\n",
    "\n",
    "tree_performance_test(binary_predictions, y_val_binary, isBinary=True)\n",
    "show_correctness(binary_predictions, y_val_binary)"
   ],
   "outputs": [
    {
     "name": "stdout",
     "output_type": "stream",
     "text": [
      "Accuracy: 0.6093\n",
      "Recall (Anteil 1er, die erkannt wurden): 0.5194\n",
      "Precision (Anteil 1er-Vorhersagen, die Richtig waren): 0.3177\n",
      "F1-Score: 0.3942\n",
      "---\n",
      "Anzahl der nicht-0-Vorhersagen: 1354796\n",
      "Anzahl der 0-Vorhersagen: 2030151\n",
      "\n"
     ]
    },
    {
     "data": {
      "text/plain": [
       "<Figure size 500x500 with 1 Axes>"
      ],
      "image/png": "[encoded data removed]"
     },
     "metadata": {},
     "output_type": "display_data"
    }
   ],
   "execution_count": 40
  },
  {
   "cell_type": "markdown",
   "id": "85d28893",
   "metadata": {},
   "source": " As we can see, the dominant class 0 has only become slightly smaller(from 75% to 67%). So the first model did not seem to work as well as we had hoped. Nevertheless we still want to train our second model which predicts the tip class for the non-zero data."
  },
  {
   "cell_type": "code",
   "id": "de6413a0",
   "metadata": {
    "ExecuteTime": {
     "end_time": "2025-07-14T13:21:57.090820Z",
     "start_time": "2025-07-14T13:21:53.578859Z"
    }
   },
   "source": [
    "# Use model 1 for predicting x_train2_data, to only train the regression model on rides where a tip was predicted\n",
    "predictions_train2 = binary_model.predict(x_train2_data)\n",
    "\n",
    "# Filter both x and y data based on the predictions\n",
    "mask = predictions_train2 != 0\n",
    "x_train2_data = x_train2_data[mask]\n",
    "y_train2_data = y_train2_data[mask]\n",
    "\n",
    "print(f\"📊 Filtered Data: {len(x_train2_data)} Samples (before: {len(predictions_train2)})\")"
   ],
   "outputs": [
    {
     "name": "stdout",
     "output_type": "stream",
     "text": [
      "📊 Gefilterte Daten: 3158667 Samples (vorher: 7898209)\n"
     ]
    }
   ],
   "execution_count": 20
  },
  {
   "cell_type": "code",
   "id": "3bbaaff7",
   "metadata": {
    "ExecuteTime": {
     "end_time": "2025-07-14T13:22:16.431598Z",
     "start_time": "2025-07-14T13:21:57.146204Z"
    }
   },
   "source": [
    "#Train second model\n",
    "second_model = DecisionTreeClassifier(max_depth=13, random_state = 42)\n",
    "second_model.fit(x_train2_data, y_train2_data)"
   ],
   "outputs": [
    {
     "data": {
      "text/plain": [
       "DecisionTreeClassifier(max_depth=13, random_state=42)"
      ],
      "text/html": [
       "<style>#sk-container-id-1 {\n",
       "  /* Definition of color scheme common for light and dark mode */\n",
       "  --sklearn-color-text: black;\n",
       "  --sklearn-color-line: gray;\n",
       "  /* Definition of color scheme for unfitted estimators */\n",
       "  --sklearn-color-unfitted-level-0: #fff5e6;\n",
       "  --sklearn-color-unfitted-level-1: #f6e4d2;\n",
       "  --sklearn-color-unfitted-level-2: #ffe0b3;\n",
       "  --sklearn-color-unfitted-level-3: chocolate;\n",
       "  /* Definition of color scheme for fitted estimators */\n",
       "  --sklearn-color-fitted-level-0: #f0f8ff;\n",
       "  --sklearn-color-fitted-level-1: #d4ebff;\n",
       "  --sklearn-color-fitted-level-2: #b3dbfd;\n",
       "  --sklearn-color-fitted-level-3: cornflowerblue;\n",
       "\n",
       "  /* Specific color for light theme */\n",
       "  --sklearn-color-text-on-default-background: var(--sg-text-color, var(--theme-code-foreground, var(--jp-content-font-color1, black)));\n",
       "  --sklearn-color-background: var(--sg-background-color, var(--theme-background, var(--jp-layout-color0, white)));\n",
       "  --sklearn-color-border-box: var(--sg-text-color, var(--theme-code-foreground, var(--jp-content-font-color1, black)));\n",
       "  --sklearn-color-icon: #696969;\n",
       "\n",
       "  @media (prefers-color-scheme: dark) {\n",
       "    /* Redefinition of color scheme for dark theme */\n",
       "    --sklearn-color-text-on-default-background: var(--sg-text-color, var(--theme-code-foreground, var(--jp-content-font-color1, white)));\n",
       "    --sklearn-color-background: var(--sg-background-color, var(--theme-background, var(--jp-layout-color0, #111)));\n",
       "    --sklearn-color-border-box: var(--sg-text-color, var(--theme-code-foreground, var(--jp-content-font-color1, white)));\n",
       "    --sklearn-color-icon: #878787;\n",
       "  }\n",
       "}\n",
       "\n",
       "#sk-container-id-1 {\n",
       "  color: var(--sklearn-color-text);\n",
       "}\n",
       "\n",
       "#sk-container-id-1 pre {\n",
       "  padding: 0;\n",
       "}\n",
       "\n",
       "#sk-container-id-1 input.sk-hidden--visually {\n",
       "  border: 0;\n",
       "  clip: rect(1px 1px 1px 1px);\n",
       "  clip: rect(1px, 1px, 1px, 1px);\n",
       "  height: 1px;\n",
       "  margin: -1px;\n",
       "  overflow: hidden;\n",
       "  padding: 0;\n",
       "  position: absolute;\n",
       "  width: 1px;\n",
       "}\n",
       "\n",
       "#sk-container-id-1 div.sk-dashed-wrapped {\n",
       "  border: 1px dashed var(--sklearn-color-line);\n",
       "  margin: 0 0.4em 0.5em 0.4em;\n",
       "  box-sizing: border-box;\n",
       "  padding-bottom: 0.4em;\n",
       "  background-color: var(--sklearn-color-background);\n",
       "}\n",
       "\n",
       "#sk-container-id-1 div.sk-container {\n",
       "  /* jupyter's `normalize.less` sets `[hidden] { display: none; }`\n",
       "     but bootstrap.min.css set `[hidden] { display: none !important; }`\n",
       "     so we also need the `!important` here to be able to override the\n",
       "     default hidden behavior on the sphinx rendered scikit-learn.org.\n",
       "     See: https://github.com/scikit-learn/scikit-learn/issues/21755 */\n",
       "  display: inline-block !important;\n",
       "  position: relative;\n",
       "}\n",
       "\n",
       "#sk-container-id-1 div.sk-text-repr-fallback {\n",
       "  display: none;\n",
       "}\n",
       "\n",
       "div.sk-parallel-item,\n",
       "div.sk-serial,\n",
       "div.sk-item {\n",
       "  /* draw centered vertical line to link estimators */\n",
       "  background-image: linear-gradient(var(--sklearn-color-text-on-default-background), var(--sklearn-color-text-on-default-background));\n",
       "  background-size: 2px 100%;\n",
       "  background-repeat: no-repeat;\n",
       "  background-position: center center;\n",
       "}\n",
       "\n",
       "/* Parallel-specific style estimator block */\n",
       "\n",
       "#sk-container-id-1 div.sk-parallel-item::after {\n",
       "  content: \"\";\n",
       "  width: 100%;\n",
       "  border-bottom: 2px solid var(--sklearn-color-text-on-default-background);\n",
       "  flex-grow: 1;\n",
       "}\n",
       "\n",
       "#sk-container-id-1 div.sk-parallel {\n",
       "  display: flex;\n",
       "  align-items: stretch;\n",
       "  justify-content: center;\n",
       "  background-color: var(--sklearn-color-background);\n",
       "  position: relative;\n",
       "}\n",
       "\n",
       "#sk-container-id-1 div.sk-parallel-item {\n",
       "  display: flex;\n",
       "  flex-direction: column;\n",
       "}\n",
       "\n",
       "#sk-container-id-1 div.sk-parallel-item:first-child::after {\n",
       "  align-self: flex-end;\n",
       "  width: 50%;\n",
       "}\n",
       "\n",
       "#sk-container-id-1 div.sk-parallel-item:last-child::after {\n",
       "  align-self: flex-start;\n",
       "  width: 50%;\n",
       "}\n",
       "\n",
       "#sk-container-id-1 div.sk-parallel-item:only-child::after {\n",
       "  width: 0;\n",
       "}\n",
       "\n",
       "/* Serial-specific style estimator block */\n",
       "\n",
       "#sk-container-id-1 div.sk-serial {\n",
       "  display: flex;\n",
       "  flex-direction: column;\n",
       "  align-items: center;\n",
       "  background-color: var(--sklearn-color-background);\n",
       "  padding-right: 1em;\n",
       "  padding-left: 1em;\n",
       "}\n",
       "\n",
       "\n",
       "/* Toggleable style: style used for estimator/Pipeline/ColumnTransformer box that is\n",
       "clickable and can be expanded/collapsed.\n",
       "- Pipeline and ColumnTransformer use this feature and define the default style\n",
       "- Estimators will overwrite some part of the style using the `sk-estimator` class\n",
       "*/\n",
       "\n",
       "/* Pipeline and ColumnTransformer style (default) */\n",
       "\n",
       "#sk-container-id-1 div.sk-toggleable {\n",
       "  /* Default theme specific background. It is overwritten whether we have a\n",
       "  specific estimator or a Pipeline/ColumnTransformer */\n",
       "  background-color: var(--sklearn-color-background);\n",
       "}\n",
       "\n",
       "/* Toggleable label */\n",
       "#sk-container-id-1 label.sk-toggleable__label {\n",
       "  cursor: pointer;\n",
       "  display: block;\n",
       "  width: 100%;\n",
       "  margin-bottom: 0;\n",
       "  padding: 0.5em;\n",
       "  box-sizing: border-box;\n",
       "  text-align: center;\n",
       "}\n",
       "\n",
       "#sk-container-id-1 label.sk-toggleable__label-arrow:before {\n",
       "  /* Arrow on the left of the label */\n",
       "  content: \"▸\";\n",
       "  float: left;\n",
       "  margin-right: 0.25em;\n",
       "  color: var(--sklearn-color-icon);\n",
       "}\n",
       "\n",
       "#sk-container-id-1 label.sk-toggleable__label-arrow:hover:before {\n",
       "  color: var(--sklearn-color-text);\n",
       "}\n",
       "\n",
       "/* Toggleable content - dropdown */\n",
       "\n",
       "#sk-container-id-1 div.sk-toggleable__content {\n",
       "  max-height: 0;\n",
       "  max-width: 0;\n",
       "  overflow: hidden;\n",
       "  text-align: left;\n",
       "  /* unfitted */\n",
       "  background-color: var(--sklearn-color-unfitted-level-0);\n",
       "}\n",
       "\n",
       "#sk-container-id-1 div.sk-toggleable__content.fitted {\n",
       "  /* fitted */\n",
       "  background-color: var(--sklearn-color-fitted-level-0);\n",
       "}\n",
       "\n",
       "#sk-container-id-1 div.sk-toggleable__content pre {\n",
       "  margin: 0.2em;\n",
       "  border-radius: 0.25em;\n",
       "  color: var(--sklearn-color-text);\n",
       "  /* unfitted */\n",
       "  background-color: var(--sklearn-color-unfitted-level-0);\n",
       "}\n",
       "\n",
       "#sk-container-id-1 div.sk-toggleable__content.fitted pre {\n",
       "  /* unfitted */\n",
       "  background-color: var(--sklearn-color-fitted-level-0);\n",
       "}\n",
       "\n",
       "#sk-container-id-1 input.sk-toggleable__control:checked~div.sk-toggleable__content {\n",
       "  /* Expand drop-down */\n",
       "  max-height: 200px;\n",
       "  max-width: 100%;\n",
       "  overflow: auto;\n",
       "}\n",
       "\n",
       "#sk-container-id-1 input.sk-toggleable__control:checked~label.sk-toggleable__label-arrow:before {\n",
       "  content: \"▾\";\n",
       "}\n",
       "\n",
       "/* Pipeline/ColumnTransformer-specific style */\n",
       "\n",
       "#sk-container-id-1 div.sk-label input.sk-toggleable__control:checked~label.sk-toggleable__label {\n",
       "  color: var(--sklearn-color-text);\n",
       "  background-color: var(--sklearn-color-unfitted-level-2);\n",
       "}\n",
       "\n",
       "#sk-container-id-1 div.sk-label.fitted input.sk-toggleable__control:checked~label.sk-toggleable__label {\n",
       "  background-color: var(--sklearn-color-fitted-level-2);\n",
       "}\n",
       "\n",
       "/* Estimator-specific style */\n",
       "\n",
       "/* Colorize estimator box */\n",
       "#sk-container-id-1 div.sk-estimator input.sk-toggleable__control:checked~label.sk-toggleable__label {\n",
       "  /* unfitted */\n",
       "  background-color: var(--sklearn-color-unfitted-level-2);\n",
       "}\n",
       "\n",
       "#sk-container-id-1 div.sk-estimator.fitted input.sk-toggleable__control:checked~label.sk-toggleable__label {\n",
       "  /* fitted */\n",
       "  background-color: var(--sklearn-color-fitted-level-2);\n",
       "}\n",
       "\n",
       "#sk-container-id-1 div.sk-label label.sk-toggleable__label,\n",
       "#sk-container-id-1 div.sk-label label {\n",
       "  /* The background is the default theme color */\n",
       "  color: var(--sklearn-color-text-on-default-background);\n",
       "}\n",
       "\n",
       "/* On hover, darken the color of the background */\n",
       "#sk-container-id-1 div.sk-label:hover label.sk-toggleable__label {\n",
       "  color: var(--sklearn-color-text);\n",
       "  background-color: var(--sklearn-color-unfitted-level-2);\n",
       "}\n",
       "\n",
       "/* Label box, darken color on hover, fitted */\n",
       "#sk-container-id-1 div.sk-label.fitted:hover label.sk-toggleable__label.fitted {\n",
       "  color: var(--sklearn-color-text);\n",
       "  background-color: var(--sklearn-color-fitted-level-2);\n",
       "}\n",
       "\n",
       "/* Estimator label */\n",
       "\n",
       "#sk-container-id-1 div.sk-label label {\n",
       "  font-family: monospace;\n",
       "  font-weight: bold;\n",
       "  display: inline-block;\n",
       "  line-height: 1.2em;\n",
       "}\n",
       "\n",
       "#sk-container-id-1 div.sk-label-container {\n",
       "  text-align: center;\n",
       "}\n",
       "\n",
       "/* Estimator-specific */\n",
       "#sk-container-id-1 div.sk-estimator {\n",
       "  font-family: monospace;\n",
       "  border: 1px dotted var(--sklearn-color-border-box);\n",
       "  border-radius: 0.25em;\n",
       "  box-sizing: border-box;\n",
       "  margin-bottom: 0.5em;\n",
       "  /* unfitted */\n",
       "  background-color: var(--sklearn-color-unfitted-level-0);\n",
       "}\n",
       "\n",
       "#sk-container-id-1 div.sk-estimator.fitted {\n",
       "  /* fitted */\n",
       "  background-color: var(--sklearn-color-fitted-level-0);\n",
       "}\n",
       "\n",
       "/* on hover */\n",
       "#sk-container-id-1 div.sk-estimator:hover {\n",
       "  /* unfitted */\n",
       "  background-color: var(--sklearn-color-unfitted-level-2);\n",
       "}\n",
       "\n",
       "#sk-container-id-1 div.sk-estimator.fitted:hover {\n",
       "  /* fitted */\n",
       "  background-color: var(--sklearn-color-fitted-level-2);\n",
       "}\n",
       "\n",
       "/* Specification for estimator info (e.g. \"i\" and \"?\") */\n",
       "\n",
       "/* Common style for \"i\" and \"?\" */\n",
       "\n",
       ".sk-estimator-doc-link,\n",
       "a:link.sk-estimator-doc-link,\n",
       "a:visited.sk-estimator-doc-link {\n",
       "  float: right;\n",
       "  font-size: smaller;\n",
       "  line-height: 1em;\n",
       "  font-family: monospace;\n",
       "  background-color: var(--sklearn-color-background);\n",
       "  border-radius: 1em;\n",
       "  height: 1em;\n",
       "  width: 1em;\n",
       "  text-decoration: none !important;\n",
       "  margin-left: 1ex;\n",
       "  /* unfitted */\n",
       "  border: var(--sklearn-color-unfitted-level-1) 1pt solid;\n",
       "  color: var(--sklearn-color-unfitted-level-1);\n",
       "}\n",
       "\n",
       ".sk-estimator-doc-link.fitted,\n",
       "a:link.sk-estimator-doc-link.fitted,\n",
       "a:visited.sk-estimator-doc-link.fitted {\n",
       "  /* fitted */\n",
       "  border: var(--sklearn-color-fitted-level-1) 1pt solid;\n",
       "  color: var(--sklearn-color-fitted-level-1);\n",
       "}\n",
       "\n",
       "/* On hover */\n",
       "div.sk-estimator:hover .sk-estimator-doc-link:hover,\n",
       ".sk-estimator-doc-link:hover,\n",
       "div.sk-label-container:hover .sk-estimator-doc-link:hover,\n",
       ".sk-estimator-doc-link:hover {\n",
       "  /* unfitted */\n",
       "  background-color: var(--sklearn-color-unfitted-level-3);\n",
       "  color: var(--sklearn-color-background);\n",
       "  text-decoration: none;\n",
       "}\n",
       "\n",
       "div.sk-estimator.fitted:hover .sk-estimator-doc-link.fitted:hover,\n",
       ".sk-estimator-doc-link.fitted:hover,\n",
       "div.sk-label-container:hover .sk-estimator-doc-link.fitted:hover,\n",
       ".sk-estimator-doc-link.fitted:hover {\n",
       "  /* fitted */\n",
       "  background-color: var(--sklearn-color-fitted-level-3);\n",
       "  color: var(--sklearn-color-background);\n",
       "  text-decoration: none;\n",
       "}\n",
       "\n",
       "/* Span, style for the box shown on hovering the info icon */\n",
       ".sk-estimator-doc-link span {\n",
       "  display: none;\n",
       "  z-index: 9999;\n",
       "  position: relative;\n",
       "  font-weight: normal;\n",
       "  right: .2ex;\n",
       "  padding: .5ex;\n",
       "  margin: .5ex;\n",
       "  width: min-content;\n",
       "  min-width: 20ex;\n",
       "  max-width: 50ex;\n",
       "  color: var(--sklearn-color-text);\n",
       "  box-shadow: 2pt 2pt 4pt #999;\n",
       "  /* unfitted */\n",
       "  background: var(--sklearn-color-unfitted-level-0);\n",
       "  border: .5pt solid var(--sklearn-color-unfitted-level-3);\n",
       "}\n",
       "\n",
       ".sk-estimator-doc-link.fitted span {\n",
       "  /* fitted */\n",
       "  background: var(--sklearn-color-fitted-level-0);\n",
       "  border: var(--sklearn-color-fitted-level-3);\n",
       "}\n",
       "\n",
       ".sk-estimator-doc-link:hover span {\n",
       "  display: block;\n",
       "}\n",
       "\n",
       "/* \"?\"-specific style due to the `<a>` HTML tag */\n",
       "\n",
       "#sk-container-id-1 a.estimator_doc_link {\n",
       "  float: right;\n",
       "  font-size: 1rem;\n",
       "  line-height: 1em;\n",
       "  font-family: monospace;\n",
       "  background-color: var(--sklearn-color-background);\n",
       "  border-radius: 1rem;\n",
       "  height: 1rem;\n",
       "  width: 1rem;\n",
       "  text-decoration: none;\n",
       "  /* unfitted */\n",
       "  color: var(--sklearn-color-unfitted-level-1);\n",
       "  border: var(--sklearn-color-unfitted-level-1) 1pt solid;\n",
       "}\n",
       "\n",
       "#sk-container-id-1 a.estimator_doc_link.fitted {\n",
       "  /* fitted */\n",
       "  border: var(--sklearn-color-fitted-level-1) 1pt solid;\n",
       "  color: var(--sklearn-color-fitted-level-1);\n",
       "}\n",
       "\n",
       "/* On hover */\n",
       "#sk-container-id-1 a.estimator_doc_link:hover {\n",
       "  /* unfitted */\n",
       "  background-color: var(--sklearn-color-unfitted-level-3);\n",
       "  color: var(--sklearn-color-background);\n",
       "  text-decoration: none;\n",
       "}\n",
       "\n",
       "#sk-container-id-1 a.estimator_doc_link.fitted:hover {\n",
       "  /* fitted */\n",
       "  background-color: var(--sklearn-color-fitted-level-3);\n",
       "}\n",
       "</style><div id=\"sk-container-id-1\" class=\"sk-top-container\"><div class=\"sk-text-repr-fallback\"><pre>DecisionTreeClassifier(max_depth=13, random_state=42)</pre><b>In a Jupyter environment, please rerun this cell to show the HTML representation or trust the notebook. <br />On GitHub, the HTML representation is unable to render, please try loading this page with nbviewer.org.</b></div><div class=\"sk-container\" hidden><div class=\"sk-item\"><div class=\"sk-estimator fitted sk-toggleable\"><input class=\"sk-toggleable__control sk-hidden--visually\" id=\"sk-estimator-id-1\" type=\"checkbox\" checked><label for=\"sk-estimator-id-1\" class=\"sk-toggleable__label fitted sk-toggleable__label-arrow fitted\">&nbsp;&nbsp;DecisionTreeClassifier<a class=\"sk-estimator-doc-link fitted\" rel=\"noreferrer\" target=\"_blank\" href=\"https://scikit-learn.org/1.5/modules/generated/sklearn.tree.DecisionTreeClassifier.html\">?<span>Documentation for DecisionTreeClassifier</span></a><span class=\"sk-estimator-doc-link fitted\">i<span>Fitted</span></span></label><div class=\"sk-toggleable__content fitted\"><pre>DecisionTreeClassifier(max_depth=13, random_state=42)</pre></div> </div></div></div></div>"
      ]
     },
     "execution_count": 21,
     "metadata": {},
     "output_type": "execute_result"
    }
   ],
   "execution_count": 21
  },
  {
   "cell_type": "code",
   "id": "0000bb42",
   "metadata": {
    "ExecuteTime": {
     "end_time": "2025-07-14T14:49:51.594078Z",
     "start_time": "2025-07-14T14:49:51.589003Z"
    }
   },
   "source": [
    "#Method to first make the whole predicition process (first prediction model 1 and then prediction model 2)\n",
    "def DualTree(data):\n",
    "    # Binary predictions: predict whether there is a tip or not\n",
    "    binary_predictions = binary_model.predict(data)\n",
    "\n",
    "    # For rows where a tip is predicted (binary_prediction == 1),\n",
    "    # get the predicted tip amount/class from the second model\n",
    "    tip_amount_predictions = second_model.predict(data[binary_predictions == 1])\n",
    "\n",
    "    # Combine both: assign 0 where no tip is predicted,\n",
    "    # and assign predicted tip values where a tip is predicted\n",
    "    final_predictions = np.zeros(len(binary_predictions))\n",
    "    final_predictions[binary_predictions == 1] = tip_amount_predictions\n",
    "\n",
    "    return final_predictions"
   ],
   "outputs": [],
   "execution_count": 41
  },
  {
   "cell_type": "code",
   "id": "339e271b",
   "metadata": {
    "ExecuteTime": {
     "end_time": "2025-07-14T14:49:57.492339Z",
     "start_time": "2025-07-14T14:49:56.247676Z"
    }
   },
   "source": [
    "final_predictions = DualTree(x_val_data)\n",
    "\n",
    "correct_predictions = (final_predictions == y_val_data).sum()\n",
    "print(f\"✅ Korrekte Vorhersagen: {correct_predictions} von {len(y_val_data)} ({correct_predictions / len(y_val_data) * 100:.2f}%)\")\n"
   ],
   "outputs": [
    {
     "name": "stdout",
     "output_type": "stream",
     "text": [
      "✅ Korrekte Vorhersagen: 2554630 von 3384947 (75.47%)\n"
     ]
    }
   ],
   "execution_count": 42
  },
  {
   "cell_type": "code",
   "id": "14912106",
   "metadata": {
    "ExecuteTime": {
     "end_time": "2025-07-14T15:05:06.691711Z",
     "start_time": "2025-07-14T15:05:06.312704Z"
    }
   },
   "source": [
    "#Print accuracy for each group\n",
    "for i in range(10):\n",
    "    x = (final_predictions == i).sum()\n",
    "    y = ((final_predictions == i) & (y_val_data == i)).sum()\n",
    "    print(\"Number of predicted\", i ,\":\",  x)\n",
    "    print(\"Right Predictions: \", y)\n",
    "    print(\"Percentage of correct predictions: \", y / x * 100 if x > 0 else 0)"
   ],
   "outputs": [
    {
     "name": "stdout",
     "output_type": "stream",
     "text": [
      "Number of predicted 0 : 3381536\n",
      "Right Predictions:  2554200\n",
      "Percentage of correct predictions:  75.53372195357376\n",
      "Number of predicted 1 : 153\n",
      "Right Predictions:  9\n",
      "Percentage of correct predictions:  5.88235294117647\n",
      "Number of predicted 2 : 165\n",
      "Right Predictions:  9\n",
      "Percentage of correct predictions:  5.454545454545454\n",
      "Number of predicted 3 : 1038\n",
      "Right Predictions:  160\n",
      "Percentage of correct predictions:  15.414258188824661\n",
      "Number of predicted 4 : 491\n",
      "Right Predictions:  73\n",
      "Percentage of correct predictions:  14.867617107942973\n",
      "Number of predicted 5 : 643\n",
      "Right Predictions:  65\n",
      "Percentage of correct predictions:  10.10886469673406\n",
      "Number of predicted 6 : 373\n",
      "Right Predictions:  43\n",
      "Percentage of correct predictions:  11.528150134048257\n",
      "Number of predicted 7 : 287\n",
      "Right Predictions:  35\n",
      "Percentage of correct predictions:  12.195121951219512\n",
      "Number of predicted 8 : 156\n",
      "Right Predictions:  21\n",
      "Percentage of correct predictions:  13.461538461538462\n",
      "Number of predicted 9 : 105\n",
      "Right Predictions:  15\n",
      "Percentage of correct predictions:  14.285714285714285\n"
     ]
    }
   ],
   "execution_count": 53
  },
  {
   "cell_type": "code",
   "id": "37e61438",
   "metadata": {
    "ExecuteTime": {
     "end_time": "2025-07-14T14:51:30.203097Z",
     "start_time": "2025-07-14T14:51:30.166837Z"
    }
   },
   "source": [
    "# Calculate Mean Absolute Error\n",
    "mae = mean_absolute_error(y_val_data, final_predictions)\n",
    "print(f\"❌ Mean Absolute Error: {mae:.4f}\")"
   ],
   "outputs": [
    {
     "name": "stdout",
     "output_type": "stream",
     "text": [
      "❌ Mean Absolute Error: 0.8991\n"
     ]
    }
   ],
   "execution_count": 44
  },
  {
   "cell_type": "code",
   "id": "d4bcecf2",
   "metadata": {
    "ExecuteTime": {
     "end_time": "2025-07-14T15:01:46.489778Z",
     "start_time": "2025-07-14T15:01:46.436425Z"
    }
   },
   "source": [
    "# Filtere nur Fälle wo tatsächlich ein Tip gegeben wurde\n",
    "non_zero_mask = y_val_data != 0\n",
    "non_zero_predictions = final_predictions[non_zero_mask]\n",
    "non_zero_actual = y_val_data[non_zero_mask]\n",
    "\n",
    "# Berechne Accuracy nur für diese Fälle\n",
    "accuracy_non_zero = ((non_zero_predictions == non_zero_actual).sum() / len(non_zero_actual))*100\n",
    "print(f\"✅ Accuracy für Fälle mit Tip: {accuracy_non_zero:.4f}\")"
   ],
   "outputs": [
    {
     "name": "stdout",
     "output_type": "stream",
     "text": [
      "✅ Accuracy für Fälle mit Tip: 0.0519\n"
     ]
    }
   ],
   "execution_count": 48
  },
  {
   "metadata": {
    "ExecuteTime": {
     "end_time": "2025-07-14T15:10:49.103870Z",
     "start_time": "2025-07-14T15:10:49.088837Z"
    }
   },
   "cell_type": "code",
   "source": [
    "#Calculate overall accuracy\n",
    "right_predictions = (final_predictions == y_val_data).sum()\n",
    "overall_accuracy = right_predictions / len(y_val_data) *100\n",
    "print(f\"✅ Overall Accuracy: {overall_accuracy:.4f}%\")"
   ],
   "id": "6aa54edac5099809",
   "outputs": [
    {
     "name": "stdout",
     "output_type": "stream",
     "text": [
      "✅ Overall Accuracy: 75.4703%\n"
     ]
    }
   ],
   "execution_count": 57
  },
  {
   "metadata": {},
   "cell_type": "markdown",
   "source": "<h4 style=\"text-decoration: underline;\">4. Implication/Reflection</h4>",
   "id": "ecea6c084066d96a"
  },
  {
   "cell_type": "markdown",
   "id": "691233a96f2604a1",
   "metadata": {},
   "source": [
    "<h4 style=\"text-decoration: underline;\">4.1 Linear Regression</h4>\n",
    "Let's take a look at the final perfomance of our predictive models using the test dataset."
   ]
  },
  {
   "cell_type": "code",
   "id": "ec548a60715e13e5",
   "metadata": {},
   "source": [
    "# Linear Regression Model\n",
    "linear_model_prediction = linear_model.predict(x_test_data_scaled)\n",
    "print(\"❌Mean absoulte Error:\", round(mean_absolute_error(y_test_data, linear_model_prediction), 4), \"\\n🤖R²:\", round(r2_score(y_test_data, linear_model_prediction), 4))"
   ],
   "outputs": [],
   "execution_count": null
  },
  {
   "cell_type": "markdown",
   "id": "62cc44b9f3e97dfe",
   "metadata": {},
   "source": [
    "Assuming that our data was collected correctly, the results of our linear regression show that the model can explain only about 8% of the total variance in the target values (R² = 0.08). Additionally, the mean absolute error (MAE) is relatively high, which means that the predictions deviate significantly from the actual values on average. Such a low explanatory rate suggests that essential influencing factors are missing or that relationships are not correctly depicted. This means for all decision makers that the model does not make reliable predictions for any strategic or operational decisions and should therefore not be used. \n",
    "\n",
    "In order to improve the model's performance, it should be evaluated whether there are additional relevant features that could be included. This might involve incorporating other variables from the existing dataset or creating new features (e.g. polynomial features). Additionally, it would be reasonable to test non-linear modeling approaches as they might capture the real-world relationships more accurately than the current linear model (e.g. Radial Basis Function).\n",
    "\n",
    "Moreover, it could make sense to include further analyses. For example, we could review the existing features and remove those that do not significantly contribute to the prediction. To do this we could use Lasso regression which is particularly useful after implementing the improvements mentioned above if our model ends up containing a large number of features (feature selection).\n"
   ]
  },
  {
   "metadata": {},
   "cell_type": "markdown",
   "source": "<h4 style=\"text-decoration: underline;\">4.2 Decision Tree</h4>",
   "id": "4616945f1570657d"
  },
  {
   "cell_type": "code",
   "id": "380b86b1",
   "metadata": {},
   "source": [
    "# Decision Tree Model with max_depth=60\n",
    "tree_model_prediction = tree_model.predict(x_test_data)\n",
    "print(\"❌Mean absoulte Error:\", round(mean_absolute_error(y_test_data, tree_model_prediction), 4), \"\\n Accuracy:\", round(accuracy_score(y_test_data, tree_model_prediction), 4))\n",
    "accuracy_zero_non_zero(tree_model_prediction, y_test_data)"
   ],
   "outputs": [],
   "execution_count": null
  },
  {
   "cell_type": "code",
   "id": "77121c85",
   "metadata": {},
   "source": [
    "dual_tree_prediction = DualTree(x_test_data)\n",
    "print(\"❌Mean absoulte Error:\", round(mean_absolute_error(y_test_data, dual_tree_prediction), 4), \"\\n Accuracy:\", round(accuracy_score(y_test_data, dual_tree_prediction), 4))\n",
    "accuracy_zero_non_zero(dual_tree_prediction, y_test_data)"
   ],
   "outputs": [],
   "execution_count": null
  }
 ],
 "metadata": {
  "kernelspec": {
   "display_name": "Python [conda env:base] *",
   "language": "python",
   "name": "conda-base-py"
  },
  "language_info": {
   "codemirror_mode": {
    "name": "ipython",
    "version": 3
   },
   "file_extension": ".py",
   "mimetype": "text/x-python",
   "name": "python",
   "nbconvert_exporter": "python",
   "pygments_lexer": "ipython3",
   "version": "3.13.5"
  }
 },
 "nbformat": 4,
 "nbformat_minor": 5
}

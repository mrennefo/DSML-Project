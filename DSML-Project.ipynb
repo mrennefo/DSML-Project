{
 "cells": [
  {
   "attachments": {},
   "cell_type": "markdown",
   "id": "85dcb6d7-eabc-4f84-9b91-71c1fa1328f9",
   "metadata": {},
   "source": [
    "<div style=\"text-align: center\"><h1 style=\"text-decoration: underline;\">DSML Project</h1></div>\n",
    "\n"
   ]
  },
  {
   "attachments": {},
   "cell_type": "markdown",
   "id": "7ad31350-3590-4527-b773-f4bd3984bfa9",
   "metadata": {},
   "source": [
    "This is the official Notebook of the DSML Project from Marc Rennefort, Kilian Lipinsky, Timo Hagelberg, Jan Behrendt-Emden and Paul Severin. In order to create this Project we used the following dataset: https://data.cityofchicago.org/Transportation/Transportation-Network-Providers-Trips-2023-2024-/n26f-ihde/about_data\n",
    "<h4 style=\"text-decoration: underline;\">1. Description</h4>\n",
    "The goal of this project is to predict ride-hailing tips in Chicago based on travel time, distance, fare amount, weather conditions, and whether the customer shared the ride.\n"
   ]
  },
  {
   "cell_type": "code",
   "id": "1c90e750-76f6-4524-9e00-23d389391975",
   "metadata": {
    "ExecuteTime": {
     "end_time": "2025-06-04T13:28:20.926852Z",
     "start_time": "2025-06-04T13:28:20.098356Z"
    }
   },
   "source": [
    "#Note all your imports here\n",
    "\n",
    "import pandas as pd\n",
    "import numpy as np\n",
    "import matplotlib as mpl\n",
    "import matplotlib.pyplot as plt\n",
    "from numpy.ma.core import inner\n",
    "%matplotlib inline\n",
    "import seaborn as sns\n",
    "from sklearn.linear_model import LinearRegression\n",
    "from datetime import datetime\n",
    "from meteostat import Hourly, Point, Stations\n"
   ],
   "outputs": [],
   "execution_count": 1
  },
  {
   "metadata": {},
   "cell_type": "markdown",
   "source": "<h4 style=\"text-decoration: underline;\">2. Data Prepertion</h4>",
   "id": "eb96b7050d8dc921"
  },
  {
   "metadata": {},
   "cell_type": "markdown",
   "source": [
    "<h4 style=\"text-decoration: underline;\">2.1 Some Basic Data Preperation</h4>\n",
    "In the first step we want to do some basic data preperartion which means that we load our data set with the columns we need, we drop all rows with null values and changing our timestamps to datetime format"
   ],
   "id": "90df07db112fe767"
  },
  {
   "cell_type": "code",
   "id": "76201386-ac55-4da8-ab2b-7d5fe6a50618",
   "metadata": {
    "ExecuteTime": {
     "end_time": "2025-06-04T13:29:59.201515Z",
     "start_time": "2025-06-04T13:28:20.967389Z"
    }
   },
   "source": [
    "#Loading our dataset with the columns we need\n",
    "\n",
    "data_cleaned = pd.read_csv('Data/Chicago_RideHailing_Data.csv', usecols= ['Trip ID', 'Trip Start Timestamp', 'Trip End Timestamp', 'Trip Seconds', 'Trip Miles', 'Fare', 'Tip', 'Trip Total','Dropoff Centroid Latitude', 'Dropoff Centroid Longitude', 'Shared Trip Authorized', 'Shared Trip Match'])"
   ],
   "outputs": [
    {
     "name": "stderr",
     "output_type": "stream",
     "text": [
      "DtypeWarning: Columns (15,16) have mixed types. Specify dtype option on import or set low_memory=False.\n"
     ]
    }
   ],
   "execution_count": 2
  },
  {
   "metadata": {
    "ExecuteTime": {
     "end_time": "2025-06-04T13:30:07.722740Z",
     "start_time": "2025-06-04T13:30:02.871046Z"
    }
   },
   "cell_type": "code",
   "source": [
    "#Get some basic understanding of our data\n",
    "print('Null Values: ', data_cleaned.isnull().sum())\n",
    "data_cleaned.info()\n",
    "data_cleaned.head()"
   ],
   "id": "28185221ab2587ee",
   "outputs": [
    {
     "name": "stdout",
     "output_type": "stream",
     "text": [
      "Null Values:  Trip ID                             0\n",
      "Trip Start Timestamp                0\n",
      "Trip End Timestamp                  0\n",
      "Trip Seconds                     1638\n",
      "Trip Miles                          1\n",
      "Fare                            68110\n",
      "Tip                             68110\n",
      "Trip Total                      68110\n",
      "Shared Trip Authorized              1\n",
      "Shared Trip Match                   1\n",
      "Dropoff Centroid Latitude     2416867\n",
      "Dropoff Centroid Longitude    2416867\n",
      "dtype: int64\n",
      "<class 'pandas.core.frame.DataFrame'>\n",
      "RangeIndex: 27423899 entries, 0 to 27423898\n",
      "Data columns (total 12 columns):\n",
      " #   Column                      Dtype  \n",
      "---  ------                      -----  \n",
      " 0   Trip ID                     object \n",
      " 1   Trip Start Timestamp        object \n",
      " 2   Trip End Timestamp          object \n",
      " 3   Trip Seconds                float64\n",
      " 4   Trip Miles                  float64\n",
      " 5   Fare                        float64\n",
      " 6   Tip                         float64\n",
      " 7   Trip Total                  float64\n",
      " 8   Shared Trip Authorized      object \n",
      " 9   Shared Trip Match           object \n",
      " 10  Dropoff Centroid Latitude   float64\n",
      " 11  Dropoff Centroid Longitude  float64\n",
      "dtypes: float64(7), object(5)\n",
      "memory usage: 2.5+ GB\n"
     ]
    },
    {
     "data": {
      "text/plain": [
       "                                    Trip ID    Trip Start Timestamp  \\\n",
       "0  8255c0b48b877bda14fbc2f490b6e42f359c44ec  09/19/2023 06:15:00 PM   \n",
       "1  8255c1529cdd828c3ce4e6bdc494c734e8432025  09/28/2023 12:15:00 PM   \n",
       "2  8255c247359d6e148930ba860afa3282848c67ed  09/03/2023 05:15:00 PM   \n",
       "3  8255c37a57997b77f75da6af598a38fc28b4e832  09/13/2023 03:30:00 PM   \n",
       "4  8255c6b273a32b3a76d7dad03328abb229de7fbd  09/16/2023 01:00:00 PM   \n",
       "\n",
       "       Trip End Timestamp  Trip Seconds  Trip Miles  Fare  Tip  Trip Total  \\\n",
       "0  09/19/2023 07:15:00 PM        3109.0        23.5  32.5  0.0       40.70   \n",
       "1  09/28/2023 12:45:00 PM        1640.0        14.7  30.0  0.0       38.74   \n",
       "2  09/03/2023 05:30:00 PM         772.0         1.9  20.0  0.0       22.39   \n",
       "3  09/13/2023 03:30:00 PM         452.0         1.1  10.0  0.0       14.07   \n",
       "4  09/16/2023 01:00:00 PM         819.0         3.9  10.0  0.0       12.89   \n",
       "\n",
       "  Shared Trip Authorized Shared Trip Match  Dropoff Centroid Latitude  \\\n",
       "0                  False             False                  41.893216   \n",
       "1                  False             False                  41.979071   \n",
       "2                  False             False                  41.879255   \n",
       "3                  False             False                  41.892042   \n",
       "4                  False             False                  41.792592   \n",
       "\n",
       "   Dropoff Centroid Longitude  \n",
       "0                  -87.637844  \n",
       "1                  -87.903040  \n",
       "2                  -87.642649  \n",
       "3                  -87.631864  \n",
       "4                  -87.769615  "
      ],
      "text/html": [
       "<div>\n",
       "<style scoped>\n",
       "    .dataframe tbody tr th:only-of-type {\n",
       "        vertical-align: middle;\n",
       "    }\n",
       "\n",
       "    .dataframe tbody tr th {\n",
       "        vertical-align: top;\n",
       "    }\n",
       "\n",
       "    .dataframe thead th {\n",
       "        text-align: right;\n",
       "    }\n",
       "</style>\n",
       "<table border=\"1\" class=\"dataframe\">\n",
       "  <thead>\n",
       "    <tr style=\"text-align: right;\">\n",
       "      <th></th>\n",
       "      <th>Trip ID</th>\n",
       "      <th>Trip Start Timestamp</th>\n",
       "      <th>Trip End Timestamp</th>\n",
       "      <th>Trip Seconds</th>\n",
       "      <th>Trip Miles</th>\n",
       "      <th>Fare</th>\n",
       "      <th>Tip</th>\n",
       "      <th>Trip Total</th>\n",
       "      <th>Shared Trip Authorized</th>\n",
       "      <th>Shared Trip Match</th>\n",
       "      <th>Dropoff Centroid Latitude</th>\n",
       "      <th>Dropoff Centroid Longitude</th>\n",
       "    </tr>\n",
       "  </thead>\n",
       "  <tbody>\n",
       "    <tr>\n",
       "      <th>0</th>\n",
       "      <td>8255c0b48b877bda14fbc2f490b6e42f359c44ec</td>\n",
       "      <td>09/19/2023 06:15:00 PM</td>\n",
       "      <td>09/19/2023 07:15:00 PM</td>\n",
       "      <td>3109.0</td>\n",
       "      <td>23.5</td>\n",
       "      <td>32.5</td>\n",
       "      <td>0.0</td>\n",
       "      <td>40.70</td>\n",
       "      <td>False</td>\n",
       "      <td>False</td>\n",
       "      <td>41.893216</td>\n",
       "      <td>-87.637844</td>\n",
       "    </tr>\n",
       "    <tr>\n",
       "      <th>1</th>\n",
       "      <td>8255c1529cdd828c3ce4e6bdc494c734e8432025</td>\n",
       "      <td>09/28/2023 12:15:00 PM</td>\n",
       "      <td>09/28/2023 12:45:00 PM</td>\n",
       "      <td>1640.0</td>\n",
       "      <td>14.7</td>\n",
       "      <td>30.0</td>\n",
       "      <td>0.0</td>\n",
       "      <td>38.74</td>\n",
       "      <td>False</td>\n",
       "      <td>False</td>\n",
       "      <td>41.979071</td>\n",
       "      <td>-87.903040</td>\n",
       "    </tr>\n",
       "    <tr>\n",
       "      <th>2</th>\n",
       "      <td>8255c247359d6e148930ba860afa3282848c67ed</td>\n",
       "      <td>09/03/2023 05:15:00 PM</td>\n",
       "      <td>09/03/2023 05:30:00 PM</td>\n",
       "      <td>772.0</td>\n",
       "      <td>1.9</td>\n",
       "      <td>20.0</td>\n",
       "      <td>0.0</td>\n",
       "      <td>22.39</td>\n",
       "      <td>False</td>\n",
       "      <td>False</td>\n",
       "      <td>41.879255</td>\n",
       "      <td>-87.642649</td>\n",
       "    </tr>\n",
       "    <tr>\n",
       "      <th>3</th>\n",
       "      <td>8255c37a57997b77f75da6af598a38fc28b4e832</td>\n",
       "      <td>09/13/2023 03:30:00 PM</td>\n",
       "      <td>09/13/2023 03:30:00 PM</td>\n",
       "      <td>452.0</td>\n",
       "      <td>1.1</td>\n",
       "      <td>10.0</td>\n",
       "      <td>0.0</td>\n",
       "      <td>14.07</td>\n",
       "      <td>False</td>\n",
       "      <td>False</td>\n",
       "      <td>41.892042</td>\n",
       "      <td>-87.631864</td>\n",
       "    </tr>\n",
       "    <tr>\n",
       "      <th>4</th>\n",
       "      <td>8255c6b273a32b3a76d7dad03328abb229de7fbd</td>\n",
       "      <td>09/16/2023 01:00:00 PM</td>\n",
       "      <td>09/16/2023 01:00:00 PM</td>\n",
       "      <td>819.0</td>\n",
       "      <td>3.9</td>\n",
       "      <td>10.0</td>\n",
       "      <td>0.0</td>\n",
       "      <td>12.89</td>\n",
       "      <td>False</td>\n",
       "      <td>False</td>\n",
       "      <td>41.792592</td>\n",
       "      <td>-87.769615</td>\n",
       "    </tr>\n",
       "  </tbody>\n",
       "</table>\n",
       "</div>"
      ]
     },
     "execution_count": 3,
     "metadata": {},
     "output_type": "execute_result"
    }
   ],
   "execution_count": 3
  },
  {
   "cell_type": "code",
   "id": "b921cc3b-a9de-4994-83c6-e64c9cb4fb1f",
   "metadata": {
    "ExecuteTime": {
     "end_time": "2025-06-04T13:30:14.718779Z",
     "start_time": "2025-06-04T13:30:08.721160Z"
    }
   },
   "source": [
    "#Drop all rows with null values\n",
    "data_cleaned = data_cleaned.dropna(axis = 0)"
   ],
   "outputs": [],
   "execution_count": 4
  },
  {
   "cell_type": "code",
   "id": "82ba2335",
   "metadata": {
    "ExecuteTime": {
     "end_time": "2025-06-04T13:32:55.185520Z",
     "start_time": "2025-06-04T13:30:14.757032Z"
    }
   },
   "source": [
    "#changing our timestamps to datetime format\n",
    "data_cleaned['Trip Start Timestamp'] = pd.to_datetime(data_cleaned['Trip Start Timestamp'],  format='%m/%d/%Y %I:%M:%S %p', errors='coerce')\n",
    "data_cleaned['Trip End Timestamp'] = pd.to_datetime(data_cleaned['Trip End Timestamp'],  format='%m/%d/%Y %I:%M:%S %p', errors='coerce')"
   ],
   "outputs": [],
   "execution_count": 5
  },
  {
   "cell_type": "code",
   "id": "9270bcde-2698-40e4-9adf-315eb1f52d16",
   "metadata": {
    "ExecuteTime": {
     "end_time": "2025-06-04T13:32:58.040078Z",
     "start_time": "2025-06-04T13:32:55.193036Z"
    }
   },
   "source": [
    "#Check if everything worked correctly\n",
    "print('Null-Werte: ', data_cleaned.isnull().sum())\n",
    "data_cleaned.info()"
   ],
   "outputs": [
    {
     "name": "stdout",
     "output_type": "stream",
     "text": [
      "Null-Werte:  Trip ID                       0\n",
      "Trip Start Timestamp          0\n",
      "Trip End Timestamp            0\n",
      "Trip Seconds                  0\n",
      "Trip Miles                    0\n",
      "Fare                          0\n",
      "Tip                           0\n",
      "Trip Total                    0\n",
      "Shared Trip Authorized        0\n",
      "Shared Trip Match             0\n",
      "Dropoff Centroid Latitude     0\n",
      "Dropoff Centroid Longitude    0\n",
      "dtype: int64\n",
      "<class 'pandas.core.frame.DataFrame'>\n",
      "Index: 24946147 entries, 0 to 27423897\n",
      "Data columns (total 12 columns):\n",
      " #   Column                      Dtype         \n",
      "---  ------                      -----         \n",
      " 0   Trip ID                     object        \n",
      " 1   Trip Start Timestamp        datetime64[ns]\n",
      " 2   Trip End Timestamp          datetime64[ns]\n",
      " 3   Trip Seconds                float64       \n",
      " 4   Trip Miles                  float64       \n",
      " 5   Fare                        float64       \n",
      " 6   Tip                         float64       \n",
      " 7   Trip Total                  float64       \n",
      " 8   Shared Trip Authorized      object        \n",
      " 9   Shared Trip Match           object        \n",
      " 10  Dropoff Centroid Latitude   float64       \n",
      " 11  Dropoff Centroid Longitude  float64       \n",
      "dtypes: datetime64[ns](2), float64(7), object(3)\n",
      "memory usage: 2.4+ GB\n"
     ]
    }
   ],
   "execution_count": 6
  },
  {
   "metadata": {},
   "cell_type": "markdown",
   "source": [
    "<h4 style=\"text-decoration: underline;\">2.2 Including weather data</h4>\n",
    "In order to add or weather data we need to group or data because otherwise we will get runtime issues if we do API calls for barely 25 Million rows. This should be fine for our prediction purposes because there won't be huge differences in temperature or rain if we round by the second decimal place"
   ],
   "id": "8684bb9bbe0d210"
  },
  {
   "metadata": {
    "ExecuteTime": {
     "end_time": "2025-06-04T13:32:59.922512Z",
     "start_time": "2025-06-04T13:32:58.130901Z"
    }
   },
   "cell_type": "code",
   "source": [
    "#Round the Latitude and Longitude by the second decimal place and insert it in a new column\n",
    "data_cleaned[\"Latitude rounded\"] =  data_cleaned[\"Dropoff Centroid Latitude\"].round(2)\n",
    "data_cleaned[\"Longitude rounded\"] = data_cleaned[\"Dropoff Centroid Longitude\"].round(2)\n",
    "\n",
    "#Group the data by Latitude and Longitude\n",
    "data_grouped = data_cleaned.groupby([\"Latitude rounded\", \"Longitude rounded\"])[\"Trip End Timestamp\"].agg([\"min\", \"max\"]).reset_index()\n",
    "data_grouped.head()"
   ],
   "id": "c4f3c83a49f3c622",
   "outputs": [
    {
     "data": {
      "text/plain": [
       "   Latitude rounded  Longitude rounded                 min                 max\n",
       "0             41.65             -87.60 2023-08-31 01:00:00 2024-04-28 23:30:00\n",
       "1             41.65             -87.56 2023-08-31 12:45:00 2024-03-29 07:45:00\n",
       "2             41.66             -87.65 2023-08-31 08:30:00 2024-03-30 21:30:00\n",
       "3             41.66             -87.64 2023-08-31 02:00:00 2024-04-28 13:15:00\n",
       "4             41.66             -87.60 2023-08-31 00:00:00 2024-04-26 08:30:00"
      ],
      "text/html": [
       "<div>\n",
       "<style scoped>\n",
       "    .dataframe tbody tr th:only-of-type {\n",
       "        vertical-align: middle;\n",
       "    }\n",
       "\n",
       "    .dataframe tbody tr th {\n",
       "        vertical-align: top;\n",
       "    }\n",
       "\n",
       "    .dataframe thead th {\n",
       "        text-align: right;\n",
       "    }\n",
       "</style>\n",
       "<table border=\"1\" class=\"dataframe\">\n",
       "  <thead>\n",
       "    <tr style=\"text-align: right;\">\n",
       "      <th></th>\n",
       "      <th>Latitude rounded</th>\n",
       "      <th>Longitude rounded</th>\n",
       "      <th>min</th>\n",
       "      <th>max</th>\n",
       "    </tr>\n",
       "  </thead>\n",
       "  <tbody>\n",
       "    <tr>\n",
       "      <th>0</th>\n",
       "      <td>41.65</td>\n",
       "      <td>-87.60</td>\n",
       "      <td>2023-08-31 01:00:00</td>\n",
       "      <td>2024-04-28 23:30:00</td>\n",
       "    </tr>\n",
       "    <tr>\n",
       "      <th>1</th>\n",
       "      <td>41.65</td>\n",
       "      <td>-87.56</td>\n",
       "      <td>2023-08-31 12:45:00</td>\n",
       "      <td>2024-03-29 07:45:00</td>\n",
       "    </tr>\n",
       "    <tr>\n",
       "      <th>2</th>\n",
       "      <td>41.66</td>\n",
       "      <td>-87.65</td>\n",
       "      <td>2023-08-31 08:30:00</td>\n",
       "      <td>2024-03-30 21:30:00</td>\n",
       "    </tr>\n",
       "    <tr>\n",
       "      <th>3</th>\n",
       "      <td>41.66</td>\n",
       "      <td>-87.64</td>\n",
       "      <td>2023-08-31 02:00:00</td>\n",
       "      <td>2024-04-28 13:15:00</td>\n",
       "    </tr>\n",
       "    <tr>\n",
       "      <th>4</th>\n",
       "      <td>41.66</td>\n",
       "      <td>-87.60</td>\n",
       "      <td>2023-08-31 00:00:00</td>\n",
       "      <td>2024-04-26 08:30:00</td>\n",
       "    </tr>\n",
       "  </tbody>\n",
       "</table>\n",
       "</div>"
      ]
     },
     "execution_count": 7,
     "metadata": {},
     "output_type": "execute_result"
    }
   ],
   "execution_count": 7
  },
  {
   "metadata": {
    "ExecuteTime": {
     "end_time": "2025-06-04T13:36:54.590484Z",
     "start_time": "2025-06-04T13:35:07.348712Z"
    }
   },
   "cell_type": "code",
   "source": [
    "weather_list = []\n",
    "for i in range(len(data_grouped)):\n",
    "    #Initalise variables\n",
    "    latitude = data_grouped[\"Latitude rounded\"].iloc[i]\n",
    "    longitude = data_grouped[\"Longitude rounded\"].iloc[i]\n",
    "    location = Point(latitude, longitude)\n",
    "    timestamp_min = data_grouped[\"min\"].iloc[i]\n",
    "    timestamp_max = data_grouped[\"max\"].iloc[i]\n",
    "    \n",
    "    #Round min and max column to the next hour in order to extract the weather data correctly\n",
    "    timestamp_min_rounded = timestamp_min.replace(minute = 0, second = 0) \n",
    "    timestamp_max_rounded = timestamp_max.replace(minute = 0, second = 0)\n",
    "    \n",
    "    #Extract the weather data per location\n",
    "    weather = Hourly(location, timestamp_min_rounded, timestamp_max_rounded).fetch()\n",
    "\n",
    "    #Merge the extractet weather data with the fitting timestamps and locations\n",
    "    for j in range(len(weather)):\n",
    "       weather_list.append({\"Timestamp\": weather.index[j], \"Latitude rounded\": latitude, \"Longitude rounded\": longitude, \"Temperature\": weather[\"temp\"].iloc[j], \"Rain in mm\": weather[\"prcp\"].iloc[j]})\n",
    "\n",
    "#Covert the list to a DataFrame\n",
    "weather_data = pd.DataFrame(weather_list)\n",
    "weather_data.head()"
   ],
   "id": "e378e75201ad951f",
   "outputs": [
    {
     "data": {
      "text/plain": [
       "            Timestamp  Latitude rounded  Longitude rounded  Temperature  \\\n",
       "0 2023-08-31 01:00:00             41.65              -87.6         16.1   \n",
       "1 2023-08-31 02:00:00             41.65              -87.6         15.8   \n",
       "2 2023-08-31 03:00:00             41.65              -87.6         15.6   \n",
       "3 2023-08-31 04:00:00             41.65              -87.6         15.2   \n",
       "4 2023-08-31 05:00:00             41.65              -87.6         14.5   \n",
       "\n",
       "  Rain in mm  \n",
       "0        0.0  \n",
       "1        0.0  \n",
       "2        0.0  \n",
       "3        0.0  \n",
       "4        0.0  "
      ],
      "text/html": [
       "<div>\n",
       "<style scoped>\n",
       "    .dataframe tbody tr th:only-of-type {\n",
       "        vertical-align: middle;\n",
       "    }\n",
       "\n",
       "    .dataframe tbody tr th {\n",
       "        vertical-align: top;\n",
       "    }\n",
       "\n",
       "    .dataframe thead th {\n",
       "        text-align: right;\n",
       "    }\n",
       "</style>\n",
       "<table border=\"1\" class=\"dataframe\">\n",
       "  <thead>\n",
       "    <tr style=\"text-align: right;\">\n",
       "      <th></th>\n",
       "      <th>Timestamp</th>\n",
       "      <th>Latitude rounded</th>\n",
       "      <th>Longitude rounded</th>\n",
       "      <th>Temperature</th>\n",
       "      <th>Rain in mm</th>\n",
       "    </tr>\n",
       "  </thead>\n",
       "  <tbody>\n",
       "    <tr>\n",
       "      <th>0</th>\n",
       "      <td>2023-08-31 01:00:00</td>\n",
       "      <td>41.65</td>\n",
       "      <td>-87.6</td>\n",
       "      <td>16.1</td>\n",
       "      <td>0.0</td>\n",
       "    </tr>\n",
       "    <tr>\n",
       "      <th>1</th>\n",
       "      <td>2023-08-31 02:00:00</td>\n",
       "      <td>41.65</td>\n",
       "      <td>-87.6</td>\n",
       "      <td>15.8</td>\n",
       "      <td>0.0</td>\n",
       "    </tr>\n",
       "    <tr>\n",
       "      <th>2</th>\n",
       "      <td>2023-08-31 03:00:00</td>\n",
       "      <td>41.65</td>\n",
       "      <td>-87.6</td>\n",
       "      <td>15.6</td>\n",
       "      <td>0.0</td>\n",
       "    </tr>\n",
       "    <tr>\n",
       "      <th>3</th>\n",
       "      <td>2023-08-31 04:00:00</td>\n",
       "      <td>41.65</td>\n",
       "      <td>-87.6</td>\n",
       "      <td>15.2</td>\n",
       "      <td>0.0</td>\n",
       "    </tr>\n",
       "    <tr>\n",
       "      <th>4</th>\n",
       "      <td>2023-08-31 05:00:00</td>\n",
       "      <td>41.65</td>\n",
       "      <td>-87.6</td>\n",
       "      <td>14.5</td>\n",
       "      <td>0.0</td>\n",
       "    </tr>\n",
       "  </tbody>\n",
       "</table>\n",
       "</div>"
      ]
     },
     "execution_count": 9,
     "metadata": {},
     "output_type": "execute_result"
    }
   ],
   "execution_count": 9
  },
  {
   "metadata": {
    "ExecuteTime": {
     "end_time": "2025-06-04T13:37:00.567824Z",
     "start_time": "2025-06-04T13:37:00.115043Z"
    }
   },
   "cell_type": "code",
   "source": [
    "#Now we prepare the merge of the weather data and the other data. For this we need to round our timestamps by the next hour because our weather data is given hourly\n",
    "data_cleaned[\"Trip End Timestamp Rounded\"] = data_cleaned[\"Trip End Timestamp\"].dt.floor(\"h\")\n"
   ],
   "id": "95f673f12697bfe6",
   "outputs": [],
   "execution_count": 10
  },
  {
   "metadata": {
    "ExecuteTime": {
     "end_time": "2025-06-04T13:51:18.840155Z",
     "start_time": "2025-06-04T13:49:25.331923Z"
    }
   },
   "cell_type": "code",
   "source": [
    "#In the next step we can start with the merge\n",
    "data_merged = pd.merge(data_cleaned, weather_data, left_on=[\"Trip End Timestamp Rounded\", \"Latitude rounded\", \"Longitude rounded\"], right_on =[\"Timestamp\", \"Latitude rounded\", \"Longitude rounded\"], how = \"inner\")"
   ],
   "id": "a84dfd98eb4e51ff",
   "outputs": [],
   "execution_count": 20
  },
  {
   "metadata": {
    "ExecuteTime": {
     "end_time": "2025-06-04T13:51:52.544913Z",
     "start_time": "2025-06-04T13:51:40.632149Z"
    }
   },
   "cell_type": "code",
   "source": [
    "#After that we can drop all the columns we just needed to merge our data\n",
    "data_merged = data_merged.drop(columns = [\"Dropoff Centroid Latitude\", \"Dropoff Centroid Longitude\", \"Latitude rounded\", \"Longitude rounded\", \"Timestamp\"])\n",
    "data_merged.head()"
   ],
   "id": "d2d93ac35cb9b957",
   "outputs": [
    {
     "data": {
      "text/plain": [
       "                                    Trip ID Trip Start Timestamp  \\\n",
       "0  8255c0b48b877bda14fbc2f490b6e42f359c44ec  2023-09-19 18:15:00   \n",
       "1  8255c1529cdd828c3ce4e6bdc494c734e8432025  2023-09-28 12:15:00   \n",
       "2  8255c247359d6e148930ba860afa3282848c67ed  2023-09-03 17:15:00   \n",
       "3  8255c37a57997b77f75da6af598a38fc28b4e832  2023-09-13 15:30:00   \n",
       "4  8255c6b273a32b3a76d7dad03328abb229de7fbd  2023-09-16 13:00:00   \n",
       "\n",
       "   Trip End Timestamp  Trip Seconds  Trip Miles  Fare  Tip  Trip Total  \\\n",
       "0 2023-09-19 19:15:00        3109.0        23.5  32.5  0.0       40.70   \n",
       "1 2023-09-28 12:45:00        1640.0        14.7  30.0  0.0       38.74   \n",
       "2 2023-09-03 17:30:00         772.0         1.9  20.0  0.0       22.39   \n",
       "3 2023-09-13 15:30:00         452.0         1.1  10.0  0.0       14.07   \n",
       "4 2023-09-16 13:00:00         819.0         3.9  10.0  0.0       12.89   \n",
       "\n",
       "  Shared Trip Authorized Shared Trip Match Trip End Timestamp Rounded  \\\n",
       "0                  False             False        2023-09-19 19:00:00   \n",
       "1                  False             False        2023-09-28 12:00:00   \n",
       "2                  False             False        2023-09-03 17:00:00   \n",
       "3                  False             False        2023-09-13 15:00:00   \n",
       "4                  False             False        2023-09-16 13:00:00   \n",
       "\n",
       "   Temperature Rain in mm  \n",
       "0         16.7        0.3  \n",
       "1         18.9        0.0  \n",
       "2         31.1        0.0  \n",
       "3         17.8        0.0  \n",
       "4         16.1        0.0  "
      ],
      "text/html": [
       "<div>\n",
       "<style scoped>\n",
       "    .dataframe tbody tr th:only-of-type {\n",
       "        vertical-align: middle;\n",
       "    }\n",
       "\n",
       "    .dataframe tbody tr th {\n",
       "        vertical-align: top;\n",
       "    }\n",
       "\n",
       "    .dataframe thead th {\n",
       "        text-align: right;\n",
       "    }\n",
       "</style>\n",
       "<table border=\"1\" class=\"dataframe\">\n",
       "  <thead>\n",
       "    <tr style=\"text-align: right;\">\n",
       "      <th></th>\n",
       "      <th>Trip ID</th>\n",
       "      <th>Trip Start Timestamp</th>\n",
       "      <th>Trip End Timestamp</th>\n",
       "      <th>Trip Seconds</th>\n",
       "      <th>Trip Miles</th>\n",
       "      <th>Fare</th>\n",
       "      <th>Tip</th>\n",
       "      <th>Trip Total</th>\n",
       "      <th>Shared Trip Authorized</th>\n",
       "      <th>Shared Trip Match</th>\n",
       "      <th>Trip End Timestamp Rounded</th>\n",
       "      <th>Temperature</th>\n",
       "      <th>Rain in mm</th>\n",
       "    </tr>\n",
       "  </thead>\n",
       "  <tbody>\n",
       "    <tr>\n",
       "      <th>0</th>\n",
       "      <td>8255c0b48b877bda14fbc2f490b6e42f359c44ec</td>\n",
       "      <td>2023-09-19 18:15:00</td>\n",
       "      <td>2023-09-19 19:15:00</td>\n",
       "      <td>3109.0</td>\n",
       "      <td>23.5</td>\n",
       "      <td>32.5</td>\n",
       "      <td>0.0</td>\n",
       "      <td>40.70</td>\n",
       "      <td>False</td>\n",
       "      <td>False</td>\n",
       "      <td>2023-09-19 19:00:00</td>\n",
       "      <td>16.7</td>\n",
       "      <td>0.3</td>\n",
       "    </tr>\n",
       "    <tr>\n",
       "      <th>1</th>\n",
       "      <td>8255c1529cdd828c3ce4e6bdc494c734e8432025</td>\n",
       "      <td>2023-09-28 12:15:00</td>\n",
       "      <td>2023-09-28 12:45:00</td>\n",
       "      <td>1640.0</td>\n",
       "      <td>14.7</td>\n",
       "      <td>30.0</td>\n",
       "      <td>0.0</td>\n",
       "      <td>38.74</td>\n",
       "      <td>False</td>\n",
       "      <td>False</td>\n",
       "      <td>2023-09-28 12:00:00</td>\n",
       "      <td>18.9</td>\n",
       "      <td>0.0</td>\n",
       "    </tr>\n",
       "    <tr>\n",
       "      <th>2</th>\n",
       "      <td>8255c247359d6e148930ba860afa3282848c67ed</td>\n",
       "      <td>2023-09-03 17:15:00</td>\n",
       "      <td>2023-09-03 17:30:00</td>\n",
       "      <td>772.0</td>\n",
       "      <td>1.9</td>\n",
       "      <td>20.0</td>\n",
       "      <td>0.0</td>\n",
       "      <td>22.39</td>\n",
       "      <td>False</td>\n",
       "      <td>False</td>\n",
       "      <td>2023-09-03 17:00:00</td>\n",
       "      <td>31.1</td>\n",
       "      <td>0.0</td>\n",
       "    </tr>\n",
       "    <tr>\n",
       "      <th>3</th>\n",
       "      <td>8255c37a57997b77f75da6af598a38fc28b4e832</td>\n",
       "      <td>2023-09-13 15:30:00</td>\n",
       "      <td>2023-09-13 15:30:00</td>\n",
       "      <td>452.0</td>\n",
       "      <td>1.1</td>\n",
       "      <td>10.0</td>\n",
       "      <td>0.0</td>\n",
       "      <td>14.07</td>\n",
       "      <td>False</td>\n",
       "      <td>False</td>\n",
       "      <td>2023-09-13 15:00:00</td>\n",
       "      <td>17.8</td>\n",
       "      <td>0.0</td>\n",
       "    </tr>\n",
       "    <tr>\n",
       "      <th>4</th>\n",
       "      <td>8255c6b273a32b3a76d7dad03328abb229de7fbd</td>\n",
       "      <td>2023-09-16 13:00:00</td>\n",
       "      <td>2023-09-16 13:00:00</td>\n",
       "      <td>819.0</td>\n",
       "      <td>3.9</td>\n",
       "      <td>10.0</td>\n",
       "      <td>0.0</td>\n",
       "      <td>12.89</td>\n",
       "      <td>False</td>\n",
       "      <td>False</td>\n",
       "      <td>2023-09-16 13:00:00</td>\n",
       "      <td>16.1</td>\n",
       "      <td>0.0</td>\n",
       "    </tr>\n",
       "  </tbody>\n",
       "</table>\n",
       "</div>"
      ]
     },
     "execution_count": 21,
     "metadata": {},
     "output_type": "execute_result"
    }
   ],
   "execution_count": 21
  },
  {
   "metadata": {},
   "cell_type": "markdown",
   "source": [
    "<h4 style=\"text-decoration: underline;\">2.3 Re-scaling Data</h4>\n",
    "Our colums use diffrent scales to visualize the data. That's why we need to re-scale them to get meaningful result in our regression later on. For this task we use the python libary StandardScaler as learned in the lectures. But first of all we need to creat dummy variables for our columns 'Shared Trip Authorised' and 'Shared Trip Match' which use boolean values currently."
   ],
   "id": "6292de49063ad3e9"
  },
  {
   "metadata": {
    "jupyter": {
     "is_executing": true
    }
   },
   "cell_type": "code",
   "source": [
    "#Create dummy variable (1 = True and 0 = False)\n",
    "data_merged[\"Shared Trip Authorized\"] = data_merged[\"Shared Trip Authorized\"].astype(int)\n",
    "data_merged[\"Shared Trip Match\"] = data_merged[\"Shared Trip Match\"].astype(int)\n",
    "data_merged.head()"
   ],
   "id": "9d11db014a286ddc",
   "outputs": [],
   "execution_count": null
  }
 ],
 "metadata": {
  "kernelspec": {
   "display_name": "Python [conda env:base] *",
   "language": "python",
   "name": "conda-base-py"
  },
  "language_info": {
   "codemirror_mode": {
    "name": "ipython",
    "version": 3
   },
   "file_extension": ".py",
   "mimetype": "text/x-python",
   "name": "python",
   "nbconvert_exporter": "python",
   "pygments_lexer": "ipython3",
   "version": "3.13.2"
  }
 },
 "nbformat": 4,
 "nbformat_minor": 5
}

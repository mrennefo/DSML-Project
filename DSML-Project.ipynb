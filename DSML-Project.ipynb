{
 "cells": [
  {
   "attachments": {},
   "cell_type": "markdown",
   "id": "85dcb6d7-eabc-4f84-9b91-71c1fa1328f9",
   "metadata": {},
   "source": [
    "<div style=\"text-align: center\"><h1 style=\"text-decoration: underline;\">DSML Project</h1></div>\n",
    "\n"
   ]
  },
  {
   "attachments": {},
   "cell_type": "markdown",
   "id": "7ad31350-3590-4527-b773-f4bd3984bfa9",
   "metadata": {},
   "source": [
    "This is the official Notebook of the DSML Project from Marc Rennefort, Kilian Lipinsky, Timo Hagelberg, Jan Behrendt-Emden and Paul Severin. In order to create this Project we used the following dataset: https://data.cityofchicago.org/Transportation/Transportation-Network-Providers-Trips-2023-2024-/n26f-ihde/about_data\n",
    "<h4 style=\"text-decoration: underline;\">1. Description</h4>\n",
    "The goal of this project is to predict ride-hailing tips in Chicago based on travel time, distance, fare amount, weather conditions, and whether the customer shared the ride.\n"
   ]
  },
  {
   "cell_type": "code",
   "id": "1c90e750-76f6-4524-9e00-23d389391975",
   "metadata": {
    "ExecuteTime": {
     "end_time": "2025-06-19T17:41:04.273375Z",
     "start_time": "2025-06-19T17:41:01.624991Z"
    }
   },
   "source": [
    "#Note all your imports here\n",
    "\n",
    "import pandas as pd\n",
    "import numpy as np\n",
    "import matplotlib as mpl\n",
    "import matplotlib.pyplot as plt\n",
    "from holoviews.plotting.plotly import ScatterPlot\n",
    "from numpy.ma.core import inner\n",
    "from pandas.core.common import random_state\n",
    "from sklearn.metrics import mean_absolute_error, r2_score\n",
    "from sklearn.preprocessing import StandardScaler\n",
    "%matplotlib inline\n",
    "import seaborn as sns\n",
    "from sklearn.linear_model import LinearRegression\n",
    "from datetime import datetime\n",
    "from sklearn.model_selection import train_test_split\n",
    "from meteostat import Hourly, Point\n",
    "from sklearn.metrics.pairwise import euclidean_distances"
   ],
   "outputs": [],
   "execution_count": 1
  },
  {
   "cell_type": "markdown",
   "id": "eb96b7050d8dc921",
   "metadata": {},
   "source": [
    "<h4 style=\"text-decoration: underline;\">2. Data Prepertion</h4>"
   ]
  },
  {
   "cell_type": "markdown",
   "id": "90df07db112fe767",
   "metadata": {},
   "source": [
    "<h4 style=\"text-decoration: underline;\">2.1 Some Basic Data Preperation</h4>\n",
    "In the first step we want to do some basic data preperartion which means that we load our data set with the columns we need, we drop all rows with null values and changing our timestamps to datetime format"
   ]
  },
  {
   "cell_type": "code",
   "id": "76201386-ac55-4da8-ab2b-7d5fe6a50618",
   "metadata": {
    "ExecuteTime": {
     "end_time": "2025-06-19T15:16:37.653616Z",
     "start_time": "2025-06-19T15:15:45.368906Z"
    }
   },
   "source": [
    "#Loading our dataset with the columns we need\n",
    "data_cleaned = pd.read_csv('Data/Chicago_RideHailing_Data.csv', usecols= ['Trip End Timestamp', 'Trip Seconds', 'Trip Miles', 'Tip', 'Trip Total','Dropoff Centroid Latitude', 'Dropoff Centroid Longitude', 'Shared Trip Authorized', 'Shared Trip Match'])\n",
    "\n",
    "#We can't use the Total including Tip, so we will calculate the cost (Far + other Charges) as Total - Tip\n",
    "data_cleaned['Cost'] = data_cleaned['Trip Total'] - data_cleaned['Tip']\n",
    "data_cleaned = data_cleaned.drop(columns=['Trip Total'])"
   ],
   "outputs": [
    {
     "name": "stderr",
     "output_type": "stream",
     "text": [
      "DtypeWarning: Columns (15,16) have mixed types. Specify dtype option on import or set low_memory=False.\n"
     ]
    }
   ],
   "execution_count": 2
  },
  {
   "cell_type": "code",
   "id": "28185221ab2587ee",
   "metadata": {
    "ExecuteTime": {
     "end_time": "2025-06-19T15:16:40.505194Z",
     "start_time": "2025-06-19T15:16:37.794900Z"
    }
   },
   "source": [
    "#Get some basic understanding of our data\n",
    "print('Null Values: ', data_cleaned.isnull().sum())\n",
    "data_cleaned.info()\n",
    "data_cleaned.head()"
   ],
   "outputs": [
    {
     "name": "stdout",
     "output_type": "stream",
     "text": [
      "Null Values:  Trip End Timestamp                  0\n",
      "Trip Seconds                     1638\n",
      "Trip Miles                          1\n",
      "Tip                             68110\n",
      "Shared Trip Authorized              1\n",
      "Shared Trip Match                   1\n",
      "Dropoff Centroid Latitude     2416867\n",
      "Dropoff Centroid Longitude    2416867\n",
      "Cost                            68110\n",
      "dtype: int64\n",
      "<class 'pandas.core.frame.DataFrame'>\n",
      "RangeIndex: 27423899 entries, 0 to 27423898\n",
      "Data columns (total 9 columns):\n",
      " #   Column                      Dtype  \n",
      "---  ------                      -----  \n",
      " 0   Trip End Timestamp          object \n",
      " 1   Trip Seconds                float64\n",
      " 2   Trip Miles                  float64\n",
      " 3   Tip                         float64\n",
      " 4   Shared Trip Authorized      object \n",
      " 5   Shared Trip Match           object \n",
      " 6   Dropoff Centroid Latitude   float64\n",
      " 7   Dropoff Centroid Longitude  float64\n",
      " 8   Cost                        float64\n",
      "dtypes: float64(6), object(3)\n",
      "memory usage: 1.8+ GB\n"
     ]
    },
    {
     "data": {
      "text/plain": [
       "       Trip End Timestamp  Trip Seconds  Trip Miles  Tip  \\\n",
       "0  09/19/2023 07:15:00 PM        3109.0        23.5  0.0   \n",
       "1  09/28/2023 12:45:00 PM        1640.0        14.7  0.0   \n",
       "2  09/03/2023 05:30:00 PM         772.0         1.9  0.0   \n",
       "3  09/13/2023 03:30:00 PM         452.0         1.1  0.0   \n",
       "4  09/16/2023 01:00:00 PM         819.0         3.9  0.0   \n",
       "\n",
       "  Shared Trip Authorized Shared Trip Match  Dropoff Centroid Latitude  \\\n",
       "0                  False             False                  41.893216   \n",
       "1                  False             False                  41.979071   \n",
       "2                  False             False                  41.879255   \n",
       "3                  False             False                  41.892042   \n",
       "4                  False             False                  41.792592   \n",
       "\n",
       "   Dropoff Centroid Longitude   Cost  \n",
       "0                  -87.637844  40.70  \n",
       "1                  -87.903040  38.74  \n",
       "2                  -87.642649  22.39  \n",
       "3                  -87.631864  14.07  \n",
       "4                  -87.769615  12.89  "
      ],
      "text/html": [
       "<div>\n",
       "<style scoped>\n",
       "    .dataframe tbody tr th:only-of-type {\n",
       "        vertical-align: middle;\n",
       "    }\n",
       "\n",
       "    .dataframe tbody tr th {\n",
       "        vertical-align: top;\n",
       "    }\n",
       "\n",
       "    .dataframe thead th {\n",
       "        text-align: right;\n",
       "    }\n",
       "</style>\n",
       "<table border=\"1\" class=\"dataframe\">\n",
       "  <thead>\n",
       "    <tr style=\"text-align: right;\">\n",
       "      <th></th>\n",
       "      <th>Trip End Timestamp</th>\n",
       "      <th>Trip Seconds</th>\n",
       "      <th>Trip Miles</th>\n",
       "      <th>Tip</th>\n",
       "      <th>Shared Trip Authorized</th>\n",
       "      <th>Shared Trip Match</th>\n",
       "      <th>Dropoff Centroid Latitude</th>\n",
       "      <th>Dropoff Centroid Longitude</th>\n",
       "      <th>Cost</th>\n",
       "    </tr>\n",
       "  </thead>\n",
       "  <tbody>\n",
       "    <tr>\n",
       "      <th>0</th>\n",
       "      <td>09/19/2023 07:15:00 PM</td>\n",
       "      <td>3109.0</td>\n",
       "      <td>23.5</td>\n",
       "      <td>0.0</td>\n",
       "      <td>False</td>\n",
       "      <td>False</td>\n",
       "      <td>41.893216</td>\n",
       "      <td>-87.637844</td>\n",
       "      <td>40.70</td>\n",
       "    </tr>\n",
       "    <tr>\n",
       "      <th>1</th>\n",
       "      <td>09/28/2023 12:45:00 PM</td>\n",
       "      <td>1640.0</td>\n",
       "      <td>14.7</td>\n",
       "      <td>0.0</td>\n",
       "      <td>False</td>\n",
       "      <td>False</td>\n",
       "      <td>41.979071</td>\n",
       "      <td>-87.903040</td>\n",
       "      <td>38.74</td>\n",
       "    </tr>\n",
       "    <tr>\n",
       "      <th>2</th>\n",
       "      <td>09/03/2023 05:30:00 PM</td>\n",
       "      <td>772.0</td>\n",
       "      <td>1.9</td>\n",
       "      <td>0.0</td>\n",
       "      <td>False</td>\n",
       "      <td>False</td>\n",
       "      <td>41.879255</td>\n",
       "      <td>-87.642649</td>\n",
       "      <td>22.39</td>\n",
       "    </tr>\n",
       "    <tr>\n",
       "      <th>3</th>\n",
       "      <td>09/13/2023 03:30:00 PM</td>\n",
       "      <td>452.0</td>\n",
       "      <td>1.1</td>\n",
       "      <td>0.0</td>\n",
       "      <td>False</td>\n",
       "      <td>False</td>\n",
       "      <td>41.892042</td>\n",
       "      <td>-87.631864</td>\n",
       "      <td>14.07</td>\n",
       "    </tr>\n",
       "    <tr>\n",
       "      <th>4</th>\n",
       "      <td>09/16/2023 01:00:00 PM</td>\n",
       "      <td>819.0</td>\n",
       "      <td>3.9</td>\n",
       "      <td>0.0</td>\n",
       "      <td>False</td>\n",
       "      <td>False</td>\n",
       "      <td>41.792592</td>\n",
       "      <td>-87.769615</td>\n",
       "      <td>12.89</td>\n",
       "    </tr>\n",
       "  </tbody>\n",
       "</table>\n",
       "</div>"
      ]
     },
     "execution_count": 3,
     "metadata": {},
     "output_type": "execute_result"
    }
   ],
   "execution_count": 3
  },
  {
   "cell_type": "code",
   "id": "b921cc3b-a9de-4994-83c6-e64c9cb4fb1f",
   "metadata": {
    "ExecuteTime": {
     "end_time": "2025-06-19T15:16:44.264006Z",
     "start_time": "2025-06-19T15:16:40.620774Z"
    }
   },
   "source": [
    "#Drop all rows with null values\n",
    "data_cleaned = data_cleaned.dropna(axis = 0)"
   ],
   "outputs": [],
   "execution_count": 4
  },
  {
   "cell_type": "code",
   "id": "82ba2335",
   "metadata": {
    "ExecuteTime": {
     "end_time": "2025-06-19T15:18:01.770657Z",
     "start_time": "2025-06-19T15:16:44.296397Z"
    }
   },
   "source": [
    "#Changing our timestamp to datetime format\n",
    "data_cleaned['Trip End Timestamp'] = pd.to_datetime(data_cleaned['Trip End Timestamp'],  format='%m/%d/%Y %I:%M:%S %p', errors='coerce')"
   ],
   "outputs": [],
   "execution_count": 5
  },
  {
   "cell_type": "code",
   "id": "9270bcde-2698-40e4-9adf-315eb1f52d16",
   "metadata": {
    "ExecuteTime": {
     "end_time": "2025-06-19T15:18:03.491293Z",
     "start_time": "2025-06-19T15:18:01.782707Z"
    }
   },
   "source": [
    "#Check if everything worked correctly\n",
    "print('Null-Werte: ', data_cleaned.isnull().sum())\n",
    "data_cleaned.info()"
   ],
   "outputs": [
    {
     "name": "stdout",
     "output_type": "stream",
     "text": [
      "Null-Werte:  Trip End Timestamp            0\n",
      "Trip Seconds                  0\n",
      "Trip Miles                    0\n",
      "Tip                           0\n",
      "Shared Trip Authorized        0\n",
      "Shared Trip Match             0\n",
      "Dropoff Centroid Latitude     0\n",
      "Dropoff Centroid Longitude    0\n",
      "Cost                          0\n",
      "dtype: int64\n",
      "<class 'pandas.core.frame.DataFrame'>\n",
      "Index: 24946147 entries, 0 to 27423897\n",
      "Data columns (total 9 columns):\n",
      " #   Column                      Dtype         \n",
      "---  ------                      -----         \n",
      " 0   Trip End Timestamp          datetime64[ns]\n",
      " 1   Trip Seconds                float64       \n",
      " 2   Trip Miles                  float64       \n",
      " 3   Tip                         float64       \n",
      " 4   Shared Trip Authorized      object        \n",
      " 5   Shared Trip Match           object        \n",
      " 6   Dropoff Centroid Latitude   float64       \n",
      " 7   Dropoff Centroid Longitude  float64       \n",
      " 8   Cost                        float64       \n",
      "dtypes: datetime64[ns](1), float64(6), object(2)\n",
      "memory usage: 1.9+ GB\n"
     ]
    }
   ],
   "execution_count": 6
  },
  {
   "cell_type": "markdown",
   "id": "8684bb9bbe0d210",
   "metadata": {},
   "source": [
    "<h4 style=\"text-decoration: underline;\">2.2 Including weather data</h4>\n",
    "In order to add the weather data we need to group our data because otherwise we will get runtime issues if we do API calls for barely 25 Million rows. This should be fine for our prediction purposes because there won't be huge differences in temperature or rain if we round by the second decimal place"
   ]
  },
  {
   "cell_type": "code",
   "id": "c4f3c83a49f3c622",
   "metadata": {
    "ExecuteTime": {
     "end_time": "2025-06-19T15:18:05.236683Z",
     "start_time": "2025-06-19T15:18:03.527027Z"
    }
   },
   "source": [
    "#Round the Latitude and Longitude by the second decimal place and insert it in a new column\n",
    "data_cleaned[\"Latitude rounded\"] =  data_cleaned[\"Dropoff Centroid Latitude\"].round(2)\n",
    "data_cleaned[\"Longitude rounded\"] = data_cleaned[\"Dropoff Centroid Longitude\"].round(2)\n",
    "\n",
    "#Group the data by Latitude and Longitude\n",
    "data_grouped = data_cleaned.groupby([\"Latitude rounded\", \"Longitude rounded\"])[\"Trip End Timestamp\"].agg([\"min\", \"max\"]).reset_index()\n",
    "data_grouped.head()"
   ],
   "outputs": [
    {
     "data": {
      "text/plain": [
       "   Latitude rounded  Longitude rounded                 min                 max\n",
       "0             41.65             -87.60 2023-08-31 01:00:00 2024-04-28 23:30:00\n",
       "1             41.65             -87.56 2023-08-31 12:45:00 2024-03-29 07:45:00\n",
       "2             41.66             -87.65 2023-08-31 08:30:00 2024-03-30 21:30:00\n",
       "3             41.66             -87.64 2023-08-31 02:00:00 2024-04-28 13:15:00\n",
       "4             41.66             -87.60 2023-08-31 00:00:00 2024-04-26 08:30:00"
      ],
      "text/html": [
       "<div>\n",
       "<style scoped>\n",
       "    .dataframe tbody tr th:only-of-type {\n",
       "        vertical-align: middle;\n",
       "    }\n",
       "\n",
       "    .dataframe tbody tr th {\n",
       "        vertical-align: top;\n",
       "    }\n",
       "\n",
       "    .dataframe thead th {\n",
       "        text-align: right;\n",
       "    }\n",
       "</style>\n",
       "<table border=\"1\" class=\"dataframe\">\n",
       "  <thead>\n",
       "    <tr style=\"text-align: right;\">\n",
       "      <th></th>\n",
       "      <th>Latitude rounded</th>\n",
       "      <th>Longitude rounded</th>\n",
       "      <th>min</th>\n",
       "      <th>max</th>\n",
       "    </tr>\n",
       "  </thead>\n",
       "  <tbody>\n",
       "    <tr>\n",
       "      <th>0</th>\n",
       "      <td>41.65</td>\n",
       "      <td>-87.60</td>\n",
       "      <td>2023-08-31 01:00:00</td>\n",
       "      <td>2024-04-28 23:30:00</td>\n",
       "    </tr>\n",
       "    <tr>\n",
       "      <th>1</th>\n",
       "      <td>41.65</td>\n",
       "      <td>-87.56</td>\n",
       "      <td>2023-08-31 12:45:00</td>\n",
       "      <td>2024-03-29 07:45:00</td>\n",
       "    </tr>\n",
       "    <tr>\n",
       "      <th>2</th>\n",
       "      <td>41.66</td>\n",
       "      <td>-87.65</td>\n",
       "      <td>2023-08-31 08:30:00</td>\n",
       "      <td>2024-03-30 21:30:00</td>\n",
       "    </tr>\n",
       "    <tr>\n",
       "      <th>3</th>\n",
       "      <td>41.66</td>\n",
       "      <td>-87.64</td>\n",
       "      <td>2023-08-31 02:00:00</td>\n",
       "      <td>2024-04-28 13:15:00</td>\n",
       "    </tr>\n",
       "    <tr>\n",
       "      <th>4</th>\n",
       "      <td>41.66</td>\n",
       "      <td>-87.60</td>\n",
       "      <td>2023-08-31 00:00:00</td>\n",
       "      <td>2024-04-26 08:30:00</td>\n",
       "    </tr>\n",
       "  </tbody>\n",
       "</table>\n",
       "</div>"
      ]
     },
     "execution_count": 7,
     "metadata": {},
     "output_type": "execute_result"
    }
   ],
   "execution_count": 7
  },
  {
   "cell_type": "code",
   "id": "e378e75201ad951f",
   "metadata": {
    "ExecuteTime": {
     "end_time": "2025-06-19T15:19:52.308549Z",
     "start_time": "2025-06-19T15:18:05.392180Z"
    }
   },
   "source": [
    "weather_list = []\n",
    "for i in range(len(data_grouped)):\n",
    "    #Initalise variables\n",
    "    latitude = data_grouped[\"Latitude rounded\"].iloc[i]\n",
    "    longitude = data_grouped[\"Longitude rounded\"].iloc[i]\n",
    "    location = Point(latitude, longitude)\n",
    "    timestamp_min = data_grouped[\"min\"].iloc[i]\n",
    "    timestamp_max = data_grouped[\"max\"].iloc[i]\n",
    "    \n",
    "    #Round min and max column to the next hour in order to extract the weather data correctly\n",
    "    timestamp_min_rounded = timestamp_min.replace(minute = 0, second = 0) \n",
    "    timestamp_max_rounded = timestamp_max.replace(minute = 0, second = 0)\n",
    "    \n",
    "    #Extract the weather data per location\n",
    "    weather = Hourly(location, timestamp_min_rounded, timestamp_max_rounded).fetch()\n",
    "\n",
    "    #Merge the extracted weather data with the fitting timestamps and locations\n",
    "    for j in range(len(weather)):\n",
    "       weather_list.append({\"Timestamp\": weather.index[j], \"Latitude rounded\": latitude, \"Longitude rounded\": longitude, \"Temperature\": weather[\"temp\"].iloc[j], \"Rain in mm\": weather[\"prcp\"].iloc[j]})\n",
    "\n",
    "#Covert the list to a DataFrame\n",
    "weather_data = pd.DataFrame(weather_list)\n",
    "weather_data.head()"
   ],
   "outputs": [
    {
     "data": {
      "text/plain": [
       "            Timestamp  Latitude rounded  Longitude rounded  Temperature  \\\n",
       "0 2023-08-31 01:00:00             41.65              -87.6         16.1   \n",
       "1 2023-08-31 02:00:00             41.65              -87.6         15.8   \n",
       "2 2023-08-31 03:00:00             41.65              -87.6         15.6   \n",
       "3 2023-08-31 04:00:00             41.65              -87.6         15.2   \n",
       "4 2023-08-31 05:00:00             41.65              -87.6         14.5   \n",
       "\n",
       "  Rain in mm  \n",
       "0        0.0  \n",
       "1        0.0  \n",
       "2        0.0  \n",
       "3        0.0  \n",
       "4        0.0  "
      ],
      "text/html": [
       "<div>\n",
       "<style scoped>\n",
       "    .dataframe tbody tr th:only-of-type {\n",
       "        vertical-align: middle;\n",
       "    }\n",
       "\n",
       "    .dataframe tbody tr th {\n",
       "        vertical-align: top;\n",
       "    }\n",
       "\n",
       "    .dataframe thead th {\n",
       "        text-align: right;\n",
       "    }\n",
       "</style>\n",
       "<table border=\"1\" class=\"dataframe\">\n",
       "  <thead>\n",
       "    <tr style=\"text-align: right;\">\n",
       "      <th></th>\n",
       "      <th>Timestamp</th>\n",
       "      <th>Latitude rounded</th>\n",
       "      <th>Longitude rounded</th>\n",
       "      <th>Temperature</th>\n",
       "      <th>Rain in mm</th>\n",
       "    </tr>\n",
       "  </thead>\n",
       "  <tbody>\n",
       "    <tr>\n",
       "      <th>0</th>\n",
       "      <td>2023-08-31 01:00:00</td>\n",
       "      <td>41.65</td>\n",
       "      <td>-87.6</td>\n",
       "      <td>16.1</td>\n",
       "      <td>0.0</td>\n",
       "    </tr>\n",
       "    <tr>\n",
       "      <th>1</th>\n",
       "      <td>2023-08-31 02:00:00</td>\n",
       "      <td>41.65</td>\n",
       "      <td>-87.6</td>\n",
       "      <td>15.8</td>\n",
       "      <td>0.0</td>\n",
       "    </tr>\n",
       "    <tr>\n",
       "      <th>2</th>\n",
       "      <td>2023-08-31 03:00:00</td>\n",
       "      <td>41.65</td>\n",
       "      <td>-87.6</td>\n",
       "      <td>15.6</td>\n",
       "      <td>0.0</td>\n",
       "    </tr>\n",
       "    <tr>\n",
       "      <th>3</th>\n",
       "      <td>2023-08-31 04:00:00</td>\n",
       "      <td>41.65</td>\n",
       "      <td>-87.6</td>\n",
       "      <td>15.2</td>\n",
       "      <td>0.0</td>\n",
       "    </tr>\n",
       "    <tr>\n",
       "      <th>4</th>\n",
       "      <td>2023-08-31 05:00:00</td>\n",
       "      <td>41.65</td>\n",
       "      <td>-87.6</td>\n",
       "      <td>14.5</td>\n",
       "      <td>0.0</td>\n",
       "    </tr>\n",
       "  </tbody>\n",
       "</table>\n",
       "</div>"
      ]
     },
     "execution_count": 8,
     "metadata": {},
     "output_type": "execute_result"
    }
   ],
   "execution_count": 8
  },
  {
   "cell_type": "code",
   "id": "95f673f12697bfe6",
   "metadata": {
    "ExecuteTime": {
     "end_time": "2025-06-19T15:19:53.065492Z",
     "start_time": "2025-06-19T15:19:52.368359Z"
    }
   },
   "source": [
    "#Now we prepare the merge of the weather data and the other data. For this we need to round our timestamps by the next hour because our weather data is given hourly\n",
    "data_cleaned[\"Trip End Timestamp Rounded\"] = data_cleaned[\"Trip End Timestamp\"].dt.floor(\"h\")\n"
   ],
   "outputs": [],
   "execution_count": 9
  },
  {
   "cell_type": "code",
   "id": "a84dfd98eb4e51ff",
   "metadata": {
    "ExecuteTime": {
     "end_time": "2025-06-19T15:20:08.927362Z",
     "start_time": "2025-06-19T15:19:53.099069Z"
    }
   },
   "source": [
    "#In the next step we can start with the merge\n",
    "data_merged = pd.merge(data_cleaned, weather_data, left_on=[\"Trip End Timestamp Rounded\", \"Latitude rounded\", \"Longitude rounded\"], right_on =[\"Timestamp\", \"Latitude rounded\", \"Longitude rounded\"], how = \"inner\")"
   ],
   "outputs": [],
   "execution_count": 10
  },
  {
   "cell_type": "code",
   "id": "d2d93ac35cb9b957",
   "metadata": {
    "ExecuteTime": {
     "end_time": "2025-06-19T15:20:10.703330Z",
     "start_time": "2025-06-19T15:20:08.993918Z"
    }
   },
   "source": [
    "#After that we can drop all the columns we just needed to merge our data\n",
    "data_merged = data_merged.drop(columns = [\"Dropoff Centroid Latitude\", \"Dropoff Centroid Longitude\", \"Latitude rounded\", \"Longitude rounded\", \"Timestamp\" ,\"Trip End Timestamp Rounded\"])\n",
    "data_merged.head()"
   ],
   "outputs": [
    {
     "data": {
      "text/plain": [
       "   Trip End Timestamp  Trip Seconds  Trip Miles  Tip Shared Trip Authorized  \\\n",
       "0 2023-09-19 19:15:00        3109.0        23.5  0.0                  False   \n",
       "1 2023-09-28 12:45:00        1640.0        14.7  0.0                  False   \n",
       "2 2023-09-03 17:30:00         772.0         1.9  0.0                  False   \n",
       "3 2023-09-13 15:30:00         452.0         1.1  0.0                  False   \n",
       "4 2023-09-16 13:00:00         819.0         3.9  0.0                  False   \n",
       "\n",
       "  Shared Trip Match   Cost  Temperature Rain in mm  \n",
       "0             False  40.70         16.7        0.3  \n",
       "1             False  38.74         18.9        0.0  \n",
       "2             False  22.39         31.1        0.0  \n",
       "3             False  14.07         17.8        0.0  \n",
       "4             False  12.89         16.1        0.0  "
      ],
      "text/html": [
       "<div>\n",
       "<style scoped>\n",
       "    .dataframe tbody tr th:only-of-type {\n",
       "        vertical-align: middle;\n",
       "    }\n",
       "\n",
       "    .dataframe tbody tr th {\n",
       "        vertical-align: top;\n",
       "    }\n",
       "\n",
       "    .dataframe thead th {\n",
       "        text-align: right;\n",
       "    }\n",
       "</style>\n",
       "<table border=\"1\" class=\"dataframe\">\n",
       "  <thead>\n",
       "    <tr style=\"text-align: right;\">\n",
       "      <th></th>\n",
       "      <th>Trip End Timestamp</th>\n",
       "      <th>Trip Seconds</th>\n",
       "      <th>Trip Miles</th>\n",
       "      <th>Tip</th>\n",
       "      <th>Shared Trip Authorized</th>\n",
       "      <th>Shared Trip Match</th>\n",
       "      <th>Cost</th>\n",
       "      <th>Temperature</th>\n",
       "      <th>Rain in mm</th>\n",
       "    </tr>\n",
       "  </thead>\n",
       "  <tbody>\n",
       "    <tr>\n",
       "      <th>0</th>\n",
       "      <td>2023-09-19 19:15:00</td>\n",
       "      <td>3109.0</td>\n",
       "      <td>23.5</td>\n",
       "      <td>0.0</td>\n",
       "      <td>False</td>\n",
       "      <td>False</td>\n",
       "      <td>40.70</td>\n",
       "      <td>16.7</td>\n",
       "      <td>0.3</td>\n",
       "    </tr>\n",
       "    <tr>\n",
       "      <th>1</th>\n",
       "      <td>2023-09-28 12:45:00</td>\n",
       "      <td>1640.0</td>\n",
       "      <td>14.7</td>\n",
       "      <td>0.0</td>\n",
       "      <td>False</td>\n",
       "      <td>False</td>\n",
       "      <td>38.74</td>\n",
       "      <td>18.9</td>\n",
       "      <td>0.0</td>\n",
       "    </tr>\n",
       "    <tr>\n",
       "      <th>2</th>\n",
       "      <td>2023-09-03 17:30:00</td>\n",
       "      <td>772.0</td>\n",
       "      <td>1.9</td>\n",
       "      <td>0.0</td>\n",
       "      <td>False</td>\n",
       "      <td>False</td>\n",
       "      <td>22.39</td>\n",
       "      <td>31.1</td>\n",
       "      <td>0.0</td>\n",
       "    </tr>\n",
       "    <tr>\n",
       "      <th>3</th>\n",
       "      <td>2023-09-13 15:30:00</td>\n",
       "      <td>452.0</td>\n",
       "      <td>1.1</td>\n",
       "      <td>0.0</td>\n",
       "      <td>False</td>\n",
       "      <td>False</td>\n",
       "      <td>14.07</td>\n",
       "      <td>17.8</td>\n",
       "      <td>0.0</td>\n",
       "    </tr>\n",
       "    <tr>\n",
       "      <th>4</th>\n",
       "      <td>2023-09-16 13:00:00</td>\n",
       "      <td>819.0</td>\n",
       "      <td>3.9</td>\n",
       "      <td>0.0</td>\n",
       "      <td>False</td>\n",
       "      <td>False</td>\n",
       "      <td>12.89</td>\n",
       "      <td>16.1</td>\n",
       "      <td>0.0</td>\n",
       "    </tr>\n",
       "  </tbody>\n",
       "</table>\n",
       "</div>"
      ]
     },
     "execution_count": 11,
     "metadata": {},
     "output_type": "execute_result"
    }
   ],
   "execution_count": 11
  },
  {
   "cell_type": "markdown",
   "id": "6292de49063ad3e9",
   "metadata": {},
   "source": [
    "<h4 style=\"text-decoration: underline;\">2.3 Creation of dummy variables</h4>\n",
    "To perform or regression later on we need to transfer the 'Shared Trip Authorized', 'Shared Trip Match' and 'Trip End Timestamp' column to numeric datatype. For this we make use of dummy variable where 1 stands for true and 0 stands for false for the Shared Trip variables and different variables for the time of day in case of the Trip End variable. In addition we need to creat dummy variables for the rain because we are not interested in the amount of rain on a certain day rather we want to plot wheter it rained or not. "
   ]
  },
  {
   "cell_type": "code",
   "id": "9d11db014a286ddc",
   "metadata": {
    "ExecuteTime": {
     "end_time": "2025-06-19T15:20:12.130084Z",
     "start_time": "2025-06-19T15:20:10.836576Z"
    }
   },
   "source": [
    "#Create dummy variable for 'Shared Trip Authorized' and 'Shared Trip Match' (1 = True and 0 = False)\n",
    "data_merged[\"Shared Trip Authorized\"] = data_merged[\"Shared Trip Authorized\"].astype(int)\n",
    "data_merged[\"Shared Trip Match\"] = data_merged[\"Shared Trip Match\"].astype(int)\n",
    "print(\"📋First 5 Rows:\")\n",
    "data_merged.head()\n"
   ],
   "outputs": [
    {
     "name": "stdout",
     "output_type": "stream",
     "text": [
      "📋First 5 Rows:\n"
     ]
    },
    {
     "data": {
      "text/plain": [
       "   Trip End Timestamp  Trip Seconds  Trip Miles  Tip  Shared Trip Authorized  \\\n",
       "0 2023-09-19 19:15:00        3109.0        23.5  0.0                       0   \n",
       "1 2023-09-28 12:45:00        1640.0        14.7  0.0                       0   \n",
       "2 2023-09-03 17:30:00         772.0         1.9  0.0                       0   \n",
       "3 2023-09-13 15:30:00         452.0         1.1  0.0                       0   \n",
       "4 2023-09-16 13:00:00         819.0         3.9  0.0                       0   \n",
       "\n",
       "   Shared Trip Match   Cost  Temperature Rain in mm  \n",
       "0                  0  40.70         16.7        0.3  \n",
       "1                  0  38.74         18.9        0.0  \n",
       "2                  0  22.39         31.1        0.0  \n",
       "3                  0  14.07         17.8        0.0  \n",
       "4                  0  12.89         16.1        0.0  "
      ],
      "text/html": [
       "<div>\n",
       "<style scoped>\n",
       "    .dataframe tbody tr th:only-of-type {\n",
       "        vertical-align: middle;\n",
       "    }\n",
       "\n",
       "    .dataframe tbody tr th {\n",
       "        vertical-align: top;\n",
       "    }\n",
       "\n",
       "    .dataframe thead th {\n",
       "        text-align: right;\n",
       "    }\n",
       "</style>\n",
       "<table border=\"1\" class=\"dataframe\">\n",
       "  <thead>\n",
       "    <tr style=\"text-align: right;\">\n",
       "      <th></th>\n",
       "      <th>Trip End Timestamp</th>\n",
       "      <th>Trip Seconds</th>\n",
       "      <th>Trip Miles</th>\n",
       "      <th>Tip</th>\n",
       "      <th>Shared Trip Authorized</th>\n",
       "      <th>Shared Trip Match</th>\n",
       "      <th>Cost</th>\n",
       "      <th>Temperature</th>\n",
       "      <th>Rain in mm</th>\n",
       "    </tr>\n",
       "  </thead>\n",
       "  <tbody>\n",
       "    <tr>\n",
       "      <th>0</th>\n",
       "      <td>2023-09-19 19:15:00</td>\n",
       "      <td>3109.0</td>\n",
       "      <td>23.5</td>\n",
       "      <td>0.0</td>\n",
       "      <td>0</td>\n",
       "      <td>0</td>\n",
       "      <td>40.70</td>\n",
       "      <td>16.7</td>\n",
       "      <td>0.3</td>\n",
       "    </tr>\n",
       "    <tr>\n",
       "      <th>1</th>\n",
       "      <td>2023-09-28 12:45:00</td>\n",
       "      <td>1640.0</td>\n",
       "      <td>14.7</td>\n",
       "      <td>0.0</td>\n",
       "      <td>0</td>\n",
       "      <td>0</td>\n",
       "      <td>38.74</td>\n",
       "      <td>18.9</td>\n",
       "      <td>0.0</td>\n",
       "    </tr>\n",
       "    <tr>\n",
       "      <th>2</th>\n",
       "      <td>2023-09-03 17:30:00</td>\n",
       "      <td>772.0</td>\n",
       "      <td>1.9</td>\n",
       "      <td>0.0</td>\n",
       "      <td>0</td>\n",
       "      <td>0</td>\n",
       "      <td>22.39</td>\n",
       "      <td>31.1</td>\n",
       "      <td>0.0</td>\n",
       "    </tr>\n",
       "    <tr>\n",
       "      <th>3</th>\n",
       "      <td>2023-09-13 15:30:00</td>\n",
       "      <td>452.0</td>\n",
       "      <td>1.1</td>\n",
       "      <td>0.0</td>\n",
       "      <td>0</td>\n",
       "      <td>0</td>\n",
       "      <td>14.07</td>\n",
       "      <td>17.8</td>\n",
       "      <td>0.0</td>\n",
       "    </tr>\n",
       "    <tr>\n",
       "      <th>4</th>\n",
       "      <td>2023-09-16 13:00:00</td>\n",
       "      <td>819.0</td>\n",
       "      <td>3.9</td>\n",
       "      <td>0.0</td>\n",
       "      <td>0</td>\n",
       "      <td>0</td>\n",
       "      <td>12.89</td>\n",
       "      <td>16.1</td>\n",
       "      <td>0.0</td>\n",
       "    </tr>\n",
       "  </tbody>\n",
       "</table>\n",
       "</div>"
      ]
     },
     "execution_count": 12,
     "metadata": {},
     "output_type": "execute_result"
    }
   ],
   "execution_count": 12
  },
  {
   "cell_type": "code",
   "id": "fa41d72f",
   "metadata": {
    "ExecuteTime": {
     "end_time": "2025-06-19T15:20:14.823991Z",
     "start_time": "2025-06-19T15:20:12.189976Z"
    }
   },
   "source": [
    "#Create dummy variables for the Trip End Timestamp: 22:00-6:00 for night, 6:00-18:00 for day and 18:00-22:00 for evening\n",
    "data_merged[\"Trip End Hour\"] = data_merged[\"Trip End Timestamp\"].dt.hour\n",
    "data_merged[\"Night\"] = np.where((data_merged[\"Trip End Hour\"] >= 22) | (data_merged[\"Trip End Hour\"] < 6), 1, 0)\n",
    "data_merged[\"Day\"] = np.where((data_merged[\"Trip End Hour\"] >= 6) & (data_merged[\"Trip End Hour\"] < 18), 1, 0)\n",
    "data_merged[\"Evening\"] = np.where((data_merged[\"Trip End Hour\"] >= 18) & (data_merged[\"Trip End Hour\"] < 22), 1, 0)\n",
    "#Drop the Trip End Hour & Trip End Timestamp column as we don't need them anymore\n",
    "data_merged = data_merged.drop(columns=[\"Trip End Hour\", \"Trip End Timestamp\"])\n",
    "\n",
    "data_merged.head()"
   ],
   "outputs": [
    {
     "data": {
      "text/plain": [
       "   Trip Seconds  Trip Miles  Tip  Shared Trip Authorized  Shared Trip Match  \\\n",
       "0        3109.0        23.5  0.0                       0                  0   \n",
       "1        1640.0        14.7  0.0                       0                  0   \n",
       "2         772.0         1.9  0.0                       0                  0   \n",
       "3         452.0         1.1  0.0                       0                  0   \n",
       "4         819.0         3.9  0.0                       0                  0   \n",
       "\n",
       "    Cost  Temperature Rain in mm  Night  Day  Evening  \n",
       "0  40.70         16.7        0.3      0    0        1  \n",
       "1  38.74         18.9        0.0      0    1        0  \n",
       "2  22.39         31.1        0.0      0    1        0  \n",
       "3  14.07         17.8        0.0      0    1        0  \n",
       "4  12.89         16.1        0.0      0    1        0  "
      ],
      "text/html": [
       "<div>\n",
       "<style scoped>\n",
       "    .dataframe tbody tr th:only-of-type {\n",
       "        vertical-align: middle;\n",
       "    }\n",
       "\n",
       "    .dataframe tbody tr th {\n",
       "        vertical-align: top;\n",
       "    }\n",
       "\n",
       "    .dataframe thead th {\n",
       "        text-align: right;\n",
       "    }\n",
       "</style>\n",
       "<table border=\"1\" class=\"dataframe\">\n",
       "  <thead>\n",
       "    <tr style=\"text-align: right;\">\n",
       "      <th></th>\n",
       "      <th>Trip Seconds</th>\n",
       "      <th>Trip Miles</th>\n",
       "      <th>Tip</th>\n",
       "      <th>Shared Trip Authorized</th>\n",
       "      <th>Shared Trip Match</th>\n",
       "      <th>Cost</th>\n",
       "      <th>Temperature</th>\n",
       "      <th>Rain in mm</th>\n",
       "      <th>Night</th>\n",
       "      <th>Day</th>\n",
       "      <th>Evening</th>\n",
       "    </tr>\n",
       "  </thead>\n",
       "  <tbody>\n",
       "    <tr>\n",
       "      <th>0</th>\n",
       "      <td>3109.0</td>\n",
       "      <td>23.5</td>\n",
       "      <td>0.0</td>\n",
       "      <td>0</td>\n",
       "      <td>0</td>\n",
       "      <td>40.70</td>\n",
       "      <td>16.7</td>\n",
       "      <td>0.3</td>\n",
       "      <td>0</td>\n",
       "      <td>0</td>\n",
       "      <td>1</td>\n",
       "    </tr>\n",
       "    <tr>\n",
       "      <th>1</th>\n",
       "      <td>1640.0</td>\n",
       "      <td>14.7</td>\n",
       "      <td>0.0</td>\n",
       "      <td>0</td>\n",
       "      <td>0</td>\n",
       "      <td>38.74</td>\n",
       "      <td>18.9</td>\n",
       "      <td>0.0</td>\n",
       "      <td>0</td>\n",
       "      <td>1</td>\n",
       "      <td>0</td>\n",
       "    </tr>\n",
       "    <tr>\n",
       "      <th>2</th>\n",
       "      <td>772.0</td>\n",
       "      <td>1.9</td>\n",
       "      <td>0.0</td>\n",
       "      <td>0</td>\n",
       "      <td>0</td>\n",
       "      <td>22.39</td>\n",
       "      <td>31.1</td>\n",
       "      <td>0.0</td>\n",
       "      <td>0</td>\n",
       "      <td>1</td>\n",
       "      <td>0</td>\n",
       "    </tr>\n",
       "    <tr>\n",
       "      <th>3</th>\n",
       "      <td>452.0</td>\n",
       "      <td>1.1</td>\n",
       "      <td>0.0</td>\n",
       "      <td>0</td>\n",
       "      <td>0</td>\n",
       "      <td>14.07</td>\n",
       "      <td>17.8</td>\n",
       "      <td>0.0</td>\n",
       "      <td>0</td>\n",
       "      <td>1</td>\n",
       "      <td>0</td>\n",
       "    </tr>\n",
       "    <tr>\n",
       "      <th>4</th>\n",
       "      <td>819.0</td>\n",
       "      <td>3.9</td>\n",
       "      <td>0.0</td>\n",
       "      <td>0</td>\n",
       "      <td>0</td>\n",
       "      <td>12.89</td>\n",
       "      <td>16.1</td>\n",
       "      <td>0.0</td>\n",
       "      <td>0</td>\n",
       "      <td>1</td>\n",
       "      <td>0</td>\n",
       "    </tr>\n",
       "  </tbody>\n",
       "</table>\n",
       "</div>"
      ]
     },
     "execution_count": 13,
     "metadata": {},
     "output_type": "execute_result"
    }
   ],
   "execution_count": 13
  },
  {
   "cell_type": "code",
   "id": "c0708826312343ed",
   "metadata": {
    "ExecuteTime": {
     "end_time": "2025-06-19T15:20:18.351160Z",
     "start_time": "2025-06-19T15:20:14.892649Z"
    }
   },
   "source": [
    "#We see that the column 'Rain in mm' is from datatype object but we need a numeric datatype, so we need to transform this column to the right datatype\n",
    "data_merged['Rain in mm'] = pd.to_numeric(data_merged['Rain in mm'], errors='coerce')"
   ],
   "outputs": [],
   "execution_count": 14
  },
  {
   "cell_type": "code",
   "id": "2bf622b9",
   "metadata": {
    "ExecuteTime": {
     "end_time": "2025-06-19T15:20:19.055385Z",
     "start_time": "2025-06-19T15:20:18.415586Z"
    }
   },
   "source": [
    "#Switching the columns so that all dummy variables will be after all numeric variables\n",
    "data_merged = data_merged[['Tip', 'Trip Seconds', 'Trip Miles', 'Cost', 'Temperature', 'Rain in mm', 'Shared Trip Authorized', 'Shared Trip Match', 'Day', 'Evening', 'Night']]"
   ],
   "outputs": [],
   "execution_count": 15
  },
  {
   "cell_type": "markdown",
   "id": "9c6c28864e3a57b2",
   "metadata": {},
   "source": [
    "<h4 style=\"text-decoration: underline;\">2.4 Dealing with outliers</h4>\n",
    "Outliers are often caused by errors in data collection. Therefore it is important to identify and remove them as they can distort the performance of predictive models by representing values that do not reflect typical or real-world scenarios. In the following we attempted to remove outliers using the standard deviation method. However, it must be acknowledged that we cannot say with complete certainty whether each detected outlier represents a data collection error or simply reflects rare but valid cases—since we did not collect the data ourselves. Nevertheless this approach helps us prepare the dataset as effectively as possible for building robust predictive models\n",
    " "
   ]
  },
  {
   "cell_type": "code",
   "id": "eaa5794063011b33",
   "metadata": {
    "ExecuteTime": {
     "end_time": "2025-06-19T15:20:24.636733Z",
     "start_time": "2025-06-19T15:20:19.065913Z"
    }
   },
   "source": [
    "\n",
    "#We don't need to deal with outliers on the columns with dummy variables because there can't be outliers if we just have the values 0 or 1\n",
    "data_merged_without_tip = data_merged.drop(columns = [\"Tip\", \"Shared Trip Authorized\", \"Shared Trip Match\", \"Night\", \"Day\", \"Evening\"])\n",
    "for columns in data_merged_without_tip.columns:\n",
    "    #Calculate mean and standard deviation of the current column\n",
    "    mean = data_merged_without_tip[columns].mean()\n",
    "    std = data_merged_without_tip[columns].std()\n",
    "    \n",
    "    #Calculate upper and lower limit\n",
    "    upperlimit = mean + 3 * std\n",
    "    lowerlimit = mean - 3 * std\n",
    "\n",
    "    #Replace all outliers with null values so we can remove them later\n",
    "    data_merged.loc[(data_merged[columns] > upperlimit) | (data_merged[columns] < lowerlimit), columns] = np.nan\n",
    "\n",
    "#Remove all null values (delete all outliers)    \n",
    "data_without_outliers = data_merged.dropna(axis = 0)\n",
    "print(f\"❌ Deleted {len(data_merged) - len(data_without_outliers)} outliers\")\n",
    "\n",
    "data_without_outliers.head()\n"
   ],
   "outputs": [
    {
     "name": "stdout",
     "output_type": "stream",
     "text": [
      "❌ Deleted 2101674 outliers\n"
     ]
    },
    {
     "data": {
      "text/plain": [
       "   Tip  Trip Seconds  Trip Miles   Cost  Temperature  Rain in mm  \\\n",
       "0  0.0        3109.0        23.5  40.70         16.7         0.3   \n",
       "1  0.0        1640.0        14.7  38.74         18.9         0.0   \n",
       "2  0.0         772.0         1.9  22.39         31.1         0.0   \n",
       "3  0.0         452.0         1.1  14.07         17.8         0.0   \n",
       "4  0.0         819.0         3.9  12.89         16.1         0.0   \n",
       "\n",
       "   Shared Trip Authorized  Shared Trip Match  Day  Evening  Night  \n",
       "0                       0                  0    0        1      0  \n",
       "1                       0                  0    1        0      0  \n",
       "2                       0                  0    1        0      0  \n",
       "3                       0                  0    1        0      0  \n",
       "4                       0                  0    1        0      0  "
      ],
      "text/html": [
       "<div>\n",
       "<style scoped>\n",
       "    .dataframe tbody tr th:only-of-type {\n",
       "        vertical-align: middle;\n",
       "    }\n",
       "\n",
       "    .dataframe tbody tr th {\n",
       "        vertical-align: top;\n",
       "    }\n",
       "\n",
       "    .dataframe thead th {\n",
       "        text-align: right;\n",
       "    }\n",
       "</style>\n",
       "<table border=\"1\" class=\"dataframe\">\n",
       "  <thead>\n",
       "    <tr style=\"text-align: right;\">\n",
       "      <th></th>\n",
       "      <th>Tip</th>\n",
       "      <th>Trip Seconds</th>\n",
       "      <th>Trip Miles</th>\n",
       "      <th>Cost</th>\n",
       "      <th>Temperature</th>\n",
       "      <th>Rain in mm</th>\n",
       "      <th>Shared Trip Authorized</th>\n",
       "      <th>Shared Trip Match</th>\n",
       "      <th>Day</th>\n",
       "      <th>Evening</th>\n",
       "      <th>Night</th>\n",
       "    </tr>\n",
       "  </thead>\n",
       "  <tbody>\n",
       "    <tr>\n",
       "      <th>0</th>\n",
       "      <td>0.0</td>\n",
       "      <td>3109.0</td>\n",
       "      <td>23.5</td>\n",
       "      <td>40.70</td>\n",
       "      <td>16.7</td>\n",
       "      <td>0.3</td>\n",
       "      <td>0</td>\n",
       "      <td>0</td>\n",
       "      <td>0</td>\n",
       "      <td>1</td>\n",
       "      <td>0</td>\n",
       "    </tr>\n",
       "    <tr>\n",
       "      <th>1</th>\n",
       "      <td>0.0</td>\n",
       "      <td>1640.0</td>\n",
       "      <td>14.7</td>\n",
       "      <td>38.74</td>\n",
       "      <td>18.9</td>\n",
       "      <td>0.0</td>\n",
       "      <td>0</td>\n",
       "      <td>0</td>\n",
       "      <td>1</td>\n",
       "      <td>0</td>\n",
       "      <td>0</td>\n",
       "    </tr>\n",
       "    <tr>\n",
       "      <th>2</th>\n",
       "      <td>0.0</td>\n",
       "      <td>772.0</td>\n",
       "      <td>1.9</td>\n",
       "      <td>22.39</td>\n",
       "      <td>31.1</td>\n",
       "      <td>0.0</td>\n",
       "      <td>0</td>\n",
       "      <td>0</td>\n",
       "      <td>1</td>\n",
       "      <td>0</td>\n",
       "      <td>0</td>\n",
       "    </tr>\n",
       "    <tr>\n",
       "      <th>3</th>\n",
       "      <td>0.0</td>\n",
       "      <td>452.0</td>\n",
       "      <td>1.1</td>\n",
       "      <td>14.07</td>\n",
       "      <td>17.8</td>\n",
       "      <td>0.0</td>\n",
       "      <td>0</td>\n",
       "      <td>0</td>\n",
       "      <td>1</td>\n",
       "      <td>0</td>\n",
       "      <td>0</td>\n",
       "    </tr>\n",
       "    <tr>\n",
       "      <th>4</th>\n",
       "      <td>0.0</td>\n",
       "      <td>819.0</td>\n",
       "      <td>3.9</td>\n",
       "      <td>12.89</td>\n",
       "      <td>16.1</td>\n",
       "      <td>0.0</td>\n",
       "      <td>0</td>\n",
       "      <td>0</td>\n",
       "      <td>1</td>\n",
       "      <td>0</td>\n",
       "      <td>0</td>\n",
       "    </tr>\n",
       "  </tbody>\n",
       "</table>\n",
       "</div>"
      ]
     },
     "execution_count": 16,
     "metadata": {},
     "output_type": "execute_result"
    }
   ],
   "execution_count": 16
  },
  {
   "cell_type": "markdown",
   "id": "21e10fae",
   "metadata": {},
   "source": [
    "<h4 style=\"text-decoration: underline;\">2.5 Saving the data</h4>\n",
    "We will save the preperated data here, so that we can continue working with it, without having to rerun all the code above every time we start."
   ]
  },
  {
   "cell_type": "code",
   "id": "7bf3b4f2",
   "metadata": {
    "ExecuteTime": {
     "end_time": "2025-06-19T15:21:51.941952Z",
     "start_time": "2025-06-19T15:20:24.767285Z"
    }
   },
   "source": [
    "data_without_outliers.to_csv('Data/Chicago_RideHailing_Data_Cleaned.csv', index=False)"
   ],
   "outputs": [],
   "execution_count": 17
  },
  {
   "cell_type": "markdown",
   "id": "a4010aeb95861dbd",
   "metadata": {},
   "source": [
    "<h4 style=\"text-decoration: underline;\">3. Data Modeling</h4>\n",
    "First, we can load the saved data, if we didn't rerun the code above."
   ]
  },
  {
   "cell_type": "code",
   "id": "30556712",
   "metadata": {
    "ExecuteTime": {
     "end_time": "2025-06-19T17:41:30.348158Z",
     "start_time": "2025-06-19T17:41:15.153877Z"
    }
   },
   "source": [
    "data_without_outliers = pd.read_csv('Data/Chicago_RideHailing_Data_Cleaned.csv')\n",
    "#Check if everything worked correctly\n",
    "data_without_outliers.head()"
   ],
   "outputs": [
    {
     "data": {
      "text/plain": [
       "   Tip  Trip Seconds  Trip Miles   Cost  Temperature  Rain in mm  \\\n",
       "0  0.0        3109.0        23.5  40.70         16.7         0.3   \n",
       "1  0.0        1640.0        14.7  38.74         18.9         0.0   \n",
       "2  0.0         772.0         1.9  22.39         31.1         0.0   \n",
       "3  0.0         452.0         1.1  14.07         17.8         0.0   \n",
       "4  0.0         819.0         3.9  12.89         16.1         0.0   \n",
       "\n",
       "   Shared Trip Authorized  Shared Trip Match  Day  Evening  Night  \n",
       "0                       0                  0    0        1      0  \n",
       "1                       0                  0    1        0      0  \n",
       "2                       0                  0    1        0      0  \n",
       "3                       0                  0    1        0      0  \n",
       "4                       0                  0    1        0      0  "
      ],
      "text/html": [
       "<div>\n",
       "<style scoped>\n",
       "    .dataframe tbody tr th:only-of-type {\n",
       "        vertical-align: middle;\n",
       "    }\n",
       "\n",
       "    .dataframe tbody tr th {\n",
       "        vertical-align: top;\n",
       "    }\n",
       "\n",
       "    .dataframe thead th {\n",
       "        text-align: right;\n",
       "    }\n",
       "</style>\n",
       "<table border=\"1\" class=\"dataframe\">\n",
       "  <thead>\n",
       "    <tr style=\"text-align: right;\">\n",
       "      <th></th>\n",
       "      <th>Tip</th>\n",
       "      <th>Trip Seconds</th>\n",
       "      <th>Trip Miles</th>\n",
       "      <th>Cost</th>\n",
       "      <th>Temperature</th>\n",
       "      <th>Rain in mm</th>\n",
       "      <th>Shared Trip Authorized</th>\n",
       "      <th>Shared Trip Match</th>\n",
       "      <th>Day</th>\n",
       "      <th>Evening</th>\n",
       "      <th>Night</th>\n",
       "    </tr>\n",
       "  </thead>\n",
       "  <tbody>\n",
       "    <tr>\n",
       "      <th>0</th>\n",
       "      <td>0.0</td>\n",
       "      <td>3109.0</td>\n",
       "      <td>23.5</td>\n",
       "      <td>40.70</td>\n",
       "      <td>16.7</td>\n",
       "      <td>0.3</td>\n",
       "      <td>0</td>\n",
       "      <td>0</td>\n",
       "      <td>0</td>\n",
       "      <td>1</td>\n",
       "      <td>0</td>\n",
       "    </tr>\n",
       "    <tr>\n",
       "      <th>1</th>\n",
       "      <td>0.0</td>\n",
       "      <td>1640.0</td>\n",
       "      <td>14.7</td>\n",
       "      <td>38.74</td>\n",
       "      <td>18.9</td>\n",
       "      <td>0.0</td>\n",
       "      <td>0</td>\n",
       "      <td>0</td>\n",
       "      <td>1</td>\n",
       "      <td>0</td>\n",
       "      <td>0</td>\n",
       "    </tr>\n",
       "    <tr>\n",
       "      <th>2</th>\n",
       "      <td>0.0</td>\n",
       "      <td>772.0</td>\n",
       "      <td>1.9</td>\n",
       "      <td>22.39</td>\n",
       "      <td>31.1</td>\n",
       "      <td>0.0</td>\n",
       "      <td>0</td>\n",
       "      <td>0</td>\n",
       "      <td>1</td>\n",
       "      <td>0</td>\n",
       "      <td>0</td>\n",
       "    </tr>\n",
       "    <tr>\n",
       "      <th>3</th>\n",
       "      <td>0.0</td>\n",
       "      <td>452.0</td>\n",
       "      <td>1.1</td>\n",
       "      <td>14.07</td>\n",
       "      <td>17.8</td>\n",
       "      <td>0.0</td>\n",
       "      <td>0</td>\n",
       "      <td>0</td>\n",
       "      <td>1</td>\n",
       "      <td>0</td>\n",
       "      <td>0</td>\n",
       "    </tr>\n",
       "    <tr>\n",
       "      <th>4</th>\n",
       "      <td>0.0</td>\n",
       "      <td>819.0</td>\n",
       "      <td>3.9</td>\n",
       "      <td>12.89</td>\n",
       "      <td>16.1</td>\n",
       "      <td>0.0</td>\n",
       "      <td>0</td>\n",
       "      <td>0</td>\n",
       "      <td>1</td>\n",
       "      <td>0</td>\n",
       "      <td>0</td>\n",
       "    </tr>\n",
       "  </tbody>\n",
       "</table>\n",
       "</div>"
      ]
     },
     "execution_count": 2,
     "metadata": {},
     "output_type": "execute_result"
    }
   ],
   "execution_count": 2
  },
  {
   "cell_type": "markdown",
   "id": "c90765fe319b7467",
   "metadata": {},
   "source": [
    "First of all we need to split our data in train, test and validation data."
   ]
  },
  {
   "cell_type": "code",
   "id": "982ea1825479e2d9",
   "metadata": {
    "ExecuteTime": {
     "end_time": "2025-06-19T17:41:47.594203Z",
     "start_time": "2025-06-19T17:41:36.762829Z"
    }
   },
   "source": [
    "#Define x and y vectors\n",
    "x = data_without_outliers.drop(columns = [\"Tip\"])\n",
    "y = data_without_outliers[\"Tip\"]\n",
    "\n",
    "#Perform train test validation split\n",
    "x_train_data, x_test_data, y_train_data, y_test_data = train_test_split(x, y, test_size = 0.5, random_state = 42)\n",
    "x_val_data, x_test_data, y_val_data, y_test_data = train_test_split(x_test_data, y_test_data, test_size = 0.6, random_state = 42)\n",
    "print(\"Datasplit:\")\n",
    "print(f\"🏋️ Training: {len(x_train_data)} Samples ({len(x_train_data)/len(data_without_outliers)*100:.1f}%)\")\n",
    "print(f\"🔬 Testing: {len(x_test_data)} Samples ({len(x_test_data)/len(data_without_outliers)*100:.1f}%)\")\n",
    "print(f\"✅ Validation: {len(x_val_data)} Samples ({len(x_val_data)/len(data_without_outliers)*100:.1f}%)\")"
   ],
   "outputs": [
    {
     "name": "stdout",
     "output_type": "stream",
     "text": [
      "Datasplit:\n",
      "🏋️ Training: 11422236 Samples (50.0%)\n",
      "🔬 Testing: 6853343 Samples (30.0%)\n",
      "✅ Validation: 4568894 Samples (20.0%)\n"
     ]
    }
   ],
   "execution_count": 3
  },
  {
   "cell_type": "markdown",
   "id": "f3ba2b2a",
   "metadata": {},
   "source": [
    "Now we will look at key statistics about our data. We only use the training data for this, in order to rule out accidental data leakage."
   ]
  },
  {
   "cell_type": "code",
   "id": "523acc14",
   "metadata": {
    "ExecuteTime": {
     "end_time": "2025-06-19T15:22:16.581650Z",
     "start_time": "2025-06-19T15:22:14.540572Z"
    }
   },
   "source": [
    "#Create a table with a column for each feature and key statistics as rows\n",
    "def create_statistics_table(df):\n",
    "    stats = pd.DataFrame(index=['Mean', 'Median', 'Standard Deviation', 'Min', 'Max', 'Range'])\n",
    "    for column in df.columns:\n",
    "        stats[column] = [\n",
    "            df[column].mean(),\n",
    "            df[column].median(),\n",
    "            df[column].std(),\n",
    "            df[column].min(),\n",
    "            df[column].max(),\n",
    "            df[column].max() - df[column].min()\n",
    "        ]\n",
    "    return stats\n",
    "\n",
    "#Create statistics table for the training data\n",
    "features_stats_table = create_statistics_table(x_train_data)\n",
    "target_stats_table = create_statistics_table(y_train_data.to_frame(name='Tip'))\n",
    "stats_table = pd.concat([target_stats_table.rename(columns={'Tip': 'Tip (Target)'}), features_stats_table], axis=1)\n",
    "stats_table.head(len(stats_table))"
   ],
   "outputs": [
    {
     "data": {
      "text/plain": [
       "                    Tip (Target)  Trip Seconds  Trip Miles       Cost  \\\n",
       "Mean                    1.029833    964.090454    5.299460  17.648573   \n",
       "Median                  0.000000    813.000000    3.500000  14.820000   \n",
       "Standard Deviation      2.236497    606.986064    4.920317  10.281128   \n",
       "Min                     0.000000      0.000000    0.000000   0.000000   \n",
       "Max                   100.000000   3315.000000   25.200000  60.140000   \n",
       "Range                 100.000000   3315.000000   25.200000  60.140000   \n",
       "\n",
       "                    Temperature  Rain in mm  Shared Trip Authorized  \\\n",
       "Mean                   9.464874    0.056853                0.054922   \n",
       "Median                 8.300000    0.000000                0.000000   \n",
       "Standard Deviation     8.432149    0.191103                0.227828   \n",
       "Min                  -17.000000    0.000000                0.000000   \n",
       "Max                   33.900000    1.400000                1.000000   \n",
       "Range                 50.900000    1.400000                1.000000   \n",
       "\n",
       "                    Shared Trip Match       Day   Evening     Night  \n",
       "Mean                         0.023157  0.529926  0.253529  0.216545  \n",
       "Median                       0.000000  1.000000  0.000000  0.000000  \n",
       "Standard Deviation           0.150401  0.499104  0.435031  0.411890  \n",
       "Min                          0.000000  0.000000  0.000000  0.000000  \n",
       "Max                          1.000000  1.000000  1.000000  1.000000  \n",
       "Range                        1.000000  1.000000  1.000000  1.000000  "
      ],
      "text/html": [
       "<div>\n",
       "<style scoped>\n",
       "    .dataframe tbody tr th:only-of-type {\n",
       "        vertical-align: middle;\n",
       "    }\n",
       "\n",
       "    .dataframe tbody tr th {\n",
       "        vertical-align: top;\n",
       "    }\n",
       "\n",
       "    .dataframe thead th {\n",
       "        text-align: right;\n",
       "    }\n",
       "</style>\n",
       "<table border=\"1\" class=\"dataframe\">\n",
       "  <thead>\n",
       "    <tr style=\"text-align: right;\">\n",
       "      <th></th>\n",
       "      <th>Tip (Target)</th>\n",
       "      <th>Trip Seconds</th>\n",
       "      <th>Trip Miles</th>\n",
       "      <th>Cost</th>\n",
       "      <th>Temperature</th>\n",
       "      <th>Rain in mm</th>\n",
       "      <th>Shared Trip Authorized</th>\n",
       "      <th>Shared Trip Match</th>\n",
       "      <th>Day</th>\n",
       "      <th>Evening</th>\n",
       "      <th>Night</th>\n",
       "    </tr>\n",
       "  </thead>\n",
       "  <tbody>\n",
       "    <tr>\n",
       "      <th>Mean</th>\n",
       "      <td>1.029833</td>\n",
       "      <td>964.090454</td>\n",
       "      <td>5.299460</td>\n",
       "      <td>17.648573</td>\n",
       "      <td>9.464874</td>\n",
       "      <td>0.056853</td>\n",
       "      <td>0.054922</td>\n",
       "      <td>0.023157</td>\n",
       "      <td>0.529926</td>\n",
       "      <td>0.253529</td>\n",
       "      <td>0.216545</td>\n",
       "    </tr>\n",
       "    <tr>\n",
       "      <th>Median</th>\n",
       "      <td>0.000000</td>\n",
       "      <td>813.000000</td>\n",
       "      <td>3.500000</td>\n",
       "      <td>14.820000</td>\n",
       "      <td>8.300000</td>\n",
       "      <td>0.000000</td>\n",
       "      <td>0.000000</td>\n",
       "      <td>0.000000</td>\n",
       "      <td>1.000000</td>\n",
       "      <td>0.000000</td>\n",
       "      <td>0.000000</td>\n",
       "    </tr>\n",
       "    <tr>\n",
       "      <th>Standard Deviation</th>\n",
       "      <td>2.236497</td>\n",
       "      <td>606.986064</td>\n",
       "      <td>4.920317</td>\n",
       "      <td>10.281128</td>\n",
       "      <td>8.432149</td>\n",
       "      <td>0.191103</td>\n",
       "      <td>0.227828</td>\n",
       "      <td>0.150401</td>\n",
       "      <td>0.499104</td>\n",
       "      <td>0.435031</td>\n",
       "      <td>0.411890</td>\n",
       "    </tr>\n",
       "    <tr>\n",
       "      <th>Min</th>\n",
       "      <td>0.000000</td>\n",
       "      <td>0.000000</td>\n",
       "      <td>0.000000</td>\n",
       "      <td>0.000000</td>\n",
       "      <td>-17.000000</td>\n",
       "      <td>0.000000</td>\n",
       "      <td>0.000000</td>\n",
       "      <td>0.000000</td>\n",
       "      <td>0.000000</td>\n",
       "      <td>0.000000</td>\n",
       "      <td>0.000000</td>\n",
       "    </tr>\n",
       "    <tr>\n",
       "      <th>Max</th>\n",
       "      <td>100.000000</td>\n",
       "      <td>3315.000000</td>\n",
       "      <td>25.200000</td>\n",
       "      <td>60.140000</td>\n",
       "      <td>33.900000</td>\n",
       "      <td>1.400000</td>\n",
       "      <td>1.000000</td>\n",
       "      <td>1.000000</td>\n",
       "      <td>1.000000</td>\n",
       "      <td>1.000000</td>\n",
       "      <td>1.000000</td>\n",
       "    </tr>\n",
       "    <tr>\n",
       "      <th>Range</th>\n",
       "      <td>100.000000</td>\n",
       "      <td>3315.000000</td>\n",
       "      <td>25.200000</td>\n",
       "      <td>60.140000</td>\n",
       "      <td>50.900000</td>\n",
       "      <td>1.400000</td>\n",
       "      <td>1.000000</td>\n",
       "      <td>1.000000</td>\n",
       "      <td>1.000000</td>\n",
       "      <td>1.000000</td>\n",
       "      <td>1.000000</td>\n",
       "    </tr>\n",
       "  </tbody>\n",
       "</table>\n",
       "</div>"
      ]
     },
     "execution_count": 20,
     "metadata": {},
     "output_type": "execute_result"
    }
   ],
   "execution_count": 20
  },
  {
   "cell_type": "markdown",
   "id": "f0e6f7fdb19fb143",
   "metadata": {},
   "source": [
    "Let's plot the data to get an first overview on our predictors."
   ]
  },
  {
   "cell_type": "code",
   "id": "e774fd7e0d771cb8",
   "metadata": {
    "ExecuteTime": {
     "end_time": "2025-06-19T15:25:55.068244Z",
     "start_time": "2025-06-19T15:22:16.634926Z"
    }
   },
   "source": [
    "#Create Scatterplots for the first 4 predictors\n",
    "fig_1, axes_1 = plt.subplots(nrows = 1, ncols = 4, figsize= (21,6))\n",
    "fig_1.suptitle(\"Scatterplots of all predictors\", fontsize=26)\n",
    "for i, ax in enumerate(axes_1):\n",
    "    ax.scatter(x = x_train_data.iloc[:, i], y = y_train_data, color = f'C{i}')\n",
    "    ax.set_title(x_train_data.columns[i])\n",
    "plt.tight_layout()\n",
    "plt.show()\n",
    "\n",
    "#Create Scatterplots for predictor 5-7\n",
    "fig_2, axes_2 = plt.subplots(nrows = 1, ncols = 3, figsize= (21,6))\n",
    "for i, ax in enumerate(axes_2):\n",
    "    ax.scatter(x = x_train_data.iloc[:, i + 4], y = y_train_data, color = f'C{i + 4}')\n",
    "    ax.set_title(x_train_data.columns[i + 4])\n",
    "plt.tight_layout()\n",
    "plt.show()\n",
    "\n",
    "#Create Scatterplots for predictor 8-10\n",
    "fig_3, axes_3 = plt.subplots(nrows = 1, ncols = 3, figsize= (21,6))\n",
    "for i, ax in enumerate(axes_3):\n",
    "    ax.scatter(x = x_train_data.iloc[:, i + 7], y = y_train_data, color = f'C{i + 7}')\n",
    "    ax.set_title(x_train_data.columns[i + 7])\n",
    "plt.tight_layout()\n",
    "plt.show()"
   ],
   "outputs": [
    {
     "data": {
      "text/plain": [
       "<Figure size 2100x600 with 4 Axes>"
      ],
      "image/png": "[encoded data removed]"
     },
     "metadata": {},
     "output_type": "display_data"
    },
    {
     "data": {
      "text/plain": [
       "<Figure size 2100x600 with 3 Axes>"
      ],
      "image/png": "[encoded data removed]"
     },
     "metadata": {},
     "output_type": "display_data"
    },
    {
     "data": {
      "text/plain": [
       "<Figure size 2100x600 with 3 Axes>"
      ],
      "image/png": "[encoded data removed]"
     },
     "metadata": {},
     "output_type": "display_data"
    }
   ],
   "execution_count": 21
  },
  {
   "cell_type": "markdown",
   "id": "89a560e5dc95786d",
   "metadata": {},
   "source": [
    "After plotting the data we get some interesting information. It looks like there are a lot of linear correlations for example between the trip total and the tip. Moreover it is noticeable that the predictors are on diffrent scales so we need to normalize them to get meaningful result in our regression later on."
   ]
  },
  {
   "cell_type": "code",
   "id": "227744ba4d1020f4",
   "metadata": {
    "ExecuteTime": {
     "end_time": "2025-06-19T17:42:07.066565Z",
     "start_time": "2025-06-19T17:42:04.403728Z"
    }
   },
   "source": [
    "#Select which Data to normalize (no Dummy Variables)\n",
    "columns_to_normalize = [\"Trip Seconds\", \"Trip Miles\", \"Cost\", \"Temperature\", \"Rain in mm\"]\n",
    "\n",
    "\n",
    "x_train_data_scaled = x_train_data.copy()\n",
    "x_val_data_scaled = x_val_data.copy()\n",
    "x_test_data_scaled = x_test_data.copy()\n",
    "\n",
    "\n",
    "#Normalize data\n",
    "scaler = StandardScaler()\n",
    "x_train_data_scaled[columns_to_normalize] = scaler.fit_transform(x_train_data[columns_to_normalize])\n",
    "#Hier nur noch transform verwenden, damit Mittelwert und Standardabweichung nicht neu berechnet werden\n",
    "x_val_data_scaled[columns_to_normalize] = scaler.transform(x_val_data[columns_to_normalize])\n",
    "x_test_data_scaled[columns_to_normalize] = scaler.transform(x_test_data[columns_to_normalize])\n",
    "\n",
    "\n",
    "x_train_data_scaled.head()\n"
   ],
   "outputs": [
    {
     "data": {
      "text/plain": [
       "          Trip Seconds  Trip Miles      Cost  Temperature  Rain in mm  \\\n",
       "15875614     -0.431790   -0.751874 -0.566920    -0.790412     -0.2975   \n",
       "9035578      -0.978755   -0.853494 -0.867470     1.249400     -0.2975   \n",
       "19475975      0.121765   -0.589283 -0.443392    -1.051319     -0.2975   \n",
       "12349447     -0.436732   -0.243777 -0.219681    -0.790412     -0.2975   \n",
       "10206167      2.798927    2.418653  2.744001     0.193916     -0.2975   \n",
       "\n",
       "          Shared Trip Authorized  Shared Trip Match  Day  Evening  Night  \n",
       "15875614                       0                  0    1        0      0  \n",
       "9035578                        0                  0    0        0      1  \n",
       "19475975                       0                  0    1        0      0  \n",
       "12349447                       0                  0    0        0      1  \n",
       "10206167                       0                  0    1        0      0  "
      ],
      "text/html": [
       "<div>\n",
       "<style scoped>\n",
       "    .dataframe tbody tr th:only-of-type {\n",
       "        vertical-align: middle;\n",
       "    }\n",
       "\n",
       "    .dataframe tbody tr th {\n",
       "        vertical-align: top;\n",
       "    }\n",
       "\n",
       "    .dataframe thead th {\n",
       "        text-align: right;\n",
       "    }\n",
       "</style>\n",
       "<table border=\"1\" class=\"dataframe\">\n",
       "  <thead>\n",
       "    <tr style=\"text-align: right;\">\n",
       "      <th></th>\n",
       "      <th>Trip Seconds</th>\n",
       "      <th>Trip Miles</th>\n",
       "      <th>Cost</th>\n",
       "      <th>Temperature</th>\n",
       "      <th>Rain in mm</th>\n",
       "      <th>Shared Trip Authorized</th>\n",
       "      <th>Shared Trip Match</th>\n",
       "      <th>Day</th>\n",
       "      <th>Evening</th>\n",
       "      <th>Night</th>\n",
       "    </tr>\n",
       "  </thead>\n",
       "  <tbody>\n",
       "    <tr>\n",
       "      <th>15875614</th>\n",
       "      <td>-0.431790</td>\n",
       "      <td>-0.751874</td>\n",
       "      <td>-0.566920</td>\n",
       "      <td>-0.790412</td>\n",
       "      <td>-0.2975</td>\n",
       "      <td>0</td>\n",
       "      <td>0</td>\n",
       "      <td>1</td>\n",
       "      <td>0</td>\n",
       "      <td>0</td>\n",
       "    </tr>\n",
       "    <tr>\n",
       "      <th>9035578</th>\n",
       "      <td>-0.978755</td>\n",
       "      <td>-0.853494</td>\n",
       "      <td>-0.867470</td>\n",
       "      <td>1.249400</td>\n",
       "      <td>-0.2975</td>\n",
       "      <td>0</td>\n",
       "      <td>0</td>\n",
       "      <td>0</td>\n",
       "      <td>0</td>\n",
       "      <td>1</td>\n",
       "    </tr>\n",
       "    <tr>\n",
       "      <th>19475975</th>\n",
       "      <td>0.121765</td>\n",
       "      <td>-0.589283</td>\n",
       "      <td>-0.443392</td>\n",
       "      <td>-1.051319</td>\n",
       "      <td>-0.2975</td>\n",
       "      <td>0</td>\n",
       "      <td>0</td>\n",
       "      <td>1</td>\n",
       "      <td>0</td>\n",
       "      <td>0</td>\n",
       "    </tr>\n",
       "    <tr>\n",
       "      <th>12349447</th>\n",
       "      <td>-0.436732</td>\n",
       "      <td>-0.243777</td>\n",
       "      <td>-0.219681</td>\n",
       "      <td>-0.790412</td>\n",
       "      <td>-0.2975</td>\n",
       "      <td>0</td>\n",
       "      <td>0</td>\n",
       "      <td>0</td>\n",
       "      <td>0</td>\n",
       "      <td>1</td>\n",
       "    </tr>\n",
       "    <tr>\n",
       "      <th>10206167</th>\n",
       "      <td>2.798927</td>\n",
       "      <td>2.418653</td>\n",
       "      <td>2.744001</td>\n",
       "      <td>0.193916</td>\n",
       "      <td>-0.2975</td>\n",
       "      <td>0</td>\n",
       "      <td>0</td>\n",
       "      <td>1</td>\n",
       "      <td>0</td>\n",
       "      <td>0</td>\n",
       "    </tr>\n",
       "  </tbody>\n",
       "</table>\n",
       "</div>"
      ]
     },
     "execution_count": 4,
     "metadata": {},
     "output_type": "execute_result"
    }
   ],
   "execution_count": 4
  },
  {
   "metadata": {},
   "cell_type": "markdown",
   "source": [
    "<h4 style=\"text-decoration: underline;\">3.x Linear Regression</h4>\n",
    "\n",
    "After finishing the data preperation and completing our descripive task we now want to start with our predictive models. First of all we want to create an simple linear regression because we have seen a few linear relationships between our predictors and the tip in the descriptive task above. In the next steps we define our linear regression model which has the following input vector:\n",
    "\\begin{equation}\n",
    "x^{(i)} = \\left[ \\begin{array}{c} 1 \\\\ \\mathrm{Trip\\ Seconds}^{(i)} \\\\ \\mathrm{Trip\\ Miles}^{(i)} \\\\ \\mathrm{Shared\\ Trip\\ Authorized}^{(i)} \\\\ \\mathrm{Shared\\ Trip\\ Matched}^{(i)} \\\\ \\mathrm{Cost}^{(i)} \\\\ \\mathrm{Temperature}^{(i)} \\\\ \\mathrm{Rain\\ in\\ mm}^{(i)} \\\\ \\mathrm{Night}^{(i)} \\\\ \\mathrm{Day}^{(i)} \\\\\n",
    "\\mathrm{Evening}^{(i)} \\end{array} \\right] \\end{equation}\n",
    "\n",
    "In addition we create our linear hypothesis function $tip_\\beta(x) = \\beta^Tx$ is given by:\n",
    "\n",
    "\\begin{equation}\n",
    "tip_\\beta(x) = \\beta_0 + \\beta_1 * \\mathrm{Trip\\ Seconds}^{(i)} + \\beta_2 * \\mathrm{Trip\\ Miles}^{(i)} + \\beta_3 * \\mathrm{Shared\\ Trip\\ Authorized}^{(i)} + \\\\ \\beta_4 * \\mathrm{Shared\\ Trip\\ Matched}^{(i)} + \\beta_5 * \\mathrm{Cost}^{(i)} + \\beta_6 * \\mathrm{Temperature}^{(i)} + \\beta_7 * \\mathrm{Rain\\ In\\ MM}^{(i)} + \\\\ \\beta_8 * \\mathrm{Night}^{(i)} + \\beta_9 * \\mathrm{Day}^{(i)} + \\beta_{10} * \\mathrm{Evening}^{(i)} \n",
    "\\end{equation}\n",
    "\n",
    "After defining our linear regression model, we now want to find the right values for our predictors $ \\beta_0, \\beta_1, \\dots, \\beta_9 $.\n"
   ],
   "id": "f5d74f7440394679"
  },
  {
   "metadata": {
    "ExecuteTime": {
     "end_time": "2025-06-19T15:59:23.692398Z",
     "start_time": "2025-06-19T15:59:20.960523Z"
    }
   },
   "cell_type": "code",
   "source": [
    "linear_model = LinearRegression()\n",
    "linear_model.fit(x_train_data_scaled, y_train_data)\n",
    "print(\"Values for our predictors:\" + str(linear_model.coef_))"
   ],
   "id": "d6705753cb1b7f98",
   "outputs": [
    {
     "name": "stdout",
     "output_type": "stream",
     "text": [
      "Values for our predictors:[-1.60136348e-01 -1.59998571e-01  9.92986071e-01  1.99782892e-02\n",
      " -5.72135357e-03 -3.37906199e-01  5.87213848e-02  9.03110284e+10\n",
      "  9.03110284e+10  9.03110284e+10]\n"
     ]
    }
   ],
   "execution_count": 24
  },
  {
   "metadata": {
    "ExecuteTime": {
     "end_time": "2025-06-19T16:11:50.892306Z",
     "start_time": "2025-06-19T16:11:50.193001Z"
    }
   },
   "cell_type": "code",
   "source": [
    "linear_model_prediction = linear_model.predict(x_test_data_scaled)\n",
    "print(\"Mean absoulte Error:\", round(mean_absolute_error(y_test_data, linear_model_prediction), 4), \"R2:\", round(r2_score(y_test_data, linear_model_prediction), 4))"
   ],
   "id": "695ea9bf6e0ab608",
   "outputs": [
    {
     "name": "stdout",
     "output_type": "stream",
     "text": [
      "Mean absoulte Error: 1.4423 R2: 0.1249\n"
     ]
    }
   ],
   "execution_count": 40
  },
  {
   "metadata": {
    "ExecuteTime": {
     "end_time": "2025-06-19T16:16:47.317322Z",
     "start_time": "2025-06-19T16:16:47.312545Z"
    }
   },
   "cell_type": "code",
   "source": [
    "y = [x_test_data_scaled.iloc[18]]\n",
    "print(\"Prediction: \", linear_model.predict(y), \"Real value\", y_test_data.iloc[18])\n"
   ],
   "id": "b9b831933c2e73dd",
   "outputs": [
    {
     "name": "stdout",
     "output_type": "stream",
     "text": [
      "Prediction:  [1.5838623] Real value 5.0\n"
     ]
    },
    {
     "name": "stderr",
     "output_type": "stream",
     "text": [
      "UserWarning: X does not have valid feature names, but LinearRegression was fitted with feature names\n"
     ]
    }
   ],
   "execution_count": 79
  },
  {
   "metadata": {},
   "cell_type": "markdown",
   "source": [
    "<h4 style=\"text-decoration: underline;\">3.x Radial Basis Function</h4>\n",
    "As we can see our linear approach didn't worked that good so we need to try out another non linear approach. For this we want to make use of radial basis functions(RBF). Our problem is definied by:\n",
    "\\begin{equation}\n",
    " \\begin{aligned}\n",
    "x = \\left[ \\begin{array}{c} \\mathrm{Trip\\ Seconds} \\\\ \\mathrm{Trip\\ Miles} \\\\ \\mathrm{Shared\\ Trip\\ Authorized} \\\\ \\mathrm{Shared\\ Trip\\ Matched} \\\\ \\mathrm{Cost} \\\\ \\mathrm{Temperature} \\\\ \\mathrm{Rain\\ in\\ mm} \\\\ \\mathrm{Night} \\\\ \\mathrm{Day} \\\\ \\mathrm{Evening} \\end{array} \\right] \n",
    "\\qquad\n",
    "\\phi = \\left[ \\begin{array}{c} 1 \\\\ \\mathrm{x} \\end{array} \\right]\n",
    "\\end{aligned}\n",
    "\\end{equation}\n",
    "\n",
    "Because our input vector $ x \\in \\mathbb{R}^9 $ we need to use mulit dimensional radial basis functions\n",
    " "
   ],
   "id": "1c1b77335c6e83c4"
  }
 ],
 "metadata": {
  "kernelspec": {
   "display_name": "Python [conda env:base] *",
   "language": "python",
   "name": "conda-base-py"
  },
  "language_info": {
   "codemirror_mode": {
    "name": "ipython",
    "version": 3
   },
   "file_extension": ".py",
   "mimetype": "text/x-python",
   "name": "python",
   "nbconvert_exporter": "python",
   "pygments_lexer": "ipython3",
   "version": "3.13.5"
  }
 },
 "nbformat": 4,
 "nbformat_minor": 5
}

{
 "cells": [
  {
   "attachments": {},
   "cell_type": "markdown",
   "id": "85dcb6d7-eabc-4f84-9b91-71c1fa1328f9",
   "metadata": {},
   "source": [
    "<div style=\"text-align: center\"><h1 style=\"text-decoration: underline;\">DSML Project</h1></div>\n",
    "\n"
   ]
  },
  {
   "attachments": {},
   "cell_type": "markdown",
   "id": "7ad31350-3590-4527-b773-f4bd3984bfa9",
   "metadata": {},
   "source": [
    "This is the official Notebook of the DSML Project from Marc Rennefort, Kilian Lipinsky, Timo Hagelberg, Jan Behrendt-Emden and Paul Severin. In order to create this Project we used the following dataset: https://data.cityofchicago.org/Transportation/Transportation-Network-Providers-Trips-2023-2024-/n26f-ihde/about_data\n",
    "<h4>1. Description</h4>\n",
    "The goal of this Project is to predict the tip for ride-hailing in Chicago based on the travelled time and distance as well as the money spent, the weather and the information if the customer matched to a shared trip or not. \n"
   ]
  },
  {
   "cell_type": "code",
   "execution_count": null,
   "id": "1c90e750-76f6-4524-9e00-23d389391975",
   "metadata": {},
   "outputs": [],
   "source": [
    "#Note all your imports here\n",
    "import pandas as pd\n",
    "import numpy as np\n",
    "import matplotlib as mpl\n",
    "import matplotlib.pyplot as plt\n",
    "%matplotlib inline\n",
    "import seaborn as sns\n",
    "from sklearn.linear_model import LinearRegression\n",
    "from datetime import datetime\n",
    "from meteostat import Hourly, Point\n"
   ]
  },
  {
   "cell_type": "code",
   "execution_count": null,
   "id": "27a4eaae-3635-49e9-8969-64792728a8ce",
   "metadata": {},
   "outputs": [],
   "source": [
    "# Gesamten Datensatz laden, basic Infos anzeigen und nicht benötigte Spalten entfernen:\n",
    "# Bei wenig RAM: Direkt nächste Zelle ausführen\n",
    "\n",
    "data = pd.read_csv('Data/Chicago_RideHailing_Data.csv')  #habt geduld, dauert beim laden\n",
    "# basic Infos anzeigen\n",
    "data.head()\n",
    "data.info()\n",
    "data.isnull().sum()\n",
    "# nicht benötigte Spalten entfernen\n",
    "data_cleaned = data.drop(columns = ['Percent Time Chicago', 'Percent Distance Chicago', 'Pickup Census Tract', 'Dropoff Census Tract',\n",
    "                            'Pickup Community Area', 'Dropoff Community Area', 'Additional Charges', 'Trips Pooled', \n",
    "                            'Pickup Centroid Latitude', 'Pickup Centroid Location', 'Dropoff Centroid Latitude', 'Dropoff Centroid Longitude', 'Dropoff Centroid Location', 'Pickup Centroid Longitude'])\n",
    "data_cleaned.head()"
   ]
  },
  {
   "cell_type": "code",
   "execution_count": null,
   "id": "76201386-ac55-4da8-ab2b-7d5fe6a50618",
   "metadata": {},
   "outputs": [],
   "source": [
    "# Direkt nur die benötigten Spalten laden (mein Laptop hat nicht genug RAM für den gesamten Datensatz haha)\n",
    "# Die vorherige Zelle muss nicht ausgeführt werden!\n",
    "\n",
    "data_cleaned = pd.read_csv('Data/Chicago_RideHailing_Data.csv', usecols= ['Trip ID', 'Trip Start Timestamp', 'Trip End Timestamp', 'Trip Seconds', 'Trip Miles', 'Fare', 'Tip', 'Trip Total', 'Shared Trip Authorized', 'Shared Trip Match'])\n",
    "data_cleaned.head()"
   ]
  },
  {
   "cell_type": "code",
   "execution_count": null,
   "id": "b921cc3b-a9de-4994-83c6-e64c9cb4fb1f",
   "metadata": {},
   "outputs": [],
   "source": [
    "#drop all rows with null values\n",
    "data_cleaned = data_cleaned.dropna(axis = 0)"
   ]
  },
  {
   "cell_type": "code",
   "execution_count": null,
   "id": "82ba2335",
   "metadata": {},
   "outputs": [],
   "source": [
    "#changing format of the date (Trip Start Timestamp)\n",
    "data_cleaned['Trip Start Timestamp'] = pd.to_datetime(data_cleaned['Trip Start Timestamp'],  format='%m/%d/%Y %I:%M:%S %p', errors='coerce')\n",
    "data_cleaned['Trip End Timestamp'] = pd.to_datetime(data_cleaned['Trip End Timestamp'],  format='%m/%d/%Y %I:%M:%S %p', errors='coerce')"
   ]
  },
  {
   "cell_type": "code",
   "execution_count": null,
   "id": "9270bcde-2698-40e4-9adf-315eb1f52d16",
   "metadata": {},
   "outputs": [],
   "source": [
    "print('Null-Werte: ', data_cleaned.isnull().sum())\n",
    "data_cleaned.info()\n",
    "data_cleaned.head()"
   ]
  },
  {
   "cell_type": "code",
   "execution_count": null,
   "id": "3af5fe9d",
   "metadata": {},
   "outputs": [],
   "source": [
    "# Wetterdaten laden:\n",
    "wetter = Hourly(Point(41.8781, -87.6298), datetime(2023, 1, 1), datetime(2024, 12, 31))\n",
    "wetter = wetter.fetch()\n",
    "wetter.head()"
   ]
  },
  {
   "cell_type": "code",
   "execution_count": null,
   "id": "47285957",
   "metadata": {},
   "outputs": [],
   "source": [
    "# Wetterdaten cleanen:\n",
    "wetter_cleaned = wetter.drop(columns=['dwpt', 'rhum', 'wdir', 'pres'])\n",
    "wetter_cleaned = wetter_cleaned.rename(columns={'time': 'Time', 'temp': 'Temperature in C', 'prcp': 'Rain in mm', 'snow': 'Snow in mm', 'wspd': 'Wind Speed in km/h', 'wpgt': 'Peak Wind Speed in km/h', 'tsun': 'Sunshine Duration in min', 'coco': 'Weather Condition Code'})\n",
    "wetter_cleaned.head()"
   ]
  },
  {
   "cell_type": "markdown",
   "id": "ac5f6bdb",
   "metadata": {},
   "source": [
    "#### Erklärung der Weather Condition Codes\n",
    "\n",
    "| Code | Weather Condition |\n",
    "|------|-------------------|\n",
    "| 1    | Clear             |\n",
    "| 2    | Fair              |\n",
    "| 3    | Cloudy            |\n",
    "| 4    | Overcast          |\n",
    "| 5    | Fog               |\n",
    "| 6    | Freezing Fog      |\n",
    "| 7    | Light Rain        |\n",
    "| 8    | Rain              |\n",
    "| 9    | Heavy Rain        |\n",
    "| 10   | Freezing Rain     |\n",
    "| 11   | Heavy Freezing Rain |\n",
    "| 12   | Sleet             |\n",
    "| 13   | Heavy Sleet       |\n",
    "| 14   | Light Snowfall    |\n",
    "| 15   | Snowfall          |\n",
    "| 16   | Heavy Snowfall    |\n",
    "| 17   | Rain Shower       |\n",
    "| 18   | Heavy Rain Shower |\n",
    "| 19   | Sleet Shower      |\n",
    "| 20   | Heavy Sleet Shower |\n",
    "| 21   | Snow Shower       |\n",
    "| 22   | Heavy Snow Shower |\n",
    "| 23   | Lightning         |\n",
    "| 24   | Hail              |\n",
    "| 25   | Thunderstorm      |\n",
    "| 26   | Heavy Thunderstorm |\n",
    "| 27   | Storm             |\n",
    "\n",
    "Quelle: https://dev.meteostat.net/formats.html#weather-condition-codes"
   ]
  }
 ],
 "metadata": {
  "kernelspec": {
   "display_name": "DSML_env",
   "language": "python",
   "name": "python3"
  },
  "language_info": {
   "codemirror_mode": {
    "name": "ipython",
    "version": 3
   },
   "file_extension": ".py",
   "mimetype": "text/x-python",
   "name": "python",
   "nbconvert_exporter": "python",
   "pygments_lexer": "ipython3",
   "version": "3.13.2"
  }
 },
 "nbformat": 4,
 "nbformat_minor": 5
}

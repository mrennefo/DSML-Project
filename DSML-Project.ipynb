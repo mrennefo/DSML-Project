{
 "cells": [
  {
   "attachments": {},
   "cell_type": "markdown",
   "id": "85dcb6d7-eabc-4f84-9b91-71c1fa1328f9",
   "metadata": {},
   "source": [
    "<div style=\"text-align: center\"><h1 style=\"text-decoration: underline;\">DSML Project</h1></div>\n",
    "\n"
   ]
  },
  {
   "attachments": {},
   "cell_type": "markdown",
   "id": "7ad31350-3590-4527-b773-f4bd3984bfa9",
   "metadata": {},
   "source": [
    "This is the official Notebook of the DSML Project from Marc Rennefort, Kilian Lipinsky, Timo Hagelberg, Jan Behrendt-Emden and Paul Severin. In order to create this Project we used the following dataset: https://data.cityofchicago.org/Transportation/Transportation-Network-Providers-Trips-2023-2024-/n26f-ihde/about_data\n",
    "<h4>1. Description</h4>\n",
    "The goal of this project is to predict ride-hailing tips in Chicago based on travel time, distance, fare amount, weather conditions, and whether the customer shared the ride.\n"
   ]
  },
  {
   "cell_type": "code",
   "execution_count": null,
   "id": "1c90e750-76f6-4524-9e00-23d389391975",
   "metadata": {},
   "outputs": [],
   "source": [
    "#Note all your imports here\n",
    "\n",
    "import pandas as pd\n",
    "import numpy as np\n",
    "import matplotlib as mpl\n",
    "import matplotlib.pyplot as plt\n",
    "%matplotlib inline\n",
    "import seaborn as sns\n",
    "from sklearn.linear_model import LinearRegression\n",
    "from datetime import datetime\n",
    "from meteostat import Hourly, Point\n"
   ]
  },
  {
   "cell_type": "code",
   "execution_count": null,
   "id": "27a4eaae-3635-49e9-8969-64792728a8ce",
   "metadata": {},
   "outputs": [],
   "source": [
    "# Gesamten Datensatz laden\n",
    "# Bei wenig RAM: Direkt übernächste nächste Zelle ausführen\n",
    "\n",
    "data = pd.read_csv('Data/Chicago_RideHailing_Data.csv')  #habt geduld, dauert beim laden"
   ]
  },
  {
   "cell_type": "code",
   "execution_count": null,
   "id": "006b6bbf",
   "metadata": {},
   "outputs": [],
   "source": [
    "# Basic Infos anzeigen\n",
    "data.head()\n",
    "data.info()\n",
    "data.isnull().sum()\n",
    "# nicht benötigte Spalten entfernen\n",
    "data_cleaned = data.drop(columns = ['Percent Time Chicago', 'Percent Distance Chicago', 'Pickup Census Tract', 'Dropoff Census Tract',\n",
    "                            'Pickup Community Area', 'Dropoff Community Area', 'Additional Charges', 'Trips Pooled', \n",
    "                            'Pickup Centroid Latitude', 'Pickup Centroid Location', 'Dropoff Centroid Latitude', 'Dropoff Centroid Longitude', 'Dropoff Centroid Location', 'Pickup Centroid Longitude'])\n",
    "data_cleaned.head()\n"
   ]
  },
  {
   "cell_type": "code",
   "execution_count": null,
   "id": "76201386-ac55-4da8-ab2b-7d5fe6a50618",
   "metadata": {},
   "outputs": [],
   "source": [
    "# Direkt nur die benötigten Spalten laden (mein Laptop hat nicht genug RAM für den gesamten Datensatz haha)\n",
    "# Die vorherigen zwei Zellen müssen nicht ausgeführt werden!\n",
    "\n",
    "data_cleaned = pd.read_csv('Data/Chicago_RideHailing_Data.csv', usecols= ['Trip ID', 'Trip Start Timestamp', 'Trip End Timestamp', 'Trip Seconds', 'Trip Miles', 'Fare', 'Tip', 'Trip Total', 'Shared Trip Authorized', 'Shared Trip Match'])\n",
    "data_cleaned.head()"
   ]
  },
  {
   "cell_type": "code",
   "execution_count": null,
   "id": "b921cc3b-a9de-4994-83c6-e64c9cb4fb1f",
   "metadata": {},
   "outputs": [],
   "source": [
    "#drop all rows with null values\n",
    "data_cleaned = data_cleaned.dropna(axis = 0)"
   ]
  },
  {
   "cell_type": "code",
   "execution_count": null,
   "id": "82ba2335",
   "metadata": {},
   "outputs": [],
   "source": [
    "#changing format of the date (Trip Start Timestamp)\n",
    "#Funktioniert bei manchen aus der Gruppe super, bei mir aus irgendwelchen Gründen gar nicht\n",
    "data_cleaned['Trip Start Timestamp'] = pd.to_datetime(data_cleaned['Trip Start Timestamp'],  format='%m/%d/%Y %I:%M:%S %p', errors='coerce')\n",
    "data_cleaned['Trip End Timestamp'] = pd.to_datetime(data_cleaned['Trip End Timestamp'],  format='%m/%d/%Y %I:%M:%S %p', errors='coerce')"
   ]
  },
  {
   "cell_type": "code",
   "execution_count": null,
   "id": "9270bcde-2698-40e4-9adf-315eb1f52d16",
   "metadata": {},
   "outputs": [],
   "source": [
    "print('Null-Werte: ', data_cleaned.isnull().sum())\n",
    "data_cleaned.info()\n",
    "data_cleaned.head()"
   ]
  },
  {
   "cell_type": "code",
   "execution_count": null,
   "id": "3af5fe9d",
   "metadata": {},
   "outputs": [],
   "source": [
    "# Wetterdaten für Chicago im gesamten Zeitraum laden:\n",
    "wetter = Hourly(Point(41.8781, -87.6298), datetime(2023, 1, 1), datetime(2025, 1, 1))\n",
    "wetter = wetter.fetch()\n",
    "wetter.head()"
   ]
  },
  {
   "cell_type": "code",
   "execution_count": 17,
   "id": "47285957",
   "metadata": {},
   "outputs": [
    {
     "data": {
      "application/vnd.microsoft.datawrangler.viewer.v0+json": {
       "columns": [
        {
         "name": "time",
         "rawType": "datetime64[ns]",
         "type": "datetime"
        },
        {
         "name": "Temperature in C",
         "rawType": "float64",
         "type": "float"
        },
        {
         "name": "Rain in mm",
         "rawType": "float64",
         "type": "float"
        },
        {
         "name": "Wind Speed in km/h",
         "rawType": "float64",
         "type": "float"
        },
        {
         "name": "Weather Condition Code",
         "rawType": "float64",
         "type": "float"
        }
       ],
       "ref": "077172eb-cc93-4d5d-82f0-3ea8d3ffd489",
       "rows": [
        [
         "2023-01-01 00:00:00",
         "2.0",
         "0.0",
         "6.0",
         "3.0"
        ],
        [
         "2023-01-01 01:00:00",
         "2.2",
         "0.0",
         "5.4",
         "3.0"
        ],
        [
         "2023-01-01 02:00:00",
         "2.8",
         "0.0",
         "14.8",
         "3.0"
        ],
        [
         "2023-01-01 03:00:00",
         "2.8",
         "0.0",
         "0.0",
         "3.0"
        ],
        [
         "2023-01-01 04:00:00",
         "2.8",
         "0.0",
         "0.0",
         "12.0"
        ]
       ],
       "shape": {
        "columns": 4,
        "rows": 5
       }
      },
      "text/html": [
       "<div>\n",
       "<style scoped>\n",
       "    .dataframe tbody tr th:only-of-type {\n",
       "        vertical-align: middle;\n",
       "    }\n",
       "\n",
       "    .dataframe tbody tr th {\n",
       "        vertical-align: top;\n",
       "    }\n",
       "\n",
       "    .dataframe thead th {\n",
       "        text-align: right;\n",
       "    }\n",
       "</style>\n",
       "<table border=\"1\" class=\"dataframe\">\n",
       "  <thead>\n",
       "    <tr style=\"text-align: right;\">\n",
       "      <th></th>\n",
       "      <th>Temperature in C</th>\n",
       "      <th>Rain in mm</th>\n",
       "      <th>Wind Speed in km/h</th>\n",
       "      <th>Weather Condition Code</th>\n",
       "    </tr>\n",
       "    <tr>\n",
       "      <th>time</th>\n",
       "      <th></th>\n",
       "      <th></th>\n",
       "      <th></th>\n",
       "      <th></th>\n",
       "    </tr>\n",
       "  </thead>\n",
       "  <tbody>\n",
       "    <tr>\n",
       "      <th>2023-01-01 00:00:00</th>\n",
       "      <td>2.0</td>\n",
       "      <td>0.0</td>\n",
       "      <td>6.0</td>\n",
       "      <td>3.0</td>\n",
       "    </tr>\n",
       "    <tr>\n",
       "      <th>2023-01-01 01:00:00</th>\n",
       "      <td>2.2</td>\n",
       "      <td>0.0</td>\n",
       "      <td>5.4</td>\n",
       "      <td>3.0</td>\n",
       "    </tr>\n",
       "    <tr>\n",
       "      <th>2023-01-01 02:00:00</th>\n",
       "      <td>2.8</td>\n",
       "      <td>0.0</td>\n",
       "      <td>14.8</td>\n",
       "      <td>3.0</td>\n",
       "    </tr>\n",
       "    <tr>\n",
       "      <th>2023-01-01 03:00:00</th>\n",
       "      <td>2.8</td>\n",
       "      <td>0.0</td>\n",
       "      <td>0.0</td>\n",
       "      <td>3.0</td>\n",
       "    </tr>\n",
       "    <tr>\n",
       "      <th>2023-01-01 04:00:00</th>\n",
       "      <td>2.8</td>\n",
       "      <td>0.0</td>\n",
       "      <td>0.0</td>\n",
       "      <td>12.0</td>\n",
       "    </tr>\n",
       "  </tbody>\n",
       "</table>\n",
       "</div>"
      ],
      "text/plain": [
       "                     Temperature in C  Rain in mm  Wind Speed in km/h  \\\n",
       "time                                                                    \n",
       "2023-01-01 00:00:00               2.0         0.0                 6.0   \n",
       "2023-01-01 01:00:00               2.2         0.0                 5.4   \n",
       "2023-01-01 02:00:00               2.8         0.0                14.8   \n",
       "2023-01-01 03:00:00               2.8         0.0                 0.0   \n",
       "2023-01-01 04:00:00               2.8         0.0                 0.0   \n",
       "\n",
       "                     Weather Condition Code  \n",
       "time                                         \n",
       "2023-01-01 00:00:00                     3.0  \n",
       "2023-01-01 01:00:00                     3.0  \n",
       "2023-01-01 02:00:00                     3.0  \n",
       "2023-01-01 03:00:00                     3.0  \n",
       "2023-01-01 04:00:00                    12.0  "
      ]
     },
     "execution_count": 17,
     "metadata": {},
     "output_type": "execute_result"
    }
   ],
   "source": [
    "# Wetterdaten cleanen:\n",
    "wetter_cleaned = wetter.drop(columns=['dwpt', 'rhum', 'wdir', 'pres'])\n",
    "wetter_cleaned = wetter_cleaned.rename(columns={'time': 'Time', 'temp': 'Temperature in C', 'prcp': 'Rain in mm', 'snow': 'Snow in mm', 'wspd': 'Wind Speed in km/h', 'wpgt': 'Peak Wind Speed in km/h', 'tsun': 'Sunshine Duration in min', 'coco': 'Weather Condition Code'})\n",
    "\n",
    "# Nur um die Daten zu überprüfen:\n",
    "#wetter_cleaned.head()\n",
    "#wetter_cleaned.info()\n",
    "#print('Null-Werte: ', wetter_cleaned.isnull().sum())\n",
    "\n",
    "#Snow, Peak Wind Speed und Sunshine Duration enthalten nur null-Werte:\n",
    "wetter_cleaned = wetter_cleaned.drop(columns=['Snow in mm', 'Peak Wind Speed in km/h', 'Sunshine Duration in min'])\n",
    "\n",
    "wetter_cleaned.head()"
   ]
  },
  {
   "cell_type": "markdown",
   "id": "ac5f6bdb",
   "metadata": {},
   "source": [
    "#### Erklärung der Weather Condition Codes\n",
    "\n",
    "| Code | Weather Condition |\n",
    "|------|-------------------|\n",
    "| 1    | Clear             |\n",
    "| 2    | Fair              |\n",
    "| 3    | Cloudy            |\n",
    "| 4    | Overcast          |\n",
    "| 5    | Fog               |\n",
    "| 6    | Freezing Fog      |\n",
    "| 7    | Light Rain        |\n",
    "| 8    | Rain              |\n",
    "| 9    | Heavy Rain        |\n",
    "| 10   | Freezing Rain     |\n",
    "| 11   | Heavy Freezing Rain |\n",
    "| 12   | Sleet             |\n",
    "| 13   | Heavy Sleet       |\n",
    "| 14   | Light Snowfall    |\n",
    "| 15   | Snowfall          |\n",
    "| 16   | Heavy Snowfall    |\n",
    "| 17   | Rain Shower       |\n",
    "| 18   | Heavy Rain Shower |\n",
    "| 19   | Sleet Shower      |\n",
    "| 20   | Heavy Sleet Shower |\n",
    "| 21   | Snow Shower       |\n",
    "| 22   | Heavy Snow Shower |\n",
    "| 23   | Lightning         |\n",
    "| 24   | Hail              |\n",
    "| 25   | Thunderstorm      |\n",
    "| 26   | Heavy Thunderstorm |\n",
    "| 27   | Storm             |\n",
    "\n",
    "Quelle: https://dev.meteostat.net/formats.html#weather-condition-codes"
   ]
  }
 ],
 "metadata": {
  "kernelspec": {
   "display_name": "DSML_env",
   "language": "python",
   "name": "python3"
  },
  "language_info": {
   "codemirror_mode": {
    "name": "ipython",
    "version": 3
   },
   "file_extension": ".py",
   "mimetype": "text/x-python",
   "name": "python",
   "nbconvert_exporter": "python",
   "pygments_lexer": "ipython3",
   "version": "3.13.2"
  }
 },
 "nbformat": 4,
 "nbformat_minor": 5
}

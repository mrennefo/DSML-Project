{
 "cells": [
  {
   "attachments": {},
   "cell_type": "markdown",
   "id": "85dcb6d7-eabc-4f84-9b91-71c1fa1328f9",
   "metadata": {},
   "source": [
    "<div style=\"text-align: center\"><h1 style=\"text-decoration: underline;\">DSML Project</h1></div>\n",
    "\n"
   ]
  },
  {
   "cell_type": "markdown",
   "id": "f5e1d2bffc61bc85",
   "metadata": {},
   "source": [
    "This is the official Notebook of the DSML Project from Marc Rennefort, Kilian Lipinsky, Timo Hagelberg, Jan Behrendt-Emden and Paul Severin. In order to create this Project we used the following dataset: https://data.cityofchicago.org/Transportation/Transportation-Network-Providers-Trips-2023-2024-/n26f-ihde/about_data"
   ]
  },
  {
   "cell_type": "code",
   "execution_count": 1,
   "id": "1c90e750-76f6-4524-9e00-23d389391975",
   "metadata": {
    "ExecuteTime": {
     "end_time": "2025-07-14T13:59:10.012937Z",
     "start_time": "2025-07-14T13:59:09.956214Z"
    }
   },
   "outputs": [],
   "source": [
    "#Note all your imports here\n",
    "import warnings\n",
    "warnings.filterwarnings('ignore')\n",
    "import pandas as pd\n",
    "import numpy as np\n",
    "import matplotlib as mpl\n",
    "import matplotlib.pyplot as plt\n",
    "from holoviews.plotting.plotly import ScatterPlot\n",
    "from mpmath import sumap\n",
    "from numpy.ma.core import inner\n",
    "from pandas.core.common import random_state\n",
    "from sklearn.metrics import mean_absolute_error, r2_score\n",
    "from sklearn.preprocessing import StandardScaler\n",
    "%matplotlib inline\n",
    "from sklearn.tree import DecisionTreeClassifier\n",
    "import seaborn as sns\n",
    "from sklearn.linear_model import LinearRegression\n",
    "from datetime import datetime\n",
    "from sklearn.model_selection import train_test_split\n",
    "from meteostat import Hourly, Point\n",
    "from sklearn.metrics.pairwise import euclidean_distances\n",
    "from sklearn.ensemble import RandomForestClassifier\n",
    "from sklearn.metrics import accuracy_score\n",
    "from sklearn.metrics import recall_score, precision_score, f1_score"
   ]
  },
  {
   "cell_type": "markdown",
   "id": "7ad31350-3590-4527-b773-f4bd3984bfa9",
   "metadata": {},
   "source": [
    "\n",
    "<h4 style=\"text-decoration: underline;\">1. Buisness Understanding</h4>\n",
    "The given dataset contains all trips in 2023-2024 to the city of chicago reportet by rideshare companies such as Uber. With this data we want to train a model that helps use to predict the tip in ride hailing trips as accurate as possible. This could be interesting for Uber drivers to plan their rides on routes and days which give the most tip. In addition it could also help Uber as a company to make appropriate forecasts or recruit new drivers. For our prediction we want to include the following features: travel time, distance, fare amount, weather conditions, and whether the customer shared the ride. At this point it should be said that the tip values are not exact because they are rounded to the nearest $1.00 and only digital tips are included in the dataset, as tips paid in cash don't get tracked.\n"
   ]
  },
  {
   "cell_type": "markdown",
   "id": "eb96b7050d8dc921",
   "metadata": {},
   "source": [
    "<h4 style=\"text-decoration: underline;\">2. Data Understanding and Data Prepertion</h4>"
   ]
  },
  {
   "cell_type": "markdown",
   "id": "90df07db112fe767",
   "metadata": {},
   "source": [
    "<h4 style=\"text-decoration: underline;\">2.1 Some Basic Data Preperation</h4>\n",
    "In the first step we want to do some basic data preperartion and data understanding which means that we load our data set with the columns we need (only load these for better performance), we drop all rows with null values and changing our timestamps to datetime format."
   ]
  },
  {
   "cell_type": "code",
   "execution_count": 2,
   "id": "76201386-ac55-4da8-ab2b-7d5fe6a50618",
   "metadata": {},
   "outputs": [],
   "source": [
    "#Loading our dataset with the columns we need\n",
    "data_cleaned = pd.read_csv('Data/Chicago_RideHailing_Data.csv', usecols= ['Trip End Timestamp', 'Trip Seconds', 'Trip Miles', 'Tip', 'Trip Total','Dropoff Centroid Latitude', 'Dropoff Centroid Longitude', 'Shared Trip Authorized', 'Shared Trip Match'])\n",
    "\n",
    "#We can't use the Total including Tip, so we will calculate the cost (Fare + other Charges) as Total - Tip\n",
    "data_cleaned['Cost'] = data_cleaned['Trip Total'] - data_cleaned['Tip']\n",
    "data_cleaned = data_cleaned.drop(columns=['Trip Total'])"
   ]
  },
  {
   "cell_type": "code",
   "execution_count": 3,
   "id": "28185221ab2587ee",
   "metadata": {},
   "outputs": [
    {
     "name": "stdout",
     "output_type": "stream",
     "text": [
      "Null Values:  Trip End Timestamp                  0\n",
      "Trip Seconds                     1638\n",
      "Trip Miles                          1\n",
      "Tip                             68110\n",
      "Shared Trip Authorized              1\n",
      "Shared Trip Match                   1\n",
      "Dropoff Centroid Latitude     2416867\n",
      "Dropoff Centroid Longitude    2416867\n",
      "Cost                            68110\n",
      "dtype: int64\n",
      "<class 'pandas.core.frame.DataFrame'>\n",
      "RangeIndex: 27423899 entries, 0 to 27423898\n",
      "Data columns (total 9 columns):\n",
      " #   Column                      Dtype  \n",
      "---  ------                      -----  \n",
      " 0   Trip End Timestamp          object \n",
      " 1   Trip Seconds                float64\n",
      " 2   Trip Miles                  float64\n",
      " 3   Tip                         float64\n",
      " 4   Shared Trip Authorized      object \n",
      " 5   Shared Trip Match           object \n",
      " 6   Dropoff Centroid Latitude   float64\n",
      " 7   Dropoff Centroid Longitude  float64\n",
      " 8   Cost                        float64\n",
      "dtypes: float64(6), object(3)\n",
      "memory usage: 1.8+ GB\n"
     ]
    },
    {
     "data": {
      "text/html": [
       "<div>\n",
       "<style scoped>\n",
       "    .dataframe tbody tr th:only-of-type {\n",
       "        vertical-align: middle;\n",
       "    }\n",
       "\n",
       "    .dataframe tbody tr th {\n",
       "        vertical-align: top;\n",
       "    }\n",
       "\n",
       "    .dataframe thead th {\n",
       "        text-align: right;\n",
       "    }\n",
       "</style>\n",
       "<table border=\"1\" class=\"dataframe\">\n",
       "  <thead>\n",
       "    <tr style=\"text-align: right;\">\n",
       "      <th></th>\n",
       "      <th>Trip End Timestamp</th>\n",
       "      <th>Trip Seconds</th>\n",
       "      <th>Trip Miles</th>\n",
       "      <th>Tip</th>\n",
       "      <th>Shared Trip Authorized</th>\n",
       "      <th>Shared Trip Match</th>\n",
       "      <th>Dropoff Centroid Latitude</th>\n",
       "      <th>Dropoff Centroid Longitude</th>\n",
       "      <th>Cost</th>\n",
       "    </tr>\n",
       "  </thead>\n",
       "  <tbody>\n",
       "    <tr>\n",
       "      <th>0</th>\n",
       "      <td>09/19/2023 07:15:00 PM</td>\n",
       "      <td>3109.0</td>\n",
       "      <td>23.5</td>\n",
       "      <td>0.0</td>\n",
       "      <td>False</td>\n",
       "      <td>False</td>\n",
       "      <td>41.893216</td>\n",
       "      <td>-87.637844</td>\n",
       "      <td>40.70</td>\n",
       "    </tr>\n",
       "    <tr>\n",
       "      <th>1</th>\n",
       "      <td>09/28/2023 12:45:00 PM</td>\n",
       "      <td>1640.0</td>\n",
       "      <td>14.7</td>\n",
       "      <td>0.0</td>\n",
       "      <td>False</td>\n",
       "      <td>False</td>\n",
       "      <td>41.979071</td>\n",
       "      <td>-87.903040</td>\n",
       "      <td>38.74</td>\n",
       "    </tr>\n",
       "    <tr>\n",
       "      <th>2</th>\n",
       "      <td>09/03/2023 05:30:00 PM</td>\n",
       "      <td>772.0</td>\n",
       "      <td>1.9</td>\n",
       "      <td>0.0</td>\n",
       "      <td>False</td>\n",
       "      <td>False</td>\n",
       "      <td>41.879255</td>\n",
       "      <td>-87.642649</td>\n",
       "      <td>22.39</td>\n",
       "    </tr>\n",
       "    <tr>\n",
       "      <th>3</th>\n",
       "      <td>09/13/2023 03:30:00 PM</td>\n",
       "      <td>452.0</td>\n",
       "      <td>1.1</td>\n",
       "      <td>0.0</td>\n",
       "      <td>False</td>\n",
       "      <td>False</td>\n",
       "      <td>41.892042</td>\n",
       "      <td>-87.631864</td>\n",
       "      <td>14.07</td>\n",
       "    </tr>\n",
       "    <tr>\n",
       "      <th>4</th>\n",
       "      <td>09/16/2023 01:00:00 PM</td>\n",
       "      <td>819.0</td>\n",
       "      <td>3.9</td>\n",
       "      <td>0.0</td>\n",
       "      <td>False</td>\n",
       "      <td>False</td>\n",
       "      <td>41.792592</td>\n",
       "      <td>-87.769615</td>\n",
       "      <td>12.89</td>\n",
       "    </tr>\n",
       "  </tbody>\n",
       "</table>\n",
       "</div>"
      ],
      "text/plain": [
       "       Trip End Timestamp  Trip Seconds  Trip Miles  Tip  \\\n",
       "0  09/19/2023 07:15:00 PM        3109.0        23.5  0.0   \n",
       "1  09/28/2023 12:45:00 PM        1640.0        14.7  0.0   \n",
       "2  09/03/2023 05:30:00 PM         772.0         1.9  0.0   \n",
       "3  09/13/2023 03:30:00 PM         452.0         1.1  0.0   \n",
       "4  09/16/2023 01:00:00 PM         819.0         3.9  0.0   \n",
       "\n",
       "  Shared Trip Authorized Shared Trip Match  Dropoff Centroid Latitude  \\\n",
       "0                  False             False                  41.893216   \n",
       "1                  False             False                  41.979071   \n",
       "2                  False             False                  41.879255   \n",
       "3                  False             False                  41.892042   \n",
       "4                  False             False                  41.792592   \n",
       "\n",
       "   Dropoff Centroid Longitude   Cost  \n",
       "0                  -87.637844  40.70  \n",
       "1                  -87.903040  38.74  \n",
       "2                  -87.642649  22.39  \n",
       "3                  -87.631864  14.07  \n",
       "4                  -87.769615  12.89  "
      ]
     },
     "execution_count": 3,
     "metadata": {},
     "output_type": "execute_result"
    }
   ],
   "source": [
    "#Get some basic understanding of our data\n",
    "print('Null Values: ', data_cleaned.isnull().sum())\n",
    "data_cleaned.info()\n",
    "data_cleaned.head()"
   ]
  },
  {
   "cell_type": "code",
   "execution_count": 4,
   "id": "b921cc3b-a9de-4994-83c6-e64c9cb4fb1f",
   "metadata": {},
   "outputs": [],
   "source": [
    "#Drop all rows with null values\n",
    "data_cleaned = data_cleaned.dropna(axis = 0)"
   ]
  },
  {
   "cell_type": "code",
   "execution_count": 5,
   "id": "82ba2335",
   "metadata": {},
   "outputs": [],
   "source": [
    "#Changing our timestamp to datetime format\n",
    "data_cleaned['Trip End Timestamp'] = pd.to_datetime(data_cleaned['Trip End Timestamp'],  format='%m/%d/%Y %I:%M:%S %p', errors='coerce')"
   ]
  },
  {
   "cell_type": "code",
   "execution_count": 6,
   "id": "9270bcde-2698-40e4-9adf-315eb1f52d16",
   "metadata": {},
   "outputs": [
    {
     "name": "stdout",
     "output_type": "stream",
     "text": [
      "Null-Werte:  Trip End Timestamp            0\n",
      "Trip Seconds                  0\n",
      "Trip Miles                    0\n",
      "Tip                           0\n",
      "Shared Trip Authorized        0\n",
      "Shared Trip Match             0\n",
      "Dropoff Centroid Latitude     0\n",
      "Dropoff Centroid Longitude    0\n",
      "Cost                          0\n",
      "dtype: int64\n",
      "<class 'pandas.core.frame.DataFrame'>\n",
      "Index: 24946147 entries, 0 to 27423897\n",
      "Data columns (total 9 columns):\n",
      " #   Column                      Dtype         \n",
      "---  ------                      -----         \n",
      " 0   Trip End Timestamp          datetime64[ns]\n",
      " 1   Trip Seconds                float64       \n",
      " 2   Trip Miles                  float64       \n",
      " 3   Tip                         float64       \n",
      " 4   Shared Trip Authorized      object        \n",
      " 5   Shared Trip Match           object        \n",
      " 6   Dropoff Centroid Latitude   float64       \n",
      " 7   Dropoff Centroid Longitude  float64       \n",
      " 8   Cost                        float64       \n",
      "dtypes: datetime64[ns](1), float64(6), object(2)\n",
      "memory usage: 1.9+ GB\n"
     ]
    }
   ],
   "source": [
    "#Check if everything worked correctly\n",
    "print('Null-Werte: ', data_cleaned.isnull().sum())\n",
    "data_cleaned.info()"
   ]
  },
  {
   "cell_type": "markdown",
   "id": "8684bb9bbe0d210",
   "metadata": {},
   "source": [
    "<h4 style=\"text-decoration: underline;\">2.2 Including weather data</h4>\n",
    "In order to add the weather data we need to group our data because otherwise we will get runtime issues if we do API calls for 25 Million rows. This should be fine for our prediction purposes because there won't be huge differences in temperature or rain if we round by the second decimal place."
   ]
  },
  {
   "cell_type": "code",
   "execution_count": 7,
   "id": "c4f3c83a49f3c622",
   "metadata": {},
   "outputs": [
    {
     "data": {
      "text/html": [
       "<div>\n",
       "<style scoped>\n",
       "    .dataframe tbody tr th:only-of-type {\n",
       "        vertical-align: middle;\n",
       "    }\n",
       "\n",
       "    .dataframe tbody tr th {\n",
       "        vertical-align: top;\n",
       "    }\n",
       "\n",
       "    .dataframe thead th {\n",
       "        text-align: right;\n",
       "    }\n",
       "</style>\n",
       "<table border=\"1\" class=\"dataframe\">\n",
       "  <thead>\n",
       "    <tr style=\"text-align: right;\">\n",
       "      <th></th>\n",
       "      <th>Latitude rounded</th>\n",
       "      <th>Longitude rounded</th>\n",
       "      <th>min</th>\n",
       "      <th>max</th>\n",
       "    </tr>\n",
       "  </thead>\n",
       "  <tbody>\n",
       "    <tr>\n",
       "      <th>0</th>\n",
       "      <td>41.65</td>\n",
       "      <td>-87.60</td>\n",
       "      <td>2023-08-31 01:00:00</td>\n",
       "      <td>2024-04-28 23:30:00</td>\n",
       "    </tr>\n",
       "    <tr>\n",
       "      <th>1</th>\n",
       "      <td>41.65</td>\n",
       "      <td>-87.56</td>\n",
       "      <td>2023-08-31 12:45:00</td>\n",
       "      <td>2024-03-29 07:45:00</td>\n",
       "    </tr>\n",
       "    <tr>\n",
       "      <th>2</th>\n",
       "      <td>41.66</td>\n",
       "      <td>-87.65</td>\n",
       "      <td>2023-08-31 08:30:00</td>\n",
       "      <td>2024-03-30 21:30:00</td>\n",
       "    </tr>\n",
       "    <tr>\n",
       "      <th>3</th>\n",
       "      <td>41.66</td>\n",
       "      <td>-87.64</td>\n",
       "      <td>2023-08-31 02:00:00</td>\n",
       "      <td>2024-04-28 13:15:00</td>\n",
       "    </tr>\n",
       "    <tr>\n",
       "      <th>4</th>\n",
       "      <td>41.66</td>\n",
       "      <td>-87.60</td>\n",
       "      <td>2023-08-31 00:00:00</td>\n",
       "      <td>2024-04-26 08:30:00</td>\n",
       "    </tr>\n",
       "  </tbody>\n",
       "</table>\n",
       "</div>"
      ],
      "text/plain": [
       "   Latitude rounded  Longitude rounded                 min                 max\n",
       "0             41.65             -87.60 2023-08-31 01:00:00 2024-04-28 23:30:00\n",
       "1             41.65             -87.56 2023-08-31 12:45:00 2024-03-29 07:45:00\n",
       "2             41.66             -87.65 2023-08-31 08:30:00 2024-03-30 21:30:00\n",
       "3             41.66             -87.64 2023-08-31 02:00:00 2024-04-28 13:15:00\n",
       "4             41.66             -87.60 2023-08-31 00:00:00 2024-04-26 08:30:00"
      ]
     },
     "execution_count": 7,
     "metadata": {},
     "output_type": "execute_result"
    }
   ],
   "source": [
    "#Round the Latitude and Longitude by the second decimal place and insert it in a new column\n",
    "data_cleaned[\"Latitude rounded\"] =  data_cleaned[\"Dropoff Centroid Latitude\"].round(2)\n",
    "data_cleaned[\"Longitude rounded\"] = data_cleaned[\"Dropoff Centroid Longitude\"].round(2)\n",
    "\n",
    "#Group the data by Latitude and Longitude\n",
    "data_grouped = data_cleaned.groupby([\"Latitude rounded\", \"Longitude rounded\"])[\"Trip End Timestamp\"].agg([\"min\", \"max\"]).reset_index()\n",
    "data_grouped.head()"
   ]
  },
  {
   "cell_type": "code",
   "execution_count": 8,
   "id": "e378e75201ad951f",
   "metadata": {},
   "outputs": [
    {
     "data": {
      "text/html": [
       "<div>\n",
       "<style scoped>\n",
       "    .dataframe tbody tr th:only-of-type {\n",
       "        vertical-align: middle;\n",
       "    }\n",
       "\n",
       "    .dataframe tbody tr th {\n",
       "        vertical-align: top;\n",
       "    }\n",
       "\n",
       "    .dataframe thead th {\n",
       "        text-align: right;\n",
       "    }\n",
       "</style>\n",
       "<table border=\"1\" class=\"dataframe\">\n",
       "  <thead>\n",
       "    <tr style=\"text-align: right;\">\n",
       "      <th></th>\n",
       "      <th>Timestamp</th>\n",
       "      <th>Latitude rounded</th>\n",
       "      <th>Longitude rounded</th>\n",
       "      <th>Temperature</th>\n",
       "      <th>Rain in mm</th>\n",
       "    </tr>\n",
       "  </thead>\n",
       "  <tbody>\n",
       "    <tr>\n",
       "      <th>0</th>\n",
       "      <td>2023-08-31 01:00:00</td>\n",
       "      <td>41.65</td>\n",
       "      <td>-87.6</td>\n",
       "      <td>16.1</td>\n",
       "      <td>0.0</td>\n",
       "    </tr>\n",
       "    <tr>\n",
       "      <th>1</th>\n",
       "      <td>2023-08-31 02:00:00</td>\n",
       "      <td>41.65</td>\n",
       "      <td>-87.6</td>\n",
       "      <td>15.8</td>\n",
       "      <td>0.0</td>\n",
       "    </tr>\n",
       "    <tr>\n",
       "      <th>2</th>\n",
       "      <td>2023-08-31 03:00:00</td>\n",
       "      <td>41.65</td>\n",
       "      <td>-87.6</td>\n",
       "      <td>15.6</td>\n",
       "      <td>0.0</td>\n",
       "    </tr>\n",
       "    <tr>\n",
       "      <th>3</th>\n",
       "      <td>2023-08-31 04:00:00</td>\n",
       "      <td>41.65</td>\n",
       "      <td>-87.6</td>\n",
       "      <td>15.2</td>\n",
       "      <td>0.0</td>\n",
       "    </tr>\n",
       "    <tr>\n",
       "      <th>4</th>\n",
       "      <td>2023-08-31 05:00:00</td>\n",
       "      <td>41.65</td>\n",
       "      <td>-87.6</td>\n",
       "      <td>14.5</td>\n",
       "      <td>0.0</td>\n",
       "    </tr>\n",
       "  </tbody>\n",
       "</table>\n",
       "</div>"
      ],
      "text/plain": [
       "            Timestamp  Latitude rounded  Longitude rounded  Temperature  \\\n",
       "0 2023-08-31 01:00:00             41.65              -87.6         16.1   \n",
       "1 2023-08-31 02:00:00             41.65              -87.6         15.8   \n",
       "2 2023-08-31 03:00:00             41.65              -87.6         15.6   \n",
       "3 2023-08-31 04:00:00             41.65              -87.6         15.2   \n",
       "4 2023-08-31 05:00:00             41.65              -87.6         14.5   \n",
       "\n",
       "  Rain in mm  \n",
       "0        0.0  \n",
       "1        0.0  \n",
       "2        0.0  \n",
       "3        0.0  \n",
       "4        0.0  "
      ]
     },
     "execution_count": 8,
     "metadata": {},
     "output_type": "execute_result"
    }
   ],
   "source": [
    "weather_list = []\n",
    "for i in range(len(data_grouped)):\n",
    "    #Initalise variables\n",
    "    latitude = data_grouped[\"Latitude rounded\"].iloc[i]\n",
    "    longitude = data_grouped[\"Longitude rounded\"].iloc[i]\n",
    "    location = Point(latitude, longitude)\n",
    "    timestamp_min = data_grouped[\"min\"].iloc[i]\n",
    "    timestamp_max = data_grouped[\"max\"].iloc[i]\n",
    "    \n",
    "    #Round min and max column to the next hour in order to extract the weather data correctly\n",
    "    timestamp_min_rounded = timestamp_min.replace(minute = 0, second = 0) \n",
    "    timestamp_max_rounded = timestamp_max.replace(minute = 0, second = 0)\n",
    "    \n",
    "    #Extract the weather data per location\n",
    "    weather = Hourly(location, timestamp_min_rounded, timestamp_max_rounded).fetch()\n",
    "\n",
    "    #Merge the extracted weather data with the fitting timestamps and locations\n",
    "    for j in range(len(weather)):\n",
    "       weather_list.append({\"Timestamp\": weather.index[j], \"Latitude rounded\": latitude, \"Longitude rounded\": longitude, \"Temperature\": weather[\"temp\"].iloc[j], \"Rain in mm\": weather[\"prcp\"].iloc[j]})\n",
    "\n",
    "#Covert the list to a DataFrame\n",
    "weather_data = pd.DataFrame(weather_list)\n",
    "weather_data.head()"
   ]
  },
  {
   "cell_type": "markdown",
   "id": "b7f29f4b",
   "metadata": {},
   "source": [
    "Because we don't get the rain data for all requested datapoints, we also delete rows with null values in our weather data. Due to the inner join, all rows with incomplete weather data will be excluded."
   ]
  },
  {
   "cell_type": "code",
   "execution_count": 9,
   "id": "af959b64",
   "metadata": {},
   "outputs": [
    {
     "name": "stdout",
     "output_type": "stream",
     "text": [
      "Timestamp                0\n",
      "Latitude rounded         0\n",
      "Longitude rounded        0\n",
      "Temperature              0\n",
      "Rain in mm           34260\n",
      "dtype: int64\n"
     ]
    }
   ],
   "source": [
    "print(weather_data.isnull().sum())\n",
    "weather_data = weather_data.dropna(axis=0)"
   ]
  },
  {
   "cell_type": "code",
   "execution_count": 10,
   "id": "95f673f12697bfe6",
   "metadata": {},
   "outputs": [],
   "source": [
    "#Now we prepare the merge of the weather data and the other data. For this we need to round our timestamps by the next hour because our weather data is given hourly\n",
    "data_cleaned[\"Trip End Timestamp Rounded\"] = data_cleaned[\"Trip End Timestamp\"].dt.floor(\"h\")\n"
   ]
  },
  {
   "cell_type": "code",
   "execution_count": 11,
   "id": "a84dfd98eb4e51ff",
   "metadata": {},
   "outputs": [],
   "source": [
    "#In the next step we can start with the merge\n",
    "data_merged = pd.merge(data_cleaned, weather_data, left_on=[\"Trip End Timestamp Rounded\", \"Latitude rounded\", \"Longitude rounded\"], right_on =[\"Timestamp\", \"Latitude rounded\", \"Longitude rounded\"], how = \"inner\")"
   ]
  },
  {
   "cell_type": "code",
   "execution_count": 12,
   "id": "94ae6dcb",
   "metadata": {},
   "outputs": [
    {
     "name": "stdout",
     "output_type": "stream",
     "text": [
      "Null-Werte:  Trip End Timestamp            0\n",
      "Trip Seconds                  0\n",
      "Trip Miles                    0\n",
      "Tip                           0\n",
      "Shared Trip Authorized        0\n",
      "Shared Trip Match             0\n",
      "Dropoff Centroid Latitude     0\n",
      "Dropoff Centroid Longitude    0\n",
      "Cost                          0\n",
      "Latitude rounded              0\n",
      "Longitude rounded             0\n",
      "Trip End Timestamp Rounded    0\n",
      "Timestamp                     0\n",
      "Temperature                   0\n",
      "Rain in mm                    0\n",
      "dtype: int64\n"
     ]
    }
   ],
   "source": [
    "# Now we check again if we introduced any null values with our weather data or during the merge\n",
    "print('Null-Werte: ', data_merged.isnull().sum())\n"
   ]
  },
  {
   "cell_type": "code",
   "execution_count": 13,
   "id": "d2d93ac35cb9b957",
   "metadata": {},
   "outputs": [
    {
     "data": {
      "text/html": [
       "<div>\n",
       "<style scoped>\n",
       "    .dataframe tbody tr th:only-of-type {\n",
       "        vertical-align: middle;\n",
       "    }\n",
       "\n",
       "    .dataframe tbody tr th {\n",
       "        vertical-align: top;\n",
       "    }\n",
       "\n",
       "    .dataframe thead th {\n",
       "        text-align: right;\n",
       "    }\n",
       "</style>\n",
       "<table border=\"1\" class=\"dataframe\">\n",
       "  <thead>\n",
       "    <tr style=\"text-align: right;\">\n",
       "      <th></th>\n",
       "      <th>Trip End Timestamp</th>\n",
       "      <th>Trip Seconds</th>\n",
       "      <th>Trip Miles</th>\n",
       "      <th>Tip</th>\n",
       "      <th>Shared Trip Authorized</th>\n",
       "      <th>Shared Trip Match</th>\n",
       "      <th>Cost</th>\n",
       "      <th>Temperature</th>\n",
       "      <th>Rain in mm</th>\n",
       "    </tr>\n",
       "  </thead>\n",
       "  <tbody>\n",
       "    <tr>\n",
       "      <th>0</th>\n",
       "      <td>2023-09-19 19:15:00</td>\n",
       "      <td>3109.0</td>\n",
       "      <td>23.5</td>\n",
       "      <td>0.0</td>\n",
       "      <td>False</td>\n",
       "      <td>False</td>\n",
       "      <td>40.70</td>\n",
       "      <td>16.7</td>\n",
       "      <td>0.3</td>\n",
       "    </tr>\n",
       "    <tr>\n",
       "      <th>1</th>\n",
       "      <td>2023-09-28 12:45:00</td>\n",
       "      <td>1640.0</td>\n",
       "      <td>14.7</td>\n",
       "      <td>0.0</td>\n",
       "      <td>False</td>\n",
       "      <td>False</td>\n",
       "      <td>38.74</td>\n",
       "      <td>18.9</td>\n",
       "      <td>0.0</td>\n",
       "    </tr>\n",
       "    <tr>\n",
       "      <th>2</th>\n",
       "      <td>2023-09-03 17:30:00</td>\n",
       "      <td>772.0</td>\n",
       "      <td>1.9</td>\n",
       "      <td>0.0</td>\n",
       "      <td>False</td>\n",
       "      <td>False</td>\n",
       "      <td>22.39</td>\n",
       "      <td>31.1</td>\n",
       "      <td>0.0</td>\n",
       "    </tr>\n",
       "    <tr>\n",
       "      <th>3</th>\n",
       "      <td>2023-09-13 15:30:00</td>\n",
       "      <td>452.0</td>\n",
       "      <td>1.1</td>\n",
       "      <td>0.0</td>\n",
       "      <td>False</td>\n",
       "      <td>False</td>\n",
       "      <td>14.07</td>\n",
       "      <td>17.8</td>\n",
       "      <td>0.0</td>\n",
       "    </tr>\n",
       "    <tr>\n",
       "      <th>4</th>\n",
       "      <td>2023-09-16 13:00:00</td>\n",
       "      <td>819.0</td>\n",
       "      <td>3.9</td>\n",
       "      <td>0.0</td>\n",
       "      <td>False</td>\n",
       "      <td>False</td>\n",
       "      <td>12.89</td>\n",
       "      <td>16.1</td>\n",
       "      <td>0.0</td>\n",
       "    </tr>\n",
       "  </tbody>\n",
       "</table>\n",
       "</div>"
      ],
      "text/plain": [
       "   Trip End Timestamp  Trip Seconds  Trip Miles  Tip Shared Trip Authorized  \\\n",
       "0 2023-09-19 19:15:00        3109.0        23.5  0.0                  False   \n",
       "1 2023-09-28 12:45:00        1640.0        14.7  0.0                  False   \n",
       "2 2023-09-03 17:30:00         772.0         1.9  0.0                  False   \n",
       "3 2023-09-13 15:30:00         452.0         1.1  0.0                  False   \n",
       "4 2023-09-16 13:00:00         819.0         3.9  0.0                  False   \n",
       "\n",
       "  Shared Trip Match   Cost  Temperature Rain in mm  \n",
       "0             False  40.70         16.7        0.3  \n",
       "1             False  38.74         18.9        0.0  \n",
       "2             False  22.39         31.1        0.0  \n",
       "3             False  14.07         17.8        0.0  \n",
       "4             False  12.89         16.1        0.0  "
      ]
     },
     "execution_count": 13,
     "metadata": {},
     "output_type": "execute_result"
    }
   ],
   "source": [
    "#After that we can drop all the columns we just needed to merge our data\n",
    "data_merged = data_merged.drop(columns = [\"Dropoff Centroid Latitude\", \"Dropoff Centroid Longitude\", \"Latitude rounded\", \"Longitude rounded\", \"Timestamp\" ,\"Trip End Timestamp Rounded\"])\n",
    "data_merged.head()"
   ]
  },
  {
   "cell_type": "code",
   "execution_count": 14,
   "id": "c0708826312343ed",
   "metadata": {},
   "outputs": [],
   "source": [
    "#We see that the column 'Rain in mm' is from datatype object but we need a numeric datatype, so we need to transform this column to the right datatype\n",
    "data_merged['Rain in mm'] = pd.to_numeric(data_merged['Rain in mm'], errors='coerce')"
   ]
  },
  {
   "cell_type": "markdown",
   "id": "6292de49063ad3e9",
   "metadata": {},
   "source": [
    "<h4 style=\"text-decoration: underline;\">2.3 Creation of dummy variables</h4>\n",
    "To perform or regression later on we need to transfer the 'Shared Trip Authorized', 'Shared Trip Match' and 'Trip End Timestamp' column to numeric datatype. For this we make use of dummy variable where 1 stands for true and 0 stands for false for the Shared Trip variables. In addition we need to create dummy variables for the time of day because the tip won't change depending on the exact time but just depending on if it's morning/day/night."
   ]
  },
  {
   "cell_type": "code",
   "execution_count": 15,
   "id": "9d11db014a286ddc",
   "metadata": {},
   "outputs": [
    {
     "data": {
      "text/html": [
       "<div>\n",
       "<style scoped>\n",
       "    .dataframe tbody tr th:only-of-type {\n",
       "        vertical-align: middle;\n",
       "    }\n",
       "\n",
       "    .dataframe tbody tr th {\n",
       "        vertical-align: top;\n",
       "    }\n",
       "\n",
       "    .dataframe thead th {\n",
       "        text-align: right;\n",
       "    }\n",
       "</style>\n",
       "<table border=\"1\" class=\"dataframe\">\n",
       "  <thead>\n",
       "    <tr style=\"text-align: right;\">\n",
       "      <th></th>\n",
       "      <th>Trip End Timestamp</th>\n",
       "      <th>Trip Seconds</th>\n",
       "      <th>Trip Miles</th>\n",
       "      <th>Tip</th>\n",
       "      <th>Shared Trip Authorized</th>\n",
       "      <th>Shared Trip Match</th>\n",
       "      <th>Cost</th>\n",
       "      <th>Temperature</th>\n",
       "      <th>Rain in mm</th>\n",
       "    </tr>\n",
       "  </thead>\n",
       "  <tbody>\n",
       "    <tr>\n",
       "      <th>0</th>\n",
       "      <td>2023-09-19 19:15:00</td>\n",
       "      <td>3109.0</td>\n",
       "      <td>23.5</td>\n",
       "      <td>0.0</td>\n",
       "      <td>0</td>\n",
       "      <td>0</td>\n",
       "      <td>40.70</td>\n",
       "      <td>16.7</td>\n",
       "      <td>0.3</td>\n",
       "    </tr>\n",
       "    <tr>\n",
       "      <th>1</th>\n",
       "      <td>2023-09-28 12:45:00</td>\n",
       "      <td>1640.0</td>\n",
       "      <td>14.7</td>\n",
       "      <td>0.0</td>\n",
       "      <td>0</td>\n",
       "      <td>0</td>\n",
       "      <td>38.74</td>\n",
       "      <td>18.9</td>\n",
       "      <td>0.0</td>\n",
       "    </tr>\n",
       "    <tr>\n",
       "      <th>2</th>\n",
       "      <td>2023-09-03 17:30:00</td>\n",
       "      <td>772.0</td>\n",
       "      <td>1.9</td>\n",
       "      <td>0.0</td>\n",
       "      <td>0</td>\n",
       "      <td>0</td>\n",
       "      <td>22.39</td>\n",
       "      <td>31.1</td>\n",
       "      <td>0.0</td>\n",
       "    </tr>\n",
       "    <tr>\n",
       "      <th>3</th>\n",
       "      <td>2023-09-13 15:30:00</td>\n",
       "      <td>452.0</td>\n",
       "      <td>1.1</td>\n",
       "      <td>0.0</td>\n",
       "      <td>0</td>\n",
       "      <td>0</td>\n",
       "      <td>14.07</td>\n",
       "      <td>17.8</td>\n",
       "      <td>0.0</td>\n",
       "    </tr>\n",
       "    <tr>\n",
       "      <th>4</th>\n",
       "      <td>2023-09-16 13:00:00</td>\n",
       "      <td>819.0</td>\n",
       "      <td>3.9</td>\n",
       "      <td>0.0</td>\n",
       "      <td>0</td>\n",
       "      <td>0</td>\n",
       "      <td>12.89</td>\n",
       "      <td>16.1</td>\n",
       "      <td>0.0</td>\n",
       "    </tr>\n",
       "  </tbody>\n",
       "</table>\n",
       "</div>"
      ],
      "text/plain": [
       "   Trip End Timestamp  Trip Seconds  Trip Miles  Tip  Shared Trip Authorized  \\\n",
       "0 2023-09-19 19:15:00        3109.0        23.5  0.0                       0   \n",
       "1 2023-09-28 12:45:00        1640.0        14.7  0.0                       0   \n",
       "2 2023-09-03 17:30:00         772.0         1.9  0.0                       0   \n",
       "3 2023-09-13 15:30:00         452.0         1.1  0.0                       0   \n",
       "4 2023-09-16 13:00:00         819.0         3.9  0.0                       0   \n",
       "\n",
       "   Shared Trip Match   Cost  Temperature  Rain in mm  \n",
       "0                  0  40.70         16.7         0.3  \n",
       "1                  0  38.74         18.9         0.0  \n",
       "2                  0  22.39         31.1         0.0  \n",
       "3                  0  14.07         17.8         0.0  \n",
       "4                  0  12.89         16.1         0.0  "
      ]
     },
     "execution_count": 15,
     "metadata": {},
     "output_type": "execute_result"
    }
   ],
   "source": [
    "#Create dummy variable for 'Shared Trip Authorized' and 'Shared Trip Match' (1 = True and 0 = False)\n",
    "data_merged[\"Shared Trip Authorized\"] = data_merged[\"Shared Trip Authorized\"].astype(int)\n",
    "data_merged[\"Shared Trip Match\"] = data_merged[\"Shared Trip Match\"].astype(int)\n",
    "data_merged.head()\n"
   ]
  },
  {
   "cell_type": "code",
   "execution_count": 16,
   "id": "fa41d72f",
   "metadata": {},
   "outputs": [
    {
     "data": {
      "text/html": [
       "<div>\n",
       "<style scoped>\n",
       "    .dataframe tbody tr th:only-of-type {\n",
       "        vertical-align: middle;\n",
       "    }\n",
       "\n",
       "    .dataframe tbody tr th {\n",
       "        vertical-align: top;\n",
       "    }\n",
       "\n",
       "    .dataframe thead th {\n",
       "        text-align: right;\n",
       "    }\n",
       "</style>\n",
       "<table border=\"1\" class=\"dataframe\">\n",
       "  <thead>\n",
       "    <tr style=\"text-align: right;\">\n",
       "      <th></th>\n",
       "      <th>Trip Seconds</th>\n",
       "      <th>Trip Miles</th>\n",
       "      <th>Tip</th>\n",
       "      <th>Shared Trip Authorized</th>\n",
       "      <th>Shared Trip Match</th>\n",
       "      <th>Cost</th>\n",
       "      <th>Temperature</th>\n",
       "      <th>Rain in mm</th>\n",
       "      <th>Night</th>\n",
       "      <th>Day</th>\n",
       "      <th>Evening</th>\n",
       "    </tr>\n",
       "  </thead>\n",
       "  <tbody>\n",
       "    <tr>\n",
       "      <th>0</th>\n",
       "      <td>3109.0</td>\n",
       "      <td>23.5</td>\n",
       "      <td>0.0</td>\n",
       "      <td>0</td>\n",
       "      <td>0</td>\n",
       "      <td>40.70</td>\n",
       "      <td>16.7</td>\n",
       "      <td>0.3</td>\n",
       "      <td>0</td>\n",
       "      <td>0</td>\n",
       "      <td>1</td>\n",
       "    </tr>\n",
       "    <tr>\n",
       "      <th>1</th>\n",
       "      <td>1640.0</td>\n",
       "      <td>14.7</td>\n",
       "      <td>0.0</td>\n",
       "      <td>0</td>\n",
       "      <td>0</td>\n",
       "      <td>38.74</td>\n",
       "      <td>18.9</td>\n",
       "      <td>0.0</td>\n",
       "      <td>0</td>\n",
       "      <td>1</td>\n",
       "      <td>0</td>\n",
       "    </tr>\n",
       "    <tr>\n",
       "      <th>2</th>\n",
       "      <td>772.0</td>\n",
       "      <td>1.9</td>\n",
       "      <td>0.0</td>\n",
       "      <td>0</td>\n",
       "      <td>0</td>\n",
       "      <td>22.39</td>\n",
       "      <td>31.1</td>\n",
       "      <td>0.0</td>\n",
       "      <td>0</td>\n",
       "      <td>1</td>\n",
       "      <td>0</td>\n",
       "    </tr>\n",
       "    <tr>\n",
       "      <th>3</th>\n",
       "      <td>452.0</td>\n",
       "      <td>1.1</td>\n",
       "      <td>0.0</td>\n",
       "      <td>0</td>\n",
       "      <td>0</td>\n",
       "      <td>14.07</td>\n",
       "      <td>17.8</td>\n",
       "      <td>0.0</td>\n",
       "      <td>0</td>\n",
       "      <td>1</td>\n",
       "      <td>0</td>\n",
       "    </tr>\n",
       "    <tr>\n",
       "      <th>4</th>\n",
       "      <td>819.0</td>\n",
       "      <td>3.9</td>\n",
       "      <td>0.0</td>\n",
       "      <td>0</td>\n",
       "      <td>0</td>\n",
       "      <td>12.89</td>\n",
       "      <td>16.1</td>\n",
       "      <td>0.0</td>\n",
       "      <td>0</td>\n",
       "      <td>1</td>\n",
       "      <td>0</td>\n",
       "    </tr>\n",
       "  </tbody>\n",
       "</table>\n",
       "</div>"
      ],
      "text/plain": [
       "   Trip Seconds  Trip Miles  Tip  Shared Trip Authorized  Shared Trip Match  \\\n",
       "0        3109.0        23.5  0.0                       0                  0   \n",
       "1        1640.0        14.7  0.0                       0                  0   \n",
       "2         772.0         1.9  0.0                       0                  0   \n",
       "3         452.0         1.1  0.0                       0                  0   \n",
       "4         819.0         3.9  0.0                       0                  0   \n",
       "\n",
       "    Cost  Temperature  Rain in mm  Night  Day  Evening  \n",
       "0  40.70         16.7         0.3      0    0        1  \n",
       "1  38.74         18.9         0.0      0    1        0  \n",
       "2  22.39         31.1         0.0      0    1        0  \n",
       "3  14.07         17.8         0.0      0    1        0  \n",
       "4  12.89         16.1         0.0      0    1        0  "
      ]
     },
     "execution_count": 16,
     "metadata": {},
     "output_type": "execute_result"
    }
   ],
   "source": [
    "#Create dummy variables for the Trip End Timestamp: 22:00-6:00 for night, 6:00-18:00 for day and 18:00-22:00 for evening\n",
    "data_merged[\"Trip End Hour\"] = data_merged[\"Trip End Timestamp\"].dt.hour\n",
    "data_merged[\"Night\"] = np.where((data_merged[\"Trip End Hour\"] >= 22) | (data_merged[\"Trip End Hour\"] < 6), 1, 0)\n",
    "data_merged[\"Day\"] = np.where((data_merged[\"Trip End Hour\"] >= 6) & (data_merged[\"Trip End Hour\"] < 18), 1, 0)\n",
    "data_merged[\"Evening\"] = np.where((data_merged[\"Trip End Hour\"] >= 18) & (data_merged[\"Trip End Hour\"] < 22), 1, 0)\n",
    "#Drop the Trip End Hour & Trip End Timestamp column as we don't need them anymore\n",
    "data_merged = data_merged.drop(columns=[\"Trip End Hour\", \"Trip End Timestamp\"])\n",
    "\n",
    "data_merged.head()"
   ]
  },
  {
   "cell_type": "code",
   "execution_count": 17,
   "id": "2bf622b9",
   "metadata": {},
   "outputs": [],
   "source": [
    "#Switching the columns so that all dummy variables will be after all numeric variables\n",
    "data_merged = data_merged[['Tip', 'Trip Seconds', 'Trip Miles', 'Cost', 'Temperature', 'Rain in mm', 'Shared Trip Authorized', 'Shared Trip Match', 'Day', 'Evening', 'Night']]"
   ]
  },
  {
   "cell_type": "markdown",
   "id": "9c6c28864e3a57b2",
   "metadata": {},
   "source": [
    "<h4 style=\"text-decoration: underline;\">2.4 Dealing with outliers</h4>\n",
    "Outliers are often caused by errors in data collection. Therefore it is important to identify and remove them as they can distort the performance of predictive models by representing values that do not reflect typical or real-world scenarios. In the following we attempted to remove outliers using the standard deviation method. However, it must be acknowledged that we cannot say with complete certainty whether each detected outlier represents a data collection error or simply reflects rare but valid cases—since we did not collect the data ourselves. Nevertheless this approach helps us prepare the dataset as effectively as possible for building robust predictive models\n",
    " "
   ]
  },
  {
   "cell_type": "code",
   "execution_count": 18,
   "id": "eaa5794063011b33",
   "metadata": {},
   "outputs": [
    {
     "name": "stdout",
     "output_type": "stream",
     "text": [
      "Deleted 1942821 outliers\n"
     ]
    }
   ],
   "source": [
    "\n",
    "#We don't need to deal with outliers on the columns with dummy variables because there can't be outliers if we just have the values 0 or 1\n",
    "data_merged_without_tip = data_merged.drop(columns = [\"Shared Trip Authorized\", \"Shared Trip Match\", \"Night\", \"Day\", \"Evening\"])\n",
    "for columns in data_merged_without_tip.columns:\n",
    "    #Calculate mean and standard deviation of the current column\n",
    "    mean = data_merged_without_tip[columns].mean()\n",
    "    std = data_merged_without_tip[columns].std()\n",
    "    \n",
    "    #Calculate upper and lower limit\n",
    "    upperlimit = mean + 3 * std\n",
    "    lowerlimit = mean - 3 * std\n",
    "\n",
    "    #Replace all outliers with null values so we can remove them later\n",
    "    data_merged.loc[(data_merged[columns] > upperlimit) | (data_merged[columns] < lowerlimit), columns] = np.nan\n",
    "\n",
    "#Remove all null values (delete all outliers)    \n",
    "data_without_outliers = data_merged.dropna(axis = 0)\n",
    "print(f\"Deleted {len(data_merged) - len(data_without_outliers)} outliers\")\n"
   ]
  },
  {
   "cell_type": "markdown",
   "id": "21e10fae",
   "metadata": {},
   "source": [
    "<h4 style=\"text-decoration: underline;\">2.5 Saving the data</h4>\n",
    "We will save the preperated data here, so that we can continue working with it, without having to rerun all the code above every time we start.\n"
   ]
  },
  {
   "cell_type": "code",
   "execution_count": 19,
   "id": "7bf3b4f2",
   "metadata": {},
   "outputs": [],
   "source": [
    "data_without_outliers.to_csv('Data/Chicago_RideHailing_Data_Cleaned.csv', index=False)"
   ]
  },
  {
   "cell_type": "markdown",
   "id": "a4010aeb95861dbd",
   "metadata": {},
   "source": [
    "<h4 style=\"text-decoration: underline;\">3. Data Modeling</h4>\n",
    "If you have already saved the data you only have to do the imports again and can use this shortcut to save some runtime."
   ]
  },
  {
   "cell_type": "code",
   "execution_count": 20,
   "id": "30556712",
   "metadata": {
    "ExecuteTime": {
     "end_time": "2025-07-14T13:15:54.166918Z",
     "start_time": "2025-07-14T13:15:38.023992Z"
    }
   },
   "outputs": [
    {
     "data": {
      "text/html": [
       "<div>\n",
       "<style scoped>\n",
       "    .dataframe tbody tr th:only-of-type {\n",
       "        vertical-align: middle;\n",
       "    }\n",
       "\n",
       "    .dataframe tbody tr th {\n",
       "        vertical-align: top;\n",
       "    }\n",
       "\n",
       "    .dataframe thead th {\n",
       "        text-align: right;\n",
       "    }\n",
       "</style>\n",
       "<table border=\"1\" class=\"dataframe\">\n",
       "  <thead>\n",
       "    <tr style=\"text-align: right;\">\n",
       "      <th></th>\n",
       "      <th>Tip</th>\n",
       "      <th>Trip Seconds</th>\n",
       "      <th>Trip Miles</th>\n",
       "      <th>Cost</th>\n",
       "      <th>Temperature</th>\n",
       "      <th>Rain in mm</th>\n",
       "      <th>Shared Trip Authorized</th>\n",
       "      <th>Shared Trip Match</th>\n",
       "      <th>Day</th>\n",
       "      <th>Evening</th>\n",
       "      <th>Night</th>\n",
       "    </tr>\n",
       "  </thead>\n",
       "  <tbody>\n",
       "    <tr>\n",
       "      <th>0</th>\n",
       "      <td>0.0</td>\n",
       "      <td>3109.0</td>\n",
       "      <td>23.5</td>\n",
       "      <td>40.70</td>\n",
       "      <td>16.7</td>\n",
       "      <td>0.3</td>\n",
       "      <td>0</td>\n",
       "      <td>0</td>\n",
       "      <td>0</td>\n",
       "      <td>1</td>\n",
       "      <td>0</td>\n",
       "    </tr>\n",
       "    <tr>\n",
       "      <th>1</th>\n",
       "      <td>0.0</td>\n",
       "      <td>1640.0</td>\n",
       "      <td>14.7</td>\n",
       "      <td>38.74</td>\n",
       "      <td>18.9</td>\n",
       "      <td>0.0</td>\n",
       "      <td>0</td>\n",
       "      <td>0</td>\n",
       "      <td>1</td>\n",
       "      <td>0</td>\n",
       "      <td>0</td>\n",
       "    </tr>\n",
       "    <tr>\n",
       "      <th>2</th>\n",
       "      <td>0.0</td>\n",
       "      <td>772.0</td>\n",
       "      <td>1.9</td>\n",
       "      <td>22.39</td>\n",
       "      <td>31.1</td>\n",
       "      <td>0.0</td>\n",
       "      <td>0</td>\n",
       "      <td>0</td>\n",
       "      <td>1</td>\n",
       "      <td>0</td>\n",
       "      <td>0</td>\n",
       "    </tr>\n",
       "    <tr>\n",
       "      <th>3</th>\n",
       "      <td>0.0</td>\n",
       "      <td>452.0</td>\n",
       "      <td>1.1</td>\n",
       "      <td>14.07</td>\n",
       "      <td>17.8</td>\n",
       "      <td>0.0</td>\n",
       "      <td>0</td>\n",
       "      <td>0</td>\n",
       "      <td>1</td>\n",
       "      <td>0</td>\n",
       "      <td>0</td>\n",
       "    </tr>\n",
       "    <tr>\n",
       "      <th>4</th>\n",
       "      <td>0.0</td>\n",
       "      <td>819.0</td>\n",
       "      <td>3.9</td>\n",
       "      <td>12.89</td>\n",
       "      <td>16.1</td>\n",
       "      <td>0.0</td>\n",
       "      <td>0</td>\n",
       "      <td>0</td>\n",
       "      <td>1</td>\n",
       "      <td>0</td>\n",
       "      <td>0</td>\n",
       "    </tr>\n",
       "  </tbody>\n",
       "</table>\n",
       "</div>"
      ],
      "text/plain": [
       "   Tip  Trip Seconds  Trip Miles   Cost  Temperature  Rain in mm  \\\n",
       "0  0.0        3109.0        23.5  40.70         16.7         0.3   \n",
       "1  0.0        1640.0        14.7  38.74         18.9         0.0   \n",
       "2  0.0         772.0         1.9  22.39         31.1         0.0   \n",
       "3  0.0         452.0         1.1  14.07         17.8         0.0   \n",
       "4  0.0         819.0         3.9  12.89         16.1         0.0   \n",
       "\n",
       "   Shared Trip Authorized  Shared Trip Match  Day  Evening  Night  \n",
       "0                       0                  0    0        1      0  \n",
       "1                       0                  0    1        0      0  \n",
       "2                       0                  0    1        0      0  \n",
       "3                       0                  0    1        0      0  \n",
       "4                       0                  0    1        0      0  "
      ]
     },
     "execution_count": 20,
     "metadata": {},
     "output_type": "execute_result"
    }
   ],
   "source": [
    "data_without_outliers = pd.read_csv('Data/Chicago_RideHailing_Data_Cleaned.csv')\n",
    "data_without_outliers.head()"
   ]
  },
  {
   "cell_type": "markdown",
   "id": "c90765fe319b7467",
   "metadata": {},
   "source": [
    "<h4 style=\"text-decoration: underline;\">3.1 Train Test Validation Split</h4>\n",
    "First of all we need to split our data in train, test and validation data. The split of the testing data into two will only become relevant for our last model, but for a clearer structure we already create it here."
   ]
  },
  {
   "cell_type": "code",
   "execution_count": 21,
   "id": "982ea1825479e2d9",
   "metadata": {
    "ExecuteTime": {
     "end_time": "2025-07-14T13:16:08.355115Z",
     "start_time": "2025-07-14T13:15:54.261730Z"
    }
   },
   "outputs": [
    {
     "name": "stdout",
     "output_type": "stream",
     "text": [
      "Training Data: 15799259 Samples (70.0%)\n",
      "Testing Data: 3385556 Samples (15.0%)\n",
      "Validation Data: 3385556 Samples (15.0%)\n"
     ]
    }
   ],
   "source": [
    "#Define x and y vectors\n",
    "x = data_without_outliers.drop(columns = [\"Tip\"])\n",
    "y = data_without_outliers[\"Tip\"]\n",
    "\n",
    "#Perform train test validation split\n",
    "x_train_data, x_test_data, y_train_data, y_test_data = train_test_split(x, y, test_size = 0.3, random_state = 42)\n",
    "x_val_data, x_test_data, y_val_data, y_test_data = train_test_split(x_test_data, y_test_data, test_size = 0.5, random_state = 42)\n",
    "print(f\"Training Data: {len(x_train_data)} Samples ({len(x_train_data)/len(data_without_outliers)*100:.1f}%)\")\n",
    "print(f\"Testing Data: {len(x_test_data)} Samples ({len(x_test_data)/len(data_without_outliers)*100:.1f}%)\")\n",
    "print(f\"Validation Data: {len(x_val_data)} Samples ({len(x_val_data)/len(data_without_outliers)*100:.1f}%)\")"
   ]
  },
  {
   "cell_type": "code",
   "execution_count": 22,
   "id": "9e2af61d",
   "metadata": {
    "ExecuteTime": {
     "end_time": "2025-07-14T13:16:13.459222Z",
     "start_time": "2025-07-14T13:16:08.468005Z"
    }
   },
   "outputs": [
    {
     "name": "stdout",
     "output_type": "stream",
     "text": [
      "Training Model 1: 7899629 Samples (35.0%)\n",
      "Training Model 2: 7899630 Samples (35.0%)\n"
     ]
    }
   ],
   "source": [
    "#Because we want to train two diffrent models in the classification approach we need to create two different training datasets (only relevant for classification)\n",
    "\n",
    "x_train1_data, x_train2_data, y_train1_data, y_train2_data = train_test_split(x_train_data, y_train_data, test_size = 0.5, random_state = 42)\n",
    "print(f\"Training Model 1: {len(x_train1_data)} Samples ({len(x_train1_data)/len(data_without_outliers)*100:.1f}%)\")\n",
    "print(f\"Training Model 2: {len(x_train2_data)} Samples ({len(x_train2_data)/len(data_without_outliers)*100:.1f}%)\")"
   ]
  },
  {
   "cell_type": "markdown",
   "id": "f3ba2b2a",
   "metadata": {},
   "source": [
    "<h4 style=\"text-decoration: underline;\">3.2 Descriptive analyses Split</h4>\n",
    "Now we will look at key statistics about our data. We only use the training data for this, in order to rule out accidental data leakage."
   ]
  },
  {
   "cell_type": "code",
   "execution_count": 23,
   "id": "523acc14",
   "metadata": {
    "ExecuteTime": {
     "end_time": "2025-07-14T13:16:16.047021Z",
     "start_time": "2025-07-14T13:16:13.499342Z"
    }
   },
   "outputs": [
    {
     "data": {
      "text/html": [
       "<div>\n",
       "<style scoped>\n",
       "    .dataframe tbody tr th:only-of-type {\n",
       "        vertical-align: middle;\n",
       "    }\n",
       "\n",
       "    .dataframe tbody tr th {\n",
       "        vertical-align: top;\n",
       "    }\n",
       "\n",
       "    .dataframe thead th {\n",
       "        text-align: right;\n",
       "    }\n",
       "</style>\n",
       "<table border=\"1\" class=\"dataframe\">\n",
       "  <thead>\n",
       "    <tr style=\"text-align: right;\">\n",
       "      <th></th>\n",
       "      <th>Tip</th>\n",
       "      <th>Trip Seconds</th>\n",
       "      <th>Trip Miles</th>\n",
       "      <th>Cost</th>\n",
       "      <th>Temperature</th>\n",
       "      <th>Rain in mm</th>\n",
       "    </tr>\n",
       "  </thead>\n",
       "  <tbody>\n",
       "    <tr>\n",
       "      <th>Mean</th>\n",
       "      <td>0.896615</td>\n",
       "      <td>954.489991</td>\n",
       "      <td>5.204971</td>\n",
       "      <td>17.369892</td>\n",
       "      <td>9.465144</td>\n",
       "      <td>0.056963</td>\n",
       "    </tr>\n",
       "    <tr>\n",
       "      <th>Median</th>\n",
       "      <td>0.000000</td>\n",
       "      <td>807.000000</td>\n",
       "      <td>3.400000</td>\n",
       "      <td>14.730000</td>\n",
       "      <td>8.300000</td>\n",
       "      <td>0.000000</td>\n",
       "    </tr>\n",
       "    <tr>\n",
       "      <th>Standard Deviation</th>\n",
       "      <td>1.847086</td>\n",
       "      <td>599.242735</td>\n",
       "      <td>4.822431</td>\n",
       "      <td>9.890781</td>\n",
       "      <td>8.430306</td>\n",
       "      <td>0.191231</td>\n",
       "    </tr>\n",
       "    <tr>\n",
       "      <th>Min</th>\n",
       "      <td>0.000000</td>\n",
       "      <td>0.000000</td>\n",
       "      <td>0.000000</td>\n",
       "      <td>0.000000</td>\n",
       "      <td>-16.800000</td>\n",
       "      <td>0.000000</td>\n",
       "    </tr>\n",
       "    <tr>\n",
       "      <th>Max</th>\n",
       "      <td>9.000000</td>\n",
       "      <td>3322.000000</td>\n",
       "      <td>25.200000</td>\n",
       "      <td>60.310000</td>\n",
       "      <td>33.900000</td>\n",
       "      <td>1.400000</td>\n",
       "    </tr>\n",
       "    <tr>\n",
       "      <th>Range</th>\n",
       "      <td>9.000000</td>\n",
       "      <td>3322.000000</td>\n",
       "      <td>25.200000</td>\n",
       "      <td>60.310000</td>\n",
       "      <td>50.700000</td>\n",
       "      <td>1.400000</td>\n",
       "    </tr>\n",
       "  </tbody>\n",
       "</table>\n",
       "</div>"
      ],
      "text/plain": [
       "                         Tip  Trip Seconds  Trip Miles       Cost  \\\n",
       "Mean                0.896615    954.489991    5.204971  17.369892   \n",
       "Median              0.000000    807.000000    3.400000  14.730000   \n",
       "Standard Deviation  1.847086    599.242735    4.822431   9.890781   \n",
       "Min                 0.000000      0.000000    0.000000   0.000000   \n",
       "Max                 9.000000   3322.000000   25.200000  60.310000   \n",
       "Range               9.000000   3322.000000   25.200000  60.310000   \n",
       "\n",
       "                    Temperature  Rain in mm  \n",
       "Mean                   9.465144    0.056963  \n",
       "Median                 8.300000    0.000000  \n",
       "Standard Deviation     8.430306    0.191231  \n",
       "Min                  -16.800000    0.000000  \n",
       "Max                   33.900000    1.400000  \n",
       "Range                 50.700000    1.400000  "
      ]
     },
     "execution_count": 23,
     "metadata": {},
     "output_type": "execute_result"
    }
   ],
   "source": [
    "# Combine Tip from y_train_data and x_train_data.drop(columns=['Shared Trip Authorized', 'Shared Trip Match', 'Night', 'Day', 'Evening']) into one DataFrame\n",
    "df = pd.concat([y_train_data, x_train_data.drop(columns=['Shared Trip Authorized', 'Shared Trip Match', 'Night', 'Day', 'Evening'])], axis=1)\n",
    "df.head()\n",
    "\n",
    "\n",
    "stats = pd.DataFrame(index=['Mean', 'Median', 'Standard Deviation', 'Min', 'Max', 'Range'])\n",
    "for column in df.columns:\n",
    "    stats[column] = [\n",
    "        df[column].mean(),\n",
    "        df[column].median(),\n",
    "        df[column].std(),\n",
    "        df[column].min(),\n",
    "        df[column].max(),\n",
    "        df[column].max() - df[column].min()\n",
    "    ]\n",
    "\n",
    "\n",
    "stats.head(len(stats))"
   ]
  },
  {
   "cell_type": "code",
   "execution_count": 24,
   "id": "4b06422b",
   "metadata": {
    "ExecuteTime": {
     "end_time": "2025-07-14T13:16:16.907186Z",
     "start_time": "2025-07-14T13:16:16.092295Z"
    }
   },
   "outputs": [
    {
     "data": {
      "text/html": [
       "<div>\n",
       "<style scoped>\n",
       "    .dataframe tbody tr th:only-of-type {\n",
       "        vertical-align: middle;\n",
       "    }\n",
       "\n",
       "    .dataframe tbody tr th {\n",
       "        vertical-align: top;\n",
       "    }\n",
       "\n",
       "    .dataframe thead th {\n",
       "        text-align: right;\n",
       "    }\n",
       "</style>\n",
       "<table border=\"1\" class=\"dataframe\">\n",
       "  <thead>\n",
       "    <tr style=\"text-align: right;\">\n",
       "      <th></th>\n",
       "      <th>Shared Trip Authorized</th>\n",
       "      <th>Shared Trip Match</th>\n",
       "      <th>Night</th>\n",
       "      <th>Day</th>\n",
       "      <th>Evening</th>\n",
       "    </tr>\n",
       "  </thead>\n",
       "  <tbody>\n",
       "    <tr>\n",
       "      <th>0</th>\n",
       "      <td>0.944513</td>\n",
       "      <td>0.976611</td>\n",
       "      <td>0.783063</td>\n",
       "      <td>0.471377</td>\n",
       "      <td>0.74556</td>\n",
       "    </tr>\n",
       "    <tr>\n",
       "      <th>1</th>\n",
       "      <td>0.055487</td>\n",
       "      <td>0.023389</td>\n",
       "      <td>0.216937</td>\n",
       "      <td>0.528623</td>\n",
       "      <td>0.25444</td>\n",
       "    </tr>\n",
       "  </tbody>\n",
       "</table>\n",
       "</div>"
      ],
      "text/plain": [
       "   Shared Trip Authorized  Shared Trip Match     Night       Day  Evening\n",
       "0                0.944513           0.976611  0.783063  0.471377  0.74556\n",
       "1                0.055487           0.023389  0.216937  0.528623  0.25444"
      ]
     },
     "execution_count": 24,
     "metadata": {},
     "output_type": "execute_result"
    }
   ],
   "source": [
    "# Now we create a table presenting the share of 1s for each dummy variable in the training data\n",
    "dummy_share = pd.DataFrame({\n",
    "    'Shared Trip Authorized': x_train_data['Shared Trip Authorized'].value_counts(normalize=True),\n",
    "    'Shared Trip Match': x_train_data['Shared Trip Match'].value_counts(normalize=True),\n",
    "    'Night': x_train_data['Night'].value_counts(normalize=True),\n",
    "    'Day': x_train_data['Day'].value_counts(normalize=True),\n",
    "    'Evening': x_train_data['Evening'].value_counts(normalize=True)\n",
    "})\n",
    "\n",
    "dummy_share.head(len(dummy_share))\n"
   ]
  },
  {
   "cell_type": "markdown",
   "id": "f0e6f7fdb19fb143",
   "metadata": {},
   "source": [
    "In the next step we plot the data to get an first overview on our predictors. For this we use the first 5000 values of each predictor because if we would use all value we cannot see any possible linear relationship because there would be too much data in one scatter plot. In addition it leads to a much shorter runtime. "
   ]
  },
  {
   "cell_type": "code",
   "execution_count": 25,
   "id": "e774fd7e0d771cb8",
   "metadata": {
    "ExecuteTime": {
     "end_time": "2025-07-14T13:16:19.260386Z",
     "start_time": "2025-07-14T13:16:16.978684Z"
    }
   },
   "outputs": [
    {
     "data": {
      "image/png": "[encoded data removed]",
      "text/plain": [
       "<Figure size 2100x600 with 4 Axes>"
      ]
     },
     "metadata": {},
     "output_type": "display_data"
    },
    {
     "data": {
      "image/png": "[encoded data removed]",
      "text/plain": [
       "<Figure size 2100x600 with 3 Axes>"
      ]
     },
     "metadata": {},
     "output_type": "display_data"
    },
    {
     "data": {
      "image/png": "[encoded data removed]",
      "text/plain": [
       "<Figure size 2100x600 with 3 Axes>"
      ]
     },
     "metadata": {},
     "output_type": "display_data"
    }
   ],
   "source": [
    "#Create Scatterplots for the first 4 predictors\n",
    "fig_1, axes_1 = plt.subplots(nrows = 1, ncols = 4, figsize= (21,6))\n",
    "fig_1.suptitle(\"Scatterplots of all predictors\", fontsize=26)\n",
    "for i, ax in enumerate(axes_1):\n",
    "    ax.scatter(x = x_train_data.iloc[:5000, i], y = y_train_data[:5000], color = f'C{i}')\n",
    "    ax.set_title(x_train_data.columns[i])\n",
    "plt.tight_layout()\n",
    "plt.show()\n",
    "\n",
    "\n",
    "\n",
    "\n",
    "\n",
    "#Create Scatterplots for predictor 5-7\n",
    "fig_2, axes_2 = plt.subplots(nrows = 1, ncols = 3, figsize= (21,6))\n",
    "for i, ax in enumerate(axes_2):\n",
    "    x_values = x_train_data.iloc[:5000, i + 4]\n",
    "    y_values = y_train_data[:5000]\n",
    "    \n",
    "    # Combine x and y values\n",
    "    points_df = pd.DataFrame({'x': x_values, 'y': y_values})\n",
    "    \n",
    "    # Count the frequency of each unique combination for visualizing it as the size of the points\n",
    "    point_counts = points_df.groupby(['x', 'y']).size().reset_index(name='count')\n",
    "    sizes = point_counts['count']\n",
    "    \n",
    "    ax.scatter(x = point_counts['x'], y = point_counts['y'], \n",
    "               s = sizes, color = f'C{i + 4}')\n",
    "    ax.set_title(x_train_data.columns[i + 4])\n",
    "plt.tight_layout()\n",
    "plt.show()\n",
    "\n",
    "\n",
    "\n",
    "\n",
    "\n",
    "#Create Scatterplots for predictor 8-10\n",
    "fig_3, axes_3 = plt.subplots(nrows = 1, ncols = 3, figsize= (21,6))\n",
    "for i, ax in enumerate(axes_3):\n",
    "    x_values = x_train_data.iloc[:5000, i + 7]\n",
    "    y_values = y_train_data[:5000]\n",
    "    \n",
    "    # Combine x and y values\n",
    "    points_df = pd.DataFrame({'x': x_values, 'y': y_values})\n",
    "    \n",
    "    # Count the frequency of each unique combination for visualizing it as the size of the points\n",
    "    point_counts = points_df.groupby(['x', 'y']).size().reset_index(name='count')\n",
    "    sizes = point_counts['count']\n",
    "    \n",
    "    ax.scatter(x = point_counts['x'], y = point_counts['y'], \n",
    "               s = sizes, color = f'C{i + 7}')\n",
    "    ax.set_title(x_train_data.columns[i + 7])\n",
    "plt.tight_layout()\n",
    "plt.show()"
   ]
  },
  {
   "cell_type": "markdown",
   "id": "89a560e5dc95786d",
   "metadata": {},
   "source": [
    "<h4 style=\"text-decoration: underline;\">3.3 Data normalization</h4>\n",
    "After plotting the data we get some interesting information. It looks like there are a lot of linear correlations for example between the costs and the tip. Moreover it is noticeable that the predictors are on diffrent scales so we need to normalize them to get meaningful result in our regression later on. For the normalization we make use of the python libary StandartScaler which uses the following formula:\n",
    "\n",
    "$$z = \\frac{x - \\mu}{\\sigma}$$"
   ]
  },
  {
   "cell_type": "code",
   "execution_count": 26,
   "id": "227744ba4d1020f4",
   "metadata": {
    "ExecuteTime": {
     "end_time": "2025-07-14T13:16:24.847342Z",
     "start_time": "2025-07-14T13:16:19.291426Z"
    }
   },
   "outputs": [
    {
     "data": {
      "text/html": [
       "<div>\n",
       "<style scoped>\n",
       "    .dataframe tbody tr th:only-of-type {\n",
       "        vertical-align: middle;\n",
       "    }\n",
       "\n",
       "    .dataframe tbody tr th {\n",
       "        vertical-align: top;\n",
       "    }\n",
       "\n",
       "    .dataframe thead th {\n",
       "        text-align: right;\n",
       "    }\n",
       "</style>\n",
       "<table border=\"1\" class=\"dataframe\">\n",
       "  <thead>\n",
       "    <tr style=\"text-align: right;\">\n",
       "      <th></th>\n",
       "      <th>Trip Seconds</th>\n",
       "      <th>Trip Miles</th>\n",
       "      <th>Cost</th>\n",
       "      <th>Temperature</th>\n",
       "      <th>Rain in mm</th>\n",
       "      <th>Shared Trip Authorized</th>\n",
       "      <th>Shared Trip Match</th>\n",
       "      <th>Day</th>\n",
       "      <th>Evening</th>\n",
       "      <th>Night</th>\n",
       "    </tr>\n",
       "  </thead>\n",
       "  <tbody>\n",
       "    <tr>\n",
       "      <th>18609610</th>\n",
       "      <td>-0.885267</td>\n",
       "      <td>-0.934170</td>\n",
       "      <td>-0.620769</td>\n",
       "      <td>-0.861789</td>\n",
       "      <td>-0.297878</td>\n",
       "      <td>0</td>\n",
       "      <td>0</td>\n",
       "      <td>0</td>\n",
       "      <td>1</td>\n",
       "      <td>0</td>\n",
       "    </tr>\n",
       "    <tr>\n",
       "      <th>3038906</th>\n",
       "      <td>-0.302866</td>\n",
       "      <td>0.144124</td>\n",
       "      <td>0.137513</td>\n",
       "      <td>0.454889</td>\n",
       "      <td>2.316759</td>\n",
       "      <td>0</td>\n",
       "      <td>0</td>\n",
       "      <td>1</td>\n",
       "      <td>0</td>\n",
       "      <td>0</td>\n",
       "    </tr>\n",
       "    <tr>\n",
       "      <th>1776016</th>\n",
       "      <td>3.146488</td>\n",
       "      <td>1.616411</td>\n",
       "      <td>0.895795</td>\n",
       "      <td>0.727714</td>\n",
       "      <td>-0.297878</td>\n",
       "      <td>0</td>\n",
       "      <td>0</td>\n",
       "      <td>1</td>\n",
       "      <td>0</td>\n",
       "      <td>0</td>\n",
       "    </tr>\n",
       "    <tr>\n",
       "      <th>20666763</th>\n",
       "      <td>-0.983725</td>\n",
       "      <td>-0.934170</td>\n",
       "      <td>0.738072</td>\n",
       "      <td>0.585371</td>\n",
       "      <td>-0.297878</td>\n",
       "      <td>0</td>\n",
       "      <td>0</td>\n",
       "      <td>0</td>\n",
       "      <td>1</td>\n",
       "      <td>0</td>\n",
       "    </tr>\n",
       "    <tr>\n",
       "      <th>17720601</th>\n",
       "      <td>1.067197</td>\n",
       "      <td>2.902070</td>\n",
       "      <td>1.719794</td>\n",
       "      <td>-0.861789</td>\n",
       "      <td>-0.297878</td>\n",
       "      <td>0</td>\n",
       "      <td>0</td>\n",
       "      <td>0</td>\n",
       "      <td>1</td>\n",
       "      <td>0</td>\n",
       "    </tr>\n",
       "  </tbody>\n",
       "</table>\n",
       "</div>"
      ],
      "text/plain": [
       "          Trip Seconds  Trip Miles      Cost  Temperature  Rain in mm  \\\n",
       "18609610     -0.885267   -0.934170 -0.620769    -0.861789   -0.297878   \n",
       "3038906      -0.302866    0.144124  0.137513     0.454889    2.316759   \n",
       "1776016       3.146488    1.616411  0.895795     0.727714   -0.297878   \n",
       "20666763     -0.983725   -0.934170  0.738072     0.585371   -0.297878   \n",
       "17720601      1.067197    2.902070  1.719794    -0.861789   -0.297878   \n",
       "\n",
       "          Shared Trip Authorized  Shared Trip Match  Day  Evening  Night  \n",
       "18609610                       0                  0    0        1      0  \n",
       "3038906                        0                  0    1        0      0  \n",
       "1776016                        0                  0    1        0      0  \n",
       "20666763                       0                  0    0        1      0  \n",
       "17720601                       0                  0    0        1      0  "
      ]
     },
     "execution_count": 26,
     "metadata": {},
     "output_type": "execute_result"
    }
   ],
   "source": [
    "#Select which Data to normalize (no Dummy Variables)\n",
    "columns_to_normalize = [\"Trip Seconds\", \"Trip Miles\", \"Cost\", \"Temperature\", \"Rain in mm\"]\n",
    "\n",
    "\n",
    "x_train_data_scaled = x_train_data.copy()\n",
    "x_val_data_scaled = x_val_data.copy()\n",
    "x_test_data_scaled = x_test_data.copy()\n",
    "\n",
    "\n",
    "#Normalize data\n",
    "scaler = StandardScaler()\n",
    "x_train_data_scaled[columns_to_normalize] = scaler.fit_transform(x_train_data[columns_to_normalize])\n",
    "#Now just use transform to avoid recalculating mean and standard deviation\n",
    "x_val_data_scaled[columns_to_normalize] = scaler.transform(x_val_data[columns_to_normalize])\n",
    "x_test_data_scaled[columns_to_normalize] = scaler.transform(x_test_data[columns_to_normalize])\n",
    "\n",
    "x_train_data_scaled.head()\n"
   ]
  },
  {
   "cell_type": "markdown",
   "id": "f5d74f7440394679",
   "metadata": {},
   "source": [
    "<h4 style=\"text-decoration: underline;\">3.4 Linear Regression</h4>\n",
    "\n",
    "After finishing the data preperation and completing our descripive task we now want to start with our predictive models. First of all we want to create an simple linear regression because we have seen a few linear relationships between our predictors and the tip in the descriptive task above. An linear regression is a good first attemp to create good understandable machine learning models because it is easy to implement and to interpret. Espacially in approximatiely lineare realtionships (as we have seen in our scatter plots before) this model is really robust and gives us good predictions. But in complex problems (where the realationships are not linear) this easy approach could be too simple and is not usable in order to represent reality. So this step is used to see if our prediction problem could be solved well by an easy understandable model or if it needs more complex regression tasks to create appropriate predictions.\n",
    " \n",
    "We define our linear regression model with the following input vector:\n",
    "\\begin{equation}\n",
    "x^{(i)} = \\left[ \\begin{array}{c} 1 \\\\ \\mathrm{Trip\\ Seconds}^{(i)} \\\\ \\mathrm{Trip\\ Miles}^{(i)} \\\\ \\mathrm{Shared\\ Trip\\ Authorized}^{(i)} \\\\ \\mathrm{Shared\\ Trip\\ Matched}^{(i)} \\\\ \\mathrm{Cost}^{(i)} \\\\ \\mathrm{Temperature}^{(i)} \\\\ \\mathrm{Rain\\ in\\ mm}^{(i)} \\\\ \\mathrm{Night}^{(i)} \\\\ \\mathrm{Day}^{(i)} \\\\\n",
    "\\mathrm{Evening}^{(i)} \\end{array} \\right] \\end{equation}\n",
    "\n",
    "In addition we create our linear hypothesis function $tip_\\beta(x) = \\beta^Tx$ is given by:\n",
    "\n",
    "\\begin{equation}\n",
    "tip_\\beta(x) = \\beta_0 + \\beta_1 * \\mathrm{Trip\\ Seconds}^{(i)} + \\beta_2 * \\mathrm{Trip\\ Miles}^{(i)} + \\beta_3 * \\mathrm{Shared\\ Trip\\ Authorized}^{(i)} + \\\\ \\beta_4 * \\mathrm{Shared\\ Trip\\ Matched}^{(i)} + \\beta_5 * \\mathrm{Cost}^{(i)} + \\beta_6 * \\mathrm{Temperature}^{(i)} + \\beta_7 * \\mathrm{Rain\\ In\\ MM}^{(i)} + \\\\ \\beta_8 * \\mathrm{Night}^{(i)} + \\beta_9 * \\mathrm{Day}^{(i)} + \\beta_{10} * \\mathrm{Evening}^{(i)} \n",
    "\\end{equation}\n",
    "\n",
    "After defining our linear regression model, we now want to find the right values for our predictors $ \\beta_0, \\beta_1, \\dots, \\beta_9 $.\n"
   ]
  },
  {
   "cell_type": "code",
   "execution_count": 27,
   "id": "d6705753cb1b7f98",
   "metadata": {
    "ExecuteTime": {
     "end_time": "2025-07-14T13:16:30.457377Z",
     "start_time": "2025-07-14T13:16:24.890738Z"
    }
   },
   "outputs": [
    {
     "name": "stdout",
     "output_type": "stream",
     "text": [
      "Values for our predictors:\n",
      "[-0.08962499 -0.13725265  0.65392587  0.0223447  -0.0020701  -0.38287382\n",
      "  0.0326524   0.05221781  0.05740215 -0.10961997]\n"
     ]
    }
   ],
   "source": [
    "linear_model = LinearRegression()\n",
    "linear_model.fit(x_train_data_scaled, y_train_data)\n",
    "print(\"Values for our predictors:\")\n",
    "print(str(linear_model.coef_))"
   ]
  },
  {
   "cell_type": "code",
   "execution_count": 28,
   "id": "695ea9bf6e0ab608",
   "metadata": {
    "ExecuteTime": {
     "end_time": "2025-07-14T13:16:30.902824Z",
     "start_time": "2025-07-14T13:16:30.514Z"
    }
   },
   "outputs": [
    {
     "name": "stdout",
     "output_type": "stream",
     "text": [
      "Mean absoulte Error: 1.3068\n",
      "R²: 0.0795\n"
     ]
    }
   ],
   "source": [
    "linear_model_prediction = linear_model.predict(x_val_data_scaled)\n",
    "print(\"Mean absoulte Error:\", round(mean_absolute_error(y_val_data, linear_model_prediction), 4))\n",
    "print(\"R²:\", round(r2_score(y_val_data, linear_model_prediction), 4))"
   ]
  },
  {
   "cell_type": "markdown",
   "id": "1092c3518ebfaf04",
   "metadata": {},
   "source": [
    "As we can see, our model has a low R² value and a high error which indicates that the predictions from our linear model differ significantly from the actual values. We can visualize this by creating a scatter plot of the predicted tips versus the actual tip amounts and adding an ideal line that represents perfect predictions. This allows us to see how far off our model's predictions are from the ideal.\n",
    "\n",
    "It becomes especially apparent that the model struggles with higher tip amounts (greater than $4) since it never predicts values above that threshold. This is probablly caused by the large number of zero values in our dataset, which lowers the slope of the regression line and makes the model systematically underestimate higher tips.\n",
    "\n",
    "Another possible reason why our predtictions differ a lot from the actual tip is that the tips are rounded by the nearest 1.00(see buisness understanding above) which cannot be well represented by our linear model. Because the tip values are rounded to full euros we suggest that a classification approach will likely work better than regression. The large gaps between the data points make it difficult to fit a precise regression line. Instead it seems more effective to divide the data into 10 classes (from 0 to \\$9) and predict one of these classes using classification algorithms\n",
    "\n",
    "In conclusion it becomes visible that our simple regression model is not appropriate to depict the real world and we need to try out other (classifiction) approaches to create a better and more robust model."
   ]
  },
  {
   "cell_type": "code",
   "execution_count": 29,
   "id": "9a860faa0925d44f",
   "metadata": {
    "ExecuteTime": {
     "end_time": "2025-07-14T13:16:31.257281Z",
     "start_time": "2025-07-14T13:16:30.970502Z"
    }
   },
   "outputs": [
    {
     "data": {
      "image/png": "[encoded data removed]",
      "text/plain": [
       "<Figure size 600x600 with 1 Axes>"
      ]
     },
     "metadata": {},
     "output_type": "display_data"
    }
   ],
   "source": [
    "plt.figure(figsize=(6, 6))\n",
    "#Plot ideal line\n",
    "plt.plot([y_val_data.min(), y_val_data.max()], [y_val_data.min(), y_val_data.max()], 'r--')\n",
    "#Scatter plot prediction versus actual tip\n",
    "plt.scatter(linear_model_prediction[:5000], y_val_data[:5000])\n",
    "plt.xlabel('Prediction')\n",
    "plt.ylabel('Actual Tip')\n",
    "plt.title('Actual versus predicted Tip')\n",
    "plt.show()"
   ]
  },
  {
   "cell_type": "markdown",
   "id": "1c1b77335c6e83c4",
   "metadata": {},
   "source": [
    "<h4 style=\"text-decoration: underline;\">3.5 Decision Tree</h4>\n",
    "As mentioned before our linear regression approach did not perform very well so we would like to try a completely different method that will hopefully yield better results.  We plan to use decision trees as a classification approach.\n",
    "\n",
    "We believe that classification could create a more robust model because our data is rounded to the nearest \\$1.00, resulting in 10 different classes (from \\$0 to \\$9). Instead of predicting continuous values, this method will predict which of these classes a data point belongs to. As a result it avoids producing values between these discrete classes which should lead to more precise and accurate predictions compared to our previous regression approach.\n",
    "\n",
    "At first we want to define some methods which help us to evaluate and visualize the performance of our model."
   ]
  },
  {
   "cell_type": "code",
   "execution_count": 30,
   "id": "265b0ffd6eb4f2aa",
   "metadata": {
    "ExecuteTime": {
     "end_time": "2025-07-14T13:16:31.480837Z",
     "start_time": "2025-07-14T13:16:31.472958Z"
    }
   },
   "outputs": [],
   "source": [
    "#Method to get some basic informations about our tree's performance\n",
    "def tree_performance_test(predictions, y_data, isBinary=False):\n",
    "    print(f\"Accuracy: {accuracy_score(y_data, predictions):.4f}\")\n",
    "    if isBinary:\n",
    "        print(f\"Recall (Percentage of recognized 1s): {recall_score(y_data, predictions):.4f}\")\n",
    "        print(f\"Precision (Percentage of '1' predictions that were correct) {precision_score(y_data, predictions):.4f}\")\n",
    "        print(f\"F1-Score: {f1_score(y_data, predictions):.4f}\")\n",
    "        print(\"---\")\n",
    "    else:\n",
    "        print(f\"Recall (Average proportion of true predictions to all predictions per class): {recall_score(y_data, predictions, average='macro'):.4f}\")\n",
    "        print(f\"Precision (Average proportion of values per class that were predicted): {precision_score(y_data, predictions, average='macro'):.4f}\")\n",
    "        print(f\"F1-Score: {f1_score(y_data, predictions, average='macro'):.4f}\")\n",
    "    non_zero_predictions = (predictions != 0).sum()\n",
    "    zero_predictions = (predictions == 0).sum()\n",
    "    print(f\"Number of non-zero predictions: {non_zero_predictions}\")\n",
    "    print(f\"Number of 0 predictions: {zero_predictions}\")\n",
    "    print()"
   ]
  },
  {
   "cell_type": "code",
   "execution_count": 31,
   "id": "62c4217f",
   "metadata": {
    "ExecuteTime": {
     "end_time": "2025-07-14T13:16:31.550133Z",
     "start_time": "2025-07-14T13:16:31.542185Z"
    }
   },
   "outputs": [],
   "source": [
    "#Method to plot the correct predicted tips vs the whole amount of tips\n",
    "def show_correctness(predictions, y_val_data, max=None):\n",
    "    plt.figure(figsize=(5, 5))\n",
    "    right_counts = []\n",
    "    sum = []\n",
    "    for i in range(int(y_val_data.max()) + 1):\n",
    "        right_predictions = ((predictions == i) & (y_val_data == i)).sum()\n",
    "        sum_predictions = (y_val_data == i).sum()\n",
    "        right_counts.append(right_predictions)\n",
    "        sum.append(sum_predictions)\n",
    "    tips = range(int(y_val_data.max()) + 1) \n",
    "    plt.bar(tips, sum, label = \"Total Tips\")\n",
    "    plt.bar(tips, right_counts, label = \"Correct predicted\")\n",
    "    plt.ylabel(\"Total Tips in million\")\n",
    "    plt.xlabel(\"Tip amounts\")\n",
    "    plt.legend()\n",
    "    if max is not None:\n",
    "        plt.ylim(0, max)\n",
    "    plt.show()"
   ]
  },
  {
   "cell_type": "code",
   "execution_count": 32,
   "id": "6e184e27",
   "metadata": {
    "ExecuteTime": {
     "end_time": "2025-07-14T13:16:31.616138Z",
     "start_time": "2025-07-14T13:16:31.608318Z"
    }
   },
   "outputs": [],
   "source": [
    "def accuracy_zero_non_zero(predictions, val_data):\n",
    "    # Filtering only cases where a tip was given (non-zero) and calculating accuracy for these cases\n",
    "    non_zero_mask = val_data != 0\n",
    "    non_zero_predictions = predictions[non_zero_mask]\n",
    "    non_zero_actual = val_data[non_zero_mask]\n",
    "\n",
    "    accuracy_non_zero = (non_zero_predictions == non_zero_actual).sum() / len(non_zero_actual)\n",
    "    print(f\"Accuracy for cases with tip: {accuracy_non_zero:.4f}\")\n",
    "\n",
    "\n",
    "\n",
    "    # Filtering only cases where no tip was given (zero) and calculating accuracy for these cases\n",
    "    zero_mask = val_data == 0\n",
    "    zero_predictions = predictions[zero_mask]\n",
    "    zero_actual = val_data[zero_mask]\n",
    "\n",
    "    accuracy_zero = (zero_predictions == zero_actual).sum() / len(zero_actual)\n",
    "    print(f\"Accuracy for cases without tip: {accuracy_zero:.4f}\")"
   ]
  },
  {
   "cell_type": "markdown",
   "id": "b736b0d73782ff4a",
   "metadata": {},
   "source": [
    "After defining the methods we now start with our classification model. As an first approach we want to train a simple Decision Tree using our training data and then analyze it's performance with the validation dataset. \n",
    "\n",
    "But for the analysis, it is important to remember how unequally large our classes are. The class of Tip=0$ is extremely dominant:"
   ]
  },
  {
   "cell_type": "code",
   "execution_count": 33,
   "id": "5d89d6c2",
   "metadata": {
    "ExecuteTime": {
     "end_time": "2025-07-14T13:38:33.913228Z",
     "start_time": "2025-07-14T13:38:33.901743Z"
    }
   },
   "outputs": [
    {
     "name": "stdout",
     "output_type": "stream",
     "text": [
      "2555655 Rows have 'Tip' = 0 (75.5%)\n"
     ]
    }
   ],
   "source": [
    "#Count the amount of zeros in our test dataset \n",
    "zero_tip_count = (y_test_data == 0).sum()\n",
    "total_count = len(y_test_data)\n",
    "zero_tip_percentage = (zero_tip_count / total_count) * 100\n",
    "print(f\"{zero_tip_count} Rows have 'Tip' = 0 ({zero_tip_percentage:.1f}%)\")\n"
   ]
  },
  {
   "cell_type": "code",
   "execution_count": 34,
   "id": "a054af71f4ac6d9b",
   "metadata": {
    "ExecuteTime": {
     "end_time": "2025-07-14T14:00:32.704848Z",
     "start_time": "2025-07-14T13:59:24.780613Z"
    }
   },
   "outputs": [
    {
     "name": "stdout",
     "output_type": "stream",
     "text": [
      "Accuracy: 0.7547\n",
      "Recall (Average proportion of true predictions to all predictions per class): 0.1000\n",
      "Precision (Average proportion of values per class that were predicted): 0.0755\n",
      "F1-Score: 0.0860\n",
      "Number of non-zero predictions: 0\n",
      "Number of 0 predictions: 3385556\n",
      "\n"
     ]
    }
   ],
   "source": [
    "tree_model = DecisionTreeClassifier(max_depth=5, random_state = 42)\n",
    "tree_model.fit(x_train_data, y_train_data)\n",
    "predictions = tree_model.predict(x_val_data)\n",
    "tree_performance_test(predictions, y_val_data)"
   ]
  },
  {
   "cell_type": "markdown",
   "id": "f2560f20",
   "metadata": {},
   "source": [
    "Now we try a more complex tree with a max depth of 60 instead of 5:"
   ]
  },
  {
   "cell_type": "code",
   "execution_count": 35,
   "id": "a0f9ca0b",
   "metadata": {
    "ExecuteTime": {
     "end_time": "2025-07-14T14:06:26.411358Z",
     "start_time": "2025-07-14T14:01:58.561966Z"
    }
   },
   "outputs": [],
   "source": [
    "tree_model = DecisionTreeClassifier(max_depth=60, random_state = 42)\n",
    "tree_model.fit(x_train_data, y_train_data)\n",
    "predictions = tree_model.predict(x_val_data)"
   ]
  },
  {
   "cell_type": "code",
   "execution_count": 36,
   "id": "e6dcb03ad6f49a83",
   "metadata": {
    "ExecuteTime": {
     "end_time": "2025-07-14T14:07:52.026746Z",
     "start_time": "2025-07-14T14:07:47.044813Z"
    }
   },
   "outputs": [
    {
     "data": {
      "image/png": "[encoded data removed]",
      "text/plain": [
       "<Figure size 500x500 with 1 Axes>"
      ]
     },
     "metadata": {},
     "output_type": "display_data"
    },
    {
     "data": {
      "image/png": "[encoded data removed]",
      "text/plain": [
       "<Figure size 500x500 with 1 Axes>"
      ]
     },
     "metadata": {},
     "output_type": "display_data"
    },
    {
     "name": "stdout",
     "output_type": "stream",
     "text": [
      "Accuracy: 0.5842\n",
      "Recall (Average proportion of true predictions to all predictions per class): 0.1627\n",
      "Precision (Average proportion of values per class that were predicted): 0.1576\n",
      "F1-Score: 0.1600\n",
      "Number of non-zero predictions: 902204\n",
      "Number of 0 predictions: 2483352\n",
      "\n"
     ]
    }
   ],
   "source": [
    "show_correctness(predictions, y_val_data)\n",
    "show_correctness(predictions, y_val_data, max=300000)\n",
    "tree_performance_test(predictions, y_val_data)"
   ]
  },
  {
   "cell_type": "code",
   "execution_count": 37,
   "id": "bab41a0a",
   "metadata": {
    "ExecuteTime": {
     "end_time": "2025-07-14T15:03:50.297204Z",
     "start_time": "2025-07-14T15:03:49.912879Z"
    }
   },
   "outputs": [
    {
     "name": "stdout",
     "output_type": "stream",
     "text": [
      "Number of predicted 0 : 2483352\n",
      "Right Predictions:  1901559\n",
      "Percentage of correct predictions:  76.57227006078881\n",
      "Number of predicted 1 : 137770\n",
      "Right Predictions:  8416\n",
      "Percentage of correct predictions:  6.108731944545257\n",
      "Number of predicted 2 : 95975\n",
      "Right Predictions:  6122\n",
      "Percentage of correct predictions:  6.37874446470435\n",
      "Number of predicted 3 : 279302\n",
      "Right Predictions:  30220\n",
      "Percentage of correct predictions:  10.819829431941052\n",
      "Number of predicted 4 : 79576\n",
      "Right Predictions:  6012\n",
      "Percentage of correct predictions:  7.555041721121947\n",
      "Number of predicted 5 : 177397\n",
      "Right Predictions:  11867\n",
      "Percentage of correct predictions:  6.689515606239113\n",
      "Number of predicted 6 : 47382\n",
      "Right Predictions:  4061\n",
      "Percentage of correct predictions:  8.570765269511629\n",
      "Number of predicted 7 : 37621\n",
      "Right Predictions:  3937\n",
      "Percentage of correct predictions:  10.464899922915393\n",
      "Number of predicted 8 : 28721\n",
      "Right Predictions:  3364\n",
      "Percentage of correct predictions:  11.71268409874308\n",
      "Number of predicted 9 : 18460\n",
      "Right Predictions:  2346\n",
      "Percentage of correct predictions:  12.708559046587215\n",
      "\n",
      "Mean Absolute Error: 1.4134\n",
      "\n",
      "Accuracy for cases with tip: 0.0919\n",
      "Accuracy for cases without tip: 0.7442\n"
     ]
    }
   ],
   "source": [
    "for i in range(10):\n",
    "    x = (predictions == i).sum()\n",
    "    y = ((predictions == i) & (y_val_data == i)).sum()\n",
    "    print(\"Number of predicted\", i ,\":\",  x)\n",
    "    print(\"Right Predictions: \", y)\n",
    "    print(\"Percentage of correct predictions: \", y / x * 100 if x > 0 else 0)\n",
    "\n",
    "print()\n",
    "# Caluate the mean absolute error and the accuracy for cases with and without tips\n",
    "mae = mean_absolute_error(y_val_data, predictions)\n",
    "print(f\"Mean Absolute Error: {mae:.4f}\")\n",
    "\n",
    "print()\n",
    "accuracy_zero_non_zero(predictions, y_val_data)"
   ]
  },
  {
   "cell_type": "markdown",
   "id": "a0c54ef0",
   "metadata": {},
   "source": [
    "As we can see, due to the very high proportion of $0 tips (around 75%), a simple decision tree will always predict 0 since this prediction has by far the highest chance of being correct. Especially when using a shallow tree (i.e. low tree depth) the model fails to identify any meaningful patterns in the data that would justify predicting values other than 0.\n",
    "\n",
    "Even when we increase the tree depth, which increases the risk of overfitting to the training data, this problem cannot be fully resolved. Although the tree starts to predict some non-zero values, it often predicts the wrong non-zero class, resulting in a low highest accuracy of around 13%. Additionally, the overall accuracy drops to about 58% which is likely a consequence of the tree trying to predict more values other than zero. Overfitting can also play a role here.\n",
    "\n",
    "In consequence, we want to create a second hopefully more precise model which contains two diffrent classification steps. First we want to create a model which either predicts if the tip is zero or not. This helps to reduce the overwhelming share of zeros in the dataset for our second prediction model. After filtering out the zero tips, we can then train a second classification model on the remaining data. This second model should be able to make more accurate predictions of the actual tip class because it is no longer dominated by zeros.\n",
    "\n",
    "For this two-step model, we need the two seperate training datasets."
   ]
  },
  {
   "cell_type": "code",
   "execution_count": 38,
   "id": "2b2418dc",
   "metadata": {
    "ExecuteTime": {
     "end_time": "2025-07-14T14:33:15.902252Z",
     "start_time": "2025-07-14T14:33:15.825085Z"
    }
   },
   "outputs": [],
   "source": [
    "#For the first model we need to transform our data into binary datatype\n",
    "y_train1_binary = (y_train1_data != 0).astype(int)  # 1 if tip != 0 else 0\n",
    "y_val_binary = (y_val_data != 0).astype(int)"
   ]
  },
  {
   "cell_type": "code",
   "execution_count": 39,
   "id": "e52ba7d4",
   "metadata": {
    "ExecuteTime": {
     "end_time": "2025-07-14T14:34:43.483889Z",
     "start_time": "2025-07-14T14:33:16.678230Z"
    }
   },
   "outputs": [
    {
     "name": "stdout",
     "output_type": "stream",
     "text": [
      "Accuracy: 0.6085\n",
      "Recall (Percentage of recognized 1s): 0.5204\n",
      "Precision (Percentage of '1' predictions that were correct) 0.3179\n",
      "F1-Score: 0.3947\n",
      "---\n",
      "Number of non-zero predictions: 1359431\n",
      "Number of 0 predictions: 2026125\n",
      "\n"
     ]
    },
    {
     "data": {
      "image/png": "[encoded data removed]",
      "text/plain": [
       "<Figure size 500x500 with 1 Axes>"
      ]
     },
     "metadata": {},
     "output_type": "display_data"
    }
   ],
   "source": [
    "binary_model = DecisionTreeClassifier(max_depth=15, random_state = 42, class_weight={0: 1, 1: 2.8}) # Increase the weight of class 1 (non-zero tips) to better balance the classes\n",
    "binary_model.fit(x_train1_data, y_train1_binary)\n",
    "binary_predictions = binary_model.predict(x_val_data)\n",
    "\n",
    "tree_performance_test(binary_predictions, y_val_binary, isBinary=True)\n",
    "show_correctness(binary_predictions, y_val_binary)"
   ]
  },
  {
   "cell_type": "markdown",
   "id": "85d28893",
   "metadata": {},
   "source": [
    " As we can see, the dominant class 0 has only become slightly smaller in the input data for the second model (from 75% to 67%). So the first model did not seem to work as well as we had hoped. Nevertheless we still want to train our second model which predicts the tip class for the non-zero data, in case that already improves performance.\n",
    "\n",
    " Because the first model filters out rows where it thinks that no tips is given, the second model only needs to be trained on data which the first model will classify as 1. So now our first model will predict the tip in our training data two set and only the rows with a prediction of 1 get used for the training.\n",
    " We use two seperate datasets, because otherwise model one would need to predict the tip for the data it was trained on, which most likely won't yield realistic results."
   ]
  },
  {
   "cell_type": "code",
   "execution_count": 40,
   "id": "de6413a0",
   "metadata": {
    "ExecuteTime": {
     "end_time": "2025-07-14T13:21:57.090820Z",
     "start_time": "2025-07-14T13:21:53.578859Z"
    }
   },
   "outputs": [
    {
     "name": "stdout",
     "output_type": "stream",
     "text": [
      "Filtered Data: 3168579 Samples (before: 7899630)\n"
     ]
    }
   ],
   "source": [
    "# Use model 1 for predicting x_train2_data, to only train the regression model on rides where a tip was predicted\n",
    "predictions_train2 = binary_model.predict(x_train2_data)\n",
    "\n",
    "# Filter both x and y data based on the predictions\n",
    "mask = predictions_train2 != 0\n",
    "x_train2_data = x_train2_data[mask]\n",
    "y_train2_data = y_train2_data[mask]\n",
    "\n",
    "print(f\"Filtered Data: {len(x_train2_data)} Samples (before: {len(predictions_train2)})\")"
   ]
  },
  {
   "cell_type": "code",
   "execution_count": 41,
   "id": "3bbaaff7",
   "metadata": {
    "ExecuteTime": {
     "end_time": "2025-07-14T13:22:16.431598Z",
     "start_time": "2025-07-14T13:21:57.146204Z"
    }
   },
   "outputs": [
    {
     "data": {
      "text/html": [
       "<style>#sk-container-id-1 {\n",
       "  /* Definition of color scheme common for light and dark mode */\n",
       "  --sklearn-color-text: #000;\n",
       "  --sklearn-color-text-muted: #666;\n",
       "  --sklearn-color-line: gray;\n",
       "  /* Definition of color scheme for unfitted estimators */\n",
       "  --sklearn-color-unfitted-level-0: #fff5e6;\n",
       "  --sklearn-color-unfitted-level-1: #f6e4d2;\n",
       "  --sklearn-color-unfitted-level-2: #ffe0b3;\n",
       "  --sklearn-color-unfitted-level-3: chocolate;\n",
       "  /* Definition of color scheme for fitted estimators */\n",
       "  --sklearn-color-fitted-level-0: #f0f8ff;\n",
       "  --sklearn-color-fitted-level-1: #d4ebff;\n",
       "  --sklearn-color-fitted-level-2: #b3dbfd;\n",
       "  --sklearn-color-fitted-level-3: cornflowerblue;\n",
       "\n",
       "  /* Specific color for light theme */\n",
       "  --sklearn-color-text-on-default-background: var(--sg-text-color, var(--theme-code-foreground, var(--jp-content-font-color1, black)));\n",
       "  --sklearn-color-background: var(--sg-background-color, var(--theme-background, var(--jp-layout-color0, white)));\n",
       "  --sklearn-color-border-box: var(--sg-text-color, var(--theme-code-foreground, var(--jp-content-font-color1, black)));\n",
       "  --sklearn-color-icon: #696969;\n",
       "\n",
       "  @media (prefers-color-scheme: dark) {\n",
       "    /* Redefinition of color scheme for dark theme */\n",
       "    --sklearn-color-text-on-default-background: var(--sg-text-color, var(--theme-code-foreground, var(--jp-content-font-color1, white)));\n",
       "    --sklearn-color-background: var(--sg-background-color, var(--theme-background, var(--jp-layout-color0, #111)));\n",
       "    --sklearn-color-border-box: var(--sg-text-color, var(--theme-code-foreground, var(--jp-content-font-color1, white)));\n",
       "    --sklearn-color-icon: #878787;\n",
       "  }\n",
       "}\n",
       "\n",
       "#sk-container-id-1 {\n",
       "  color: var(--sklearn-color-text);\n",
       "}\n",
       "\n",
       "#sk-container-id-1 pre {\n",
       "  padding: 0;\n",
       "}\n",
       "\n",
       "#sk-container-id-1 input.sk-hidden--visually {\n",
       "  border: 0;\n",
       "  clip: rect(1px 1px 1px 1px);\n",
       "  clip: rect(1px, 1px, 1px, 1px);\n",
       "  height: 1px;\n",
       "  margin: -1px;\n",
       "  overflow: hidden;\n",
       "  padding: 0;\n",
       "  position: absolute;\n",
       "  width: 1px;\n",
       "}\n",
       "\n",
       "#sk-container-id-1 div.sk-dashed-wrapped {\n",
       "  border: 1px dashed var(--sklearn-color-line);\n",
       "  margin: 0 0.4em 0.5em 0.4em;\n",
       "  box-sizing: border-box;\n",
       "  padding-bottom: 0.4em;\n",
       "  background-color: var(--sklearn-color-background);\n",
       "}\n",
       "\n",
       "#sk-container-id-1 div.sk-container {\n",
       "  /* jupyter's `normalize.less` sets `[hidden] { display: none; }`\n",
       "     but bootstrap.min.css set `[hidden] { display: none !important; }`\n",
       "     so we also need the `!important` here to be able to override the\n",
       "     default hidden behavior on the sphinx rendered scikit-learn.org.\n",
       "     See: https://github.com/scikit-learn/scikit-learn/issues/21755 */\n",
       "  display: inline-block !important;\n",
       "  position: relative;\n",
       "}\n",
       "\n",
       "#sk-container-id-1 div.sk-text-repr-fallback {\n",
       "  display: none;\n",
       "}\n",
       "\n",
       "div.sk-parallel-item,\n",
       "div.sk-serial,\n",
       "div.sk-item {\n",
       "  /* draw centered vertical line to link estimators */\n",
       "  background-image: linear-gradient(var(--sklearn-color-text-on-default-background), var(--sklearn-color-text-on-default-background));\n",
       "  background-size: 2px 100%;\n",
       "  background-repeat: no-repeat;\n",
       "  background-position: center center;\n",
       "}\n",
       "\n",
       "/* Parallel-specific style estimator block */\n",
       "\n",
       "#sk-container-id-1 div.sk-parallel-item::after {\n",
       "  content: \"\";\n",
       "  width: 100%;\n",
       "  border-bottom: 2px solid var(--sklearn-color-text-on-default-background);\n",
       "  flex-grow: 1;\n",
       "}\n",
       "\n",
       "#sk-container-id-1 div.sk-parallel {\n",
       "  display: flex;\n",
       "  align-items: stretch;\n",
       "  justify-content: center;\n",
       "  background-color: var(--sklearn-color-background);\n",
       "  position: relative;\n",
       "}\n",
       "\n",
       "#sk-container-id-1 div.sk-parallel-item {\n",
       "  display: flex;\n",
       "  flex-direction: column;\n",
       "}\n",
       "\n",
       "#sk-container-id-1 div.sk-parallel-item:first-child::after {\n",
       "  align-self: flex-end;\n",
       "  width: 50%;\n",
       "}\n",
       "\n",
       "#sk-container-id-1 div.sk-parallel-item:last-child::after {\n",
       "  align-self: flex-start;\n",
       "  width: 50%;\n",
       "}\n",
       "\n",
       "#sk-container-id-1 div.sk-parallel-item:only-child::after {\n",
       "  width: 0;\n",
       "}\n",
       "\n",
       "/* Serial-specific style estimator block */\n",
       "\n",
       "#sk-container-id-1 div.sk-serial {\n",
       "  display: flex;\n",
       "  flex-direction: column;\n",
       "  align-items: center;\n",
       "  background-color: var(--sklearn-color-background);\n",
       "  padding-right: 1em;\n",
       "  padding-left: 1em;\n",
       "}\n",
       "\n",
       "\n",
       "/* Toggleable style: style used for estimator/Pipeline/ColumnTransformer box that is\n",
       "clickable and can be expanded/collapsed.\n",
       "- Pipeline and ColumnTransformer use this feature and define the default style\n",
       "- Estimators will overwrite some part of the style using the `sk-estimator` class\n",
       "*/\n",
       "\n",
       "/* Pipeline and ColumnTransformer style (default) */\n",
       "\n",
       "#sk-container-id-1 div.sk-toggleable {\n",
       "  /* Default theme specific background. It is overwritten whether we have a\n",
       "  specific estimator or a Pipeline/ColumnTransformer */\n",
       "  background-color: var(--sklearn-color-background);\n",
       "}\n",
       "\n",
       "/* Toggleable label */\n",
       "#sk-container-id-1 label.sk-toggleable__label {\n",
       "  cursor: pointer;\n",
       "  display: flex;\n",
       "  width: 100%;\n",
       "  margin-bottom: 0;\n",
       "  padding: 0.5em;\n",
       "  box-sizing: border-box;\n",
       "  text-align: center;\n",
       "  align-items: start;\n",
       "  justify-content: space-between;\n",
       "  gap: 0.5em;\n",
       "}\n",
       "\n",
       "#sk-container-id-1 label.sk-toggleable__label .caption {\n",
       "  font-size: 0.6rem;\n",
       "  font-weight: lighter;\n",
       "  color: var(--sklearn-color-text-muted);\n",
       "}\n",
       "\n",
       "#sk-container-id-1 label.sk-toggleable__label-arrow:before {\n",
       "  /* Arrow on the left of the label */\n",
       "  content: \"▸\";\n",
       "  float: left;\n",
       "  margin-right: 0.25em;\n",
       "  color: var(--sklearn-color-icon);\n",
       "}\n",
       "\n",
       "#sk-container-id-1 label.sk-toggleable__label-arrow:hover:before {\n",
       "  color: var(--sklearn-color-text);\n",
       "}\n",
       "\n",
       "/* Toggleable content - dropdown */\n",
       "\n",
       "#sk-container-id-1 div.sk-toggleable__content {\n",
       "  max-height: 0;\n",
       "  max-width: 0;\n",
       "  overflow: hidden;\n",
       "  text-align: left;\n",
       "  /* unfitted */\n",
       "  background-color: var(--sklearn-color-unfitted-level-0);\n",
       "}\n",
       "\n",
       "#sk-container-id-1 div.sk-toggleable__content.fitted {\n",
       "  /* fitted */\n",
       "  background-color: var(--sklearn-color-fitted-level-0);\n",
       "}\n",
       "\n",
       "#sk-container-id-1 div.sk-toggleable__content pre {\n",
       "  margin: 0.2em;\n",
       "  border-radius: 0.25em;\n",
       "  color: var(--sklearn-color-text);\n",
       "  /* unfitted */\n",
       "  background-color: var(--sklearn-color-unfitted-level-0);\n",
       "}\n",
       "\n",
       "#sk-container-id-1 div.sk-toggleable__content.fitted pre {\n",
       "  /* unfitted */\n",
       "  background-color: var(--sklearn-color-fitted-level-0);\n",
       "}\n",
       "\n",
       "#sk-container-id-1 input.sk-toggleable__control:checked~div.sk-toggleable__content {\n",
       "  /* Expand drop-down */\n",
       "  max-height: 200px;\n",
       "  max-width: 100%;\n",
       "  overflow: auto;\n",
       "}\n",
       "\n",
       "#sk-container-id-1 input.sk-toggleable__control:checked~label.sk-toggleable__label-arrow:before {\n",
       "  content: \"▾\";\n",
       "}\n",
       "\n",
       "/* Pipeline/ColumnTransformer-specific style */\n",
       "\n",
       "#sk-container-id-1 div.sk-label input.sk-toggleable__control:checked~label.sk-toggleable__label {\n",
       "  color: var(--sklearn-color-text);\n",
       "  background-color: var(--sklearn-color-unfitted-level-2);\n",
       "}\n",
       "\n",
       "#sk-container-id-1 div.sk-label.fitted input.sk-toggleable__control:checked~label.sk-toggleable__label {\n",
       "  background-color: var(--sklearn-color-fitted-level-2);\n",
       "}\n",
       "\n",
       "/* Estimator-specific style */\n",
       "\n",
       "/* Colorize estimator box */\n",
       "#sk-container-id-1 div.sk-estimator input.sk-toggleable__control:checked~label.sk-toggleable__label {\n",
       "  /* unfitted */\n",
       "  background-color: var(--sklearn-color-unfitted-level-2);\n",
       "}\n",
       "\n",
       "#sk-container-id-1 div.sk-estimator.fitted input.sk-toggleable__control:checked~label.sk-toggleable__label {\n",
       "  /* fitted */\n",
       "  background-color: var(--sklearn-color-fitted-level-2);\n",
       "}\n",
       "\n",
       "#sk-container-id-1 div.sk-label label.sk-toggleable__label,\n",
       "#sk-container-id-1 div.sk-label label {\n",
       "  /* The background is the default theme color */\n",
       "  color: var(--sklearn-color-text-on-default-background);\n",
       "}\n",
       "\n",
       "/* On hover, darken the color of the background */\n",
       "#sk-container-id-1 div.sk-label:hover label.sk-toggleable__label {\n",
       "  color: var(--sklearn-color-text);\n",
       "  background-color: var(--sklearn-color-unfitted-level-2);\n",
       "}\n",
       "\n",
       "/* Label box, darken color on hover, fitted */\n",
       "#sk-container-id-1 div.sk-label.fitted:hover label.sk-toggleable__label.fitted {\n",
       "  color: var(--sklearn-color-text);\n",
       "  background-color: var(--sklearn-color-fitted-level-2);\n",
       "}\n",
       "\n",
       "/* Estimator label */\n",
       "\n",
       "#sk-container-id-1 div.sk-label label {\n",
       "  font-family: monospace;\n",
       "  font-weight: bold;\n",
       "  display: inline-block;\n",
       "  line-height: 1.2em;\n",
       "}\n",
       "\n",
       "#sk-container-id-1 div.sk-label-container {\n",
       "  text-align: center;\n",
       "}\n",
       "\n",
       "/* Estimator-specific */\n",
       "#sk-container-id-1 div.sk-estimator {\n",
       "  font-family: monospace;\n",
       "  border: 1px dotted var(--sklearn-color-border-box);\n",
       "  border-radius: 0.25em;\n",
       "  box-sizing: border-box;\n",
       "  margin-bottom: 0.5em;\n",
       "  /* unfitted */\n",
       "  background-color: var(--sklearn-color-unfitted-level-0);\n",
       "}\n",
       "\n",
       "#sk-container-id-1 div.sk-estimator.fitted {\n",
       "  /* fitted */\n",
       "  background-color: var(--sklearn-color-fitted-level-0);\n",
       "}\n",
       "\n",
       "/* on hover */\n",
       "#sk-container-id-1 div.sk-estimator:hover {\n",
       "  /* unfitted */\n",
       "  background-color: var(--sklearn-color-unfitted-level-2);\n",
       "}\n",
       "\n",
       "#sk-container-id-1 div.sk-estimator.fitted:hover {\n",
       "  /* fitted */\n",
       "  background-color: var(--sklearn-color-fitted-level-2);\n",
       "}\n",
       "\n",
       "/* Specification for estimator info (e.g. \"i\" and \"?\") */\n",
       "\n",
       "/* Common style for \"i\" and \"?\" */\n",
       "\n",
       ".sk-estimator-doc-link,\n",
       "a:link.sk-estimator-doc-link,\n",
       "a:visited.sk-estimator-doc-link {\n",
       "  float: right;\n",
       "  font-size: smaller;\n",
       "  line-height: 1em;\n",
       "  font-family: monospace;\n",
       "  background-color: var(--sklearn-color-background);\n",
       "  border-radius: 1em;\n",
       "  height: 1em;\n",
       "  width: 1em;\n",
       "  text-decoration: none !important;\n",
       "  margin-left: 0.5em;\n",
       "  text-align: center;\n",
       "  /* unfitted */\n",
       "  border: var(--sklearn-color-unfitted-level-1) 1pt solid;\n",
       "  color: var(--sklearn-color-unfitted-level-1);\n",
       "}\n",
       "\n",
       ".sk-estimator-doc-link.fitted,\n",
       "a:link.sk-estimator-doc-link.fitted,\n",
       "a:visited.sk-estimator-doc-link.fitted {\n",
       "  /* fitted */\n",
       "  border: var(--sklearn-color-fitted-level-1) 1pt solid;\n",
       "  color: var(--sklearn-color-fitted-level-1);\n",
       "}\n",
       "\n",
       "/* On hover */\n",
       "div.sk-estimator:hover .sk-estimator-doc-link:hover,\n",
       ".sk-estimator-doc-link:hover,\n",
       "div.sk-label-container:hover .sk-estimator-doc-link:hover,\n",
       ".sk-estimator-doc-link:hover {\n",
       "  /* unfitted */\n",
       "  background-color: var(--sklearn-color-unfitted-level-3);\n",
       "  color: var(--sklearn-color-background);\n",
       "  text-decoration: none;\n",
       "}\n",
       "\n",
       "div.sk-estimator.fitted:hover .sk-estimator-doc-link.fitted:hover,\n",
       ".sk-estimator-doc-link.fitted:hover,\n",
       "div.sk-label-container:hover .sk-estimator-doc-link.fitted:hover,\n",
       ".sk-estimator-doc-link.fitted:hover {\n",
       "  /* fitted */\n",
       "  background-color: var(--sklearn-color-fitted-level-3);\n",
       "  color: var(--sklearn-color-background);\n",
       "  text-decoration: none;\n",
       "}\n",
       "\n",
       "/* Span, style for the box shown on hovering the info icon */\n",
       ".sk-estimator-doc-link span {\n",
       "  display: none;\n",
       "  z-index: 9999;\n",
       "  position: relative;\n",
       "  font-weight: normal;\n",
       "  right: .2ex;\n",
       "  padding: .5ex;\n",
       "  margin: .5ex;\n",
       "  width: min-content;\n",
       "  min-width: 20ex;\n",
       "  max-width: 50ex;\n",
       "  color: var(--sklearn-color-text);\n",
       "  box-shadow: 2pt 2pt 4pt #999;\n",
       "  /* unfitted */\n",
       "  background: var(--sklearn-color-unfitted-level-0);\n",
       "  border: .5pt solid var(--sklearn-color-unfitted-level-3);\n",
       "}\n",
       "\n",
       ".sk-estimator-doc-link.fitted span {\n",
       "  /* fitted */\n",
       "  background: var(--sklearn-color-fitted-level-0);\n",
       "  border: var(--sklearn-color-fitted-level-3);\n",
       "}\n",
       "\n",
       ".sk-estimator-doc-link:hover span {\n",
       "  display: block;\n",
       "}\n",
       "\n",
       "/* \"?\"-specific style due to the `<a>` HTML tag */\n",
       "\n",
       "#sk-container-id-1 a.estimator_doc_link {\n",
       "  float: right;\n",
       "  font-size: 1rem;\n",
       "  line-height: 1em;\n",
       "  font-family: monospace;\n",
       "  background-color: var(--sklearn-color-background);\n",
       "  border-radius: 1rem;\n",
       "  height: 1rem;\n",
       "  width: 1rem;\n",
       "  text-decoration: none;\n",
       "  /* unfitted */\n",
       "  color: var(--sklearn-color-unfitted-level-1);\n",
       "  border: var(--sklearn-color-unfitted-level-1) 1pt solid;\n",
       "}\n",
       "\n",
       "#sk-container-id-1 a.estimator_doc_link.fitted {\n",
       "  /* fitted */\n",
       "  border: var(--sklearn-color-fitted-level-1) 1pt solid;\n",
       "  color: var(--sklearn-color-fitted-level-1);\n",
       "}\n",
       "\n",
       "/* On hover */\n",
       "#sk-container-id-1 a.estimator_doc_link:hover {\n",
       "  /* unfitted */\n",
       "  background-color: var(--sklearn-color-unfitted-level-3);\n",
       "  color: var(--sklearn-color-background);\n",
       "  text-decoration: none;\n",
       "}\n",
       "\n",
       "#sk-container-id-1 a.estimator_doc_link.fitted:hover {\n",
       "  /* fitted */\n",
       "  background-color: var(--sklearn-color-fitted-level-3);\n",
       "}\n",
       "</style><div id=\"sk-container-id-1\" class=\"sk-top-container\"><div class=\"sk-text-repr-fallback\"><pre>DecisionTreeClassifier(max_depth=13, random_state=42)</pre><b>In a Jupyter environment, please rerun this cell to show the HTML representation or trust the notebook. <br />On GitHub, the HTML representation is unable to render, please try loading this page with nbviewer.org.</b></div><div class=\"sk-container\" hidden><div class=\"sk-item\"><div class=\"sk-estimator fitted sk-toggleable\"><input class=\"sk-toggleable__control sk-hidden--visually\" id=\"sk-estimator-id-1\" type=\"checkbox\" checked><label for=\"sk-estimator-id-1\" class=\"sk-toggleable__label fitted sk-toggleable__label-arrow\"><div><div>DecisionTreeClassifier</div></div><div><a class=\"sk-estimator-doc-link fitted\" rel=\"noreferrer\" target=\"_blank\" href=\"https://scikit-learn.org/1.6/modules/generated/sklearn.tree.DecisionTreeClassifier.html\">?<span>Documentation for DecisionTreeClassifier</span></a><span class=\"sk-estimator-doc-link fitted\">i<span>Fitted</span></span></div></label><div class=\"sk-toggleable__content fitted\"><pre>DecisionTreeClassifier(max_depth=13, random_state=42)</pre></div> </div></div></div></div>"
      ],
      "text/plain": [
       "DecisionTreeClassifier(max_depth=13, random_state=42)"
      ]
     },
     "execution_count": 41,
     "metadata": {},
     "output_type": "execute_result"
    }
   ],
   "source": [
    "#Train second model\n",
    "second_model = DecisionTreeClassifier(max_depth=13, random_state = 42)\n",
    "second_model.fit(x_train2_data, y_train2_data)"
   ]
  },
  {
   "cell_type": "code",
   "execution_count": 42,
   "id": "0000bb42",
   "metadata": {
    "ExecuteTime": {
     "end_time": "2025-07-14T14:49:51.594078Z",
     "start_time": "2025-07-14T14:49:51.589003Z"
    }
   },
   "outputs": [],
   "source": [
    "#Method to first make the whole predicition process (first prediction model 1 and then prediction model 2)\n",
    "def DualTree(data):\n",
    "    # Binary predictions: predict whether there is a tip or not\n",
    "    binary_predictions = binary_model.predict(data)\n",
    "\n",
    "    # For rows where a tip is predicted (binary_prediction == 1),\n",
    "    # get the predicted tip amount/class from the second model\n",
    "    tip_amount_predictions = second_model.predict(data[binary_predictions == 1])\n",
    "\n",
    "    # Combine both: assign 0 where no tip is predicted,\n",
    "    # and assign predicted tip values where a tip is predicted\n",
    "    final_predictions = np.zeros(len(binary_predictions))\n",
    "    final_predictions[binary_predictions == 1] = tip_amount_predictions\n",
    "\n",
    "    return final_predictions"
   ]
  },
  {
   "cell_type": "code",
   "execution_count": 43,
   "id": "339e271b",
   "metadata": {
    "ExecuteTime": {
     "end_time": "2025-07-14T14:49:57.492339Z",
     "start_time": "2025-07-14T14:49:56.247676Z"
    }
   },
   "outputs": [
    {
     "name": "stdout",
     "output_type": "stream",
     "text": [
      "Korrekte Vorhersagen: 2553507 von 3385556 (75.42%)\n"
     ]
    }
   ],
   "source": [
    "final_predictions = DualTree(x_val_data)\n",
    "\n",
    "correct_predictions = (final_predictions == y_val_data).sum()\n",
    "print(f\"Korrekte Vorhersagen: {correct_predictions} von {len(y_val_data)} ({correct_predictions / len(y_val_data) * 100:.2f}%)\")\n"
   ]
  },
  {
   "cell_type": "code",
   "execution_count": 44,
   "id": "14912106",
   "metadata": {
    "ExecuteTime": {
     "end_time": "2025-07-14T15:05:06.691711Z",
     "start_time": "2025-07-14T15:05:06.312704Z"
    }
   },
   "outputs": [
    {
     "name": "stdout",
     "output_type": "stream",
     "text": [
      "Number of predicted 0 : 3382175\n",
      "Right Predictions:  2553040\n",
      "Percentage of correct predictions:  75.48515378417734\n",
      "Number of predicted 1 : 141\n",
      "Right Predictions:  13\n",
      "Percentage of correct predictions:  9.219858156028367\n",
      "Number of predicted 2 : 128\n",
      "Right Predictions:  7\n",
      "Percentage of correct predictions:  5.46875\n",
      "Number of predicted 3 : 991\n",
      "Right Predictions:  173\n",
      "Percentage of correct predictions:  17.457114026236127\n",
      "Number of predicted 4 : 479\n",
      "Right Predictions:  60\n",
      "Percentage of correct predictions:  12.526096033402922\n",
      "Number of predicted 5 : 774\n",
      "Right Predictions:  110\n",
      "Percentage of correct predictions:  14.21188630490956\n",
      "Number of predicted 6 : 321\n",
      "Right Predictions:  39\n",
      "Percentage of correct predictions:  12.149532710280374\n",
      "Number of predicted 7 : 317\n",
      "Right Predictions:  39\n",
      "Percentage of correct predictions:  12.302839116719243\n",
      "Number of predicted 8 : 157\n",
      "Right Predictions:  15\n",
      "Percentage of correct predictions:  9.554140127388536\n",
      "Number of predicted 9 : 73\n",
      "Right Predictions:  11\n",
      "Percentage of correct predictions:  15.068493150684931\n"
     ]
    }
   ],
   "source": [
    "#Print accuracy for each group\n",
    "for i in range(10):\n",
    "    x = (final_predictions == i).sum()\n",
    "    y = ((final_predictions == i) & (y_val_data == i)).sum()\n",
    "    print(\"Number of predicted\", i ,\":\",  x)\n",
    "    print(\"Right Predictions: \", y)\n",
    "    print(\"Percentage of correct predictions: \", y / x * 100 if x > 0 else 0)"
   ]
  },
  {
   "cell_type": "code",
   "execution_count": 45,
   "id": "37e61438",
   "metadata": {
    "ExecuteTime": {
     "end_time": "2025-07-14T14:51:30.203097Z",
     "start_time": "2025-07-14T14:51:30.166837Z"
    }
   },
   "outputs": [
    {
     "name": "stdout",
     "output_type": "stream",
     "text": [
      "Mean Absolute Error: 0.9001\n"
     ]
    }
   ],
   "source": [
    "# Calculate Mean Absolute Error\n",
    "mae = mean_absolute_error(y_val_data, final_predictions)\n",
    "print(f\"Mean Absolute Error: {mae:.4f}\")"
   ]
  },
  {
   "cell_type": "code",
   "execution_count": 46,
   "id": "d4bcecf2",
   "metadata": {
    "ExecuteTime": {
     "end_time": "2025-07-14T15:01:46.489778Z",
     "start_time": "2025-07-14T15:01:46.436425Z"
    }
   },
   "outputs": [
    {
     "name": "stdout",
     "output_type": "stream",
     "text": [
      "Accuracy for cases with tip: 0.0006\n",
      "Accuracy for cases without tip: 0.9992\n"
     ]
    }
   ],
   "source": [
    "accuracy_zero_non_zero(final_predictions, y_val_data)"
   ]
  },
  {
   "cell_type": "markdown",
   "id": "e2e7b34b",
   "metadata": {},
   "source": [
    "As we can see, the Dual Tree Model has a fairly high overall accuracy, but the accuracy for cases with tip is a lot lower that the single tree model. The dual tree model however does have a higher accuracy in predicting 0 and has the smaller Mean Absolute Error."
   ]
  },
  {
   "cell_type": "markdown",
   "id": "ecea6c084066d96a",
   "metadata": {},
   "source": [
    "<h4 style=\"text-decoration: underline;\">4. Implication/Reflection</h4>"
   ]
  },
  {
   "cell_type": "markdown",
   "id": "691233a96f2604a1",
   "metadata": {},
   "source": [
    "<h4 style=\"text-decoration: underline;\">4.1 Linear Regression</h4>\n",
    "Let's take a look at the final perfomance of our predictive models using the test dataset."
   ]
  },
  {
   "cell_type": "code",
   "execution_count": 47,
   "id": "ec548a60715e13e5",
   "metadata": {},
   "outputs": [
    {
     "name": "stdout",
     "output_type": "stream",
     "text": [
      "Mean absoulte Error: 1.3066 \n",
      "R²: 0.0794\n"
     ]
    }
   ],
   "source": [
    "# Linear Regression Model\n",
    "linear_model_prediction = linear_model.predict(x_test_data_scaled)\n",
    "print(\"Mean absoulte Error:\", round(mean_absolute_error(y_test_data, linear_model_prediction), 4), \"\\nR²:\", round(r2_score(y_test_data, linear_model_prediction), 4))"
   ]
  },
  {
   "cell_type": "markdown",
   "id": "62cc44b9f3e97dfe",
   "metadata": {},
   "source": [
    "Assuming that our data was collected correctly, the results of our linear regression show that the model can explain only about 8% of the total variance in the target values (R² = 0.08). Additionally, the mean absolute error (MAE) is relatively high, which means that the predictions deviate significantly from the actual values on average. Such a low explanatory rate suggests that essential influencing factors are missing or that relationships are not correctly depicted. This means for all decision makers that the model does not make reliable predictions for any strategic or operational decisions and should therefore not be used. \n",
    "\n",
    "In order to improve the model's performance, it should be evaluated whether there are additional relevant features that could be included. This might involve incorporating other variables from the existing dataset or creating new features (e.g. polynomial features). Additionally, it would be reasonable to test non-linear modeling approaches as they might capture the real-world relationships more accurately than the current linear model (e.g. Radial Basis Function).\n",
    "\n",
    "Moreover, it could make sense to include further analyses. For example, we could review the existing features and remove those that do not significantly contribute to the prediction. To do this we could use Lasso regression which is particularly useful after implementing the improvements mentioned above if our model ends up containing a large number of features (feature selection).\n"
   ]
  },
  {
   "cell_type": "markdown",
   "id": "4616945f1570657d",
   "metadata": {},
   "source": [
    "<h4 style=\"text-decoration: underline;\">4.2 Decision Tree</h4>"
   ]
  },
  {
   "cell_type": "code",
   "execution_count": 48,
   "id": "380b86b1",
   "metadata": {},
   "outputs": [
    {
     "name": "stdout",
     "output_type": "stream",
     "text": [
      "Mean absoulte Error: 1.4142 \n",
      " Accuracy: 0.5842\n",
      "Accuracy for cases with tip: 0.0912\n",
      "Accuracy for cases without tip: 0.7443\n"
     ]
    }
   ],
   "source": [
    "# Decision Tree Model with max_depth=60\n",
    "tree_model_prediction = tree_model.predict(x_test_data)\n",
    "print(\"Mean absoulte Error:\", round(mean_absolute_error(y_test_data, tree_model_prediction), 4), \"\\n Accuracy:\", round(accuracy_score(y_test_data, tree_model_prediction), 4))\n",
    "accuracy_zero_non_zero(tree_model_prediction, y_test_data)"
   ]
  },
  {
   "cell_type": "code",
   "execution_count": 49,
   "id": "77121c85",
   "metadata": {},
   "outputs": [
    {
     "name": "stdout",
     "output_type": "stream",
     "text": [
      "Mean absoulte Error: 0.8999 \n",
      " Accuracy: 0.7544\n",
      "Accuracy for cases with tip: 0.0005\n",
      "Accuracy for cases without tip: 0.9991\n"
     ]
    }
   ],
   "source": [
    "dual_tree_prediction = DualTree(x_test_data)\n",
    "print(\"Mean absoulte Error:\", round(mean_absolute_error(y_test_data, dual_tree_prediction), 4), \"\\n Accuracy:\", round(accuracy_score(y_test_data, dual_tree_prediction), 4))\n",
    "accuracy_zero_non_zero(dual_tree_prediction, y_test_data)"
   ]
  },
  {
   "cell_type": "markdown",
   "id": "934873c3",
   "metadata": {},
   "source": [
    "Now we have two decision tree models: A single tree and our dual tree model. Neither of which has a good predictive performance. The Dual Tree Model predicts more conservatively (a lot more zeros) and therefore has a higher overall accuracy and a lower MAE. This conservative prediction might be better for drivers, in order to guess their tip without overestimating it and getting unrealistic expectations. The Single Decision Tree has a lower accuracy and a higher MAE, but that's because it predicts more non-zero values and has a way higher accuracy with these. It's still not good, but because of the more optimistic predictions it might be better for the companies when they try to recruit new drivers. \n",
    "So there is no clearly better model, but one is more conservative but doesn't predict non-zero values very good, while the other predicts higher tips more often in a trade for a higher Mean Absolte Error and a lower absolute accuracy.\n",
    "\n",
    " So if you want to use one of these models to predict the tip and if yes, which one, is very dependent on the usecase. We did achieve quite a high sounding accuracy, but that is just because of the dominant zero class. A model, which just predicts 0 every time already has an accuracy of 75%, but that doesn't automatically mean this model is helpful. "
   ]
  },
  {
   "cell_type": "markdown",
   "id": "11159d99",
   "metadata": {},
   "source": [
    "<h4 style=\"text-decoration: underline;\">4.3 Conclusion</h4>"
   ]
  },
  {
   "cell_type": "markdown",
   "id": "6325fb53",
   "metadata": {},
   "source": [
    "So sadly we have to say that we couln't find a model which can predict precise tips for the drivers. This can be because some important predictors were not included in the dataset or falsely ruled out by us, even though we are confident we included all relevant factors. In the first case, different data would be necessary. The dataset only includes trip data, but the tip most likely doesn't just depend on the trip, but also the customer. We don't have any personal data, so differences in age, wealth, gender or anything like that can't be included. Also the quality of service (how nice was the car, how friendly the driver, how good the driving?) is not included in the data but might influence the tip.\n",
    "\n",
    "It could also be the case that a lot of users of the services tip in cash. However these tips don't get recorded and show up as \"no tip\" in our data. If we had these tips as well, there might have been clearer trends and relationships, but without this data from the real world we can't be sure about that."
   ]
  }
 ],
 "metadata": {
  "kernelspec": {
   "display_name": "DSML_env",
   "language": "python",
   "name": "python3"
  },
  "language_info": {
   "codemirror_mode": {
    "name": "ipython",
    "version": 3
   },
   "file_extension": ".py",
   "mimetype": "text/x-python",
   "name": "python",
   "nbconvert_exporter": "python",
   "pygments_lexer": "ipython3",
   "version": "3.13.5"
  }
 },
 "nbformat": 4,
 "nbformat_minor": 5
}
